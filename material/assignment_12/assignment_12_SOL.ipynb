{
 "cells": [
  {
   "cell_type": "code",
   "execution_count": null,
   "metadata": {},
   "outputs": [],
   "source": [
    "import math \n",
    "import scipy.stats as st\n",
    "tol = 1e-9\n",
    "class bcolors:\n",
    "    HEADER = '\\033[95m'\n",
    "    OKBLUE = '\\033[94m'\n",
    "    OKCYAN = '\\033[96m'\n",
    "    OKGREEN = '\\033[92m'\n",
    "    WARNING = '\\033[93m'\n",
    "    FAIL = '\\033[91m'\n",
    "    ENDC = '\\033[0m'\n",
    "    BOLD = '\\033[1m'\n",
    "    UNDERLINE = '\\033[4m'\n",
    "    \n",
    "class Tester:\n",
    "    def testCase1():\n",
    "        try:\n",
    "            assert(\"df_1\" in globals()\n",
    "                  ), \"You should have a dataframe called `df_1`\"\n",
    "            \n",
    "            \n",
    "            assert(len(df_1) == len(pd.read_csv(\"https://evantsiamalos.github.io/material/datasets/sleep.csv\"))\n",
    "                  ), \"The dataframe that you loaded is not correct\"\n",
    "            m1_ = df_1[\"Hours of sleep\"].mean()\n",
    "\n",
    "            v1_ = df_1[\"Hours of sleep\"].var()\n",
    "\n",
    "            n1_ = len(df_1)\n",
    "\n",
    "            a1_ = 1 - 0.95\n",
    "\n",
    "            za1_ = st.norm(0,1).ppf(1-a1_/2)\n",
    "            ans_a_1 = m1_ - za1_ * math.sqrt(v1_/n1_)\n",
    "            ans_b_1 = m1_ + za1_ * math.sqrt(v1_/n1_)\n",
    "            \n",
    "            assert(\"a_1\" in globals()\n",
    "                  ), \"You should have a variable called `a_1`\"\n",
    "            assert(\"b_1\" in globals()\n",
    "                  ), \"You should have a variable called `b_1`\"\n",
    "            assert(\n",
    "                (ans_a_1 == a_1) or (math.isclose(ans_a_1,a_1)) and \n",
    "                ( (ans_b_1 == b_1) or (math.isclose(ans_b_1,b_1)))\n",
    "            ), \"The calculation of the confidence interval is not correct\"\n",
    "\n",
    "            print(f\"\\N{PARTY POPPER} All tests passed! \\N{PARTY POPPER}\")\n",
    "        except AssertionError as msg:\n",
    "            print(f'{bcolors.FAIL} ---------- ERROR ---------- {bcolors.ENDC}')\n",
    "            print(msg)\n",
    "            \n",
    "\n",
    "    def testCase2():\n",
    "        try:\n",
    "            assert(\"df_2\" in globals()\n",
    "                  ), \"You should have a dataframe called `df_2`\"\n",
    "            \n",
    "            \n",
    "            assert(len(df_2) == len(pd.read_csv(\"https://evantsiamalos.github.io/material/datasets/ds_salaries.csv\"))\n",
    "                  ), \"The dataframe that you loaded is not correct\"\n",
    "            \n",
    "            \n",
    "            assert(\"df_2_clean\" in globals()\n",
    "                  ), \"You should have a dataframe called `df_2_clean`\"\n",
    "            \n",
    "            col_ = df_2[\"salary_in_usd\"]\n",
    "            q1_ = col_.quantile(0.25)\n",
    "            q3_ = col_.quantile(0.75)\n",
    "            IQR_ = q3_-q1_\n",
    "            \n",
    "            clean_dataset_ = df_2[\n",
    "    (df_2[\"salary_in_usd\"] >= q1_ - 1.5*IQR_) & (df_2[\"salary_in_usd\"] <= q3_ + 1.5*IQR_)\n",
    "]\n",
    "\n",
    "            assert(len(df_2_clean) == len(clean_dataset_)\n",
    "                  ), \"The `df_2_clean` dataframe is not correct\"\n",
    "            \n",
    "\n",
    "            \n",
    "            \n",
    "            m2_ = df_2_clean[\"salary_in_usd\"].mean()\n",
    "\n",
    "            v2_ = df_2_clean[\"salary_in_usd\"].var()\n",
    "\n",
    "            n2_ = len(df_2_clean)\n",
    "\n",
    "            a2_= 1 - 0.99\n",
    "\n",
    "            za2_ = st.norm(0,1).ppf(1-a2_/2)\n",
    "            \n",
    "            ans_a_2 = m2_ - za2_ * math.sqrt(v2_/n2_)\n",
    "            ans_b_2 = m2_ + za2_ * math.sqrt(v2_/n2_)\n",
    "            assert(\"a_2\" in globals()\n",
    "                  ), \"You should have a variable called `a_2`\"\n",
    "            assert(\"b_2\" in globals()\n",
    "                  ), \"You should have a variable called `b_2`\"\n",
    "            assert(\n",
    "                (ans_a_2 == a_2) or (math.isclose(ans_a_2,a_2)) and \n",
    "                ( (ans_b_2 == b_2) or (math.isclose(ans_b_2,b_2)))\n",
    "            ), \"The calculation of the confidence interval is not correct\"\n",
    "\n",
    "            print(f\"\\N{PARTY POPPER} All tests passed! \\N{PARTY POPPER}\")\n",
    "        except AssertionError as msg:\n",
    "            print(f'{bcolors.FAIL} ---------- ERROR ---------- {bcolors.ENDC}')\n",
    "            print(msg)\n",
    "\n",
    "            \n",
    "    def testCase3():\n",
    "        try:\n",
    "            assert(\"df_3\" in globals()\n",
    "                  ), \"You should have a dataframe called `df_3`\"\n",
    "            \n",
    "            \n",
    "            assert(len(df_3) == 100\n",
    "                  ), \"The dataframe `df_3` that  is not correct\"\n",
    "            m3_ = df_3[\"answers\"].mean()\n",
    "\n",
    "            v3_ = df_3[\"answers\"].var()\n",
    "\n",
    "            n3_ = len(df_3)\n",
    "\n",
    "            a3_ = 1 - 0.9\n",
    "\n",
    "            za3_ = st.norm(0,1).ppf(1-a3_/2)\n",
    "            ans_a_3 = m3_ - za3_ * math.sqrt(v3_/n3_)\n",
    "            ans_b_3 = m3_ + za3_ * math.sqrt(v3_/n3_)\n",
    "            \n",
    "            assert(\"a_3\" in globals()\n",
    "                  ), \"You should have a variable called `a_3`\"\n",
    "            assert(\"b_3\" in globals()\n",
    "                  ), \"You should have a variable called `b_3`\"\n",
    "            assert(\n",
    "                (ans_a_3 == a_3) or (math.isclose(ans_a_3,a_3)) and ((ans_b_3 == b_3) or (math.isclose(ans_b_3,b_3)))\n",
    "            ), \"The calculation of the confidence interval is not correct\"\n",
    "\n",
    "            print(f\"\\N{PARTY POPPER} All tests passed! \\N{PARTY POPPER}\")\n",
    "        except AssertionError as msg:\n",
    "            print(f'{bcolors.FAIL} ---------- ERROR ---------- {bcolors.ENDC}')\n",
    "            print(msg)\n"
   ]
  },
  {
   "cell_type": "markdown",
   "metadata": {},
   "source": [
    "\n",
    "\n",
    "# Lab 12\n",
    "In this lab, you will conduct hypothesis tests.\n",
    "\n"
   ]
  },
  {
   "cell_type": "markdown",
   "metadata": {},
   "source": [
    "<hr style=\"color: #DD3403;\">"
   ]
  },
  {
   "cell_type": "markdown",
   "metadata": {},
   "source": [
    "# Section 1: Sleep\n",
    "The dataset below contains the answers of students of UIUC to some questions. In this section, we are going to try to answer the following statistical question:\n",
    "\n",
    "> **Do UIUC students get significantly different sleep compared to the average American?**\n",
    "\n",
    "First, import the Dataset. \n",
    "\n",
    "The dataset\" is available here:\n",
    "```\n",
    "https://evantsiamalos.github.io/material/datasets/hello.csv\n",
    "```\n",
    "\n",
    "Use Python to load this dataset into a DataFrame called `df`:"
   ]
  },
  {
   "cell_type": "code",
   "execution_count": 1,
   "metadata": {},
   "outputs": [
    {
     "data": {
      "text/html": [
       "<div>\n",
       "<style scoped>\n",
       "    .dataframe tbody tr th:only-of-type {\n",
       "        vertical-align: middle;\n",
       "    }\n",
       "\n",
       "    .dataframe tbody tr th {\n",
       "        vertical-align: top;\n",
       "    }\n",
       "\n",
       "    .dataframe thead th {\n",
       "        text-align: right;\n",
       "    }\n",
       "</style>\n",
       "<table border=\"1\" class=\"dataframe\">\n",
       "  <thead>\n",
       "    <tr style=\"text-align: right;\">\n",
       "      <th></th>\n",
       "      <th>Name</th>\n",
       "      <th>Section</th>\n",
       "      <th>Are you a \"Type A\" or \"Type B\" personality?</th>\n",
       "      <th>Are you a morning person?</th>\n",
       "      <th>Are you an international student?</th>\n",
       "      <th>Are you an only child?</th>\n",
       "      <th>Are you from the Chicagoland area?</th>\n",
       "      <th>Do you consider your home to be in the United States or Abroad?</th>\n",
       "      <th>Are you in-state or out-of-state?</th>\n",
       "      <th>Are you tired?</th>\n",
       "      <th>...</th>\n",
       "      <th>What college is your major a part of?</th>\n",
       "      <th>What do you think is the hardest college major?</th>\n",
       "      <th>What genre of music do you listen to?</th>\n",
       "      <th>What is the best boba place in Urbana-Champaign?</th>\n",
       "      <th>What is your favorite color?</th>\n",
       "      <th>What is your favorite food?</th>\n",
       "      <th>What is your favorite music artist?</th>\n",
       "      <th>What is your favorite TV show?</th>\n",
       "      <th>What's your favorite social media app?</th>\n",
       "      <th>Which European country would you like to visit?</th>\n",
       "    </tr>\n",
       "  </thead>\n",
       "  <tbody>\n",
       "    <tr>\n",
       "      <th>0</th>\n",
       "      <td>Prof Karle</td>\n",
       "      <td>AL1</td>\n",
       "      <td>Type B (patient, flexible, laid-back)</td>\n",
       "      <td>No</td>\n",
       "      <td>No</td>\n",
       "      <td>No</td>\n",
       "      <td>No</td>\n",
       "      <td>United States</td>\n",
       "      <td>In-State</td>\n",
       "      <td>Yes</td>\n",
       "      <td>...</td>\n",
       "      <td>LAS</td>\n",
       "      <td>Computer Science</td>\n",
       "      <td>pop</td>\n",
       "      <td>LaTea</td>\n",
       "      <td>pink</td>\n",
       "      <td>Tacos</td>\n",
       "      <td>Taylor Swift</td>\n",
       "      <td>How to Get Away with Murder</td>\n",
       "      <td>Instagram</td>\n",
       "      <td>Italy</td>\n",
       "    </tr>\n",
       "    <tr>\n",
       "      <th>1</th>\n",
       "      <td>Prof Wade</td>\n",
       "      <td>AL1</td>\n",
       "      <td>Type A (ambitious, competitive, aggressive)</td>\n",
       "      <td>No</td>\n",
       "      <td>No</td>\n",
       "      <td>No</td>\n",
       "      <td>No</td>\n",
       "      <td>United States</td>\n",
       "      <td>In-State</td>\n",
       "      <td>No</td>\n",
       "      <td>...</td>\n",
       "      <td>Grainger</td>\n",
       "      <td>CS</td>\n",
       "      <td>Pop</td>\n",
       "      <td>IDK?</td>\n",
       "      <td>Purple</td>\n",
       "      <td>BBQ</td>\n",
       "      <td>Taylor Swift</td>\n",
       "      <td>NaN</td>\n",
       "      <td>YouTube</td>\n",
       "      <td>Spain</td>\n",
       "    </tr>\n",
       "    <tr>\n",
       "      <th>2</th>\n",
       "      <td>Harsh</td>\n",
       "      <td>AYB</td>\n",
       "      <td>Type A (ambitious, competitive, aggressive)</td>\n",
       "      <td>Yes</td>\n",
       "      <td>Yes</td>\n",
       "      <td>No</td>\n",
       "      <td>No</td>\n",
       "      <td>United States</td>\n",
       "      <td>Out-of-State</td>\n",
       "      <td>Yes</td>\n",
       "      <td>...</td>\n",
       "      <td>NaN</td>\n",
       "      <td>NaN</td>\n",
       "      <td>NaN</td>\n",
       "      <td>NaN</td>\n",
       "      <td>NaN</td>\n",
       "      <td>NaN</td>\n",
       "      <td>NaN</td>\n",
       "      <td>NaN</td>\n",
       "      <td>NaN</td>\n",
       "      <td>NaN</td>\n",
       "    </tr>\n",
       "    <tr>\n",
       "      <th>3</th>\n",
       "      <td>Norman</td>\n",
       "      <td>AYO</td>\n",
       "      <td>Type B (patient, flexible, laid-back)</td>\n",
       "      <td>No</td>\n",
       "      <td>Yes</td>\n",
       "      <td>No</td>\n",
       "      <td>No</td>\n",
       "      <td>Abroad</td>\n",
       "      <td>Out-of-State</td>\n",
       "      <td>No</td>\n",
       "      <td>...</td>\n",
       "      <td>Gies</td>\n",
       "      <td>Math</td>\n",
       "      <td>Jazz</td>\n",
       "      <td>Tea Moji</td>\n",
       "      <td>Blue</td>\n",
       "      <td>NaN</td>\n",
       "      <td>NaN</td>\n",
       "      <td>Breaking Bad</td>\n",
       "      <td>Discord</td>\n",
       "      <td>Switzerland</td>\n",
       "    </tr>\n",
       "    <tr>\n",
       "      <th>4</th>\n",
       "      <td>Christ`</td>\n",
       "      <td>AYM</td>\n",
       "      <td>Type A (ambitious, competitive, aggressive)</td>\n",
       "      <td>Yes</td>\n",
       "      <td>No</td>\n",
       "      <td>No</td>\n",
       "      <td>Yes</td>\n",
       "      <td>United States</td>\n",
       "      <td>In-State</td>\n",
       "      <td>No</td>\n",
       "      <td>...</td>\n",
       "      <td>Information Scineces</td>\n",
       "      <td>Chemical Engineering</td>\n",
       "      <td>Hip Hop</td>\n",
       "      <td>I don't know</td>\n",
       "      <td>Red</td>\n",
       "      <td>Plantain chips</td>\n",
       "      <td>J. Cole</td>\n",
       "      <td>BMF</td>\n",
       "      <td>Instagram</td>\n",
       "      <td>Portugal</td>\n",
       "    </tr>\n",
       "    <tr>\n",
       "      <th>...</th>\n",
       "      <td>...</td>\n",
       "      <td>...</td>\n",
       "      <td>...</td>\n",
       "      <td>...</td>\n",
       "      <td>...</td>\n",
       "      <td>...</td>\n",
       "      <td>...</td>\n",
       "      <td>...</td>\n",
       "      <td>...</td>\n",
       "      <td>...</td>\n",
       "      <td>...</td>\n",
       "      <td>...</td>\n",
       "      <td>...</td>\n",
       "      <td>...</td>\n",
       "      <td>...</td>\n",
       "      <td>...</td>\n",
       "      <td>...</td>\n",
       "      <td>...</td>\n",
       "      <td>...</td>\n",
       "      <td>...</td>\n",
       "      <td>...</td>\n",
       "    </tr>\n",
       "    <tr>\n",
       "      <th>368</th>\n",
       "      <td>Maryam</td>\n",
       "      <td>AYC</td>\n",
       "      <td>Type A (ambitious, competitive, aggressive)</td>\n",
       "      <td>No</td>\n",
       "      <td>No</td>\n",
       "      <td>No</td>\n",
       "      <td>Yes</td>\n",
       "      <td>United States</td>\n",
       "      <td>In-State</td>\n",
       "      <td>Yes</td>\n",
       "      <td>...</td>\n",
       "      <td>iSchool</td>\n",
       "      <td>CS</td>\n",
       "      <td>R&amp;B</td>\n",
       "      <td>Tiger Sugar</td>\n",
       "      <td>Green</td>\n",
       "      <td>Sushi</td>\n",
       "      <td>The Weeknd</td>\n",
       "      <td>One Tree Hill</td>\n",
       "      <td>TikTok</td>\n",
       "      <td>Montenegro</td>\n",
       "    </tr>\n",
       "    <tr>\n",
       "      <th>369</th>\n",
       "      <td>Nick</td>\n",
       "      <td>AYB</td>\n",
       "      <td>Type A (ambitious, competitive, aggressive)</td>\n",
       "      <td>No</td>\n",
       "      <td>Yes</td>\n",
       "      <td>Yes</td>\n",
       "      <td>No</td>\n",
       "      <td>Abroad</td>\n",
       "      <td>Out-of-State</td>\n",
       "      <td>Yes</td>\n",
       "      <td>...</td>\n",
       "      <td>LAS</td>\n",
       "      <td>CS</td>\n",
       "      <td>Rap</td>\n",
       "      <td>Teamoji</td>\n",
       "      <td>White</td>\n",
       "      <td>Hot pot</td>\n",
       "      <td>Taylor Swift</td>\n",
       "      <td>Office</td>\n",
       "      <td>Twitter</td>\n",
       "      <td>France</td>\n",
       "    </tr>\n",
       "    <tr>\n",
       "      <th>370</th>\n",
       "      <td>Bowei</td>\n",
       "      <td>AYE</td>\n",
       "      <td>Type B (patient, flexible, laid-back)</td>\n",
       "      <td>No</td>\n",
       "      <td>Yes</td>\n",
       "      <td>Yes</td>\n",
       "      <td>No</td>\n",
       "      <td>Abroad</td>\n",
       "      <td>Out-of-State</td>\n",
       "      <td>Yes</td>\n",
       "      <td>...</td>\n",
       "      <td>LAS</td>\n",
       "      <td>Computer Science</td>\n",
       "      <td>pop</td>\n",
       "      <td>Kungfu Tea</td>\n",
       "      <td>blue</td>\n",
       "      <td>Chinese</td>\n",
       "      <td>Jay Chou</td>\n",
       "      <td>Young Sheldon</td>\n",
       "      <td>WeChat</td>\n",
       "      <td>England</td>\n",
       "    </tr>\n",
       "    <tr>\n",
       "      <th>371</th>\n",
       "      <td>Sean</td>\n",
       "      <td>AYF</td>\n",
       "      <td>Type B (patient, flexible, laid-back)</td>\n",
       "      <td>No</td>\n",
       "      <td>No</td>\n",
       "      <td>No</td>\n",
       "      <td>Yes</td>\n",
       "      <td>United States</td>\n",
       "      <td>In-State</td>\n",
       "      <td>No</td>\n",
       "      <td>...</td>\n",
       "      <td>Gies</td>\n",
       "      <td>Physics</td>\n",
       "      <td>Pop</td>\n",
       "      <td>KFT</td>\n",
       "      <td>Red</td>\n",
       "      <td>Sushi</td>\n",
       "      <td>Bruno Mars</td>\n",
       "      <td>The Office</td>\n",
       "      <td>Twitter</td>\n",
       "      <td>Sweden</td>\n",
       "    </tr>\n",
       "    <tr>\n",
       "      <th>372</th>\n",
       "      <td>TA Yiming</td>\n",
       "      <td>AYO, AYQ</td>\n",
       "      <td>Type A (ambitious, competitive, aggressive)</td>\n",
       "      <td>No</td>\n",
       "      <td>Yes</td>\n",
       "      <td>Yes</td>\n",
       "      <td>No</td>\n",
       "      <td>Abroad</td>\n",
       "      <td>In-State</td>\n",
       "      <td>No</td>\n",
       "      <td>...</td>\n",
       "      <td>Statistics</td>\n",
       "      <td>Programming</td>\n",
       "      <td>Pop music</td>\n",
       "      <td>No idea</td>\n",
       "      <td>Purple</td>\n",
       "      <td>Beef</td>\n",
       "      <td>Dao Lang</td>\n",
       "      <td>News</td>\n",
       "      <td>WeChat</td>\n",
       "      <td>Greece</td>\n",
       "    </tr>\n",
       "  </tbody>\n",
       "</table>\n",
       "<p>373 rows × 91 columns</p>\n",
       "</div>"
      ],
      "text/plain": [
       "           Name   Section  Are you a \"Type A\" or \"Type B\" personality?  \\\n",
       "0    Prof Karle       AL1        Type B (patient, flexible, laid-back)   \n",
       "1     Prof Wade       AL1  Type A (ambitious, competitive, aggressive)   \n",
       "2         Harsh       AYB  Type A (ambitious, competitive, aggressive)   \n",
       "3       Norman        AYO        Type B (patient, flexible, laid-back)   \n",
       "4       Christ`       AYM  Type A (ambitious, competitive, aggressive)   \n",
       "..          ...       ...                                          ...   \n",
       "368      Maryam       AYC  Type A (ambitious, competitive, aggressive)   \n",
       "369        Nick       AYB  Type A (ambitious, competitive, aggressive)   \n",
       "370       Bowei       AYE        Type B (patient, flexible, laid-back)   \n",
       "371        Sean       AYF        Type B (patient, flexible, laid-back)   \n",
       "372   TA Yiming  AYO, AYQ  Type A (ambitious, competitive, aggressive)   \n",
       "\n",
       "    Are you a morning person? Are you an international student?  \\\n",
       "0                          No                                No   \n",
       "1                          No                                No   \n",
       "2                         Yes                               Yes   \n",
       "3                          No                               Yes   \n",
       "4                         Yes                                No   \n",
       "..                        ...                               ...   \n",
       "368                        No                                No   \n",
       "369                        No                               Yes   \n",
       "370                        No                               Yes   \n",
       "371                        No                                No   \n",
       "372                        No                               Yes   \n",
       "\n",
       "    Are you an only child? Are you from the Chicagoland area?  \\\n",
       "0                       No                                 No   \n",
       "1                       No                                 No   \n",
       "2                       No                                 No   \n",
       "3                       No                                 No   \n",
       "4                       No                                Yes   \n",
       "..                     ...                                ...   \n",
       "368                     No                                Yes   \n",
       "369                    Yes                                 No   \n",
       "370                    Yes                                 No   \n",
       "371                     No                                Yes   \n",
       "372                    Yes                                 No   \n",
       "\n",
       "    Do you consider your home to be in the United States or Abroad?  \\\n",
       "0                                        United States                \n",
       "1                                        United States                \n",
       "2                                        United States                \n",
       "3                                               Abroad                \n",
       "4                                        United States                \n",
       "..                                                 ...                \n",
       "368                                      United States                \n",
       "369                                             Abroad                \n",
       "370                                             Abroad                \n",
       "371                                      United States                \n",
       "372                                             Abroad                \n",
       "\n",
       "    Are you in-state or out-of-state? Are you tired?  ...  \\\n",
       "0                            In-State            Yes  ...   \n",
       "1                            In-State             No  ...   \n",
       "2                        Out-of-State            Yes  ...   \n",
       "3                        Out-of-State             No  ...   \n",
       "4                            In-State             No  ...   \n",
       "..                                ...            ...  ...   \n",
       "368                          In-State            Yes  ...   \n",
       "369                      Out-of-State            Yes  ...   \n",
       "370                      Out-of-State            Yes  ...   \n",
       "371                          In-State             No  ...   \n",
       "372                          In-State             No  ...   \n",
       "\n",
       "    What college is your major a part of?  \\\n",
       "0                                     LAS   \n",
       "1                                Grainger   \n",
       "2                                     NaN   \n",
       "3                                    Gies   \n",
       "4                    Information Scineces   \n",
       "..                                    ...   \n",
       "368                               iSchool   \n",
       "369                                   LAS   \n",
       "370                                   LAS   \n",
       "371                                  Gies   \n",
       "372                            Statistics   \n",
       "\n",
       "    What do you think is the hardest college major?  \\\n",
       "0                                  Computer Science   \n",
       "1                                                CS   \n",
       "2                                               NaN   \n",
       "3                                              Math   \n",
       "4                              Chemical Engineering   \n",
       "..                                              ...   \n",
       "368                                              CS   \n",
       "369                                              CS   \n",
       "370                                Computer Science   \n",
       "371                                         Physics   \n",
       "372                                     Programming   \n",
       "\n",
       "    What genre of music do you listen to?  \\\n",
       "0                                     pop   \n",
       "1                                     Pop   \n",
       "2                                     NaN   \n",
       "3                                    Jazz   \n",
       "4                                 Hip Hop   \n",
       "..                                    ...   \n",
       "368                                   R&B   \n",
       "369                                   Rap   \n",
       "370                                   pop   \n",
       "371                                   Pop   \n",
       "372                             Pop music   \n",
       "\n",
       "    What is the best boba place in Urbana-Champaign?  \\\n",
       "0                                              LaTea   \n",
       "1                                               IDK?   \n",
       "2                                                NaN   \n",
       "3                                           Tea Moji   \n",
       "4                                       I don't know   \n",
       "..                                               ...   \n",
       "368                                     Tiger Sugar    \n",
       "369                                          Teamoji   \n",
       "370                                       Kungfu Tea   \n",
       "371                                              KFT   \n",
       "372                                          No idea   \n",
       "\n",
       "    What is your favorite color? What is your favorite food?  \\\n",
       "0                           pink                       Tacos   \n",
       "1                         Purple                         BBQ   \n",
       "2                            NaN                         NaN   \n",
       "3                           Blue                         NaN   \n",
       "4                            Red              Plantain chips   \n",
       "..                           ...                         ...   \n",
       "368                        Green                       Sushi   \n",
       "369                        White                     Hot pot   \n",
       "370                         blue                     Chinese   \n",
       "371                          Red                       Sushi   \n",
       "372                       Purple                        Beef   \n",
       "\n",
       "    What is your favorite music artist? What is your favorite TV show?  \\\n",
       "0                          Taylor Swift    How to Get Away with Murder   \n",
       "1                          Taylor Swift                            NaN   \n",
       "2                                   NaN                            NaN   \n",
       "3                                   NaN                   Breaking Bad   \n",
       "4                               J. Cole                            BMF   \n",
       "..                                  ...                            ...   \n",
       "368                          The Weeknd                  One Tree Hill   \n",
       "369                        Taylor Swift                         Office   \n",
       "370                            Jay Chou                  Young Sheldon   \n",
       "371                          Bruno Mars                     The Office   \n",
       "372                            Dao Lang                           News   \n",
       "\n",
       "    What's your favorite social media app?  \\\n",
       "0                                Instagram   \n",
       "1                                  YouTube   \n",
       "2                                      NaN   \n",
       "3                                  Discord   \n",
       "4                                Instagram   \n",
       "..                                     ...   \n",
       "368                                 TikTok   \n",
       "369                               Twitter    \n",
       "370                                 WeChat   \n",
       "371                                Twitter   \n",
       "372                                 WeChat   \n",
       "\n",
       "    Which European country would you like to visit?  \n",
       "0                                             Italy  \n",
       "1                                             Spain  \n",
       "2                                               NaN  \n",
       "3                                       Switzerland  \n",
       "4                                          Portugal  \n",
       "..                                              ...  \n",
       "368                                     Montenegro   \n",
       "369                                          France  \n",
       "370                                         England  \n",
       "371                                          Sweden  \n",
       "372                                          Greece  \n",
       "\n",
       "[373 rows x 91 columns]"
      ]
     },
     "execution_count": 1,
     "metadata": {},
     "output_type": "execute_result"
    }
   ],
   "source": [
    "import pandas as pd\n",
    "\n",
    "df = pd.read_csv(\"https://evantsiamalos.github.io/material/datasets/hello.csv\")\n",
    "df"
   ]
  },
  {
   "cell_type": "markdown",
   "metadata": {},
   "source": [
    "### Test Case Checkpoint"
   ]
  },
  {
   "cell_type": "code",
   "execution_count": 3,
   "metadata": {},
   "outputs": [
    {
     "name": "stdout",
     "output_type": "stream",
     "text": [
      "🎉 All tests passed! 🎉\n"
     ]
    }
   ],
   "source": [
    "## == CHECKPOINT TEST CASES ==\n",
    "# - This read-only cell contains test cases for your previous cell.\n",
    "# - If this cell runs without any errors, you PASSED all test cases!\n",
    "# - If this cell results in any errors, check your previous cell, make changes, and RE-RUN your code and then this cell.\n",
    "import urllib\n",
    "_j = \"https://evantsiamalos.github.io/material/assignment_12/assignment12_tester.py\"\n",
    "_ = urllib.request.urlopen(_j).read()\n",
    "exec(_)\n",
    "Tester.testCase1()"
   ]
  },
  {
   "cell_type": "markdown",
   "metadata": {},
   "source": [
    "## Setting Up The Test\n",
    "In 2013, [Gallup completed their latest survey on sleep](https://news.gallup.com/poll/166553/less-recommended-amount-sleep.aspx) that shows that the average amount of sleep Americans get is **6.8 hours**.  \n",
    "\n",
    "To determine whether Illinois students get significantly more or less sleep than the average American, we will treat the observations above as a **random sample** of the student population at UIUC. Then, we will conduct a **one-sample, two-sided Z-test** to answer our hypothesis. \n",
    "\n",
    "Before we begin, define our hypotheses. Remember, the average amount of sleep found in Gallup's study is **6.8** hours, and we want to determine if our random sample is **significantly different** from this average. \n",
    "\n",
    "**Write your null and alternative hypothesis using the cell below.**"
   ]
  },
  {
   "cell_type": "markdown",
   "metadata": {},
   "source": [
    "##### Answer\n",
    "\n",
    "$H_0: \\mu = 6.8$ vs $H_1: \\mu \\neq 6.8$"
   ]
  },
  {
   "cell_type": "markdown",
   "metadata": {},
   "source": [
    "## Section 1.1: Sample Statistics\n",
    "The first step in order to perform a hypothesis test is to find the sample mean $\\bar X$ and the sample variance $s^2$. The dataset `df` contains the ammount of sleep that students get under the column named \n",
    "\n",
    "> \"How many hours do you sleep in a day?\"\n",
    "\n",
    "Assign this column **name** to a **string variable** named `sleep_column_name` using the cell below:"
   ]
  },
  {
   "cell_type": "code",
   "execution_count": 2,
   "metadata": {},
   "outputs": [],
   "source": [
    "sleep_column_name = \"How many hours do you sleep in a day?\"\n"
   ]
  },
  {
   "cell_type": "markdown",
   "metadata": {},
   "source": [
    "Now, using `sleep_column_name` and your `df`, find the sample average of the ammount of sleep that the students get, storing the result in the `sleep_average`:"
   ]
  },
  {
   "cell_type": "code",
   "execution_count": 3,
   "metadata": {},
   "outputs": [
    {
     "data": {
      "text/plain": [
       "7.2399463806970505"
      ]
     },
     "execution_count": 3,
     "metadata": {},
     "output_type": "execute_result"
    }
   ],
   "source": [
    "sleep_average = df[sleep_column_name].mean()\n",
    "sleep_average\n"
   ]
  },
  {
   "cell_type": "markdown",
   "metadata": {},
   "source": [
    "Next, find the sample **variance** of hours of sleep of the students, storing the result in the `sleep_var`:"
   ]
  },
  {
   "cell_type": "code",
   "execution_count": 5,
   "metadata": {},
   "outputs": [
    {
     "data": {
      "text/plain": [
       "2.475201072386055"
      ]
     },
     "execution_count": 5,
     "metadata": {},
     "output_type": "execute_result"
    }
   ],
   "source": [
    "sleep_var = df[sleep_column_name].var()\n",
    "sleep_var"
   ]
  },
  {
   "cell_type": "markdown",
   "metadata": {},
   "source": [
    "Finally, find the **sample size**, storing the result in the **integer variable** `sample_size`. "
   ]
  },
  {
   "cell_type": "code",
   "execution_count": 7,
   "metadata": {},
   "outputs": [
    {
     "data": {
      "text/plain": [
       "373"
      ]
     },
     "execution_count": 7,
     "metadata": {},
     "output_type": "execute_result"
    }
   ],
   "source": [
    "sample_size = len(df)\n",
    "sample_size\n"
   ]
  },
  {
   "cell_type": "markdown",
   "metadata": {},
   "source": [
    "### Test Case Checkpoint"
   ]
  },
  {
   "cell_type": "code",
   "execution_count": 8,
   "metadata": {},
   "outputs": [
    {
     "name": "stdout",
     "output_type": "stream",
     "text": [
      "🎉 All tests passed! 🎉\n"
     ]
    }
   ],
   "source": [
    "## == CHECKPOINT TEST CASES ==\n",
    "# - This read-only cell contains test cases for your previous cell.\n",
    "# - If this cell runs without any errors, you PASSED all test cases!\n",
    "# - If this cell results in any errors, check your previous cell, make changes, and RE-RUN your code and then this cell.\n",
    "import urllib\n",
    "_j = \"https://evantsiamalos.github.io/material/assignment_12/assignment12_tester.py\"\n",
    "_ = urllib.request.urlopen(_j).read()\n",
    "exec(_)\n",
    "Tester.testCase2()"
   ]
  },
  {
   "cell_type": "markdown",
   "metadata": {},
   "source": [
    "## Section 1.2: Finding the P-value\n",
    "We are going to perform a hypothesis test on a $0.05$-significance level\n",
    "\n",
    " "
   ]
  },
  {
   "cell_type": "code",
   "execution_count": 13,
   "metadata": {},
   "outputs": [],
   "source": [
    "import scipy.stats as st\n",
    "import math"
   ]
  },
  {
   "cell_type": "markdown",
   "metadata": {},
   "source": [
    "Calculate the test statistic:\n",
    "\n",
    "$$\\frac{\\bar X - \\mu_0}{\\sqrt{\\frac{\\sigma^2}{n}}}$$\n",
    "\n",
    "with $\\mu_0 = 6.8$.\n",
    "\n",
    "Store your result in a variable called `test_statistic`"
   ]
  },
  {
   "cell_type": "code",
   "execution_count": 14,
   "metadata": {},
   "outputs": [
    {
     "data": {
      "text/plain": [
       "5.400685938923451"
      ]
     },
     "execution_count": 14,
     "metadata": {},
     "output_type": "execute_result"
    }
   ],
   "source": [
    "test_statistic = (sleep_average - 6.8)/math.sqrt(sleep_var/sample_size)\n",
    "test_statistic"
   ]
  },
  {
   "cell_type": "markdown",
   "metadata": {},
   "source": [
    "Calculate the p-value (according to your hypothesis test setup). Store your result into a variable called `p_value`\n"
   ]
  },
  {
   "cell_type": "code",
   "execution_count": 15,
   "metadata": {},
   "outputs": [
    {
     "data": {
      "text/plain": [
       "6.638656091517703e-08"
      ]
     },
     "execution_count": 15,
     "metadata": {},
     "output_type": "execute_result"
    }
   ],
   "source": [
    "p_value =2* ( 1 - st.norm(0,1).cdf(test_statistic))\n",
    "p_value"
   ]
  },
  {
   "cell_type": "markdown",
   "metadata": {},
   "source": [
    "### Test Case Checkpoint "
   ]
  },
  {
   "cell_type": "code",
   "execution_count": 13,
   "metadata": {},
   "outputs": [
    {
     "name": "stdout",
     "output_type": "stream",
     "text": [
      "🎉 All tests passed! 🎉\n"
     ]
    }
   ],
   "source": [
    "## == CHECKPOINT TEST CASES ==\n",
    "# - This read-only cell contains test cases for your previous cell.\n",
    "# - If this cell runs without any errors, you PASSED all test cases!\n",
    "# - If this cell results in any errors, check your previous cell, make changes, and RE-RUN your code and then this cell.\n",
    "import urllib\n",
    "_j = \"https://evantsiamalos.github.io/material/assignment_12/assignment12_tester.py\"\n",
    "_ = urllib.request.urlopen(_j).read()\n",
    "exec(_)\n",
    "Tester.testCase3()"
   ]
  },
  {
   "cell_type": "markdown",
   "metadata": {},
   "source": [
    "### QUESTION\n",
    "**What is your result? Do you reject $H_0$ or not and why?**\n",
    "\n"
   ]
  },
  {
   "cell_type": "markdown",
   "metadata": {},
   "source": [
    "##### Answer\n",
    "\n",
    "we reject $H_0$ because $pvalue < 0.05$"
   ]
  },
  {
   "cell_type": "markdown",
   "metadata": {},
   "source": [
    "# Using Python Libraries\n",
    "We had to do a significant amount of calculations by hand to find our P-value. \n",
    "\n",
    "Luckily, Python has a few **libraries** which contain functions that allow us to conduct our hypothesis tests without calculating by hand. We are going to conduct the same test, only this time, it will be done automatically by Python. \n"
   ]
  },
  {
   "cell_type": "code",
   "execution_count": 17,
   "metadata": {},
   "outputs": [],
   "source": [
    "from statsmodels.stats import weightstats"
   ]
  },
  {
   "cell_type": "markdown",
   "metadata": {},
   "source": [
    "\n",
    "The function we will be using is `weightstats.ztest()`. Our use of this function will take **three parameters** in the following order:\n",
    "1. A `list` of sampled values\n",
    "2. The **expected value** of the null hypothesis, specified using `value=`\n",
    "3. The **alternative hypothesis** to the null value (either 'two-sided', 'larger', or 'smaller', specified using `alternative=`)\n",
    "\n",
    "To learn more about **Z-test function**, visit: https://www.statsmodels.org/dev/generated/statsmodels.stats.weightstats.ztest.html\n"
   ]
  },
  {
   "cell_type": "markdown",
   "metadata": {},
   "source": [
    "## Section 1.3: Z-test in Python\n",
    "Using the cell below, call the `weightstats.ztest()` function to conduct our Z-test and store the results in the variable `sleep_results`.\n",
    "\n",
    "The function `weightstats.ztest()` takes **three parameters**. Calling it will look like:\n",
    "\n",
    "`weightstats.ztest(list, value=..., alternative=...) `\n",
    "\n",
    "with the parameters being\"\n",
    "1. A `list` of sampled values, where a ` df[\"column\"] ` is something that can be read as a list\n",
    "\n",
    "2. The expected value of the null hypothesis, specified using ` value= `\n",
    "\n",
    "\n",
    "3. The alternative hypothesis to the null value (either `'two-sided'`, `'larger'`, or `'smaller'`, specified using `alternative=`\n",
    "Use the appropriate arguments for the parameters in order to conduct the test. "
   ]
  },
  {
   "cell_type": "code",
   "execution_count": 21,
   "metadata": {},
   "outputs": [
    {
     "data": {
      "text/plain": [
       "(5.400685938923447, 6.638656096400288e-08)"
      ]
     },
     "execution_count": 21,
     "metadata": {},
     "output_type": "execute_result"
    }
   ],
   "source": [
    "\n",
    "sleep_results = weightstats.ztest(df[sleep_column_name], value=6.8, alternative='two-sided')\n",
    "sleep_results"
   ]
  },
  {
   "cell_type": "markdown",
   "metadata": {},
   "source": [
    "If you print `sleep_result`, it should be a pair of **two values** in the form of $(z, p)$ where $z$ is the `z-stat` and $p$ is the `p-value`. If done correctly, the p-value should be **almost identical** to what you calculated by hand. "
   ]
  },
  {
   "cell_type": "markdown",
   "metadata": {},
   "source": [
    "### Test Case Checkpoint"
   ]
  },
  {
   "cell_type": "code",
   "execution_count": 18,
   "metadata": {},
   "outputs": [
    {
     "name": "stdout",
     "output_type": "stream",
     "text": [
      "🎉 All tests passed! 🎉\n"
     ]
    }
   ],
   "source": [
    "## == CHECKPOINT TEST CASES ==\n",
    "# - This read-only cell contains test cases for your previous cell.\n",
    "# - If this cell runs without any errors, you PASSED all test cases!\n",
    "# - If this cell results in any errors, check your previous cell, make changes, and RE-RUN your code and then this cell.\n",
    "import urllib\n",
    "_j = \"https://evantsiamalos.github.io/material/assignment_12/assignment12_tester.py\"\n",
    "_ = urllib.request.urlopen(_j).read()\n",
    "exec(_)\n",
    "Tester.testCase4()"
   ]
  },
  {
   "cell_type": "markdown",
   "metadata": {},
   "source": [
    "## Section 2: The Party\n",
    "Our knowledge of the `weightstats.ztest()` function from above lets us conduct a hypothesis test on any of our columns with ease. \n",
    "\n",
    "The column we are going to deal with in this section is \n",
    "\n",
    "> \"In the past year, how many times have you been to the party?\"\n",
    "\n",
    "The next question we'll answer with a Z-test is:\n",
    "> **It is assumed that the average student has been to \"the party\" $5$ times in the past year. Do UIUC students attend \"the party\" *more* than the average student?**\n",
    "\n",
    "\n",
    "\n",
    "In sections 1.2 and 1.3, we conducted a **two-sided Z-test**.\n",
    "\n",
    "Now, we will conduct a **one-sided Z-test** of significance level $0.05$."
   ]
  },
  {
   "cell_type": "markdown",
   "metadata": {},
   "source": [
    "### Defining Our Hypotheses\n",
    "**Define the null and alternative hypotheses using the cell below.**\n",
    "\n"
   ]
  },
  {
   "cell_type": "markdown",
   "metadata": {},
   "source": [
    "##### Answer\n",
    "\n",
    "$H_0: \\mu = 5$ vs $H_1: \\mu > 5$"
   ]
  },
  {
   "cell_type": "markdown",
   "metadata": {},
   "source": [
    "The `df` dataset contains the number of times our sample of students have been to \"the party\" under the **column** named `\"In the past year, how many times have you been to the party?\"`.\n",
    "\n",
    "To begin, assign this column name to a **string variable** named `party_question` using the cell below:"
   ]
  },
  {
   "cell_type": "code",
   "execution_count": 22,
   "metadata": {},
   "outputs": [],
   "source": [
    "party_question = \"In the past year, how many times have you been to the party?\"\n",
    "\n"
   ]
  },
  {
   "cell_type": "markdown",
   "metadata": {},
   "source": [
    "There's something a little tricky about the data we have in this column. Some people haven't filled out the answer to this captivating question, causing `NaN` (empty) values to appear. Dealing with **null values** is a **common occurence** in Data Science. We'll have to **chain** a simple **data cleaning** step before the `to_list()` function we used earlier.\n",
    "\n",
    "\n",
    "\n",
    "\n",
    "Using the `.dropna()` function, create a new variable named `party_column_clean` containing only the values from rows **without null (NaN) answers** to our `party_question`.\n",
    "\n",
    "**Hint:** Your solution should follow the syntax of `df[column].dropna()`"
   ]
  },
  {
   "cell_type": "code",
   "execution_count": 23,
   "metadata": {},
   "outputs": [
    {
     "data": {
      "text/plain": [
       "0       0.0\n",
       "1      12.0\n",
       "3       3.0\n",
       "4      15.0\n",
       "5       2.0\n",
       "       ... \n",
       "368    20.0\n",
       "369     0.0\n",
       "370    20.0\n",
       "371     2.0\n",
       "372     0.0\n",
       "Name: In the past year, how many times have you been to the party?, Length: 366, dtype: float64"
      ]
     },
     "execution_count": 23,
     "metadata": {},
     "output_type": "execute_result"
    }
   ],
   "source": [
    "party_column_clean = df[party_question].dropna()\n",
    "party_column_clean"
   ]
  },
  {
   "cell_type": "markdown",
   "metadata": {},
   "source": [
    "### Test Case Checkpoint"
   ]
  },
  {
   "cell_type": "code",
   "execution_count": 21,
   "metadata": {},
   "outputs": [
    {
     "name": "stdout",
     "output_type": "stream",
     "text": [
      "🎉 All tests passed! 🎉\n"
     ]
    }
   ],
   "source": [
    "## == CHECKPOINT TEST CASES ==\n",
    "# - This read-only cell contains test cases for your previous cell.\n",
    "# - If this cell runs without any errors, you PASSED all test cases!\n",
    "# - If this cell results in any errors, check your previous cell, make changes, and RE-RUN your code and then this cell.\n",
    "import urllib\n",
    "_j = \"https://evantsiamalos.github.io/material/assignment_12/assignment12_tester.py\"\n",
    "_ = urllib.request.urlopen(_j).read()\n",
    "exec(_)\n",
    "Tester.testCase6()"
   ]
  },
  {
   "cell_type": "markdown",
   "metadata": {},
   "source": [
    "Now we have everything ready to conduct our **one-sided Z-test**. \n",
    "\n",
    "Using the cell below, call the `weightstats.ztest()` function to conduct our **one-sided Z-test**, storing the results in the variable `party_results`.\n",
    "\n",
    "Our usage of `weightstats.ztest()` takes **three parameters**. Calling it will look like:\n",
    "\n",
    "`weightstats.ztest(list, value=..., alternative=...) `\n",
    "\n",
    "Remember we are conducting a **one-sided** test to determine whether Illinois students have been to \"the party\" **more** than the **$5$ times** in the past year that the average student has been to. "
   ]
  },
  {
   "cell_type": "code",
   "execution_count": 25,
   "metadata": {},
   "outputs": [
    {
     "data": {
      "text/plain": [
       "(3.430286073672394, 0.00030147260102915646)"
      ]
     },
     "execution_count": 25,
     "metadata": {},
     "output_type": "execute_result"
    }
   ],
   "source": [
    "party_results = weightstats.ztest(party_column_clean, value = 5, alternative=\"larger\")\n",
    "party_results"
   ]
  },
  {
   "cell_type": "markdown",
   "metadata": {},
   "source": [
    "### Test Case Checkpoint"
   ]
  },
  {
   "cell_type": "code",
   "execution_count": 23,
   "metadata": {},
   "outputs": [
    {
     "name": "stdout",
     "output_type": "stream",
     "text": [
      "🎉 All tests passed! 🎉\n"
     ]
    }
   ],
   "source": [
    "## == CHECKPOINT TEST CASES ==\n",
    "# - This read-only cell contains test cases for your previous cell.\n",
    "# - If this cell runs without any errors, you PASSED all test cases!\n",
    "# - If this cell results in any errors, check your previous cell, make changes, and RE-RUN your code and then this cell.\n",
    "import urllib\n",
    "_j = \"https://evantsiamalos.github.io/material/assignment_12/assignment12_tester.py\"\n",
    "_ = urllib.request.urlopen(_j).read()\n",
    "exec(_)\n",
    "Tester.testCase7()"
   ]
  },
  {
   "cell_type": "markdown",
   "metadata": {},
   "source": [
    "### QUESTION\n",
    "**What is your result? Do you reject $H_0$ or not and why?**\n",
    "\n",
    "\n"
   ]
  },
  {
   "cell_type": "markdown",
   "metadata": {},
   "source": [
    "we reject the null hypothesis"
   ]
  },
  {
   "cell_type": "markdown",
   "metadata": {},
   "source": [
    "<hr style=\"color: #DD3403;\">"
   ]
  },
  {
   "cell_type": "markdown",
   "metadata": {},
   "source": [
    "# Section 3: Happiness and Credit Hours\n",
    "Let's do another hypothesis test! This time we are going to look at the relationship between happiness and credit hours! \n",
    "\n",
    "Taking random samples of student subgroups from `df_hello`, we may answer the following question:\n",
    "- **Are students who take less credit hours significantly *happier* than students who take more?**\n",
    "\n",
    "To answer, we will perform a **one-sided two-sample z-test** of significance level $0.05$. "
   ]
  },
  {
   "cell_type": "markdown",
   "metadata": {},
   "source": [
    "### Hypotheses\n",
    "\n"
   ]
  },
  {
   "cell_type": "markdown",
   "metadata": {},
   "source": [
    "## Section 3.1: Setting Up\n",
    "We'll be using the the `weightstats.ztest()` function again to conduct our two sample z-test.\n",
    "\n",
    "To make our code **simpler and readable**, in the next cell, create two variables for future column subselection from our `df`:\n",
    "1. A **string variable** named `credits_question`, containing the **string**: \"How many credit hours are you taking?\"\n",
    "2. A **string variable** named `happiness_question`, containing the **string**:  \"From 1 to 10, how happy are you right now?\"\n"
   ]
  },
  {
   "cell_type": "code",
   "execution_count": 26,
   "metadata": {},
   "outputs": [],
   "source": [
    "credits_question = \"How many credit hours are you taking?\"\n",
    "happiness_question = \"From 1 to 10, how happy are you right now?\"\n"
   ]
  },
  {
   "cell_type": "markdown",
   "metadata": {},
   "source": [
    "Again, we will need to **clean** our DataFrame before conducting these tests. Here's a list of issues we will need to take care of before doing our test:\n",
    "- Some people **did not respond** to the `credits_question`, producing `NaN` values. \n",
    "- Some people responded with **unreasonable** answers to the `credits_question` (any answer **above 25** does not make sense)\n",
    "- Some people **did not respond** to the `happiness_question`, producing `NaN` values.\n",
    "- Some people responded with **unreasonable** answers to the `happiness_question` (any answer **above 10** does not make sense because of the 1-10 scale)\n",
    "\n",
    "Using your knowledge of conditionals and `.dropna()`, remove any columns that cause these issues in our `df_hello`, storing the ultimate result in a new DataFrame, `df_clean`. \n",
    "\n",
    "**Hint**: First drop the NAN values from those two columns with the `.dropna()` function and then, using conditionals, get rid of the values that are unreasonable."
   ]
  },
  {
   "cell_type": "code",
   "execution_count": 27,
   "metadata": {},
   "outputs": [
    {
     "data": {
      "text/html": [
       "<div>\n",
       "<style scoped>\n",
       "    .dataframe tbody tr th:only-of-type {\n",
       "        vertical-align: middle;\n",
       "    }\n",
       "\n",
       "    .dataframe tbody tr th {\n",
       "        vertical-align: top;\n",
       "    }\n",
       "\n",
       "    .dataframe thead th {\n",
       "        text-align: right;\n",
       "    }\n",
       "</style>\n",
       "<table border=\"1\" class=\"dataframe\">\n",
       "  <thead>\n",
       "    <tr style=\"text-align: right;\">\n",
       "      <th></th>\n",
       "      <th>Name</th>\n",
       "      <th>Section</th>\n",
       "      <th>Are you a \"Type A\" or \"Type B\" personality?</th>\n",
       "      <th>Are you a morning person?</th>\n",
       "      <th>Are you an international student?</th>\n",
       "      <th>Are you an only child?</th>\n",
       "      <th>Are you from the Chicagoland area?</th>\n",
       "      <th>Do you consider your home to be in the United States or Abroad?</th>\n",
       "      <th>Are you in-state or out-of-state?</th>\n",
       "      <th>Are you tired?</th>\n",
       "      <th>...</th>\n",
       "      <th>What college is your major a part of?</th>\n",
       "      <th>What do you think is the hardest college major?</th>\n",
       "      <th>What genre of music do you listen to?</th>\n",
       "      <th>What is the best boba place in Urbana-Champaign?</th>\n",
       "      <th>What is your favorite color?</th>\n",
       "      <th>What is your favorite food?</th>\n",
       "      <th>What is your favorite music artist?</th>\n",
       "      <th>What is your favorite TV show?</th>\n",
       "      <th>What's your favorite social media app?</th>\n",
       "      <th>Which European country would you like to visit?</th>\n",
       "    </tr>\n",
       "  </thead>\n",
       "  <tbody>\n",
       "    <tr>\n",
       "      <th>0</th>\n",
       "      <td>Prof Karle</td>\n",
       "      <td>AL1</td>\n",
       "      <td>Type B (patient, flexible, laid-back)</td>\n",
       "      <td>No</td>\n",
       "      <td>No</td>\n",
       "      <td>No</td>\n",
       "      <td>No</td>\n",
       "      <td>United States</td>\n",
       "      <td>In-State</td>\n",
       "      <td>Yes</td>\n",
       "      <td>...</td>\n",
       "      <td>LAS</td>\n",
       "      <td>Computer Science</td>\n",
       "      <td>pop</td>\n",
       "      <td>LaTea</td>\n",
       "      <td>pink</td>\n",
       "      <td>Tacos</td>\n",
       "      <td>Taylor Swift</td>\n",
       "      <td>How to Get Away with Murder</td>\n",
       "      <td>Instagram</td>\n",
       "      <td>Italy</td>\n",
       "    </tr>\n",
       "    <tr>\n",
       "      <th>3</th>\n",
       "      <td>Norman</td>\n",
       "      <td>AYO</td>\n",
       "      <td>Type B (patient, flexible, laid-back)</td>\n",
       "      <td>No</td>\n",
       "      <td>Yes</td>\n",
       "      <td>No</td>\n",
       "      <td>No</td>\n",
       "      <td>Abroad</td>\n",
       "      <td>Out-of-State</td>\n",
       "      <td>No</td>\n",
       "      <td>...</td>\n",
       "      <td>Gies</td>\n",
       "      <td>Math</td>\n",
       "      <td>Jazz</td>\n",
       "      <td>Tea Moji</td>\n",
       "      <td>Blue</td>\n",
       "      <td>NaN</td>\n",
       "      <td>NaN</td>\n",
       "      <td>Breaking Bad</td>\n",
       "      <td>Discord</td>\n",
       "      <td>Switzerland</td>\n",
       "    </tr>\n",
       "    <tr>\n",
       "      <th>4</th>\n",
       "      <td>Christ`</td>\n",
       "      <td>AYM</td>\n",
       "      <td>Type A (ambitious, competitive, aggressive)</td>\n",
       "      <td>Yes</td>\n",
       "      <td>No</td>\n",
       "      <td>No</td>\n",
       "      <td>Yes</td>\n",
       "      <td>United States</td>\n",
       "      <td>In-State</td>\n",
       "      <td>No</td>\n",
       "      <td>...</td>\n",
       "      <td>Information Scineces</td>\n",
       "      <td>Chemical Engineering</td>\n",
       "      <td>Hip Hop</td>\n",
       "      <td>I don't know</td>\n",
       "      <td>Red</td>\n",
       "      <td>Plantain chips</td>\n",
       "      <td>J. Cole</td>\n",
       "      <td>BMF</td>\n",
       "      <td>Instagram</td>\n",
       "      <td>Portugal</td>\n",
       "    </tr>\n",
       "    <tr>\n",
       "      <th>5</th>\n",
       "      <td>TA Faaez</td>\n",
       "      <td>AYB, AYC</td>\n",
       "      <td>Type B (patient, flexible, laid-back)</td>\n",
       "      <td>Yes</td>\n",
       "      <td>Yes</td>\n",
       "      <td>No</td>\n",
       "      <td>No</td>\n",
       "      <td>Abroad</td>\n",
       "      <td>Out-of-State</td>\n",
       "      <td>No</td>\n",
       "      <td>...</td>\n",
       "      <td>Grainger</td>\n",
       "      <td>Mathematics</td>\n",
       "      <td>Pop</td>\n",
       "      <td>Kung Fu Tea</td>\n",
       "      <td>Red</td>\n",
       "      <td>Ramen</td>\n",
       "      <td>The Weeknd</td>\n",
       "      <td>House of the Dragon</td>\n",
       "      <td>Instagram</td>\n",
       "      <td>Paris</td>\n",
       "    </tr>\n",
       "    <tr>\n",
       "      <th>6</th>\n",
       "      <td>Wondrous</td>\n",
       "      <td>AYB</td>\n",
       "      <td>Type A (ambitious, competitive, aggressive)</td>\n",
       "      <td>Yes</td>\n",
       "      <td>No</td>\n",
       "      <td>No</td>\n",
       "      <td>Yes</td>\n",
       "      <td>United States</td>\n",
       "      <td>In-State</td>\n",
       "      <td>Yes</td>\n",
       "      <td>...</td>\n",
       "      <td>gies</td>\n",
       "      <td>physics</td>\n",
       "      <td>rnb</td>\n",
       "      <td>kung fu tea</td>\n",
       "      <td>pink</td>\n",
       "      <td>steak!</td>\n",
       "      <td>brent faiyaz</td>\n",
       "      <td>jem and the holograms</td>\n",
       "      <td>twitter</td>\n",
       "      <td>United Kingdom</td>\n",
       "    </tr>\n",
       "    <tr>\n",
       "      <th>...</th>\n",
       "      <td>...</td>\n",
       "      <td>...</td>\n",
       "      <td>...</td>\n",
       "      <td>...</td>\n",
       "      <td>...</td>\n",
       "      <td>...</td>\n",
       "      <td>...</td>\n",
       "      <td>...</td>\n",
       "      <td>...</td>\n",
       "      <td>...</td>\n",
       "      <td>...</td>\n",
       "      <td>...</td>\n",
       "      <td>...</td>\n",
       "      <td>...</td>\n",
       "      <td>...</td>\n",
       "      <td>...</td>\n",
       "      <td>...</td>\n",
       "      <td>...</td>\n",
       "      <td>...</td>\n",
       "      <td>...</td>\n",
       "      <td>...</td>\n",
       "    </tr>\n",
       "    <tr>\n",
       "      <th>368</th>\n",
       "      <td>Maryam</td>\n",
       "      <td>AYC</td>\n",
       "      <td>Type A (ambitious, competitive, aggressive)</td>\n",
       "      <td>No</td>\n",
       "      <td>No</td>\n",
       "      <td>No</td>\n",
       "      <td>Yes</td>\n",
       "      <td>United States</td>\n",
       "      <td>In-State</td>\n",
       "      <td>Yes</td>\n",
       "      <td>...</td>\n",
       "      <td>iSchool</td>\n",
       "      <td>CS</td>\n",
       "      <td>R&amp;B</td>\n",
       "      <td>Tiger Sugar</td>\n",
       "      <td>Green</td>\n",
       "      <td>Sushi</td>\n",
       "      <td>The Weeknd</td>\n",
       "      <td>One Tree Hill</td>\n",
       "      <td>TikTok</td>\n",
       "      <td>Montenegro</td>\n",
       "    </tr>\n",
       "    <tr>\n",
       "      <th>369</th>\n",
       "      <td>Nick</td>\n",
       "      <td>AYB</td>\n",
       "      <td>Type A (ambitious, competitive, aggressive)</td>\n",
       "      <td>No</td>\n",
       "      <td>Yes</td>\n",
       "      <td>Yes</td>\n",
       "      <td>No</td>\n",
       "      <td>Abroad</td>\n",
       "      <td>Out-of-State</td>\n",
       "      <td>Yes</td>\n",
       "      <td>...</td>\n",
       "      <td>LAS</td>\n",
       "      <td>CS</td>\n",
       "      <td>Rap</td>\n",
       "      <td>Teamoji</td>\n",
       "      <td>White</td>\n",
       "      <td>Hot pot</td>\n",
       "      <td>Taylor Swift</td>\n",
       "      <td>Office</td>\n",
       "      <td>Twitter</td>\n",
       "      <td>France</td>\n",
       "    </tr>\n",
       "    <tr>\n",
       "      <th>370</th>\n",
       "      <td>Bowei</td>\n",
       "      <td>AYE</td>\n",
       "      <td>Type B (patient, flexible, laid-back)</td>\n",
       "      <td>No</td>\n",
       "      <td>Yes</td>\n",
       "      <td>Yes</td>\n",
       "      <td>No</td>\n",
       "      <td>Abroad</td>\n",
       "      <td>Out-of-State</td>\n",
       "      <td>Yes</td>\n",
       "      <td>...</td>\n",
       "      <td>LAS</td>\n",
       "      <td>Computer Science</td>\n",
       "      <td>pop</td>\n",
       "      <td>Kungfu Tea</td>\n",
       "      <td>blue</td>\n",
       "      <td>Chinese</td>\n",
       "      <td>Jay Chou</td>\n",
       "      <td>Young Sheldon</td>\n",
       "      <td>WeChat</td>\n",
       "      <td>England</td>\n",
       "    </tr>\n",
       "    <tr>\n",
       "      <th>371</th>\n",
       "      <td>Sean</td>\n",
       "      <td>AYF</td>\n",
       "      <td>Type B (patient, flexible, laid-back)</td>\n",
       "      <td>No</td>\n",
       "      <td>No</td>\n",
       "      <td>No</td>\n",
       "      <td>Yes</td>\n",
       "      <td>United States</td>\n",
       "      <td>In-State</td>\n",
       "      <td>No</td>\n",
       "      <td>...</td>\n",
       "      <td>Gies</td>\n",
       "      <td>Physics</td>\n",
       "      <td>Pop</td>\n",
       "      <td>KFT</td>\n",
       "      <td>Red</td>\n",
       "      <td>Sushi</td>\n",
       "      <td>Bruno Mars</td>\n",
       "      <td>The Office</td>\n",
       "      <td>Twitter</td>\n",
       "      <td>Sweden</td>\n",
       "    </tr>\n",
       "    <tr>\n",
       "      <th>372</th>\n",
       "      <td>TA Yiming</td>\n",
       "      <td>AYO, AYQ</td>\n",
       "      <td>Type A (ambitious, competitive, aggressive)</td>\n",
       "      <td>No</td>\n",
       "      <td>Yes</td>\n",
       "      <td>Yes</td>\n",
       "      <td>No</td>\n",
       "      <td>Abroad</td>\n",
       "      <td>In-State</td>\n",
       "      <td>No</td>\n",
       "      <td>...</td>\n",
       "      <td>Statistics</td>\n",
       "      <td>Programming</td>\n",
       "      <td>Pop music</td>\n",
       "      <td>No idea</td>\n",
       "      <td>Purple</td>\n",
       "      <td>Beef</td>\n",
       "      <td>Dao Lang</td>\n",
       "      <td>News</td>\n",
       "      <td>WeChat</td>\n",
       "      <td>Greece</td>\n",
       "    </tr>\n",
       "  </tbody>\n",
       "</table>\n",
       "<p>365 rows × 91 columns</p>\n",
       "</div>"
      ],
      "text/plain": [
       "           Name   Section  Are you a \"Type A\" or \"Type B\" personality?  \\\n",
       "0    Prof Karle       AL1        Type B (patient, flexible, laid-back)   \n",
       "3       Norman        AYO        Type B (patient, flexible, laid-back)   \n",
       "4       Christ`       AYM  Type A (ambitious, competitive, aggressive)   \n",
       "5      TA Faaez  AYB, AYC        Type B (patient, flexible, laid-back)   \n",
       "6      Wondrous       AYB  Type A (ambitious, competitive, aggressive)   \n",
       "..          ...       ...                                          ...   \n",
       "368      Maryam       AYC  Type A (ambitious, competitive, aggressive)   \n",
       "369        Nick       AYB  Type A (ambitious, competitive, aggressive)   \n",
       "370       Bowei       AYE        Type B (patient, flexible, laid-back)   \n",
       "371        Sean       AYF        Type B (patient, flexible, laid-back)   \n",
       "372   TA Yiming  AYO, AYQ  Type A (ambitious, competitive, aggressive)   \n",
       "\n",
       "    Are you a morning person? Are you an international student?  \\\n",
       "0                          No                                No   \n",
       "3                          No                               Yes   \n",
       "4                         Yes                                No   \n",
       "5                         Yes                               Yes   \n",
       "6                         Yes                                No   \n",
       "..                        ...                               ...   \n",
       "368                        No                                No   \n",
       "369                        No                               Yes   \n",
       "370                        No                               Yes   \n",
       "371                        No                                No   \n",
       "372                        No                               Yes   \n",
       "\n",
       "    Are you an only child? Are you from the Chicagoland area?  \\\n",
       "0                       No                                 No   \n",
       "3                       No                                 No   \n",
       "4                       No                                Yes   \n",
       "5                       No                                 No   \n",
       "6                       No                                Yes   \n",
       "..                     ...                                ...   \n",
       "368                     No                                Yes   \n",
       "369                    Yes                                 No   \n",
       "370                    Yes                                 No   \n",
       "371                     No                                Yes   \n",
       "372                    Yes                                 No   \n",
       "\n",
       "    Do you consider your home to be in the United States or Abroad?  \\\n",
       "0                                        United States                \n",
       "3                                               Abroad                \n",
       "4                                        United States                \n",
       "5                                               Abroad                \n",
       "6                                        United States                \n",
       "..                                                 ...                \n",
       "368                                      United States                \n",
       "369                                             Abroad                \n",
       "370                                             Abroad                \n",
       "371                                      United States                \n",
       "372                                             Abroad                \n",
       "\n",
       "    Are you in-state or out-of-state? Are you tired?  ...  \\\n",
       "0                            In-State            Yes  ...   \n",
       "3                        Out-of-State             No  ...   \n",
       "4                            In-State             No  ...   \n",
       "5                        Out-of-State             No  ...   \n",
       "6                            In-State            Yes  ...   \n",
       "..                                ...            ...  ...   \n",
       "368                          In-State            Yes  ...   \n",
       "369                      Out-of-State            Yes  ...   \n",
       "370                      Out-of-State            Yes  ...   \n",
       "371                          In-State             No  ...   \n",
       "372                          In-State             No  ...   \n",
       "\n",
       "    What college is your major a part of?  \\\n",
       "0                                     LAS   \n",
       "3                                    Gies   \n",
       "4                    Information Scineces   \n",
       "5                                Grainger   \n",
       "6                                    gies   \n",
       "..                                    ...   \n",
       "368                               iSchool   \n",
       "369                                   LAS   \n",
       "370                                   LAS   \n",
       "371                                  Gies   \n",
       "372                            Statistics   \n",
       "\n",
       "    What do you think is the hardest college major?  \\\n",
       "0                                  Computer Science   \n",
       "3                                              Math   \n",
       "4                              Chemical Engineering   \n",
       "5                                       Mathematics   \n",
       "6                                           physics   \n",
       "..                                              ...   \n",
       "368                                              CS   \n",
       "369                                              CS   \n",
       "370                                Computer Science   \n",
       "371                                         Physics   \n",
       "372                                     Programming   \n",
       "\n",
       "    What genre of music do you listen to?  \\\n",
       "0                                     pop   \n",
       "3                                    Jazz   \n",
       "4                                 Hip Hop   \n",
       "5                                     Pop   \n",
       "6                                     rnb   \n",
       "..                                    ...   \n",
       "368                                   R&B   \n",
       "369                                   Rap   \n",
       "370                                   pop   \n",
       "371                                   Pop   \n",
       "372                             Pop music   \n",
       "\n",
       "    What is the best boba place in Urbana-Champaign?  \\\n",
       "0                                              LaTea   \n",
       "3                                           Tea Moji   \n",
       "4                                       I don't know   \n",
       "5                                        Kung Fu Tea   \n",
       "6                                        kung fu tea   \n",
       "..                                               ...   \n",
       "368                                     Tiger Sugar    \n",
       "369                                          Teamoji   \n",
       "370                                       Kungfu Tea   \n",
       "371                                              KFT   \n",
       "372                                          No idea   \n",
       "\n",
       "    What is your favorite color? What is your favorite food?  \\\n",
       "0                           pink                       Tacos   \n",
       "3                           Blue                         NaN   \n",
       "4                            Red              Plantain chips   \n",
       "5                            Red                       Ramen   \n",
       "6                           pink                      steak!   \n",
       "..                           ...                         ...   \n",
       "368                        Green                       Sushi   \n",
       "369                        White                     Hot pot   \n",
       "370                         blue                     Chinese   \n",
       "371                          Red                       Sushi   \n",
       "372                       Purple                        Beef   \n",
       "\n",
       "    What is your favorite music artist? What is your favorite TV show?  \\\n",
       "0                          Taylor Swift    How to Get Away with Murder   \n",
       "3                                   NaN                   Breaking Bad   \n",
       "4                               J. Cole                            BMF   \n",
       "5                            The Weeknd            House of the Dragon   \n",
       "6                          brent faiyaz          jem and the holograms   \n",
       "..                                  ...                            ...   \n",
       "368                          The Weeknd                  One Tree Hill   \n",
       "369                        Taylor Swift                         Office   \n",
       "370                            Jay Chou                  Young Sheldon   \n",
       "371                          Bruno Mars                     The Office   \n",
       "372                            Dao Lang                           News   \n",
       "\n",
       "    What's your favorite social media app?  \\\n",
       "0                                Instagram   \n",
       "3                                  Discord   \n",
       "4                                Instagram   \n",
       "5                                Instagram   \n",
       "6                                  twitter   \n",
       "..                                     ...   \n",
       "368                                 TikTok   \n",
       "369                               Twitter    \n",
       "370                                 WeChat   \n",
       "371                                Twitter   \n",
       "372                                 WeChat   \n",
       "\n",
       "    Which European country would you like to visit?  \n",
       "0                                             Italy  \n",
       "3                                       Switzerland  \n",
       "4                                          Portugal  \n",
       "5                                             Paris  \n",
       "6                                    United Kingdom  \n",
       "..                                              ...  \n",
       "368                                     Montenegro   \n",
       "369                                          France  \n",
       "370                                         England  \n",
       "371                                          Sweden  \n",
       "372                                          Greece  \n",
       "\n",
       "[365 rows x 91 columns]"
      ]
     },
     "execution_count": 27,
     "metadata": {},
     "output_type": "execute_result"
    }
   ],
   "source": [
    "df_clean = df[(df[credits_question].dropna() <= 25) & (df[happiness_question].dropna() <= 10)]\n",
    "df_clean"
   ]
  },
  {
   "cell_type": "markdown",
   "metadata": {},
   "source": [
    "### Test Case Checkpoint "
   ]
  },
  {
   "cell_type": "code",
   "execution_count": 26,
   "metadata": {},
   "outputs": [
    {
     "name": "stdout",
     "output_type": "stream",
     "text": [
      "🎉 All tests passed! 🎉\n"
     ]
    }
   ],
   "source": [
    "## == CHECKPOINT TEST CASES ==\n",
    "# - This read-only cell contains test cases for your previous cell.\n",
    "# - If this cell runs without any errors, you PASSED all test cases!\n",
    "# - If this cell results in any errors, check your previous cell, make changes, and RE-RUN your code and then this cell.\n",
    "import urllib\n",
    "_j = \"https://evantsiamalos.github.io/material/assignment_12/assignment12_tester.py\"\n",
    "_ = urllib.request.urlopen(_j).read()\n",
    "exec(_)\n",
    "Tester.testCase8()"
   ]
  },
  {
   "cell_type": "markdown",
   "metadata": {},
   "source": [
    "Now that we have cleaned our columns in `df_clean`, we can continue with our test setup. \n",
    "\n",
    "In order to conduct our test, we are going to separate our data into students who have many credit hours and students who have less credit hours.\n",
    "\n",
    "Using your `credits_question` variable, create **two** new `DataFrames`: \n",
    "- `df_many_credits`, containing the rows from `df_clean` with students taking **15 or more** credit hours. \n",
    "- `df_less_credits`, containing the rows from `df_clean` with students taking **less than 15** credit hours."
   ]
  },
  {
   "cell_type": "code",
   "execution_count": 29,
   "metadata": {},
   "outputs": [],
   "source": [
    "df_many_credits = df_clean[df_clean[credits_question] >= 15]\n",
    "df_less_credits = df_clean[df_clean[credits_question] < 15]"
   ]
  },
  {
   "cell_type": "markdown",
   "metadata": {},
   "source": [
    "### Test Case Checkpoint"
   ]
  },
  {
   "cell_type": "code",
   "execution_count": 34,
   "metadata": {},
   "outputs": [
    {
     "name": "stdout",
     "output_type": "stream",
     "text": [
      "🎉 All tests passed! 🎉\n"
     ]
    }
   ],
   "source": [
    "## == CHECKPOINT TEST CASES ==\n",
    "# - This read-only cell contains test cases for your previous cell.\n",
    "# - If this cell runs without any errors, you PASSED all test cases!\n",
    "# - If this cell results in any errors, check your previous cell, make changes, and RE-RUN your code and then this cell.\n",
    "import urllib\n",
    "_j = \"https://evantsiamalos.github.io/material/assignment_12/assignment12_tester.py\"\n",
    "_ = urllib.request.urlopen(_j).read()\n",
    "exec(_)\n",
    "Tester.testCase9()"
   ]
  },
  {
   "cell_type": "markdown",
   "metadata": {},
   "source": [
    "## Section 3.2: Conducting the Test\n",
    "Now we have the samples we need for our **two-sample Z-test**.\n",
    "\n",
    "Now, let's run the our Z-test. Using the cell below, call the `weightstats.ztest()` function to conduct our Z-test and store the results in the variable `happy_results`. \n",
    "\n",
    "In the `weightstats.ztest()`\n",
    "\n",
    "- the first argument is going to be the `happiness_question` column from `df_many_credits` \n",
    "\n",
    "- the first argument is going to be the `happiness_question` column from `df_less_credits` \n",
    "\n",
    "\n",
    "- The third argument is going to be `value = 0` (because we are testing if $\\mu_{many}- \\mu_{less} = 0$)\n",
    "\n",
    "- The forth argument is going to be `alternative = ...`  (either `'two-sided'`, `'larger'`, or `'smaller'`)"
   ]
  },
  {
   "cell_type": "code",
   "execution_count": 35,
   "metadata": {},
   "outputs": [
    {
     "data": {
      "text/plain": [
       "(-0.711171711296892, 0.23848891811054784)"
      ]
     },
     "execution_count": 35,
     "metadata": {},
     "output_type": "execute_result"
    }
   ],
   "source": [
    "\n",
    "happy_results = weightstats.ztest(df_many_credits[happiness_question], df_less_credits[happiness_question], alternative='smaller')\n",
    "happy_results"
   ]
  },
  {
   "cell_type": "markdown",
   "metadata": {},
   "source": [
    "### Question\n",
    "**What is your result? Do you reject $H_0$ or not and why?**\n",
    "\n"
   ]
  },
  {
   "cell_type": "markdown",
   "metadata": {},
   "source": [
    "*(✏️ Edit this cell to replace this text with your answers. ✏️)*"
   ]
  },
  {
   "cell_type": "markdown",
   "metadata": {},
   "source": [
    "<hr style=\"color: #DD3403;\">"
   ]
  },
  {
   "cell_type": "markdown",
   "metadata": {},
   "source": [
    "# Submission\n",
    "\n",
    "Download and submit the assignment on Canvas in **Assignment 12**"
   ]
  }
 ],
 "metadata": {
  "kernelspec": {
   "display_name": "Python 3 (ipykernel)",
   "language": "python",
   "name": "python3"
  },
  "language_info": {
   "codemirror_mode": {
    "name": "ipython",
    "version": 3
   },
   "file_extension": ".py",
   "mimetype": "text/x-python",
   "name": "python",
   "nbconvert_exporter": "python",
   "pygments_lexer": "ipython3",
   "version": "3.9.13"
  },
  "vscode": {
   "interpreter": {
    "hash": "6e4deb337457fa8947131008f75dc159c243dc668058f6d523698d9cd505a843"
   }
  }
 },
 "nbformat": 4,
 "nbformat_minor": 2
}
