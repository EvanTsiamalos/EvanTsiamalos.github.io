{
 "cells": [
  {
   "cell_type": "code",
   "execution_count": 116,
   "metadata": {},
   "outputs": [],
   "source": [
    "\n",
    "class bcolors:\n",
    "    HEADER = '\\033[95m'\n",
    "    OKBLUE = '\\033[94m'\n",
    "    OKCYAN = '\\033[96m'\n",
    "    OKGREEN = '\\033[92m'\n",
    "    WARNING = '\\033[93m'\n",
    "    FAIL = '\\033[91m'\n",
    "    ENDC = '\\033[0m'\n",
    "    BOLD = '\\033[1m'\n",
    "    UNDERLINE = '\\033[4m'\n",
    "    \n",
    "class Tester:\n",
    "    def stock_example():\n",
    "\n",
    "\n",
    "        import matplotlib.pyplot as plt\n",
    "        import random\n",
    "        import pandas as pd\n",
    "        xx = []\n",
    "        c = 100\n",
    "        for i in range(50):\n",
    "            xx.append(c)\n",
    "            c += random.choice([-1,1])\n",
    "\n",
    "\n",
    "        plt.plot(xx,  \"o-\")\n",
    "        plt.xlabel(\"Day\")\n",
    "        plt.ylabel(\"Price\")\n",
    "        plt.grid()\n",
    "\n",
    "    def testCase1():\n",
    "        try:\n",
    "            assert('df_1' in globals()), \"You do not have a DataFrame called `df_1`.\"\n",
    "            assert( len(df_1) == 100), \"The dataframe was not created correctly\"\n",
    "            assert( \"coin_1\" in list(df_1.columns)), \"The dataframe df_1 should have a column called `coin_1`\"\n",
    "            assert( \"coin_2\" in list(df_1.columns)), \"The dataframe df_1 should have a column called `coin_2`\"\n",
    "            assert( \"coin_3\" in list(df_1.columns)), \"The dataframe df_1 should have a column called `coin_3`\"\n",
    "            \n",
    "            print(f\"\\N{PARTY POPPER} All tests passed! \\N{PARTY POPPER}\")\n",
    "        except AssertionError as msg:\n",
    "            print(f'{bcolors.FAIL} ---------- ERROR ---------- {bcolors.ENDC}')\n",
    "            print(msg)\n",
    "            \n",
    "    def testCase2():\n",
    "        try:       \n",
    "            assert 'successful_cases_1' in globals() , \"You do not have a variable called `successful_cases_1`.\" \n",
    "            assert type(successful_cases_1) == int, \"The variable `successful_cases_1` should be a number\"\n",
    "            assert successful_cases_1 == len(df_1[(df_1[\"coin_1\"] == \"H\") & (df_1[\"coin_2\"] == \"T\") & (df_1[\"coin_3\"] == \"H\")]\n",
    "                                            ), \"The calculation of `successful_cases_1` is not correct\"\n",
    "            \n",
    "            assert 'probability_1' in globals() , \"You do not have a variable called `probability_1`.\"\n",
    "            assert probability_1 == successful_cases_1/100 , \"The calculation of `successful_cases_1` is not correct\"\n",
    "            \n",
    "            print(f\"\\N{PARTY POPPER} All tests passed! \\N{PARTY POPPER}\")\n",
    "        except AssertionError as msg:\n",
    "            print(f'{bcolors.FAIL} ---------- ERROR ---------- {bcolors.ENDC}')\n",
    "            print(msg)\n",
    "                   \n",
    "    def testCase3():\n",
    "        try:\n",
    "            assert('df_2' in globals()), \"You do not have a DataFrame called `df_2`.\"\n",
    "            assert( len(df_2) == 1000), \"The dataframe was not created correctly\"\n",
    "            assert( \"wheel_1\" in list(df_2.columns)), \"The dataframe df_2 should have a column called `wheel_1`\"\n",
    "            assert( \"wheel_2\" in list(df_2.columns)), \"The dataframe df_2 should have a column called `wheel_2`\"\n",
    "            assert( \"wheel_3\" in list(df_2.columns)), \"The dataframe df_2 should have a column called `wheel_3`\"\n",
    "            assert( \"wheel_4\" in list(df_2.columns)), \"The dataframe df_2 should have a column called `wheel_4`\"\n",
    "            print(f\"\\N{PARTY POPPER} All tests passed! \\N{PARTY POPPER}\")\n",
    "        except AssertionError as msg:\n",
    "            print(f'{bcolors.FAIL} ---------- ERROR ---------- {bcolors.ENDC}')\n",
    "            print(msg)\n",
    "            \n",
    "    def testCase4():\n",
    "        try:       \n",
    "            assert 'successful_cases_2' in globals() , \"You do not have a variable called `successful_cases_2`.\" \n",
    "            assert type(successful_cases_2) == int, \"The variable `successful_cases_2` should be a number\"\n",
    "            assert successful_cases_2 == len(df_2[\n",
    "    (df_2[\"wheel_1\"] < df_2[\"wheel_2\"])  |  (df_2[\"wheel_3\"] > df_2[\"wheel_4\"])\n",
    "]), \"The calculation of `successful_cases_2` is not correct\"\n",
    "            \n",
    "            assert 'probability_2' in globals() , \"You do not have a variable called `probability_2`.\"\n",
    "            assert probability_2 == successful_cases_2/1000 , \"The calculation of `successful_cases_2` is not correct\"\n",
    "            \n",
    "            print(f\"\\N{PARTY POPPER} All tests passed! \\N{PARTY POPPER}\")\n",
    "        except AssertionError as msg:\n",
    "            print(f'{bcolors.FAIL} ---------- ERROR ---------- {bcolors.ENDC}')\n",
    "            print(msg)\n",
    "            \n",
    "            \n",
    "    def testCase5():\n",
    "        try:\n",
    "            assert('poll' in globals()), \"You should have a variable called `poll`.\"\n",
    "            assert( len(poll) == 100), \"The variable `poll` should be a list with 100 elements\"\n",
    "            print(f\"\\N{PARTY POPPER} All tests passed! \\N{PARTY POPPER}\")\n",
    "        except AssertionError as msg:\n",
    "            print(f'{bcolors.FAIL} ---------- ERROR ---------- {bcolors.ENDC}')\n",
    "            print(msg)\n",
    "            \n",
    "            \n",
    "    def testCase6():\n",
    "        try:\n",
    "            assert('positive_answers' in globals()), \"You should have a variable called `positive_answers`.\"\n",
    "\n",
    "            print(f\"\\N{PARTY POPPER} All tests passed! \\N{PARTY POPPER}\")\n",
    "        except AssertionError as msg:\n",
    "            print(f'{bcolors.FAIL} ---------- ERROR ---------- {bcolors.ENDC}')\n",
    "            print(msg)\n",
    "            \n",
    "            \n",
    "            \n",
    "    def testCase7():\n",
    "        try:\n",
    "            assert('df_3' in globals()), \"You do not have a DataFrame called `df_3`.\"\n",
    "            assert( len(df_3) == 10000), \"The dataframe was not created correctly\"\n",
    "            assert( \"positive_answers\" in list(df_3.columns)), \"The dataframe df_3 should have a column called `positive_answers`\"\n",
    "            \n",
    "            print(f\"\\N{PARTY POPPER} All tests passed! \\N{PARTY POPPER}\")\n",
    "        except AssertionError as msg:\n",
    "            print(f'{bcolors.FAIL} ---------- ERROR ---------- {bcolors.ENDC}')\n",
    "            print(msg)\n",
    "            \n",
    "    def testCase8():\n",
    "        try:       \n",
    "            assert 'successful_cases_3' in globals() , \"You do not have a variable called `successful_cases_3`.\" \n",
    "            assert type(successful_cases_3) == int, \"The variable `successful_cases_3` should be a number\"\n",
    "            assert successful_cases_3 == len(df_3[(df_3[\"positive_answers\"] <= 56) ]\n",
    "                                            ), \"The calculation of `successful_cases_3` is not correct\"\n",
    "            \n",
    "            assert 'probability_3' in globals() , \"You do not have a variable called `probability_3`.\"\n",
    "            assert probability_3 == successful_cases_3/10000 , \"The calculation of `successful_cases_3` is not correct\"\n",
    "            \n",
    "            print(f\"\\N{PARTY POPPER} All tests passed! \\N{PARTY POPPER}\")\n",
    "        except AssertionError as msg:\n",
    "            print(f'{bcolors.FAIL} ---------- ERROR ---------- {bcolors.ENDC}')\n",
    "            print(msg)"
   ]
  },
  {
   "cell_type": "markdown",
   "metadata": {},
   "source": [
    "# Lab 6\n",
    "\n",
    "We will continue to explore simulation in Python. This time, we are going to build more complicated simulations using functions. "
   ]
  },
  {
   "cell_type": "markdown",
   "metadata": {},
   "source": [
    "<hr style=\"color: #DD3403;\">"
   ]
  },
  {
   "cell_type": "markdown",
   "metadata": {},
   "source": [
    "# Part 1: Probability of winning\n",
    "\n",
    "We have a game of lack that is played as follows:\n",
    "\n",
    "1. We have the numbers from 1-80\n",
    "\n",
    "2. You select **8** numbers at random from 1-8 **without replacement**.\n",
    "\n",
    "3. Then a machine pulls out 20 balls at random **(without replacement)** enumerated with numbers from 1 to 80\n",
    "\n",
    "4. You win only if **at least 5** of the numbers that you selected are included in the collection of numbers pulled by the machine. \n",
    "\n",
    "Our goal is to estimate the probability of winning.\n"
   ]
  },
  {
   "cell_type": "markdown",
   "metadata": {},
   "source": [
    "### Question\n",
    "\n",
    "If you had to guess, what would you say that the probability of winning is?"
   ]
  },
  {
   "cell_type": "markdown",
   "metadata": {},
   "source": [
    "*(✏️ Edit this cell to replace this text with your answer. ✏️)*"
   ]
  },
  {
   "cell_type": "markdown",
   "metadata": {},
   "source": [
    "## Section 1.1:  Building the simulation function\n",
    "\n",
    "We define a function called `simulate_game()` that a single realisation of the game. The function does the following:\n",
    "- It does not receive any arguments (we don't need any).\n",
    "- It chooses **8** numbers from 1-80 **without** replacement and it stores it as a list called `player_numbers`.\n",
    "- It chooses **20** numbers from 1-80 **without** replacement and it stores it as a list called `machine_numbers`.\n",
    "\n",
    "- After that, using the variable `count`, it **counts** how many of the numbers in `player_numbers` list are in the `machine_numbers`. \n",
    "- In the end it **returns** the variable `count`\n",
    "\n",
    "The function is almost complete but you have to add a bit of code to make it work. More specifically:\n",
    "\n",
    "- Create the variable `player_numbers` where you simulate the act of selecting **8** numbers from 1-80 **without** replacement. \n",
    "    - Hint: Which function are you going to use, `random.choices` or `random.sample`?\n",
    "    - Hint: In order to quickly create a list with all the numbers from 1-80, you can use the command \n",
    "    \n",
    "        ```python\n",
    "        list( range(1,81) )\n",
    "        ```\n",
    "        This gives the list: \n",
    "        ```python\n",
    "        [1, 2, 3, 4, ... , 79, 80]\n",
    "        ```\n",
    "\n",
    "- Create the variable `machine_numbers` where you simulate the act of selecting **20** numbers from 1-80 **without** replacement. "
   ]
  },
  {
   "cell_type": "code",
   "execution_count": 51,
   "metadata": {},
   "outputs": [],
   "source": [
    "import pandas as pd\n",
    "import random\n",
    "\n",
    "def simulate_game():\n",
    "    \n",
    "    player_numbers = random.sample(list(range(1,81)), k = 8 ) ## Complete this part of the code\n",
    "    machine_numbers = random.sample(list(range(1,81)), k = 20) ## Complete this part of the code\n",
    "\n",
    "    count = 0  ## Count starts from 0\n",
    "    \n",
    "    for number in player_numbers:  ## We are going to take every number chosen in `player_numbers`\n",
    "        \n",
    "        if number in machine_numbers: ## We check if that number is in the 'machine_numbers'\n",
    "            count = count +  1  ## If it is, we increase count by 1 \n",
    "            \n",
    "    return count  ## We return count\n",
    "\n",
    "    "
   ]
  },
  {
   "cell_type": "markdown",
   "metadata": {},
   "source": [
    "Run the cell below to see if your `simulate_game` works.  \n",
    "**Note:** The outcome of this function is random, so every time you run it, the result will be different."
   ]
  },
  {
   "cell_type": "code",
   "execution_count": 52,
   "metadata": {},
   "outputs": [
    {
     "data": {
      "text/plain": [
       "3"
      ]
     },
     "execution_count": 52,
     "metadata": {},
     "output_type": "execute_result"
    }
   ],
   "source": [
    "simulate_game()"
   ]
  },
  {
   "cell_type": "markdown",
   "metadata": {},
   "source": [
    "### Test Case Checkpoint"
   ]
  },
  {
   "cell_type": "code",
   "execution_count": 53,
   "metadata": {},
   "outputs": [
    {
     "ename": "NameError",
     "evalue": "name 'Tester' is not defined",
     "output_type": "error",
     "traceback": [
      "\u001b[1;31m---------------------------------------------------------------------------\u001b[0m",
      "\u001b[1;31mNameError\u001b[0m                                 Traceback (most recent call last)",
      "\u001b[1;32m~\\AppData\\Local\\Temp\\ipykernel_3576\\784653443.py\u001b[0m in \u001b[0;36m<module>\u001b[1;34m\u001b[0m\n\u001b[0;32m      7\u001b[0m \u001b[1;31m# _ = urllib.request.urlopen(_j).read()\u001b[0m\u001b[1;33m\u001b[0m\u001b[1;33m\u001b[0m\u001b[0m\n\u001b[0;32m      8\u001b[0m \u001b[1;31m# exec(_)\u001b[0m\u001b[1;33m\u001b[0m\u001b[1;33m\u001b[0m\u001b[0m\n\u001b[1;32m----> 9\u001b[1;33m \u001b[0mTester\u001b[0m\u001b[1;33m.\u001b[0m\u001b[0mtestCase1\u001b[0m\u001b[1;33m(\u001b[0m\u001b[1;33m)\u001b[0m\u001b[1;33m\u001b[0m\u001b[1;33m\u001b[0m\u001b[0m\n\u001b[0m",
      "\u001b[1;31mNameError\u001b[0m: name 'Tester' is not defined"
     ]
    }
   ],
   "source": [
    "## == CHECKPOINT TEST CASES ==\n",
    "# - This read-only cell contains test cases for your previous cell.\n",
    "# - If this cell runs without any errors, you PASSED all test cases!\n",
    "# - If this cell results in any errors, check your previous cell, make changes, and RE-RUN your code and then this cell.\n",
    "# import urllib\n",
    "# _j = \"https://evantsiamalos.github.io/material/assignment_5/assignment5_tester.py\"\n",
    "# _ = urllib.request.urlopen(_j).read()\n",
    "# exec(_)\n",
    "Tester.testCase1()"
   ]
  },
  {
   "cell_type": "markdown",
   "metadata": {},
   "source": [
    "## Section 1.2: Creating a simulation\n",
    "\n",
    "Now that we have a working `simulate_game` function, let's simulate and store the results in a DataFrame for analysis. Let’s start by doing this simulation **1000 times**.  In other words, we're simulating **playing 1000 games**.  Store the results in a DataFrame named `df_1`. \n",
    "\n",
    "In the cell below, **simulate playing 1000 games**, storing the results in `df_1`. The variable or column in the dataframe should be named `outcome`. "
   ]
  },
  {
   "cell_type": "code",
   "execution_count": 55,
   "metadata": {},
   "outputs": [],
   "source": [
    "## Write the simulation in this cell\n",
    "data = []\n",
    "\n",
    "for i in range(1000):\n",
    "    outcome = simulate_game()\n",
    "    d = {\"outcome\": outcome}\n",
    "    data.append(d)\n",
    "    \n",
    "df_1 = pd.DataFrame(data)\n"
   ]
  },
  {
   "cell_type": "code",
   "execution_count": 56,
   "metadata": {},
   "outputs": [
    {
     "data": {
      "text/html": [
       "<div>\n",
       "<style scoped>\n",
       "    .dataframe tbody tr th:only-of-type {\n",
       "        vertical-align: middle;\n",
       "    }\n",
       "\n",
       "    .dataframe tbody tr th {\n",
       "        vertical-align: top;\n",
       "    }\n",
       "\n",
       "    .dataframe thead th {\n",
       "        text-align: right;\n",
       "    }\n",
       "</style>\n",
       "<table border=\"1\" class=\"dataframe\">\n",
       "  <thead>\n",
       "    <tr style=\"text-align: right;\">\n",
       "      <th></th>\n",
       "      <th>outcome</th>\n",
       "    </tr>\n",
       "  </thead>\n",
       "  <tbody>\n",
       "    <tr>\n",
       "      <th>0</th>\n",
       "      <td>1</td>\n",
       "    </tr>\n",
       "    <tr>\n",
       "      <th>1</th>\n",
       "      <td>1</td>\n",
       "    </tr>\n",
       "    <tr>\n",
       "      <th>2</th>\n",
       "      <td>2</td>\n",
       "    </tr>\n",
       "    <tr>\n",
       "      <th>3</th>\n",
       "      <td>2</td>\n",
       "    </tr>\n",
       "    <tr>\n",
       "      <th>4</th>\n",
       "      <td>1</td>\n",
       "    </tr>\n",
       "    <tr>\n",
       "      <th>...</th>\n",
       "      <td>...</td>\n",
       "    </tr>\n",
       "    <tr>\n",
       "      <th>995</th>\n",
       "      <td>2</td>\n",
       "    </tr>\n",
       "    <tr>\n",
       "      <th>996</th>\n",
       "      <td>3</td>\n",
       "    </tr>\n",
       "    <tr>\n",
       "      <th>997</th>\n",
       "      <td>3</td>\n",
       "    </tr>\n",
       "    <tr>\n",
       "      <th>998</th>\n",
       "      <td>2</td>\n",
       "    </tr>\n",
       "    <tr>\n",
       "      <th>999</th>\n",
       "      <td>1</td>\n",
       "    </tr>\n",
       "  </tbody>\n",
       "</table>\n",
       "<p>1000 rows × 1 columns</p>\n",
       "</div>"
      ],
      "text/plain": [
       "     outcome\n",
       "0          1\n",
       "1          1\n",
       "2          2\n",
       "3          2\n",
       "4          1\n",
       "..       ...\n",
       "995        2\n",
       "996        3\n",
       "997        3\n",
       "998        2\n",
       "999        1\n",
       "\n",
       "[1000 rows x 1 columns]"
      ]
     },
     "execution_count": 56,
     "metadata": {},
     "output_type": "execute_result"
    }
   ],
   "source": [
    "df_1"
   ]
  },
  {
   "cell_type": "markdown",
   "metadata": {},
   "source": [
    "### Test Case Checkpoint"
   ]
  },
  {
   "cell_type": "code",
   "execution_count": 57,
   "metadata": {},
   "outputs": [
    {
     "ename": "AssertionError",
     "evalue": "Make sure your DataFrame is named `df`.",
     "output_type": "error",
     "traceback": [
      "\u001b[1;31m---------------------------------------------------------------------------\u001b[0m",
      "\u001b[1;31mAssertionError\u001b[0m                            Traceback (most recent call last)",
      "\u001b[1;32m~\\AppData\\Local\\Temp\\ipykernel_3576\\3715098716.py\u001b[0m in \u001b[0;36m<module>\u001b[1;34m\u001b[0m\n\u001b[0;32m      3\u001b[0m \u001b[1;31m# - If this cell runs with the success message as your output, you PASSED all test cases!\u001b[0m\u001b[1;33m\u001b[0m\u001b[1;33m\u001b[0m\u001b[0m\n\u001b[0;32m      4\u001b[0m \u001b[1;31m# - If this cell results in any errors, check your previous cell, make changes, & RE-RUN your code & then this cell.\u001b[0m\u001b[1;33m\u001b[0m\u001b[1;33m\u001b[0m\u001b[0m\n\u001b[1;32m----> 5\u001b[1;33m \u001b[1;32massert\u001b[0m\u001b[1;33m(\u001b[0m\u001b[1;34m'df'\u001b[0m \u001b[1;32min\u001b[0m \u001b[0mvars\u001b[0m\u001b[1;33m(\u001b[0m\u001b[1;33m)\u001b[0m\u001b[1;33m)\u001b[0m\u001b[1;33m,\u001b[0m \u001b[1;34m\"Make sure your DataFrame is named `df`.\"\u001b[0m\u001b[1;33m\u001b[0m\u001b[1;33m\u001b[0m\u001b[0m\n\u001b[0m\u001b[0;32m      6\u001b[0m \u001b[1;32massert\u001b[0m\u001b[1;33m(\u001b[0m\u001b[1;34m'panel'\u001b[0m \u001b[1;32min\u001b[0m \u001b[0mdf\u001b[0m\u001b[1;33m.\u001b[0m\u001b[0mcolumns\u001b[0m\u001b[1;33m.\u001b[0m\u001b[0mto_list\u001b[0m\u001b[1;33m(\u001b[0m\u001b[1;33m)\u001b[0m\u001b[1;33m)\u001b[0m\u001b[1;33m,\u001b[0m \u001b[1;34m\"Make sure your simulations are stored in a column named `panel`.\"\u001b[0m\u001b[1;33m\u001b[0m\u001b[1;33m\u001b[0m\u001b[0m\n\u001b[0;32m      7\u001b[0m \u001b[1;32massert\u001b[0m\u001b[1;33m(\u001b[0m\u001b[0mlen\u001b[0m\u001b[1;33m(\u001b[0m\u001b[0mdf\u001b[0m\u001b[1;33m)\u001b[0m \u001b[1;33m==\u001b[0m \u001b[1;36m100\u001b[0m\u001b[1;33m)\u001b[0m\u001b[1;33m,\u001b[0m \u001b[1;34m\"Your DataFrame is the wrong length. Perhaps you did not simulate 100 times?\"\u001b[0m\u001b[1;33m\u001b[0m\u001b[1;33m\u001b[0m\u001b[0m\n",
      "\u001b[1;31mAssertionError\u001b[0m: Make sure your DataFrame is named `df`."
     ]
    }
   ],
   "source": [
    "## == CHECKPOINT TEST CASES ==\n",
    "# - This read-only cell contains test cases for your previous cell.\n",
    "# - If this cell runs without any errors, you PASSED all test cases!\n",
    "# - If this cell results in any errors, check your previous cell, make changes, and RE-RUN your code and then this cell.\n",
    "\n",
    "Tester.testCase2()"
   ]
  },
  {
   "cell_type": "markdown",
   "metadata": {},
   "source": [
    "## Section 1.3: Visualization\n",
    "\n",
    "\n",
    "\n",
    "Now, let's visualize the results of our simulation. **Run the cell below** to generate a bar-plot that represents the frequency of the values observed in the `outcome` column. **Try to understand what that piece of code does before running it**. "
   ]
  },
  {
   "cell_type": "code",
   "execution_count": 67,
   "metadata": {},
   "outputs": [
    {
     "data": {
      "text/plain": [
       "<AxesSubplot:>"
      ]
     },
     "execution_count": 67,
     "metadata": {},
     "output_type": "execute_result"
    },
    {
     "data": {
      "image/png": "[encoded data removed]",
      "text/plain": [
       "<Figure size 640x480 with 1 Axes>"
      ]
     },
     "metadata": {},
     "output_type": "display_data"
    }
   ],
   "source": [
    "df_1[\"outcome\"].value_counts().plot.bar()"
   ]
  },
  {
   "cell_type": "markdown",
   "metadata": {},
   "source": [
    "## Section 1.4: Mean Value\n",
    "\n",
    "\n",
    "Find the mean value of the `outcome` column of `df_1`. Store it as a variable called `mean_outcome`."
   ]
  },
  {
   "cell_type": "code",
   "execution_count": 69,
   "metadata": {},
   "outputs": [
    {
     "data": {
      "text/plain": [
       "2.003"
      ]
     },
     "execution_count": 69,
     "metadata": {},
     "output_type": "execute_result"
    }
   ],
   "source": [
    "mean_outcome = df_1[\"outcome\"].mean()\n",
    "mean_outcome"
   ]
  },
  {
   "cell_type": "markdown",
   "metadata": {},
   "source": [
    "### Test Case Checkpoint"
   ]
  },
  {
   "cell_type": "code",
   "execution_count": null,
   "metadata": {},
   "outputs": [],
   "source": [
    "## == CHECKPOINT TEST CASES ==\n",
    "# - This read-only cell contains test cases for your previous cell.\n",
    "# - If this cell runs without any errors, you PASSED all test cases!\n",
    "# - If this cell results in any errors, check your previous cell, make changes, and RE-RUN your code and then this cell.\n",
    "\n",
    "Tester.testCase3()"
   ]
  },
  {
   "cell_type": "markdown",
   "metadata": {},
   "source": [
    "## Section 1.5: Find the probability of winning\n",
    "\n",
    "Using `df_1`, estimate the probability of winning. Store it in a variable called `probability_1`."
   ]
  },
  {
   "cell_type": "code",
   "execution_count": 72,
   "metadata": {},
   "outputs": [
    {
     "data": {
      "text/plain": [
       "0.018"
      ]
     },
     "execution_count": 72,
     "metadata": {},
     "output_type": "execute_result"
    }
   ],
   "source": [
    "probability_1 = len(df_1[df_1[\"outcome\"] >= 5])/len(df_1)\n",
    "probability_1"
   ]
  },
  {
   "cell_type": "markdown",
   "metadata": {},
   "source": [
    "### Test Case Checkpoint"
   ]
  },
  {
   "cell_type": "code",
   "execution_count": null,
   "metadata": {},
   "outputs": [],
   "source": [
    "## == CHECKPOINT TEST CASES ==\n",
    "# - This read-only cell contains test cases for your previous cell.\n",
    "# - If this cell runs without any errors, you PASSED all test cases!\n",
    "# - If this cell results in any errors, check your previous cell, make changes, and RE-RUN your code and then this cell.\n",
    "\n",
    "Tester.testCase4()"
   ]
  },
  {
   "cell_type": "markdown",
   "metadata": {},
   "source": [
    "## Section 1.6: A different approach to the game\n",
    "Notice that in the simulation above, every time we wanted to play a game wwe **randomly** chose a specific subset of **8** numbers for the player. \n",
    "\n",
    "Some people say that, when they play the game described above, they prefer to play by choosing a specific collection of numbers every time because they believe that if they do so, they have higher chances of success. So they always play with the **same** collection of numbers.  \n",
    "\n",
    "Let's try to prove or disprove that claim. \n",
    "\n",
    "- Write a function called `simulation_game_alternative`. The function should be similar to the function `simulate_game` that we used in the previous example, only this time, the player has a fixed collection of numbers to play every time. So choose your **8** favourite numbers from 1-80 and use those instead of a random selection.\n",
    "\n",
    "- Run a simulation of 1000 games, using the `simulate_game_alternative` function. Store the results of the simulation in a dataframe called `df_1_alternative`. The column of the dataframe where you store the outcomes should be called `outcome`. \n",
    "\n",
    "- After running the simulation, estimate the probability of winning using this new method. Store your result in a variable called `probability_1_alternative`.\n",
    "\n",
    "\n"
   ]
  },
  {
   "cell_type": "code",
   "execution_count": 87,
   "metadata": {},
   "outputs": [],
   "source": [
    "## Write the function in this cell\n",
    "\n",
    "def simulate_game_alternative():\n",
    "    player_numbers = [1,3,5,7,9,10,22,45] ## Complete this part of the code\n",
    "    machine_numbers = random.sample(list(range(1,81)), k = 20) ## Complete this part of the code\n",
    "\n",
    "    count = 0  ## Count starts from 0\n",
    "    \n",
    "    for number in player_numbers:  ## We are going to take every number chosen in `player_numbers`\n",
    "        \n",
    "        if number in machine_numbers: ## We check if that number is in the 'machine_numbers'\n",
    "            count = count +  1  ## If it is, we increase count by 1 \n",
    "            \n",
    "    return count  ## We return count"
   ]
  },
  {
   "cell_type": "code",
   "execution_count": 88,
   "metadata": {},
   "outputs": [
    {
     "data": {
      "text/html": [
       "<div>\n",
       "<style scoped>\n",
       "    .dataframe tbody tr th:only-of-type {\n",
       "        vertical-align: middle;\n",
       "    }\n",
       "\n",
       "    .dataframe tbody tr th {\n",
       "        vertical-align: top;\n",
       "    }\n",
       "\n",
       "    .dataframe thead th {\n",
       "        text-align: right;\n",
       "    }\n",
       "</style>\n",
       "<table border=\"1\" class=\"dataframe\">\n",
       "  <thead>\n",
       "    <tr style=\"text-align: right;\">\n",
       "      <th></th>\n",
       "      <th>outcome</th>\n",
       "    </tr>\n",
       "  </thead>\n",
       "  <tbody>\n",
       "    <tr>\n",
       "      <th>0</th>\n",
       "      <td>3</td>\n",
       "    </tr>\n",
       "    <tr>\n",
       "      <th>1</th>\n",
       "      <td>5</td>\n",
       "    </tr>\n",
       "    <tr>\n",
       "      <th>2</th>\n",
       "      <td>2</td>\n",
       "    </tr>\n",
       "    <tr>\n",
       "      <th>3</th>\n",
       "      <td>2</td>\n",
       "    </tr>\n",
       "    <tr>\n",
       "      <th>4</th>\n",
       "      <td>4</td>\n",
       "    </tr>\n",
       "    <tr>\n",
       "      <th>...</th>\n",
       "      <td>...</td>\n",
       "    </tr>\n",
       "    <tr>\n",
       "      <th>995</th>\n",
       "      <td>2</td>\n",
       "    </tr>\n",
       "    <tr>\n",
       "      <th>996</th>\n",
       "      <td>0</td>\n",
       "    </tr>\n",
       "    <tr>\n",
       "      <th>997</th>\n",
       "      <td>1</td>\n",
       "    </tr>\n",
       "    <tr>\n",
       "      <th>998</th>\n",
       "      <td>2</td>\n",
       "    </tr>\n",
       "    <tr>\n",
       "      <th>999</th>\n",
       "      <td>2</td>\n",
       "    </tr>\n",
       "  </tbody>\n",
       "</table>\n",
       "<p>1000 rows × 1 columns</p>\n",
       "</div>"
      ],
      "text/plain": [
       "     outcome\n",
       "0          3\n",
       "1          5\n",
       "2          2\n",
       "3          2\n",
       "4          4\n",
       "..       ...\n",
       "995        2\n",
       "996        0\n",
       "997        1\n",
       "998        2\n",
       "999        2\n",
       "\n",
       "[1000 rows x 1 columns]"
      ]
     },
     "execution_count": 88,
     "metadata": {},
     "output_type": "execute_result"
    }
   ],
   "source": [
    "## Write the simulation in this cell\n",
    "data = []\n",
    "\n",
    "for i in range(1000):\n",
    "    outcome = simulate_game_alternative()\n",
    "    d = {\"outcome\": outcome}\n",
    "    data.append(d)\n",
    "    \n",
    "df_1_alternative = pd.DataFrame(data)\n",
    "df_1_alternative"
   ]
  },
  {
   "cell_type": "code",
   "execution_count": 89,
   "metadata": {},
   "outputs": [
    {
     "data": {
      "text/plain": [
       "0.012"
      ]
     },
     "execution_count": 89,
     "metadata": {},
     "output_type": "execute_result"
    }
   ],
   "source": [
    "## Calculate the estimate of the probability in this cell\n",
    "\n",
    "probability_1_alternative = len(df_1_alternative[df_1_alternative[\"outcome\"] >= 5] )/len(df_1_alternative)\n",
    "probability_1_alternative"
   ]
  },
  {
   "cell_type": "markdown",
   "metadata": {},
   "source": [
    "### Question\n",
    "\n",
    "After this analysis, which method would you choose? Playing with random numbers every time or with fixed numbers?\n"
   ]
  },
  {
   "cell_type": "markdown",
   "metadata": {},
   "source": [
    "*(✏️ Edit this cell to replace this text with your answer. ✏️)*"
   ]
  },
  {
   "cell_type": "markdown",
   "metadata": {},
   "source": [
    "<hr style=\"color: #DD3403;\">"
   ]
  },
  {
   "cell_type": "markdown",
   "metadata": {},
   "source": [
    "# Section 2: Behaviour of a Stock price (Random walk) \n",
    "\n",
    "For our next example we are going to consider a Stock price that behaves as follows:  \n",
    "\n",
    "- We start observing it at day 0. The price at day 0 is $100\\$$ and we continue to observe the price for a certain ammount of days (let's say $k$-days). \n",
    "\n",
    "- Each day the price increases by 1 with probability $50\\%$ or decreases by 1 with probability $50\\%$, i.e. \n",
    "    $$Price_{(k+1)} =   \\begin{cases}\n",
    "    Price_{(k)} + 1, & \\text{with probability } \\frac{1}{2} \\\\\n",
    "    Price_{(k)} - 1, & \\text{with probability } \\frac{1}{2}\n",
    "  \\end{cases}$$\n",
    "\n",
    "**Note:** This type of \"stock price\" is called a simple random walk in mathematics. \n",
    "\n",
    "**Run the following cell** to see an example of what the stock price could look like for a period of $k=50$ days. Every time you run it, you get a different image for the price behaviour."
   ]
  },
  {
   "cell_type": "code",
   "execution_count": 99,
   "metadata": {},
   "outputs": [
    {
     "data": {
      "image/png": "[encoded data removed]",
      "text/plain": [
       "<Figure size 640x480 with 1 Axes>"
      ]
     },
     "metadata": {},
     "output_type": "display_data"
    }
   ],
   "source": [
    "Tester.stock_example()\n"
   ]
  },
  {
   "cell_type": "markdown",
   "metadata": {},
   "source": [
    "### Task\n",
    "Your employer is asking you to estimate the probability of the stock price being at least up **5** dollars after $k$-days, i.e. that on the $k$-th day, the price is at least $105\\$$. \n"
   ]
  },
  {
   "cell_type": "markdown",
   "metadata": {},
   "source": [
    "## Section 2.1:  Building the simulation function\n",
    "\n",
    "We define a function called `simulate_stock()`. This function will simulate a single process of the stock price for k-days, i.e. it does the following:\n",
    "- It recieves an argument `k`, which is an integer and represents the total ammount of days that we observe the stock price.   \n",
    "\n",
    "- It has a variable called `price` which initially starts with value `price = 100`. This will represent the stock price.   \n",
    "\n",
    "\n",
    "- Then for `k`-repetitions, `price` either increases by 1 (with probability $50\\%$) or decreases by 1 (with probability $50\\%$).   \n",
    "\n",
    "\n",
    "- After the `k`-repetitions, it should **return** `price`.   \n",
    "\n",
    "\n",
    "**HINT:** Remember the example where we try to calculate the sum of integers. "
   ]
  },
  {
   "cell_type": "code",
   "execution_count": 108,
   "metadata": {},
   "outputs": [],
   "source": [
    "def simulate_stock(k):\n",
    "    ##\n",
    "    ## Write the function\n",
    "    ##\n",
    "    price = 100\n",
    "    for i in range(k):\n",
    "        price = price + random.choice([-1,1])\n",
    "    return price\n"
   ]
  },
  {
   "cell_type": "markdown",
   "metadata": {},
   "source": [
    "Try to run the function to see if it works for `k=50`. You should get an integer value as a result. Every time you run it,  the result should be different. You can change `k` to control the ammount of days that you observe the stock price.  "
   ]
  },
  {
   "cell_type": "code",
   "execution_count": 109,
   "metadata": {},
   "outputs": [
    {
     "data": {
      "text/plain": [
       "114"
      ]
     },
     "execution_count": 109,
     "metadata": {},
     "output_type": "execute_result"
    }
   ],
   "source": [
    "simulate_stock(50)"
   ]
  },
  {
   "cell_type": "markdown",
   "metadata": {},
   "source": [
    "###  Test Case Checkpoint "
   ]
  },
  {
   "cell_type": "code",
   "execution_count": null,
   "metadata": {},
   "outputs": [],
   "source": [
    "## == CHECKPOINT TEST CASES ==\n",
    "# - This read-only cell contains test cases for your previous cell.\n",
    "# - If this cell runs without any errors, you PASSED all test cases!\n",
    "# - If this cell results in any errors, check your previous cell, make changes, and RE-RUN your code and then this cell.\n",
    "\n",
    "Tester.testCase5()"
   ]
  },
  {
   "cell_type": "markdown",
   "metadata": {},
   "source": [
    "## Section 2.2: Write the simulation\n",
    "\n",
    "Now that we have a working `simulate_stock` function, let's simulate and store the results in a DataFrame for analysis. We are going to simulate observing the stock price for $k = 50$ days. Let’s start by doing this simulation **10000 times**.  In other words, we're simulating **observing the stock price for 50 days**.  Store the results in a DataFrame named `df_2`. \n",
    "\n",
    "In the cell below,simulate **observing the stock price for 50 days** for **10000** repetitions, storing the results in `df_2`. The variable or column in the dataframe should be named `price`. "
   ]
  },
  {
   "cell_type": "code",
   "execution_count": 110,
   "metadata": {},
   "outputs": [],
   "source": [
    "## Write the simulation in this cell\n",
    "data = []\n",
    "\n",
    "for i in range(10000):\n",
    "    price = simulate_stock(50)\n",
    "    d = {\"price\": price}\n",
    "    data.append(d)\n",
    "    \n",
    "df_2 = pd.DataFrame(data)"
   ]
  },
  {
   "cell_type": "code",
   "execution_count": 111,
   "metadata": {},
   "outputs": [
    {
     "data": {
      "text/html": [
       "<div>\n",
       "<style scoped>\n",
       "    .dataframe tbody tr th:only-of-type {\n",
       "        vertical-align: middle;\n",
       "    }\n",
       "\n",
       "    .dataframe tbody tr th {\n",
       "        vertical-align: top;\n",
       "    }\n",
       "\n",
       "    .dataframe thead th {\n",
       "        text-align: right;\n",
       "    }\n",
       "</style>\n",
       "<table border=\"1\" class=\"dataframe\">\n",
       "  <thead>\n",
       "    <tr style=\"text-align: right;\">\n",
       "      <th></th>\n",
       "      <th>price</th>\n",
       "    </tr>\n",
       "  </thead>\n",
       "  <tbody>\n",
       "    <tr>\n",
       "      <th>0</th>\n",
       "      <td>98</td>\n",
       "    </tr>\n",
       "    <tr>\n",
       "      <th>1</th>\n",
       "      <td>96</td>\n",
       "    </tr>\n",
       "    <tr>\n",
       "      <th>2</th>\n",
       "      <td>90</td>\n",
       "    </tr>\n",
       "    <tr>\n",
       "      <th>3</th>\n",
       "      <td>102</td>\n",
       "    </tr>\n",
       "    <tr>\n",
       "      <th>4</th>\n",
       "      <td>108</td>\n",
       "    </tr>\n",
       "    <tr>\n",
       "      <th>...</th>\n",
       "      <td>...</td>\n",
       "    </tr>\n",
       "    <tr>\n",
       "      <th>9995</th>\n",
       "      <td>102</td>\n",
       "    </tr>\n",
       "    <tr>\n",
       "      <th>9996</th>\n",
       "      <td>102</td>\n",
       "    </tr>\n",
       "    <tr>\n",
       "      <th>9997</th>\n",
       "      <td>100</td>\n",
       "    </tr>\n",
       "    <tr>\n",
       "      <th>9998</th>\n",
       "      <td>86</td>\n",
       "    </tr>\n",
       "    <tr>\n",
       "      <th>9999</th>\n",
       "      <td>100</td>\n",
       "    </tr>\n",
       "  </tbody>\n",
       "</table>\n",
       "<p>10000 rows × 1 columns</p>\n",
       "</div>"
      ],
      "text/plain": [
       "      price\n",
       "0        98\n",
       "1        96\n",
       "2        90\n",
       "3       102\n",
       "4       108\n",
       "...     ...\n",
       "9995    102\n",
       "9996    102\n",
       "9997    100\n",
       "9998     86\n",
       "9999    100\n",
       "\n",
       "[10000 rows x 1 columns]"
      ]
     },
     "execution_count": 111,
     "metadata": {},
     "output_type": "execute_result"
    }
   ],
   "source": [
    "df_2"
   ]
  },
  {
   "cell_type": "markdown",
   "metadata": {},
   "source": [
    "### Test Case Checkpoint"
   ]
  },
  {
   "cell_type": "code",
   "execution_count": null,
   "metadata": {},
   "outputs": [],
   "source": [
    "## == CHECKPOINT TEST CASES ==\n",
    "# - This read-only cell contains test cases for your previous cell.\n",
    "# - If this cell runs without any errors, you PASSED all test cases!\n",
    "# - If this cell results in any errors, check your previous cell, make changes, and RE-RUN your code and then this cell.\n",
    "\n",
    "Tester.testCase6()"
   ]
  },
  {
   "cell_type": "markdown",
   "metadata": {},
   "source": [
    "## Section 2.3: Visualization\n",
    "\n",
    "Now, let's visualize the results of our simulation. Using an appropriate plot, generate a histogram of the column `price` below:"
   ]
  },
  {
   "cell_type": "code",
   "execution_count": 112,
   "metadata": {},
   "outputs": [
    {
     "data": {
      "text/plain": [
       "<AxesSubplot:>"
      ]
     },
     "execution_count": 112,
     "metadata": {},
     "output_type": "execute_result"
    },
    {
     "data": {
      "image/png": "[encoded data removed]",
      "text/plain": [
       "<Figure size 640x480 with 1 Axes>"
      ]
     },
     "metadata": {},
     "output_type": "display_data"
    }
   ],
   "source": [
    "## Create a histogram in this cell\n",
    "df_2[\"price\"].hist()"
   ]
  },
  {
   "cell_type": "markdown",
   "metadata": {},
   "source": [
    "## Section 2.4: Estimate the probability\n",
    "\n",
    "Using `df_2`, estimate the probability of the stock price being over $105 \\$ $ on the $50$-th day. Store your result in the variable called `probability_2`. "
   ]
  },
  {
   "cell_type": "code",
   "execution_count": 114,
   "metadata": {},
   "outputs": [
    {
     "data": {
      "text/plain": [
       "0.2355"
      ]
     },
     "execution_count": 114,
     "metadata": {},
     "output_type": "execute_result"
    }
   ],
   "source": [
    "probability_2 = len(df_2[df_2[\"price\"] >= 105]) / len(df_2)\n",
    "probability_2"
   ]
  },
  {
   "cell_type": "markdown",
   "metadata": {},
   "source": [
    "### Test Case Checkpoint "
   ]
  },
  {
   "cell_type": "code",
   "execution_count": null,
   "metadata": {},
   "outputs": [],
   "source": [
    "## == CHECKPOINT TEST CASES ==\n",
    "# - This read-only cell contains test cases for your previous cell.\n",
    "# - If this cell runs without any errors, you PASSED all test cases!\n",
    "# - If this cell results in any errors, check your previous cell, make changes, and RE-RUN your code and then this cell.\n",
    "\n",
    "Tester.testCase7()"
   ]
  },
  {
   "cell_type": "markdown",
   "metadata": {},
   "source": [
    "## Analysis\n",
    "\n",
    "In our previous analysis, we found the probability of the stock price to have increased at least $5\\$ $ in a period of 50 days. \n",
    "\n",
    "### Question \n",
    "\n",
    "Let's say that instead of observing the price for just $50$ days, we observe it for more (eg, $60, 70, 100, 500$) days. What do you think will happen to the corresponding probabilities as the ammount of days increases? \n"
   ]
  },
  {
   "cell_type": "markdown",
   "metadata": {},
   "source": [
    "*(✏️ Edit this cell to replace this text with your answer. ✏️)*"
   ]
  },
  {
   "cell_type": "markdown",
   "metadata": {},
   "source": [
    "Use simulations in the cells below to answer the question above. Experiment with trying different values for `k` and see what happens to the probability. You can use as many cells as you want. You can just copy and paste your code from above and change the value of the parameter `k` every time. "
   ]
  },
  {
   "cell_type": "markdown",
   "metadata": {},
   "source": [
    "<hr style=\"color: #DD3403;\">"
   ]
  },
  {
   "cell_type": "markdown",
   "metadata": {},
   "source": [
    "## **Submission**\n",
    "Download your notebook and submit it on Canvas in \"**Assignment 6**\"."
   ]
  },
  {
   "cell_type": "code",
   "execution_count": null,
   "metadata": {},
   "outputs": [],
   "source": []
  }
 ],
 "metadata": {
  "kernelspec": {
   "display_name": "Python 3 (ipykernel)",
   "language": "python",
   "name": "python3"
  },
  "language_info": {
   "codemirror_mode": {
    "name": "ipython",
    "version": 3
   },
   "file_extension": ".py",
   "mimetype": "text/x-python",
   "name": "python",
   "nbconvert_exporter": "python",
   "pygments_lexer": "ipython3",
   "version": "3.9.13"
  },
  "vscode": {
   "interpreter": {
    "hash": "89e98a2a71e91e328d7fbf3eea370b1e354671d8132dc51aba5581c7f6329e5d"
   }
  }
 },
 "nbformat": 4,
 "nbformat_minor": 2
}
