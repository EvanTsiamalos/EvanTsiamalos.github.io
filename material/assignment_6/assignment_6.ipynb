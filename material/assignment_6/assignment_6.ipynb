{
 "cells": [
  {
   "cell_type": "markdown",
   "metadata": {},
   "source": [
    "# Lab 6\n",
    "\n",
    "We will continue to explore simulation in Python. This time, we are going to build more complicated simulations using functions. "
   ]
  },
  {
   "cell_type": "markdown",
   "metadata": {},
   "source": [
    "<hr style=\"color: #DD3403;\">"
   ]
  },
  {
   "cell_type": "markdown",
   "metadata": {},
   "source": [
    "# Part 1: Probability of winning\n",
    "\n",
    "We have a game of lack that is played as follows:\n",
    "\n",
    "1. We have the numbers from 1-80\n",
    "\n",
    "2. You select **8** numbers at random from 1-8 **without replacement**.\n",
    "\n",
    "3. Then a machine pulls out 20 balls at random **(without replacement)** enumerated with numbers from 1 to 80\n",
    "\n",
    "4. You win only if **at least 5** of the numbers that you selected are included in the collection of numbers pulled by the machine. \n",
    "\n",
    "Our goal is to estimate the probability of winning.\n"
   ]
  },
  {
   "cell_type": "markdown",
   "metadata": {},
   "source": [
    "### Question\n",
    "\n",
    "If you had to guess, what would you say that the probability of winning is?"
   ]
  },
  {
   "cell_type": "markdown",
   "metadata": {},
   "source": [
    "*(✏️ Edit this cell to replace this text with your answer. ✏️)*"
   ]
  },
  {
   "cell_type": "markdown",
   "metadata": {},
   "source": [
    "## Section 1.1:  Building the simulation function\n",
    "\n",
    "We define a function called `simulate_game()` that a single realisation of the game. The function does the following:\n",
    "- It does not receive any arguments (we don't need any).\n",
    "- It chooses **8** numbers from 1-80 **without** replacement and it stores it as a list called `player_numbers`.\n",
    "- It chooses **20** numbers from 1-80 **without** replacement and it stores it as a list called `machine_numbers`.\n",
    "\n",
    "- After that, using the variable `count`, it **counts** how many of the numbers in `player_numbers` list are in the `machine_numbers`. \n",
    "- In the end it **returns** the variable `count`\n",
    "\n",
    "The function is almost complete but you have to add a bit of code to make it work. More specifically:\n",
    "\n",
    "- Create the variable `player_numbers` where you simulate the act of selecting **8** numbers from 1-80 **without** replacement. \n",
    "    - Hint: Which function are you going to use, `random.choices` or `random.sample`?\n",
    "    - Hint: In order to quickly create a list with all the numbers from 1-80, you can use the command \n",
    "    \n",
    "        ```python\n",
    "        list( range(1,81) )\n",
    "        ```\n",
    "        This gives the list: \n",
    "        ```python\n",
    "        [1, 2, 3, 4, ... , 79, 80]\n",
    "        ```\n",
    "\n",
    "- Create the variable `machine_numbers` where you simulate the act of selecting **20** numbers from 1-80 **without** replacement. "
   ]
  },
  {
   "cell_type": "code",
   "execution_count": null,
   "metadata": {},
   "outputs": [],
   "source": [
    "import pandas as pd\n",
    "import random\n",
    "\n",
    "def simulate_game():\n",
    "    \n",
    "    player_numbers = ... ## Complete this part of the code\n",
    "    machine_numbers = ... ## Complete this part of the code\n",
    "\n",
    "    count = 0  ## Count starts from 0\n",
    "    \n",
    "    for number in player_numbers:  ## We are going to take every number chosen in `player_numbers`\n",
    "        \n",
    "        if number in machine_numbers: ## We check if that number is in the 'machine_numbers'\n",
    "            count = count +  1  ## If it is, we increase count by 1 \n",
    "            \n",
    "    return count  ## We return count\n",
    "\n",
    "    "
   ]
  },
  {
   "cell_type": "markdown",
   "metadata": {},
   "source": [
    "Run the cell below to see if your `simulate_game` works.  \n",
    "**Note:** The outcome of this function is random, so every time you run it, the result will be different."
   ]
  },
  {
   "cell_type": "code",
   "execution_count": null,
   "metadata": {},
   "outputs": [],
   "source": [
    "simulate_game()"
   ]
  },
  {
   "cell_type": "markdown",
   "metadata": {},
   "source": [
    "### Test Case Checkpoint"
   ]
  },
  {
   "cell_type": "code",
   "execution_count": null,
   "metadata": {},
   "outputs": [],
   "source": [
    "## == CHECKPOINT TEST CASES ==\n",
    "# - This read-only cell contains test cases for your previous cell.\n",
    "# - If this cell runs without any errors, you PASSED all test cases!\n",
    "# - If this cell results in any errors, check your previous cell, make changes, and RE-RUN your code and then this cell.\n",
    "import urllib\n",
    "_j = \"https://evantsiamalos.github.io/material/assignment_6/assignment6_tester.py\"\n",
    "_ = urllib.request.urlopen(_j).read()\n",
    "exec(_)\n",
    "Tester.testCase1()"
   ]
  },
  {
   "cell_type": "markdown",
   "metadata": {},
   "source": [
    "## Section 1.2: Creating a simulation\n",
    "\n",
    "Now that we have a working `simulate_game` function, let's simulate and store the results in a DataFrame for analysis. Let’s start by doing this simulation **1000 times**.  In other words, we're simulating **playing 1000 games**.  Store the results in a DataFrame named `df_1`. \n",
    "\n",
    "In the cell below, **simulate playing 1000 games**, storing the results in `df_1`. The variable or column in the dataframe should be named `outcome`. "
   ]
  },
  {
   "cell_type": "code",
   "execution_count": null,
   "metadata": {},
   "outputs": [],
   "source": [
    "## Write the simulation in this cell\n",
    "\n"
   ]
  },
  {
   "cell_type": "code",
   "execution_count": null,
   "metadata": {},
   "outputs": [],
   "source": [
    "df_1 ## Print df_1 after it's been created"
   ]
  },
  {
   "cell_type": "markdown",
   "metadata": {},
   "source": [
    "### Test Case Checkpoint "
   ]
  },
  {
   "cell_type": "code",
   "execution_count": null,
   "metadata": {},
   "outputs": [],
   "source": [
    "## == CHECKPOINT TEST CASES ==\n",
    "# - This read-only cell contains test cases for your previous cell.\n",
    "# - If this cell runs without any errors, you PASSED all test cases!\n",
    "# - If this cell results in any errors, check your previous cell, make changes, and RE-RUN your code and then this cell.\n",
    "\n",
    "Tester.testCase2()"
   ]
  },
  {
   "cell_type": "markdown",
   "metadata": {},
   "source": [
    "## Section 1.3: Visualization\n",
    "\n",
    "Now, let's visualize the results of our simulation. **Run the cell below** to generate a bar-plot that represents the frequency of the values observed in the `outcome` column. **Try to understand what that piece of code does before running it**. "
   ]
  },
  {
   "cell_type": "code",
   "execution_count": null,
   "metadata": {},
   "outputs": [],
   "source": [
    "df_1[\"outcome\"].value_counts().plot.bar()"
   ]
  },
  {
   "cell_type": "markdown",
   "metadata": {},
   "source": [
    "### Question\n",
    "\n",
    "Why did we not just write `df_1[\"outcome\"].plot.bar()` to create the plot? Also, why did we plot a bar instead of a histogram?"
   ]
  },
  {
   "cell_type": "markdown",
   "metadata": {},
   "source": [
    "*(✏️ Edit this cell to replace this text with your answer. ✏️)*"
   ]
  },
  {
   "cell_type": "markdown",
   "metadata": {},
   "source": [
    "## Section 1.4: Mean Value\n",
    "\n",
    "\n",
    "Find the mean value of the `outcome` column of `df_1`. Store it as a variable called `mean_outcome`."
   ]
  },
  {
   "cell_type": "code",
   "execution_count": null,
   "metadata": {},
   "outputs": [],
   "source": [
    "mean_outcome = ...\n",
    "mean_outcome"
   ]
  },
  {
   "cell_type": "markdown",
   "metadata": {},
   "source": [
    "### Test Case Checkpoint "
   ]
  },
  {
   "cell_type": "code",
   "execution_count": null,
   "metadata": {},
   "outputs": [],
   "source": [
    "## == CHECKPOINT TEST CASES ==\n",
    "# - This read-only cell contains test cases for your previous cell.\n",
    "# - If this cell runs without any errors, you PASSED all test cases!\n",
    "# - If this cell results in any errors, check your previous cell, make changes, and RE-RUN your code and then this cell.\n",
    "\n",
    "Tester.testCase3()"
   ]
  },
  {
   "cell_type": "markdown",
   "metadata": {},
   "source": [
    "## Section 1.5: Find the probability of winning\n",
    "\n",
    "Using `df_1`, estimate the probability of winning. Store it in a variable called `probability_1`."
   ]
  },
  {
   "cell_type": "code",
   "execution_count": null,
   "metadata": {},
   "outputs": [],
   "source": [
    "probability_1 = ...\n",
    "probability_1"
   ]
  },
  {
   "cell_type": "markdown",
   "metadata": {},
   "source": [
    "### Test Case Checkpoint "
   ]
  },
  {
   "cell_type": "code",
   "execution_count": null,
   "metadata": {},
   "outputs": [],
   "source": [
    "## == CHECKPOINT TEST CASES ==\n",
    "# - This read-only cell contains test cases for your previous cell.\n",
    "# - If this cell runs without any errors, you PASSED all test cases!\n",
    "# - If this cell results in any errors, check your previous cell, make changes, and RE-RUN your code and then this cell.\n",
    "\n",
    "Tester.testCase4()"
   ]
  },
  {
   "cell_type": "markdown",
   "metadata": {},
   "source": [
    "## Section 1.6: A different approach to the game\n",
    "Notice that in the simulation above, every time we wanted to play a game wwe **randomly** chose a specific subset of **8** numbers for the player. \n",
    "\n",
    "Some people say that, when they play the game described above, they prefer to play by choosing a specific collection of numbers every time because they believe that if they do so, they have higher chances of success. So they always play with the **same** collection of numbers.  \n",
    "\n",
    "Let's try to prove or disprove that claim. \n",
    "\n",
    "- Write a function called `simulation_game_alternative`. The function should be similar to the function `simulate_game` that we used in the previous example, only this time, the player has a fixed collection of numbers to play every time. So choose your **8** favourite numbers from 1-80 and use those instead of a random selection.\n",
    "\n",
    "- Run a simulation of 1000 games, using the `simulate_game_alternative` function. Store the results of the simulation in a dataframe called `df_1_alternative`. The column of the dataframe where you store the outcomes should be called `outcome`. \n",
    "\n",
    "- After running the simulation, estimate the probability of winning using this new method. Store your result in a variable called `probability_1_alternative`.\n",
    "\n",
    "\n"
   ]
  },
  {
   "cell_type": "code",
   "execution_count": null,
   "metadata": {},
   "outputs": [],
   "source": [
    "## Write the function in this cell\n",
    "def simulate_game_alternative():\n",
    "    \n",
    "    player_numbers = [ ... ] ## Select 8 numbers from 1 to 80 and place \n",
    "                            # them inside the brackets separated with commas\n",
    "    \n",
    "    ## Write the rest of the function similarly to the 'simulate_game' function from before"
   ]
  },
  {
   "cell_type": "code",
   "execution_count": null,
   "metadata": {},
   "outputs": [],
   "source": [
    "simulate_game_alternative() ## Run the function to see if it works"
   ]
  },
  {
   "cell_type": "code",
   "execution_count": null,
   "metadata": {},
   "outputs": [],
   "source": [
    "## Write the simulation in this cell\n"
   ]
  },
  {
   "cell_type": "code",
   "execution_count": null,
   "metadata": {},
   "outputs": [],
   "source": [
    "df_1_alternative ## print df_1_alternative after it's been created to see what it looks like"
   ]
  },
  {
   "cell_type": "code",
   "execution_count": null,
   "metadata": {},
   "outputs": [],
   "source": [
    "## Calculate the estimate of the probability in this cell\n",
    "\n",
    "probability_1_alternative = ...\n",
    "probability_1_alternative"
   ]
  },
  {
   "cell_type": "markdown",
   "metadata": {},
   "source": [
    "### Question\n",
    "\n",
    "After this analysis, which method would you choose? Playing with random numbers every time or with fixed numbers?\n"
   ]
  },
  {
   "cell_type": "markdown",
   "metadata": {},
   "source": [
    "*(✏️ Edit this cell to replace this text with your answer. ✏️)*"
   ]
  },
  {
   "cell_type": "markdown",
   "metadata": {},
   "source": [
    "<hr style=\"color: #DD3403;\">"
   ]
  },
  {
   "cell_type": "markdown",
   "metadata": {},
   "source": [
    "# Section 2: Behaviour of a Stock price (Random walk) \n",
    "\n",
    "For our next example we are going to consider a Stock price that behaves as follows:  \n",
    "\n",
    "- We start observing it at day 0. The price at day 0 is $100\\$$ and we continue observing the price for a certain ammount of days (let's say k-days). \n",
    "\n",
    "- Each day the price increases by 1 with probability $50\\%$ or decreases by 1 with probability $50\\%$, i.e. \n",
    "    $$Price_{(k+1)} =   \\begin{cases}\n",
    "    Price_{(k)} + 1, & \\text{with probability } \\frac{1}{2} \\\\\n",
    "    Price_{(k)} - 1, & \\text{with probability } \\frac{1}{2}\n",
    "  \\end{cases}$$\n",
    "\n",
    "**Note:** This type of \"stock price\" is called a simple random walk in mathematics. \n",
    "\n",
    "**Run the following cell** to see an example of what the stock price could look like for a period of $k=50$ days. "
   ]
  },
  {
   "cell_type": "code",
   "execution_count": null,
   "metadata": {},
   "outputs": [],
   "source": [
    "Tester.stock_example()\n"
   ]
  },
  {
   "cell_type": "markdown",
   "metadata": {},
   "source": [
    "### Task\n",
    "Your employer is asking you to estimate the probability of the stock price being at least up **5** dollars after $k$-days, i.e. that on the $k$-th day, the price is at least $105\\$$. \n",
    "\n"
   ]
  },
  {
   "cell_type": "markdown",
   "metadata": {},
   "source": [
    "## Section 2.1:  Building the simulation function\n",
    "\n",
    "We define a function called `simulate_stock()`. This function will simulate a single process of the stock price for k-days, i.e. it does the following:\n",
    "- It recieves an argument `k`, which is an integer and represents the total ammount of days that we observe the stock price.   \n",
    "\n",
    "- It has a variable called `price` which initially starts with value `price = 100`. This will represent the stock price.   \n",
    "\n",
    "\n",
    "- Then for `k`-repetitions, `price` either increases by 1 (with probability $50\\%$) or decreases by 1 (with probability $50\\%$).   \n",
    "\n",
    "\n",
    "- After the `k`-repetitions, it should **return** `price`.   \n",
    "\n",
    "\n",
    "**HINT:** Remember the example where we try to calculate the sum of integers. "
   ]
  },
  {
   "cell_type": "code",
   "execution_count": null,
   "metadata": {},
   "outputs": [],
   "source": [
    "def simulate_stock(k):\n",
    "    ##\n",
    "    ## Write the function\n",
    "    ##"
   ]
  },
  {
   "cell_type": "markdown",
   "metadata": {},
   "source": [
    "Try to run the function to see if it works for `k=50`. You should get an integer value as a result. Every time you run it,  the result should be different. You can change `k` to control the ammount of days that you observe the stock price.  "
   ]
  },
  {
   "cell_type": "code",
   "execution_count": null,
   "metadata": {},
   "outputs": [],
   "source": [
    "simulate_stock(50)"
   ]
  },
  {
   "cell_type": "markdown",
   "metadata": {},
   "source": [
    "###  Test Case Checkpoint "
   ]
  },
  {
   "cell_type": "code",
   "execution_count": null,
   "metadata": {},
   "outputs": [],
   "source": [
    "## == CHECKPOINT TEST CASES ==\n",
    "# - This read-only cell contains test cases for your previous cell.\n",
    "# - If this cell runs without any errors, you PASSED all test cases!\n",
    "# - If this cell results in any errors, check your previous cell, make changes, and RE-RUN your code and then this cell.\n",
    "\n",
    "Tester.testCase5()"
   ]
  },
  {
   "cell_type": "markdown",
   "metadata": {},
   "source": [
    "## Section 2.2: Write the simulation\n",
    "\n",
    "Now that we have a working `simulate_stock` function, let's simulate and store the results in a DataFrame for analysis. We are going to simulate observing the stock price for $k = 50$ days. Let’s start by doing this simulation **10000 times**.  In other words, we're simulating **observing the stock price for 50 days**.  Store the results in a DataFrame named `df_2`. \n",
    "\n",
    "In the cell below, simulate **observing the stock price for 50 days** for **10000** repetitions, storing the results in `df_2`. The variable or column in the dataframe should be named `price`. "
   ]
  },
  {
   "cell_type": "code",
   "execution_count": null,
   "metadata": {},
   "outputs": [],
   "source": [
    "## Write the simulation in this cell\n"
   ]
  },
  {
   "cell_type": "code",
   "execution_count": null,
   "metadata": {},
   "outputs": [],
   "source": [
    "df_2 ## Print df_2 to see what it looks like "
   ]
  },
  {
   "cell_type": "markdown",
   "metadata": {},
   "source": [
    "### Test Case Checkpoint "
   ]
  },
  {
   "cell_type": "code",
   "execution_count": null,
   "metadata": {},
   "outputs": [],
   "source": [
    "## == CHECKPOINT TEST CASES ==\n",
    "# - This read-only cell contains test cases for your previous cell.\n",
    "# - If this cell runs without any errors, you PASSED all test cases!\n",
    "# - If this cell results in any errors, check your previous cell, make changes, and RE-RUN your code and then this cell.\n",
    "\n",
    "Tester.testCase6()"
   ]
  },
  {
   "cell_type": "markdown",
   "metadata": {},
   "source": [
    "## Section 2.3: Visualization\n",
    "\n",
    "Now, let's visualize the results of our simulation. Using an appropriate plot, generate a histogram of the column `price` below:"
   ]
  },
  {
   "cell_type": "code",
   "execution_count": null,
   "metadata": {},
   "outputs": [],
   "source": [
    "## Create a histogram in this cell"
   ]
  },
  {
   "cell_type": "markdown",
   "metadata": {},
   "source": [
    "## Section 2.4: Estimate the probability\n",
    "\n",
    "Using `df_2`, estimate the probability of the stock price being over $105 \\$ $ on the $50$-th day. Store your result in the variable called `probability_2`. "
   ]
  },
  {
   "cell_type": "code",
   "execution_count": null,
   "metadata": {},
   "outputs": [],
   "source": [
    "probability_2 = ...\n",
    "probability_2"
   ]
  },
  {
   "cell_type": "markdown",
   "metadata": {},
   "source": [
    "### Test Case Checkpoint "
   ]
  },
  {
   "cell_type": "code",
   "execution_count": null,
   "metadata": {},
   "outputs": [],
   "source": [
    "## == CHECKPOINT TEST CASES ==\n",
    "# - This read-only cell contains test cases for your previous cell.\n",
    "# - If this cell runs without any errors, you PASSED all test cases!\n",
    "# - If this cell results in any errors, check your previous cell, make changes, and RE-RUN your code and then this cell.\n",
    "\n",
    "Tester.testCase7()"
   ]
  },
  {
   "cell_type": "markdown",
   "metadata": {},
   "source": [
    "## Analysis\n",
    "\n",
    "In our previous analysis, we found the probability of the stock price to have increased at least $5\\$ $ in a period of 50 days. \n",
    "\n",
    "### Question \n",
    "\n",
    "Let's say that instead of observing the price for just $50$ days, we observe it for more (eg, $60, 70, 100, 500$) days. What do you think will happen to the corresponding probabilities as the ammount of days increases? \n"
   ]
  },
  {
   "cell_type": "markdown",
   "metadata": {},
   "source": [
    "*(✏️ Edit this cell to replace this text with your answer. ✏️)*"
   ]
  },
  {
   "cell_type": "markdown",
   "metadata": {},
   "source": [
    "Use simulations in the cells below to answer the question above. Experiment with trying different values for `k` and see what happens to the probability. You can use as many cells as you want. You can just copy and paste your code from above and change the value of the parameter `k` every time. "
   ]
  },
  {
   "cell_type": "code",
   "execution_count": null,
   "metadata": {},
   "outputs": [],
   "source": []
  },
  {
   "cell_type": "code",
   "execution_count": null,
   "metadata": {},
   "outputs": [],
   "source": []
  },
  {
   "cell_type": "markdown",
   "metadata": {},
   "source": [
    "<hr style=\"color: #DD3403;\">"
   ]
  },
  {
   "cell_type": "markdown",
   "metadata": {},
   "source": [
    "## **Submission**\n",
    "Download your notebook and submit it on Canvas in \"**Assignment 6**\"."
   ]
  }
 ],
 "metadata": {
  "kernelspec": {
   "display_name": "Python 3 (ipykernel)",
   "language": "python",
   "name": "python3"
  },
  "language_info": {
   "codemirror_mode": {
    "name": "ipython",
    "version": 3
   },
   "file_extension": ".py",
   "mimetype": "text/x-python",
   "name": "python",
   "nbconvert_exporter": "python",
   "pygments_lexer": "ipython3",
   "version": "3.9.13"
  },
  "vscode": {
   "interpreter": {
    "hash": "89e98a2a71e91e328d7fbf3eea370b1e354671d8132dc51aba5581c7f6329e5d"
   }
  }
 },
 "nbformat": 4,
 "nbformat_minor": 2
}
