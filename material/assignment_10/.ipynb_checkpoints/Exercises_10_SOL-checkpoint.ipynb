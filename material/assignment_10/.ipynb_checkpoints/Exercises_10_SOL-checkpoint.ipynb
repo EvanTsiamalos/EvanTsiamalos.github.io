{
 "cells": [
  {
   "cell_type": "markdown",
   "id": "1c161260",
   "metadata": {},
   "source": [
    "# Exercises in Central Limit Theorem \n",
    "\n",
    "# Exercise 1\n",
    "A restaurant of a small town has a food delivery service. It has been estimated that the average time of delivery in a specific neighbourhood is $\\mu = 15.5$ minutes with variance $\\sigma^2 = 6$ minutes. \n",
    "\n",
    "\n",
    "Using Python and the Central Limit Theorem find:\n",
    "- The probability that the average delivery time of **35** orders is **less or equal to** 12.5 minutes. Store your result in a variable called `probability_1`."
   ]
  },
  {
   "cell_type": "code",
   "execution_count": null,
   "id": "0f18975a",
   "metadata": {},
   "outputs": [],
   "source": [
    "### Write your code in this cell \n",
    "import scipy.stats as st\n",
    "import math\n",
    "\n",
    "mu = 15.5\n",
    "variance = 6\n",
    "sample_size = 35"
   ]
  },
  {
   "cell_type": "code",
   "execution_count": null,
   "id": "e00c894e",
   "metadata": {},
   "outputs": [],
   "source": [
    "probability_1 = st.norm(mu, math.sq)"
   ]
  },
  {
   "cell_type": "markdown",
   "id": "36e9bc23",
   "metadata": {},
   "source": [
    "### Test Case"
   ]
  },
  {
   "cell_type": "code",
   "execution_count": null,
   "id": "e1d2e143",
   "metadata": {},
   "outputs": [],
   "source": [
    "## == CHECKPOINT TEST CASES ==\n",
    "# - This read-only cell contains test cases for your previous cell.\n",
    "# - If this cell runs without any errors, you PASSED all test cases!\n",
    "# - If this cell results in any errors, check your previous cell, make changes, and RE-RUN your code and then this cell.\n",
    "import urllib\n",
    "_j = \"https://evantsiamalos.github.io/material/assignment_5/assignment5_tester.py\"\n",
    "_ = urllib.request.urlopen(_j).read()\n",
    "exec(_)\n",
    "Tester.testCase1()"
   ]
  },
  {
   "cell_type": "markdown",
   "id": "042dca68",
   "metadata": {},
   "source": [
    "# Exercise 2\n",
    "Some research showed that the average ammount of sleep that an adult has every night is $\\mu = 6.8$ hours. You collect data from university students, and you want to perform analysis on their sleep habits. \n",
    "\n",
    "The results of the data are in the following csv file: \n",
    "\n",
    "https://evantsiamalos.github.io/material/datasets/sleep.csv\n",
    "\n",
    "Read the csv file and store the dataset in a dataframe called `df_2`"
   ]
  },
  {
   "cell_type": "code",
   "execution_count": 36,
   "id": "3cab0e4b",
   "metadata": {},
   "outputs": [
    {
     "data": {
      "text/html": [
       "<div>\n",
       "<style scoped>\n",
       "    .dataframe tbody tr th:only-of-type {\n",
       "        vertical-align: middle;\n",
       "    }\n",
       "\n",
       "    .dataframe tbody tr th {\n",
       "        vertical-align: top;\n",
       "    }\n",
       "\n",
       "    .dataframe thead th {\n",
       "        text-align: right;\n",
       "    }\n",
       "</style>\n",
       "<table border=\"1\" class=\"dataframe\">\n",
       "  <thead>\n",
       "    <tr style=\"text-align: right;\">\n",
       "      <th></th>\n",
       "      <th>Hours of sleep</th>\n",
       "    </tr>\n",
       "  </thead>\n",
       "  <tbody>\n",
       "    <tr>\n",
       "      <th>0</th>\n",
       "      <td>7.0</td>\n",
       "    </tr>\n",
       "    <tr>\n",
       "      <th>1</th>\n",
       "      <td>7.5</td>\n",
       "    </tr>\n",
       "    <tr>\n",
       "      <th>2</th>\n",
       "      <td>8.0</td>\n",
       "    </tr>\n",
       "    <tr>\n",
       "      <th>3</th>\n",
       "      <td>8.0</td>\n",
       "    </tr>\n",
       "    <tr>\n",
       "      <th>4</th>\n",
       "      <td>4.0</td>\n",
       "    </tr>\n",
       "    <tr>\n",
       "      <th>...</th>\n",
       "      <td>...</td>\n",
       "    </tr>\n",
       "    <tr>\n",
       "      <th>368</th>\n",
       "      <td>10.0</td>\n",
       "    </tr>\n",
       "    <tr>\n",
       "      <th>369</th>\n",
       "      <td>8.0</td>\n",
       "    </tr>\n",
       "    <tr>\n",
       "      <th>370</th>\n",
       "      <td>8.0</td>\n",
       "    </tr>\n",
       "    <tr>\n",
       "      <th>371</th>\n",
       "      <td>7.0</td>\n",
       "    </tr>\n",
       "    <tr>\n",
       "      <th>372</th>\n",
       "      <td>8.0</td>\n",
       "    </tr>\n",
       "  </tbody>\n",
       "</table>\n",
       "<p>373 rows × 1 columns</p>\n",
       "</div>"
      ],
      "text/plain": [
       "     Hours of sleep\n",
       "0               7.0\n",
       "1               7.5\n",
       "2               8.0\n",
       "3               8.0\n",
       "4               4.0\n",
       "..              ...\n",
       "368            10.0\n",
       "369             8.0\n",
       "370             8.0\n",
       "371             7.0\n",
       "372             8.0\n",
       "\n",
       "[373 rows x 1 columns]"
      ]
     },
     "execution_count": 36,
     "metadata": {},
     "output_type": "execute_result"
    }
   ],
   "source": [
    "import pandas as pd\n",
    "\n",
    "# df = pd.read_csv(\"https://evantsiamalos.github.io/material/datasets/sleep.csv\")\n",
    "df_2 = pd.read_csv(\"sleep.csv\")\n",
    "df_2"
   ]
  },
  {
   "cell_type": "markdown",
   "id": "ae98210b",
   "metadata": {},
   "source": [
    "### Task 1\n",
    "\n",
    "Find the sample size and store it in a variable called `sample_size_2`"
   ]
  },
  {
   "cell_type": "code",
   "execution_count": null,
   "id": "5db79dce",
   "metadata": {},
   "outputs": [],
   "source": [
    "..."
   ]
  },
  {
   "cell_type": "markdown",
   "id": "5e9ee526",
   "metadata": {},
   "source": [
    "### Task 2\n",
    "\n",
    "- Find the sample average of the random sample and store it in a variable called `sample_average_2`\n",
    "\n",
    "- Find the sample variance of the random sample and store it in a variable called `sample_variance_2`"
   ]
  },
  {
   "cell_type": "code",
   "execution_count": null,
   "id": "1e29a387",
   "metadata": {},
   "outputs": [],
   "source": [
    "..."
   ]
  },
  {
   "cell_type": "code",
   "execution_count": null,
   "id": "2a1dbc1c",
   "metadata": {},
   "outputs": [],
   "source": [
    "..."
   ]
  },
  {
   "cell_type": "markdown",
   "id": "ba8a97d3",
   "metadata": {},
   "source": [
    "### Task 3\n",
    "\n",
    "Using the Central Limit Theorem, find the probability that the sample average of a sample with size that is equal to the one we had for our study (i.e. `sample_size_2`) takes a value **greater than** the observed value of our study (i.e. `sample_average_2`). \n",
    "\n",
    "In order to find this probability, answer to the following questions first: \n",
    "\n",
    "1. Do we know the population variance or not?\n",
    "2. What are the parameters that you are going to use for the Central Limit Theorem Normal Distribution?\n",
    "3. Write the probability that you want to calculate in mathematical terms (like we did in the lectures).\n"
   ]
  },
  {
   "cell_type": "markdown",
   "id": "70b92636",
   "metadata": {},
   "source": [
    "### Task 4\n",
    "Calculate the probability and store its value in a variable called `probability_2`."
   ]
  },
  {
   "cell_type": "code",
   "execution_count": 38,
   "id": "3aefb48e",
   "metadata": {},
   "outputs": [],
   "source": [
    "## Find the probability in this cell"
   ]
  },
  {
   "cell_type": "markdown",
   "id": "1d00b9bc",
   "metadata": {},
   "source": [
    "### Test Case"
   ]
  },
  {
   "cell_type": "code",
   "execution_count": null,
   "id": "5d52c6e1",
   "metadata": {},
   "outputs": [],
   "source": [
    "## == CHECKPOINT TEST CASES ==\n",
    "# - This read-only cell contains test cases for your previous cell.\n",
    "# - If this cell runs without any errors, you PASSED all test cases!\n",
    "# - If this cell results in any errors, check your previous cell, make changes, and RE-RUN your code and then this cell.\n",
    "# import urllib\n",
    "# _j = \"https://evantsiamalos.github.io/material/assignment_5/assignment5_tester.py\"\n",
    "# _ = urllib.request.urlopen(_j).read()\n",
    "# exec(_)\n",
    "Tester.testCase2()"
   ]
  },
  {
   "cell_type": "markdown",
   "id": "406cd3f4",
   "metadata": {},
   "source": [
    "# Exercise 3 (Mayor example from assignment 5)\n",
    "\n",
    "In a big city, the Mayor gave a speech with regards to the upcomming elections. In his speech, he claimed that, according to his calculations, he expects that  65% of the citizens are going to vote for him in the elections.\n",
    "\n",
    "You decide that you want to test that claim. In order to do so, you created a poll where you asked 100 random citizens whether they are going to vote for the Mayor again or not. You found that:\n",
    "\n",
    "- 56 of them answered \"YES\"\n",
    "- 44 of them answered \"NO\"\n",
    "We are going to use the Central Limit theorem to answer this question.\n",
    "\n",
    "### Task 1\n",
    "Let's assume that we believe in the claims of the mayor, and that the probability of a random person voting for the major is $65\\%$. Let's define the random variable \n",
    "\n",
    "$$X =   \\begin{cases}\n",
    "    1, & \\text{if a person answered \"YES\" } \\\\\n",
    "    0 , & \\text{if the person answered \"NO\" } \n",
    "  \\end{cases}$$\n",
    "  \n",
    "\n",
    "1. What is the distribution of of X?\n",
    "2. What is the expected value and variance of X?\n",
    "\n"
   ]
  },
  {
   "cell_type": "markdown",
   "id": "3021b06c",
   "metadata": {},
   "source": [
    "\n",
    "\n",
    "### Task 2\n",
    "Use the Cenral Limit Theorem to find the probability that the **total number** of people in a poll of 100 citizens that answer \"YES\" is less or equal to $56$. Store the probability in a variable called `probability_3`."
   ]
  },
  {
   "cell_type": "code",
   "execution_count": 39,
   "id": "b02b63c6",
   "metadata": {},
   "outputs": [
    {
     "data": {
      "text/plain": [
       "Ellipsis"
      ]
     },
     "execution_count": 39,
     "metadata": {},
     "output_type": "execute_result"
    }
   ],
   "source": [
    "..."
   ]
  },
  {
   "cell_type": "code",
   "execution_count": null,
   "id": "1fb53841",
   "metadata": {},
   "outputs": [],
   "source": [
    "## == CHECKPOINT TEST CASES ==\n",
    "# - This read-only cell contains test cases for your previous cell.\n",
    "# - If this cell runs without any errors, you PASSED all test cases!\n",
    "# - If this cell results in any errors, check your previous cell, make changes, and RE-RUN your code and then this cell.\n",
    "# import urllib\n",
    "# _j = \"https://evantsiamalos.github.io/material/assignment_5/assignment5_tester.py\"\n",
    "# _ = urllib.request.urlopen(_j).read()\n",
    "# exec(_)\n",
    "Tester.testCase3()"
   ]
  }
 ],
 "metadata": {
  "kernelspec": {
   "display_name": "Python 3 (ipykernel)",
   "language": "python",
   "name": "python3"
  },
  "language_info": {
   "codemirror_mode": {
    "name": "ipython",
    "version": 3
   },
   "file_extension": ".py",
   "mimetype": "text/x-python",
   "name": "python",
   "nbconvert_exporter": "python",
   "pygments_lexer": "ipython3",
   "version": "3.9.13"
  }
 },
 "nbformat": 4,
 "nbformat_minor": 5
}
