{
 "cells": [
  {
   "cell_type": "markdown",
   "id": "7bfdba37",
   "metadata": {},
   "source": [
    "# Exercises in Central Limit Theorem \n",
    "\n",
    "# Exercise 1\n",
    "A restaurant of a small town has a food delivery service. It has been estimated that the average time of delivery in a specific neighbourhood is $\\mu = 15.5$ minutes with variance $\\sigma^2 = 6$ minutes. \n",
    "\n",
    "\n",
    "Using Python and the Central Limit Theorem find:\n",
    "- The probability that the average delivery time of **35** orders is **less or equal to** 12.5 minutes. Store your result in a variable called `probability_1`."
   ]
  },
  {
   "cell_type": "code",
   "execution_count": null,
   "id": "f20edc7d",
   "metadata": {},
   "outputs": [],
   "source": [
    "### Write your code in this cell \n"
   ]
  },
  {
   "cell_type": "markdown",
   "id": "3f291ca0",
   "metadata": {},
   "source": [
    "### Test Case"
   ]
  },
  {
   "cell_type": "code",
   "execution_count": null,
   "id": "1bf13f92",
   "metadata": {},
   "outputs": [],
   "source": [
    "## == CHECKPOINT TEST CASES ==\n",
    "# - This read-only cell contains test cases for your previous cell.\n",
    "# - If this cell runs without any errors, you PASSED all test cases!\n",
    "# - If this cell results in any errors, check your previous cell, make changes, and RE-RUN your code and then this cell.\n",
    "import urllib\n",
    "_j = \"https://evantsiamalos.github.io/material/assignment_10/assignment10_tester.py\"\n",
    "_ = urllib.request.urlopen(_j).read()\n",
    "exec(_)\n",
    "Tester.testCase1()"
   ]
  },
  {
   "cell_type": "markdown",
   "id": "be8be151",
   "metadata": {},
   "source": [
    "# Exercise 2\n",
    "Some research showed that the average ammount of sleep that an adult has every night is $\\mu = 6.8$ hours. You collect data from university students, and you want to perform analysis on their sleep habits. \n",
    "\n",
    "The results of the data are in the following csv file: \n",
    "\n",
    "https://evantsiamalos.github.io/material/datasets/sleep.csv\n",
    "\n",
    "Read the csv file and store the dataset in a dataframe called `df_2`"
   ]
  },
  {
   "cell_type": "code",
   "execution_count": null,
   "id": "3bd11a54",
   "metadata": {},
   "outputs": [],
   "source": []
  },
  {
   "cell_type": "markdown",
   "id": "597b8ae1",
   "metadata": {},
   "source": [
    "### Task 1\n",
    "\n",
    "Find the sample size and store it in a variable called `sample_size_2`"
   ]
  },
  {
   "cell_type": "code",
   "execution_count": null,
   "id": "a1bae259",
   "metadata": {},
   "outputs": [],
   "source": [
    "..."
   ]
  },
  {
   "cell_type": "markdown",
   "id": "45de9f6c",
   "metadata": {},
   "source": [
    "### Task 2\n",
    "\n",
    "- Find the sample average of the random sample and store it in a variable called `sample_average_2`\n",
    "\n",
    "- Find the sample variance of the random sample and store it in a variable called `sample_variance_2`"
   ]
  },
  {
   "cell_type": "code",
   "execution_count": null,
   "id": "37fc0bf2",
   "metadata": {},
   "outputs": [],
   "source": [
    "..."
   ]
  },
  {
   "cell_type": "code",
   "execution_count": null,
   "id": "979e0342",
   "metadata": {},
   "outputs": [],
   "source": [
    "..."
   ]
  },
  {
   "cell_type": "markdown",
   "id": "329010f0",
   "metadata": {},
   "source": [
    "### Task 3\n",
    "Calculate the probability and store its value in a variable called `probability_2`."
   ]
  },
  {
   "cell_type": "code",
   "execution_count": null,
   "id": "f59c1f43",
   "metadata": {},
   "outputs": [],
   "source": [
    "## Find the probability in this cell"
   ]
  },
  {
   "cell_type": "markdown",
   "id": "cabacf27",
   "metadata": {},
   "source": [
    "### Test Case"
   ]
  },
  {
   "cell_type": "code",
   "execution_count": null,
   "id": "cdb726fc",
   "metadata": {},
   "outputs": [],
   "source": [
    "## == CHECKPOINT TEST CASES ==\n",
    "# - This read-only cell contains test cases for your previous cell.\n",
    "# - If this cell runs without any errors, you PASSED all test cases!\n",
    "# - If this cell results in any errors, check your previous cell, make changes, and RE-RUN your code and then this cell.\n",
    "# import urllib\n",
    "# _j = \"https://evantsiamalos.github.io/material/assignment_10/assignment10_tester.py\"\n",
    "# _ = urllib.request.urlopen(_j).read()\n",
    "# exec(_)\n",
    "Tester.testCase2()"
   ]
  },
  {
   "cell_type": "markdown",
   "id": "bf5c00c1",
   "metadata": {},
   "source": [
    "# Exercise 3 (Mayor example from assignment 5)\n",
    "\n",
    "In a big city, the Mayor gave a speech with regards to the upcomming elections. In his speech, he claimed that, according to his calculations, he expects that  65% of the citizens are going to vote for him in the elections.\n",
    "\n",
    "You decide that you want to test that claim. In order to do so, you created a poll where you asked 100 random citizens whether they are going to vote for the Mayor again or not. You found that:\n",
    "\n",
    "- 56 of them answered \"YES\"\n",
    "- 44 of them answered \"NO\"\n",
    "We are going to use the Central Limit theorem to answer this question.\n",
    "\n",
    "### Task 1\n",
    "Let's assume that we believe in the claims of the mayor, and that the probability of a random person voting for the major is $65\\%$. Let's define the random variable \n",
    "\n",
    "$$X =   \\begin{cases}\n",
    "    1, & \\text{if a person answered \"YES\" } \\\\\n",
    "    0 , & \\text{if the person answered \"NO\" } \n",
    "  \\end{cases}$$\n",
    "  \n",
    "\n",
    "1. What is the distribution of of X?\n",
    "2. What is the expected value and variance of X?\n",
    "\n"
   ]
  },
  {
   "cell_type": "markdown",
   "id": "ccd1e467",
   "metadata": {},
   "source": [
    "\n",
    "\n",
    "### Task 2\n",
    "Use the Cenral Limit Theorem to find the probability that the **total number** of people in a poll of 100 citizens that answer \"YES\" is less or equal to $56$. Store the probability in a variable called `probability_3`."
   ]
  },
  {
   "cell_type": "code",
   "execution_count": null,
   "id": "f765643b",
   "metadata": {},
   "outputs": [],
   "source": [
    "..."
   ]
  },
  {
   "cell_type": "code",
   "execution_count": null,
   "id": "fa4dc459",
   "metadata": {},
   "outputs": [],
   "source": [
    "## == CHECKPOINT TEST CASES ==\n",
    "# - This read-only cell contains test cases for your previous cell.\n",
    "# - If this cell runs without any errors, you PASSED all test cases!\n",
    "# - If this cell results in any errors, check your previous cell, make changes, and RE-RUN your code and then this cell.\n",
    "# import urllib\n",
    "# _j = \"https://evantsiamalos.github.io/material/assignment_10/assignment10_tester.py\"\n",
    "# _ = urllib.request.urlopen(_j).read()\n",
    "# exec(_)\n",
    "Tester.testCase3()"
   ]
  }
 ],
 "metadata": {
  "kernelspec": {
   "display_name": "Python 3 (ipykernel)",
   "language": "python",
   "name": "python3"
  },
  "language_info": {
   "codemirror_mode": {
    "name": "ipython",
    "version": 3
   },
   "file_extension": ".py",
   "mimetype": "text/x-python",
   "name": "python",
   "nbconvert_exporter": "python",
   "pygments_lexer": "ipython3",
   "version": "3.9.13"
  }
 },
 "nbformat": 4,
 "nbformat_minor": 5
}
