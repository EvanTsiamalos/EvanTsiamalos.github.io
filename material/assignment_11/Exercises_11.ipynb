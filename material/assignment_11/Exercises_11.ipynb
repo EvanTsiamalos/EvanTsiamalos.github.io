{
 "cells": [
  {
   "cell_type": "markdown",
   "id": "ef0a67d5",
   "metadata": {},
   "source": [
    "# Exercises on Confidence Intervals\n",
    "\n",
    "## Exercise 1\n",
    "\n",
    "In the following link you will find a dataset that contains the data from a questionairy with regards to the ammount of sleep that students get every night.  \n",
    "\n",
    "> https://evantsiamalos.github.io/material/datasets/sleep.csv\n",
    "\n",
    "\n",
    "Load the dataset into a dataframe called `df_1`."
   ]
  },
  {
   "cell_type": "code",
   "execution_count": null,
   "id": "dbc47628",
   "metadata": {},
   "outputs": [],
   "source": [
    "## Load the dataset"
   ]
  },
  {
   "cell_type": "markdown",
   "id": "98ef88e4",
   "metadata": {},
   "source": [
    "Using `df_1` build a $95\\%$ confidence interval $(a_1,b_1)$ for the average ammount of sleep that a student gets every night. \n",
    "\n",
    "- Store the left endpoint of the interval into a variable called `a_1`\n",
    "- Store the right endpoint of the interval into a variable called `b_1`"
   ]
  },
  {
   "cell_type": "code",
   "execution_count": null,
   "id": "87df94df",
   "metadata": {},
   "outputs": [],
   "source": [
    "## Find the confidence interval\n",
    "\n"
   ]
  },
  {
   "cell_type": "markdown",
   "id": "eee177fe",
   "metadata": {},
   "source": [
    "### Test"
   ]
  },
  {
   "cell_type": "code",
   "execution_count": null,
   "id": "66dcf880",
   "metadata": {},
   "outputs": [],
   "source": [
    "## == CHECKPOINT TEST CASES ==\n",
    "# - This read-only cell contains test cases for your previous cell.\n",
    "# - If this cell runs without any errors, you PASSED all test cases!\n",
    "# - If this cell results in any errors, check your previous cell, make changes, and RE-RUN your code and then this cell.\n",
    "import urllib\n",
    "_j = \"https://evantsiamalos.github.io/material/assignment_11/assignment11_tester.py\"\n",
    "_ = urllib.request.urlopen(_j).read()\n",
    "exec(_)\n",
    "Tester.testCase1()"
   ]
  },
  {
   "cell_type": "markdown",
   "id": "445e1156",
   "metadata": {},
   "source": [
    "# Exercise 2\n",
    "For this exercise we are going to analyze salaries of data scientists. \n",
    "\n",
    "> https://evantsiamalos.github.io/material/datasets/ds_salaries.csv\n",
    "\n",
    "Load the dataset into a dataframe called `df_2`."
   ]
  },
  {
   "cell_type": "code",
   "execution_count": null,
   "id": "8b1daa93",
   "metadata": {},
   "outputs": [],
   "source": [
    "## Load the dataset"
   ]
  },
  {
   "cell_type": "markdown",
   "id": "5c81e269",
   "metadata": {},
   "source": [
    "### Task 1\n",
    "\n",
    "We are interested in the column called `salary_in_usd`. Before we build a confidence interval, we should check whether we have outliers in the dataset with respect to the salary. \n",
    "\n",
    "Create a box-plot for the `salary_in_usd` column. Are there any **outliers**?\n"
   ]
  },
  {
   "cell_type": "code",
   "execution_count": null,
   "id": "4e4c92d7",
   "metadata": {},
   "outputs": [],
   "source": [
    "## Create the box-plot in this  cell\n",
    "\n"
   ]
  },
  {
   "cell_type": "markdown",
   "id": "4c1cd556",
   "metadata": {},
   "source": [
    "### Task 2\n",
    "\n",
    "We are going to get rid of the outliers. Create a new dataframe called `df_2_clean` where you keep only the rows of `df_2` that are **not** outliers with respect to the `salary_in_usd` column. \n",
    "\n",
    "**Reminder:** An observation is an outlier if it is \n",
    "- $> Q_3 + 1.5\\cdot IQR$\n",
    "\n",
    "or\n",
    "\n",
    "- $ <  Q_1 - 1.5\\cdot IQR$\n",
    "\n",
    "\n",
    "with $IQR = Q_3 - Q_1$\n"
   ]
  },
  {
   "cell_type": "code",
   "execution_count": null,
   "id": "9d522d00",
   "metadata": {},
   "outputs": [],
   "source": [
    "## Create `df_2_clean` in this cell"
   ]
  },
  {
   "cell_type": "markdown",
   "id": "f62d4227",
   "metadata": {},
   "source": [
    "### Task 3\n",
    "\n",
    "Using `df_2_clean`, create a $99\\%$-confidence interval $(a_2, b_2)$ for the average salary of a data scientist. \n",
    "\n",
    "- Store the left endpoint of the interval into a variable called `a_2`\n",
    "- Store the right endpoint of the interval into a variable called `b_2`"
   ]
  },
  {
   "cell_type": "code",
   "execution_count": null,
   "id": "afdf0859",
   "metadata": {},
   "outputs": [],
   "source": [
    "## Construct the confidence interval"
   ]
  },
  {
   "cell_type": "markdown",
   "id": "0b4de4e4",
   "metadata": {},
   "source": [
    "### Test"
   ]
  },
  {
   "cell_type": "code",
   "execution_count": null,
   "id": "c8627f2b",
   "metadata": {},
   "outputs": [],
   "source": [
    "## == CHECKPOINT TEST CASES ==\n",
    "# - This read-only cell contains test cases for your previous cell.\n",
    "# - If this cell runs without any errors, you PASSED all test cases!\n",
    "# - If this cell results in any errors, check your previous cell, make changes, and RE-RUN your code and then this cell.\n",
    "import urllib\n",
    "_j = \"https://evantsiamalos.github.io/material/assignment_11/assignment11_tester.py\"\n",
    "_ = urllib.request.urlopen(_j).read()\n",
    "exec(_)\n",
    "Tester.testCase2()"
   ]
  },
  {
   "cell_type": "markdown",
   "id": "f347c88d",
   "metadata": {},
   "source": [
    "# Exercise 3\n",
    "In a big city, the Mayor gave a speech with regards to the upcomming elections. In his speech, he claimed that, according to his calculations, he expects that  65% of the citizens are going to vote for him in the elections.\n",
    "\n",
    "You decide that you want to test that claim. In order to do so, you created a poll where you asked 100 random citizens whether they are going to vote for the Mayor again or not. You found that:\n",
    "\n",
    "- 56 of them answered \"YES\"\n",
    "- 44 of them answered \"NO\"\n",
    "\n",
    "Given our results, we are going to build a $90\\%$-confidence interval for the expected percentage of votes that the Mayor will receive.  \n",
    "\n",
    "\n",
    "\n",
    "### Task 1\n",
    "**Run** the cell below to **create** a dataframe called `df_3`. This dataframe represents the outcome of the poll. \n",
    "\n",
    "\n",
    "**Note:** Read the code in this cell and try to understand what it does. \n"
   ]
  },
  {
   "cell_type": "code",
   "execution_count": null,
   "id": "5ccb726a",
   "metadata": {},
   "outputs": [],
   "source": [
    "df_3 = pd.DataFrame() ## Creating an empty dataframe\n",
    "\n",
    "df_3[\"answers\"] = [1] * 56 + [0] * 44  ## Add a column called `answers`. \n",
    "                                        ## This column has 56 values being 1\n",
    "                                        ## and values being 44 values being 0\n",
    "\n",
    "df_3"
   ]
  },
  {
   "cell_type": "markdown",
   "id": "714380cd",
   "metadata": {},
   "source": [
    "### Task 2\n",
    "\n",
    "Build a $90\\%$-confidence interval $(a_3, b_3)$ for the expected percentage of votes that the Mayor will get.\n",
    "\n",
    "- Store the left endpoint of the interval into a variable called `a_3`\n",
    "- Store the right endpoint of the interval into a variable called `b_3`"
   ]
  },
  {
   "cell_type": "code",
   "execution_count": null,
   "id": "f902a8de",
   "metadata": {},
   "outputs": [],
   "source": [
    "## Find the confidence interval "
   ]
  },
  {
   "cell_type": "markdown",
   "id": "a428836a",
   "metadata": {},
   "source": [
    "### Test"
   ]
  },
  {
   "cell_type": "code",
   "execution_count": null,
   "id": "ff29272c",
   "metadata": {},
   "outputs": [],
   "source": [
    "## == CHECKPOINT TEST CASES ==\n",
    "# - This read-only cell contains test cases for your previous cell.\n",
    "# - If this cell runs without any errors, you PASSED all test cases!\n",
    "# - If this cell results in any errors, check your previous cell, make changes, and RE-RUN your code and then this cell.\n",
    "import urllib\n",
    "_j = \"https://evantsiamalos.github.io/material/assignment_11/assignment11_tester.py\"\n",
    "_ = urllib.request.urlopen(_j).read()\n",
    "exec(_)\n",
    "Tester.testCase3()"
   ]
  },
  {
   "cell_type": "markdown",
   "id": "c203631f",
   "metadata": {},
   "source": [
    "### Question\n",
    "\n",
    "Is the percentage $65\\%$ inside the confidence interval? What is the conclusion that you can make from that?"
   ]
  }
 ],
 "metadata": {
  "kernelspec": {
   "display_name": "Python 3 (ipykernel)",
   "language": "python",
   "name": "python3"
  },
  "language_info": {
   "codemirror_mode": {
    "name": "ipython",
    "version": 3
   },
   "file_extension": ".py",
   "mimetype": "text/x-python",
   "name": "python",
   "nbconvert_exporter": "python",
   "pygments_lexer": "ipython3",
   "version": "3.9.13"
  }
 },
 "nbformat": 4,
 "nbformat_minor": 5
}
