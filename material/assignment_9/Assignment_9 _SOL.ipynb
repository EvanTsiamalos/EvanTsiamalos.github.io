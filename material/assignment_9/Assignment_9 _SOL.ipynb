{
 "cells": [
  {
   "cell_type": "code",
   "execution_count": 272,
   "metadata": {},
   "outputs": [],
   "source": [
    "import numpy as np\n",
    "import matplotlib.pyplot as plt\n",
    "import pandas as pd\n",
    "import math\n",
    "import random\n",
    "\n",
    "tol = 1e-6\n",
    "class bcolors:\n",
    "    HEADER = '\\033[95m'\n",
    "    OKBLUE = '\\033[94m'\n",
    "    OKCYAN = '\\033[96m'\n",
    "    OKGREEN = '\\033[92m'\n",
    "    WARNING = '\\033[93m'\n",
    "    FAIL = '\\033[91m'\n",
    "    ENDC = '\\033[0m'\n",
    "    BOLD = '\\033[1m'\n",
    "    UNDERLINE = '\\033[4m'\n",
    "    \n",
    "class Tester:\n",
    "\n",
    "\n",
    "    def testCase1():\n",
    "        \n",
    "        try:\n",
    "            assert('df' in globals()), \"The dataframe should be called `df`.\"\n",
    "            data = pd.read_csv(\"https://evantsiamalos.github.io/material/datasets/pokemon.csv\")\n",
    "            assert(len(df) == len(data) and list(df.columns) == list(data.columns)\n",
    "                  ), \"You did not load the correct dataframe\"\n",
    "            print(f\"\\N{PARTY POPPER} All tests passed! \\N{PARTY POPPER}\")\n",
    "        except AssertionError as msg:\n",
    "            print(f'{bcolors.FAIL} ---------- ERROR ---------- {bcolors.ENDC}')\n",
    "            print(msg)\n",
    "            \n",
    "    def testCase2():\n",
    "        \n",
    "        try:\n",
    "            assert('number_of_water' in globals()), \"You should have a variable called `number_of_water`.\"\n",
    "            assert(number_of_water == len(df[df[\"Type1\"] == \"water\"])\n",
    "                  ), \"The calculation of `number_of_water` is not correct.\"\n",
    "            assert('prob_water' in globals()), \"You should have a variable called `prob_water`.\"\n",
    "            assert( prob_water == number_of_water/len(df) or math.isclose(prob_water,number_of_water/len(df),tol)\n",
    "                  ), \"The calculation of `prob_water` is not correct.\"\n",
    "            \n",
    "            \n",
    "            \n",
    "            \n",
    "            print(f\"\\N{PARTY POPPER} All tests passed! \\N{PARTY POPPER}\")\n",
    "        except AssertionError as msg:\n",
    "            print(f'{bcolors.FAIL} ---------- ERROR ---------- {bcolors.ENDC}')\n",
    "            print(msg)\n",
    "            \n",
    "    def testCase3():\n",
    "        \n",
    "        try:\n",
    "            \n",
    "            assert('catch10' in [f.__name__ for f in globals().values() if type(f) == type(lambda *args: None)]), \"You should have a function called `catch10`.\"\n",
    "            result = catch10()\n",
    "            assert(type(result) == int and result >=0 and result <= 10\n",
    "                  ), \"The function `catch10` should return an integer between 0 and 10.\"\n",
    "            results = np.array([catch10() for i in range(1000)])\n",
    "            assert(((results >= 0 ) & (results <= 10)).all() and np.unique(results).size>=4\n",
    "                  ),\"The function `catch10` does not work properly\" \n",
    "            \n",
    "            \n",
    "            print(f\"\\N{PARTY POPPER} All tests passed! \\N{PARTY POPPER}\")\n",
    "        except AssertionError as msg:\n",
    "            print(f'{bcolors.FAIL} ---------- ERROR ---------- {bcolors.ENDC}')\n",
    "            print(msg)\n",
    "            \n",
    "    def testCase4():\n",
    "        \n",
    "        try:\n",
    "            \n",
    "            assert(\"df_water\" in globals()\n",
    "                  ), \"The simulation dataframe should be called `df_water`\"\n",
    "            assert(isinstance(df_water,pd.core.frame.DataFrame)\n",
    "                  ), \"`df_water` should be a dataframe\"\n",
    "            assert(len(list(df_water.columns)) == 1 and \"number_of_water\" in \n",
    "                  df_water.columns), '''The `df_water` dataframe should have\n",
    "            one column called `number_of_water`'''\n",
    "            \n",
    "            \n",
    "            assert(len(df_water) == 1000\n",
    "            ),'''The simulation dataframe `df_water` should have 1000 rows'''\n",
    "            vals = df_water[\"number_of_water\"].values\n",
    "            assert(\n",
    "            df_water[\"number_of_water\"].dtype == \"int64\" and ((vals >= 0) & (vals<=10)).all()\n",
    "            ), '''`df_water` should contain integers from 0 to 10'''\n",
    "            assert(np.unique(vals).size >= 5\n",
    "                  ), '''`df_water` should take more than 5 values'''\n",
    "            print(f\"\\N{PARTY POPPER} All tests passed! \\N{PARTY POPPER}\")\n",
    "        except AssertionError as msg:\n",
    "            print(f'{bcolors.FAIL} ---------- ERROR ---------- {bcolors.ENDC}')\n",
    "            print(msg)\n",
    "            \n",
    "    def testCase5():\n",
    "        \n",
    "        try:\n",
    "            assert('no_secondary' in globals()\n",
    "                  ), \"You should have a variable called `no_secondary`.\"\n",
    "            assert(no_secondary == len(df[df[\"Type2\"] == \"None\"])\n",
    "                  ), \"The calculation of `no_secondary` is not correct.\"\n",
    "            assert('prob_secondary' in globals()\n",
    "                  ), \"You should have a variable called `prob_secondary`.\"\n",
    "            assert(1 - no_secondary/len(df)==prob_secondary or  math.isclose(prob_secondary,1 - no_secondary/len(df),abs_tol=tol )\n",
    "                  ), \"The calculation of `prob_secondary` is not correct.\"\n",
    "            \n",
    "            \n",
    "            \n",
    "            print(f\"\\N{PARTY POPPER} All tests passed! \\N{PARTY POPPER}\")\n",
    "        except AssertionError as msg:\n",
    "            print(f'{bcolors.FAIL} ---------- ERROR ---------- {bcolors.ENDC}')\n",
    "            print(msg)\n",
    "            \n",
    "    def testCase6():\n",
    "        \n",
    "        try:\n",
    "            assert(\"secondary_ev\" in globals()\n",
    "                  ),'''You should have a variable called `secondary_ev`'''\n",
    "            \n",
    "            assert(secondary_ev == 5*prob_secondary\n",
    "                  ),'''The calculation of `secondary_ev` is not correct.'''\n",
    "            print(f\"\\N{PARTY POPPER} All tests passed! \\N{PARTY POPPER}\")\n",
    "        except AssertionError as msg:\n",
    "            print(f'{bcolors.FAIL} ---------- ERROR ---------- {bcolors.ENDC}')\n",
    "            print(msg)\n",
    "            \n",
    "            \n",
    "    def testCase7():\n",
    "        \n",
    "        try:\n",
    "            \n",
    "            assert('catch5' in [f.__name__ for f in globals().values() if type(f) == type(lambda *args: None)]), \"You should have a function called `catch5`.\"\n",
    "            result = catch5()\n",
    "            assert(type(result) == int and result >=0 and result <= 5\n",
    "                  ), \"The function `catch5` should return an integer between 0 and 5.\"\n",
    "            results = np.array([catch5() for i in range(10000)])\n",
    "            assert(((results >= 0 ) & (results <= 5)).all() and np.unique(results).size>=4\n",
    "                  ),\"The function `catch5` does not work properly\" \n",
    "            \n",
    "            \n",
    "            print(f\"\\N{PARTY POPPER} All tests passed! \\N{PARTY POPPER}\")\n",
    "        except AssertionError as msg:\n",
    "            print(f'{bcolors.FAIL} ---------- ERROR ---------- {bcolors.ENDC}')\n",
    "            print(msg)\n",
    "            \n",
    "    def testCase8():\n",
    "        \n",
    "        try:\n",
    "            \n",
    "            assert(\"df_secondary\" in globals()\n",
    "                  ), \"The simulation dataframe should be called `df_secondary`\"\n",
    "            assert(isinstance(df_secondary,pd.core.frame.DataFrame)\n",
    "                  ), \"`df_secondary` should be a dataframe\"\n",
    "            assert(len(list(df_secondary.columns)) == 1 and \"secondary\" in \n",
    "                  df_secondary.columns), '''The `df_secondary` dataframe should have\n",
    "            one column called `secondary`'''\n",
    "            \n",
    "            \n",
    "            assert(len(df_secondary) == 1000\n",
    "            ),'''The simulation dataframe `df_secondary` should have 1000 rows'''\n",
    "            vals = df_secondary[\"secondary\"].values\n",
    "            assert(\n",
    "            df_secondary[\"secondary\"].dtype == \"int64\" and ((vals >= 0) & (vals<=5)).all()\n",
    "            ), '''`df_secondary` should contain integers from 0 to 10'''\n",
    "            assert(np.unique(vals).size >= 5\n",
    "                  ), '''`df_secondary` should take more than 5 values'''\n",
    "            print(f\"\\N{PARTY POPPER} All tests passed! \\N{PARTY POPPER}\")\n",
    "        except AssertionError as msg:\n",
    "            print(f'{bcolors.FAIL} ---------- ERROR ---------- {bcolors.ENDC}')\n",
    "            print(msg)\n",
    "            \n",
    "    def testCase9():\n",
    "        \n",
    "        try:\n",
    "            assert('catch_average' in [f.__name__ for f in globals().values() if type(f) == type(lambda *args: None)]\n",
    "                  ), \"You should have a function called `catch_average`.\"\n",
    "            \n",
    "            result = catch_average(\"HP\", 8)\n",
    "            assert(isinstance(result, float)\n",
    "                  ), '''`catch_average` should return a number'''\n",
    "            \n",
    "            assert(math.isclose(catch_average(\"HP\", 10000), df[\"HP\"].mean(),rel_tol= 0.01)\n",
    "                  ),'''`catch_average` does not work properly.'''\n",
    "\n",
    "            print(f\"\\N{PARTY POPPER} All tests passed! \\N{PARTY POPPER}\")\n",
    "        except AssertionError as msg:\n",
    "            print(f'{bcolors.FAIL} ---------- ERROR ---------- {bcolors.ENDC}')\n",
    "            print(msg)"
   ]
  },
  {
   "cell_type": "markdown",
   "metadata": {},
   "source": [
    "# Lab 8\n",
    "In this lab, you will practice simulations and observe the bahaviour of random variables. \n"
   ]
  },
  {
   "cell_type": "markdown",
   "metadata": {},
   "source": [
    "<hr style=\"color: #DD3403;\">"
   ]
  },
  {
   "cell_type": "markdown",
   "metadata": {},
   "source": [
    "# Section 1\n",
    "For this lab we are going to work with the following dataset.\n",
    "\n",
    "> https://evantsiamalos.github.io/material/datasets/pokemon.csv\n",
    "\n",
    "The theme of this lab is Pokemon. There are different types of pokemon and their characteristics are recorded in this dataset.\n",
    "\n",
    "Use Pandas to load this dataset into a DataFrame named `df`:"
   ]
  },
  {
   "cell_type": "code",
   "execution_count": 2,
   "metadata": {},
   "outputs": [],
   "source": [
    "import pandas as pd\n",
    "df = pd.read_csv(\"https://evantsiamalos.github.io/material/datasets/pokemon.csv\")"
   ]
  },
  {
   "cell_type": "code",
   "execution_count": 3,
   "metadata": {},
   "outputs": [
    {
     "data": {
      "text/html": [
       "<div>\n",
       "<style scoped>\n",
       "    .dataframe tbody tr th:only-of-type {\n",
       "        vertical-align: middle;\n",
       "    }\n",
       "\n",
       "    .dataframe tbody tr th {\n",
       "        vertical-align: top;\n",
       "    }\n",
       "\n",
       "    .dataframe thead th {\n",
       "        text-align: right;\n",
       "    }\n",
       "</style>\n",
       "<table border=\"1\" class=\"dataframe\">\n",
       "  <thead>\n",
       "    <tr style=\"text-align: right;\">\n",
       "      <th></th>\n",
       "      <th>Number</th>\n",
       "      <th>Name</th>\n",
       "      <th>Types</th>\n",
       "      <th>Type1</th>\n",
       "      <th>Type2</th>\n",
       "      <th>Height(m)</th>\n",
       "      <th>Weight(kg)</th>\n",
       "      <th>Male_Pct</th>\n",
       "      <th>Female_Pct</th>\n",
       "      <th>Capt_Rate</th>\n",
       "      <th>...</th>\n",
       "      <th>Poison_Dmg</th>\n",
       "      <th>Ground_Dmg</th>\n",
       "      <th>Flying_Dmg</th>\n",
       "      <th>Psychic_Dmg</th>\n",
       "      <th>Bug_Dmg</th>\n",
       "      <th>Rock_Dmg</th>\n",
       "      <th>Ghost_Dmg</th>\n",
       "      <th>Dragon_Dmg</th>\n",
       "      <th>Evolutions</th>\n",
       "      <th>Legendary</th>\n",
       "    </tr>\n",
       "  </thead>\n",
       "  <tbody>\n",
       "    <tr>\n",
       "      <th>0</th>\n",
       "      <td>1</td>\n",
       "      <td>Bulbasaur</td>\n",
       "      <td>2</td>\n",
       "      <td>grass</td>\n",
       "      <td>poison</td>\n",
       "      <td>0.7</td>\n",
       "      <td>6.9</td>\n",
       "      <td>87.5</td>\n",
       "      <td>12.5</td>\n",
       "      <td>45</td>\n",
       "      <td>...</td>\n",
       "      <td>1.0</td>\n",
       "      <td>1.0</td>\n",
       "      <td>2.0</td>\n",
       "      <td>2.0</td>\n",
       "      <td>4.0</td>\n",
       "      <td>1.0</td>\n",
       "      <td>1</td>\n",
       "      <td>1</td>\n",
       "      <td>2</td>\n",
       "      <td>0</td>\n",
       "    </tr>\n",
       "    <tr>\n",
       "      <th>1</th>\n",
       "      <td>2</td>\n",
       "      <td>Ivysaur</td>\n",
       "      <td>2</td>\n",
       "      <td>grass</td>\n",
       "      <td>poison</td>\n",
       "      <td>1.0</td>\n",
       "      <td>13.0</td>\n",
       "      <td>87.5</td>\n",
       "      <td>12.5</td>\n",
       "      <td>45</td>\n",
       "      <td>...</td>\n",
       "      <td>1.0</td>\n",
       "      <td>1.0</td>\n",
       "      <td>2.0</td>\n",
       "      <td>2.0</td>\n",
       "      <td>4.0</td>\n",
       "      <td>1.0</td>\n",
       "      <td>1</td>\n",
       "      <td>1</td>\n",
       "      <td>2</td>\n",
       "      <td>0</td>\n",
       "    </tr>\n",
       "    <tr>\n",
       "      <th>2</th>\n",
       "      <td>3</td>\n",
       "      <td>Venusaur</td>\n",
       "      <td>2</td>\n",
       "      <td>grass</td>\n",
       "      <td>poison</td>\n",
       "      <td>2.0</td>\n",
       "      <td>100.0</td>\n",
       "      <td>87.5</td>\n",
       "      <td>12.5</td>\n",
       "      <td>45</td>\n",
       "      <td>...</td>\n",
       "      <td>1.0</td>\n",
       "      <td>1.0</td>\n",
       "      <td>2.0</td>\n",
       "      <td>2.0</td>\n",
       "      <td>4.0</td>\n",
       "      <td>1.0</td>\n",
       "      <td>1</td>\n",
       "      <td>1</td>\n",
       "      <td>2</td>\n",
       "      <td>0</td>\n",
       "    </tr>\n",
       "    <tr>\n",
       "      <th>3</th>\n",
       "      <td>4</td>\n",
       "      <td>Charmander</td>\n",
       "      <td>1</td>\n",
       "      <td>fire</td>\n",
       "      <td>None</td>\n",
       "      <td>0.6</td>\n",
       "      <td>8.5</td>\n",
       "      <td>87.5</td>\n",
       "      <td>12.5</td>\n",
       "      <td>45</td>\n",
       "      <td>...</td>\n",
       "      <td>1.0</td>\n",
       "      <td>2.0</td>\n",
       "      <td>1.0</td>\n",
       "      <td>1.0</td>\n",
       "      <td>0.5</td>\n",
       "      <td>2.0</td>\n",
       "      <td>1</td>\n",
       "      <td>1</td>\n",
       "      <td>2</td>\n",
       "      <td>0</td>\n",
       "    </tr>\n",
       "    <tr>\n",
       "      <th>4</th>\n",
       "      <td>5</td>\n",
       "      <td>Charmeleon</td>\n",
       "      <td>1</td>\n",
       "      <td>fire</td>\n",
       "      <td>None</td>\n",
       "      <td>1.1</td>\n",
       "      <td>19.0</td>\n",
       "      <td>87.5</td>\n",
       "      <td>12.5</td>\n",
       "      <td>45</td>\n",
       "      <td>...</td>\n",
       "      <td>1.0</td>\n",
       "      <td>2.0</td>\n",
       "      <td>1.0</td>\n",
       "      <td>1.0</td>\n",
       "      <td>0.5</td>\n",
       "      <td>2.0</td>\n",
       "      <td>1</td>\n",
       "      <td>1</td>\n",
       "      <td>2</td>\n",
       "      <td>0</td>\n",
       "    </tr>\n",
       "    <tr>\n",
       "      <th>...</th>\n",
       "      <td>...</td>\n",
       "      <td>...</td>\n",
       "      <td>...</td>\n",
       "      <td>...</td>\n",
       "      <td>...</td>\n",
       "      <td>...</td>\n",
       "      <td>...</td>\n",
       "      <td>...</td>\n",
       "      <td>...</td>\n",
       "      <td>...</td>\n",
       "      <td>...</td>\n",
       "      <td>...</td>\n",
       "      <td>...</td>\n",
       "      <td>...</td>\n",
       "      <td>...</td>\n",
       "      <td>...</td>\n",
       "      <td>...</td>\n",
       "      <td>...</td>\n",
       "      <td>...</td>\n",
       "      <td>...</td>\n",
       "      <td>...</td>\n",
       "    </tr>\n",
       "    <tr>\n",
       "      <th>146</th>\n",
       "      <td>147</td>\n",
       "      <td>Dratini</td>\n",
       "      <td>1</td>\n",
       "      <td>dragon</td>\n",
       "      <td>None</td>\n",
       "      <td>1.8</td>\n",
       "      <td>3.3</td>\n",
       "      <td>50.0</td>\n",
       "      <td>50.0</td>\n",
       "      <td>45</td>\n",
       "      <td>...</td>\n",
       "      <td>1.0</td>\n",
       "      <td>1.0</td>\n",
       "      <td>1.0</td>\n",
       "      <td>1.0</td>\n",
       "      <td>1.0</td>\n",
       "      <td>1.0</td>\n",
       "      <td>1</td>\n",
       "      <td>2</td>\n",
       "      <td>2</td>\n",
       "      <td>0</td>\n",
       "    </tr>\n",
       "    <tr>\n",
       "      <th>147</th>\n",
       "      <td>148</td>\n",
       "      <td>Dragonair</td>\n",
       "      <td>1</td>\n",
       "      <td>dragon</td>\n",
       "      <td>None</td>\n",
       "      <td>4.0</td>\n",
       "      <td>16.5</td>\n",
       "      <td>50.0</td>\n",
       "      <td>50.0</td>\n",
       "      <td>45</td>\n",
       "      <td>...</td>\n",
       "      <td>1.0</td>\n",
       "      <td>1.0</td>\n",
       "      <td>1.0</td>\n",
       "      <td>1.0</td>\n",
       "      <td>1.0</td>\n",
       "      <td>1.0</td>\n",
       "      <td>1</td>\n",
       "      <td>2</td>\n",
       "      <td>2</td>\n",
       "      <td>0</td>\n",
       "    </tr>\n",
       "    <tr>\n",
       "      <th>148</th>\n",
       "      <td>149</td>\n",
       "      <td>Dragonite</td>\n",
       "      <td>2</td>\n",
       "      <td>dragon</td>\n",
       "      <td>flying</td>\n",
       "      <td>2.2</td>\n",
       "      <td>210.0</td>\n",
       "      <td>50.0</td>\n",
       "      <td>50.0</td>\n",
       "      <td>45</td>\n",
       "      <td>...</td>\n",
       "      <td>1.0</td>\n",
       "      <td>0.0</td>\n",
       "      <td>1.0</td>\n",
       "      <td>1.0</td>\n",
       "      <td>0.5</td>\n",
       "      <td>2.0</td>\n",
       "      <td>1</td>\n",
       "      <td>2</td>\n",
       "      <td>2</td>\n",
       "      <td>0</td>\n",
       "    </tr>\n",
       "    <tr>\n",
       "      <th>149</th>\n",
       "      <td>150</td>\n",
       "      <td>Mewtwo</td>\n",
       "      <td>1</td>\n",
       "      <td>psychic</td>\n",
       "      <td>None</td>\n",
       "      <td>2.0</td>\n",
       "      <td>122.0</td>\n",
       "      <td>0.0</td>\n",
       "      <td>0.0</td>\n",
       "      <td>3</td>\n",
       "      <td>...</td>\n",
       "      <td>1.0</td>\n",
       "      <td>1.0</td>\n",
       "      <td>1.0</td>\n",
       "      <td>0.5</td>\n",
       "      <td>2.0</td>\n",
       "      <td>1.0</td>\n",
       "      <td>0</td>\n",
       "      <td>1</td>\n",
       "      <td>0</td>\n",
       "      <td>1</td>\n",
       "    </tr>\n",
       "    <tr>\n",
       "      <th>150</th>\n",
       "      <td>151</td>\n",
       "      <td>Mew</td>\n",
       "      <td>1</td>\n",
       "      <td>psychic</td>\n",
       "      <td>None</td>\n",
       "      <td>0.4</td>\n",
       "      <td>4.0</td>\n",
       "      <td>0.0</td>\n",
       "      <td>0.0</td>\n",
       "      <td>45</td>\n",
       "      <td>...</td>\n",
       "      <td>1.0</td>\n",
       "      <td>1.0</td>\n",
       "      <td>1.0</td>\n",
       "      <td>0.5</td>\n",
       "      <td>2.0</td>\n",
       "      <td>1.0</td>\n",
       "      <td>0</td>\n",
       "      <td>1</td>\n",
       "      <td>0</td>\n",
       "      <td>1</td>\n",
       "    </tr>\n",
       "  </tbody>\n",
       "</table>\n",
       "<p>151 rows × 35 columns</p>\n",
       "</div>"
      ],
      "text/plain": [
       "     Number        Name  Types    Type1   Type2  Height(m)  Weight(kg)  \\\n",
       "0         1   Bulbasaur      2    grass  poison        0.7         6.9   \n",
       "1         2     Ivysaur      2    grass  poison        1.0        13.0   \n",
       "2         3    Venusaur      2    grass  poison        2.0       100.0   \n",
       "3         4  Charmander      1     fire    None        0.6         8.5   \n",
       "4         5  Charmeleon      1     fire    None        1.1        19.0   \n",
       "..      ...         ...    ...      ...     ...        ...         ...   \n",
       "146     147     Dratini      1   dragon    None        1.8         3.3   \n",
       "147     148   Dragonair      1   dragon    None        4.0        16.5   \n",
       "148     149   Dragonite      2   dragon  flying        2.2       210.0   \n",
       "149     150      Mewtwo      1  psychic    None        2.0       122.0   \n",
       "150     151         Mew      1  psychic    None        0.4         4.0   \n",
       "\n",
       "     Male_Pct  Female_Pct  Capt_Rate  ...  Poison_Dmg Ground_Dmg  Flying_Dmg  \\\n",
       "0        87.5        12.5         45  ...         1.0        1.0         2.0   \n",
       "1        87.5        12.5         45  ...         1.0        1.0         2.0   \n",
       "2        87.5        12.5         45  ...         1.0        1.0         2.0   \n",
       "3        87.5        12.5         45  ...         1.0        2.0         1.0   \n",
       "4        87.5        12.5         45  ...         1.0        2.0         1.0   \n",
       "..        ...         ...        ...  ...         ...        ...         ...   \n",
       "146      50.0        50.0         45  ...         1.0        1.0         1.0   \n",
       "147      50.0        50.0         45  ...         1.0        1.0         1.0   \n",
       "148      50.0        50.0         45  ...         1.0        0.0         1.0   \n",
       "149       0.0         0.0          3  ...         1.0        1.0         1.0   \n",
       "150       0.0         0.0         45  ...         1.0        1.0         1.0   \n",
       "\n",
       "     Psychic_Dmg  Bug_Dmg  Rock_Dmg  Ghost_Dmg  Dragon_Dmg  Evolutions  \\\n",
       "0            2.0      4.0       1.0          1           1           2   \n",
       "1            2.0      4.0       1.0          1           1           2   \n",
       "2            2.0      4.0       1.0          1           1           2   \n",
       "3            1.0      0.5       2.0          1           1           2   \n",
       "4            1.0      0.5       2.0          1           1           2   \n",
       "..           ...      ...       ...        ...         ...         ...   \n",
       "146          1.0      1.0       1.0          1           2           2   \n",
       "147          1.0      1.0       1.0          1           2           2   \n",
       "148          1.0      0.5       2.0          1           2           2   \n",
       "149          0.5      2.0       1.0          0           1           0   \n",
       "150          0.5      2.0       1.0          0           1           0   \n",
       "\n",
       "     Legendary  \n",
       "0            0  \n",
       "1            0  \n",
       "2            0  \n",
       "3            0  \n",
       "4            0  \n",
       "..         ...  \n",
       "146          0  \n",
       "147          0  \n",
       "148          0  \n",
       "149          1  \n",
       "150          1  \n",
       "\n",
       "[151 rows x 35 columns]"
      ]
     },
     "execution_count": 3,
     "metadata": {},
     "output_type": "execute_result"
    }
   ],
   "source": [
    "df"
   ]
  },
  {
   "cell_type": "markdown",
   "metadata": {},
   "source": [
    "### Test Case Checkpoint"
   ]
  },
  {
   "cell_type": "code",
   "execution_count": 6,
   "metadata": {},
   "outputs": [
    {
     "name": "stdout",
     "output_type": "stream",
     "text": [
      "🎉 All tests passed! 🎉\n"
     ]
    }
   ],
   "source": [
    "## == CHECKPOINT TEST CASES ==\n",
    "# - This read-only cell contains test cases for your previous cell.\n",
    "# - If this cell runs without any errors, you PASSED all test cases!\n",
    "# - If this cell results in any errors, check your previous cell, make changes, and RE-RUN your code and then this cell.\n",
    "import urllib\n",
    "_j = \"https://evantsiamalos.github.io/material/assignment_3/assignment3_tester.py\"\n",
    "_ = urllib.request.urlopen(_j).read()\n",
    "exec(_)\n",
    "Tester.testCase1()\n"
   ]
  },
  {
   "cell_type": "markdown",
   "metadata": {},
   "source": [
    "## Section 1.1: Water Types\n",
    "\n",
    "Pokémon each have a **primary** and **secondary** type. In our DataFrame, `df`, we have these stored in the columns `Type1` (primary) and `Type2` (secondary)\n",
    "\n",
    "Using the cell below, find the **number** of Pokémon whose **primary type** is water,  storing the **number of water pokemon** in the **integer** variable `number_of_water`: "
   ]
  },
  {
   "cell_type": "code",
   "execution_count": 13,
   "metadata": {},
   "outputs": [
    {
     "data": {
      "text/plain": [
       "28"
      ]
     },
     "execution_count": 13,
     "metadata": {},
     "output_type": "execute_result"
    }
   ],
   "source": [
    "number_of_water = len(df[df[\"Type1\"] == \"water\"])\n",
    "number_of_water"
   ]
  },
  {
   "cell_type": "markdown",
   "metadata": {},
   "source": [
    "Find the **probability** of catching a primary water-type Pokémon in a **single catch** using `number_of_water`. You can assume it is **equally likely** to catch **any** of the Pokémon in the dataset. Store this value in the variable `prob_water`:"
   ]
  },
  {
   "cell_type": "code",
   "execution_count": 9,
   "metadata": {},
   "outputs": [],
   "source": [
    "prob_water = number_of_water/len(df)"
   ]
  },
  {
   "cell_type": "code",
   "execution_count": 10,
   "metadata": {},
   "outputs": [
    {
     "data": {
      "text/plain": [
       "0.18543046357615894"
      ]
     },
     "execution_count": 10,
     "metadata": {},
     "output_type": "execute_result"
    }
   ],
   "source": [
    "prob_water"
   ]
  },
  {
   "cell_type": "markdown",
   "metadata": {},
   "source": [
    "### Test Case Checkpoint "
   ]
  },
  {
   "cell_type": "code",
   "execution_count": 14,
   "metadata": {},
   "outputs": [
    {
     "name": "stdout",
     "output_type": "stream",
     "text": [
      "🎉 All tests passed! 🎉\n"
     ]
    }
   ],
   "source": [
    "## == CHECKPOINT TEST CASES ==\n",
    "# - This read-only cell contains test cases for your previous cell.\n",
    "# - If this cell runs without any errors, you PASSED all test cases!\n",
    "# - If this cell results in any errors, check your previous cell, make changes, and RE-RUN your code and then this cell.\n",
    "# import urllib\n",
    "# _j = \"https://evantsiamalos.github.io/material/assignment_3/assignment3_tester.py\"\n",
    "# _ = urllib.request.urlopen(_j).read()\n",
    "# exec(_)\n",
    "Tester.testCase2()\n"
   ]
  },
  {
   "cell_type": "markdown",
   "metadata": {},
   "source": [
    "## Section 1.2: Catching 10 Pokémon\n",
    "\n",
    "\n",
    "In the following cell, define a **function** `catch10` that will do the following:\n",
    "- It receives no arguments\n",
    "- It simulates catching 10 pokemon at random, i.e. selecting 10 rows from the dataframe at random **with replacement**\n",
    "- It counts and **returns** the **number of Water Pokémon caught** among the **ten Pokémon** caught at random.\n",
    "\n",
    "\n",
    "(**Hint**: In previous assignments, we have used `df.sample(n = 10)` in order to randomly select 10 rows from a dataframe at random. But `df.sample(n = 10)` samples **without** replacement. Now that we want to sample 10 rows from the dataframe **with** replacement, we can write `df.sample(n = 10, replace = True)` )"
   ]
  },
  {
   "cell_type": "code",
   "execution_count": 136,
   "metadata": {},
   "outputs": [],
   "source": [
    "def catch10():\n",
    "    caught = df.sample(n = 10, replace = True)\n",
    "    return len(caught[caught[\"Type1\"] == \"water\"])"
   ]
  },
  {
   "cell_type": "code",
   "execution_count": 137,
   "metadata": {},
   "outputs": [
    {
     "data": {
      "text/plain": [
       "2"
      ]
     },
     "execution_count": 137,
     "metadata": {},
     "output_type": "execute_result"
    }
   ],
   "source": [
    "catch10()"
   ]
  },
  {
   "cell_type": "markdown",
   "metadata": {},
   "source": [
    "### Test Case Checkpoint"
   ]
  },
  {
   "cell_type": "code",
   "execution_count": 138,
   "metadata": {},
   "outputs": [
    {
     "name": "stdout",
     "output_type": "stream",
     "text": [
      "🎉 All tests passed! 🎉\n"
     ]
    }
   ],
   "source": [
    "## == CHECKPOINT TEST CASES ==\n",
    "# - This read-only cell contains test cases for your previous cell.\n",
    "# - If this cell runs without any errors, you PASSED all test cases!\n",
    "# - If this cell results in any errors, check your previous cell, make changes, and RE-RUN your code and then this cell.\n",
    "# import urllib\n",
    "# _j = \"https://evantsiamalos.github.io/material/assignment_3/assignment3_tester.py\"\n",
    "# _ = urllib.request.urlopen(_j).read()\n",
    "# exec(_)\n",
    "Tester.testCase3()\n"
   ]
  },
  {
   "cell_type": "markdown",
   "metadata": {},
   "source": [
    "## Section 1.3: Simulation\n",
    "\n",
    "Now, using your `catch10` function from above, **write a simulation** to simulate the number of water Pokémon caught if were to **repeat** these ten catches **1,000 times**.\n",
    "\n",
    "Store your results in a DataFrame `df_water` with a column named `number_of_water`."
   ]
  },
  {
   "cell_type": "code",
   "execution_count": 139,
   "metadata": {},
   "outputs": [],
   "source": [
    "## Write the simulation here\n",
    "data = []\n",
    "\n",
    "for i in range(1000):\n",
    "    number_of_water = catch10()\n",
    "    d = {\"number_of_water\": number_of_water}\n",
    "    data.append(d)\n",
    "df_water = pd.DataFrame(data)"
   ]
  },
  {
   "cell_type": "code",
   "execution_count": 140,
   "metadata": {},
   "outputs": [
    {
     "data": {
      "text/html": [
       "<div>\n",
       "<style scoped>\n",
       "    .dataframe tbody tr th:only-of-type {\n",
       "        vertical-align: middle;\n",
       "    }\n",
       "\n",
       "    .dataframe tbody tr th {\n",
       "        vertical-align: top;\n",
       "    }\n",
       "\n",
       "    .dataframe thead th {\n",
       "        text-align: right;\n",
       "    }\n",
       "</style>\n",
       "<table border=\"1\" class=\"dataframe\">\n",
       "  <thead>\n",
       "    <tr style=\"text-align: right;\">\n",
       "      <th></th>\n",
       "      <th>number_of_water</th>\n",
       "    </tr>\n",
       "  </thead>\n",
       "  <tbody>\n",
       "    <tr>\n",
       "      <th>0</th>\n",
       "      <td>3</td>\n",
       "    </tr>\n",
       "    <tr>\n",
       "      <th>1</th>\n",
       "      <td>1</td>\n",
       "    </tr>\n",
       "    <tr>\n",
       "      <th>2</th>\n",
       "      <td>0</td>\n",
       "    </tr>\n",
       "    <tr>\n",
       "      <th>3</th>\n",
       "      <td>4</td>\n",
       "    </tr>\n",
       "    <tr>\n",
       "      <th>4</th>\n",
       "      <td>1</td>\n",
       "    </tr>\n",
       "    <tr>\n",
       "      <th>...</th>\n",
       "      <td>...</td>\n",
       "    </tr>\n",
       "    <tr>\n",
       "      <th>995</th>\n",
       "      <td>1</td>\n",
       "    </tr>\n",
       "    <tr>\n",
       "      <th>996</th>\n",
       "      <td>2</td>\n",
       "    </tr>\n",
       "    <tr>\n",
       "      <th>997</th>\n",
       "      <td>1</td>\n",
       "    </tr>\n",
       "    <tr>\n",
       "      <th>998</th>\n",
       "      <td>1</td>\n",
       "    </tr>\n",
       "    <tr>\n",
       "      <th>999</th>\n",
       "      <td>1</td>\n",
       "    </tr>\n",
       "  </tbody>\n",
       "</table>\n",
       "<p>1000 rows × 1 columns</p>\n",
       "</div>"
      ],
      "text/plain": [
       "     number_of_water\n",
       "0                  3\n",
       "1                  1\n",
       "2                  0\n",
       "3                  4\n",
       "4                  1\n",
       "..               ...\n",
       "995                1\n",
       "996                2\n",
       "997                1\n",
       "998                1\n",
       "999                1\n",
       "\n",
       "[1000 rows x 1 columns]"
      ]
     },
     "execution_count": 140,
     "metadata": {},
     "output_type": "execute_result"
    }
   ],
   "source": [
    "df_water ## Print the simulation dataframe "
   ]
  },
  {
   "cell_type": "markdown",
   "metadata": {},
   "source": [
    "### Question: Random Variable\n",
    "\n",
    "Think about the simulation we just ran and answer the following questions: \n",
    "1. What is the **random experiment** corresponding to the simulation?\n",
    "2. What is the **sample space** corresponding to the random experiment?\n",
    "3. What is the **random variable** that we defined?\n",
    "4. What is the **domain** of the random variable?\n"
   ]
  },
  {
   "cell_type": "markdown",
   "metadata": {},
   "source": [
    "*(✏️ Edit this cell to replace this text with your answer. ✏️)*"
   ]
  },
  {
   "cell_type": "markdown",
   "metadata": {},
   "source": [
    "### Test Case Checkpoint"
   ]
  },
  {
   "cell_type": "code",
   "execution_count": 141,
   "metadata": {},
   "outputs": [
    {
     "name": "stdout",
     "output_type": "stream",
     "text": [
      "🎉 All tests passed! 🎉\n"
     ]
    }
   ],
   "source": [
    "## == CHECKPOINT TEST CASES ==\n",
    "# - This read-only cell contains test cases for your previous cell.\n",
    "# - If this cell runs without any errors, you PASSED all test cases!\n",
    "# - If this cell results in any errors, check your previous cell, make changes, and RE-RUN your code and then this cell.\n",
    "# import urllib\n",
    "# _j = \"https://evantsiamalos.github.io/material/assignment_3/assignment3_tester.py\"\n",
    "# _ = urllib.request.urlopen(_j).read()\n",
    "# exec(_)\n",
    "Tester.testCase4()\n"
   ]
  },
  {
   "cell_type": "markdown",
   "metadata": {},
   "source": [
    "## Section 1.4: Histogram \n",
    "Let's visualize our simulation results!\n",
    "\n",
    "Use `df.hist()` to create a **frequency histogram** showing the number of water Pokémon caught in these ten catches. \n",
    "\n",
    "To make it look better, change  the number of bins by modifying the `bins` parameter in `df.hist(bins=...)`."
   ]
  },
  {
   "cell_type": "code",
   "execution_count": 144,
   "metadata": {},
   "outputs": [
    {
     "data": {
      "text/plain": [
       "<AxesSubplot:>"
      ]
     },
     "execution_count": 144,
     "metadata": {},
     "output_type": "execute_result"
    },
    {
     "data": {
      "image/png": "[encoded data removed]",
      "text/plain": [
       "<Figure size 640x480 with 1 Axes>"
      ]
     },
     "metadata": {},
     "output_type": "display_data"
    }
   ],
   "source": [
    "## Create the histogram in this cell.\n",
    "df_water[\"number_of_water\"].hist(bins = 6)"
   ]
  },
  {
   "cell_type": "markdown",
   "metadata": {},
   "source": [
    "### Question: Expected Value\n",
    "\n",
    "What do you estimate to be the expected value for the number of water Pokémon caught in the first ten catches?\n",
    "\n",
    "Note: No need to use Python for this. Estimate using your Histogram. "
   ]
  },
  {
   "cell_type": "markdown",
   "metadata": {},
   "source": [
    "*(✏️ Edit this cell to replace this text with your answer. ✏️)*"
   ]
  },
  {
   "cell_type": "markdown",
   "metadata": {},
   "source": [
    "<hr style=\"color: #DD3403;\">"
   ]
  },
  {
   "cell_type": "markdown",
   "metadata": {},
   "source": [
    "# Section 2: Secondary Types\n",
    "\n",
    "\n",
    "\n",
    "## Section 2.1: Second Type Probability\n",
    "\n",
    "Recall from earlier that Pokémon each have a **primary** and **secondary** type. In our DataFrame, `df`, we have these stored in the columns `Type1` (primary) and `Type2` (secondary).\n",
    "\n",
    "\n",
    "Using Python below, find the number of Pokémon that **do not** have a secondary type, storing the result in the variable `no_secondary`. Note that when a Pokémon **does not** have a secondary type, the **value** in the `Type2` column of `df` is 'None'."
   ]
  },
  {
   "cell_type": "code",
   "execution_count": 148,
   "metadata": {},
   "outputs": [
    {
     "data": {
      "text/plain": [
       "89"
      ]
     },
     "execution_count": 148,
     "metadata": {},
     "output_type": "execute_result"
    }
   ],
   "source": [
    "no_secondary = len(df[ df[\"Type2\"] == \"None\" ])\n",
    "no_secondary"
   ]
  },
  {
   "cell_type": "markdown",
   "metadata": {},
   "source": [
    "Now, calculate the probability of any random Pokémon **having** a **secondary type**, storing the result in a variable `prob_secondary`:"
   ]
  },
  {
   "cell_type": "code",
   "execution_count": 185,
   "metadata": {},
   "outputs": [
    {
     "data": {
      "text/plain": [
       "0.4105960264900662"
      ]
     },
     "execution_count": 185,
     "metadata": {},
     "output_type": "execute_result"
    }
   ],
   "source": [
    "prob_secondary =1 - no_secondary/len(df) \n",
    "\n",
    "## OR\n",
    "# prob_secondary = len(df[df[\"Type2\"] != \"None\"])/len(df)\n",
    "prob_secondary "
   ]
  },
  {
   "cell_type": "code",
   "execution_count": null,
   "metadata": {},
   "outputs": [],
   "source": []
  },
  {
   "cell_type": "markdown",
   "metadata": {},
   "source": [
    "### Test Case Checkpoint "
   ]
  },
  {
   "cell_type": "code",
   "execution_count": 186,
   "metadata": {},
   "outputs": [
    {
     "name": "stdout",
     "output_type": "stream",
     "text": [
      "🎉 All tests passed! 🎉\n"
     ]
    }
   ],
   "source": [
    "## == CHECKPOINT TEST CASES ==\n",
    "# - This read-only cell contains test cases for your previous cell.\n",
    "# - If this cell runs without any errors, you PASSED all test cases!\n",
    "# - If this cell results in any errors, check your previous cell, make changes, and RE-RUN your code and then this cell.\n",
    "# import urllib\n",
    "# _j = \"https://evantsiamalos.github.io/material/assignment_3/assignment3_tester.py\"\n",
    "# _ = urllib.request.urlopen(_j).read()\n",
    "# exec(_)\n",
    "Tester.testCase5()\n"
   ]
  },
  {
   "cell_type": "markdown",
   "metadata": {},
   "source": [
    "## Section 2.2: Calculating Expected Value\n",
    "The Binomial Distribution with parameters $n$ and $p$ is the discrete probability distribution of the number of successes in a sequence of $n$ independent events. In other words, the Binomial Distribution is the sum of $n$ independent Bernoulli random variables.\n",
    "\n",
    "Conveniently, we can easily calculate the **Expected Value** for Binomial Random Variables. For all binomial distributions $B(n, p)$ where $n$ is the number of trials and $p$ is the probability of success:\n",
    "\n",
    "$EV = np$\n",
    "\n",
    "Using your probability of success `prob_secondary` and the formula above, find the **expected value** for the number of Pokémon that **will have a secondary type** after $n = 5$ catches, storing the result in `secondary_ev`:"
   ]
  },
  {
   "cell_type": "code",
   "execution_count": 196,
   "metadata": {},
   "outputs": [
    {
     "data": {
      "text/plain": [
       "2.052980132450331"
      ]
     },
     "execution_count": 196,
     "metadata": {},
     "output_type": "execute_result"
    }
   ],
   "source": [
    "secondary_ev = 5*prob_secondary\n",
    "secondary_ev"
   ]
  },
  {
   "cell_type": "markdown",
   "metadata": {},
   "source": [
    "### Test Case Checkpoint"
   ]
  },
  {
   "cell_type": "code",
   "execution_count": 197,
   "metadata": {},
   "outputs": [
    {
     "name": "stdout",
     "output_type": "stream",
     "text": [
      "🎉 All tests passed! 🎉\n"
     ]
    }
   ],
   "source": [
    "## == CHECKPOINT TEST CASES ==\n",
    "# - This read-only cell contains test cases for your previous cell.\n",
    "# - If this cell runs without any errors, you PASSED all test cases!\n",
    "# - If this cell results in any errors, check your previous cell, make changes, and RE-RUN your code and then this cell.\n",
    "# import urllib\n",
    "# _j = \"https://evantsiamalos.github.io/material/assignment_3/assignment3_tester.py\"\n",
    "# _ = urllib.request.urlopen(_j).read()\n",
    "# exec(_)\n",
    "Tester.testCase6()\n"
   ]
  },
  {
   "cell_type": "markdown",
   "metadata": {},
   "source": [
    "## Section 2.3: The Secondary Function\n",
    "Now, define a function named `catch5()` that will `return` the **number of Pokémon with a secondary type** caught after **five catches with replacement**. \n",
    "\n",
    "Remember that checking for inequality is done using the `!=` operator. "
   ]
  },
  {
   "cell_type": "code",
   "execution_count": 212,
   "metadata": {},
   "outputs": [],
   "source": [
    "def catch5():\n",
    "    caught = df.sample(n=5, replace = True)\n",
    "    return len(caught[caught[\"Type2\"] != \"None\"])\n",
    "\n"
   ]
  },
  {
   "cell_type": "code",
   "execution_count": 213,
   "metadata": {},
   "outputs": [
    {
     "data": {
      "text/plain": [
       "2"
      ]
     },
     "execution_count": 213,
     "metadata": {},
     "output_type": "execute_result"
    }
   ],
   "source": [
    "catch5()"
   ]
  },
  {
   "cell_type": "markdown",
   "metadata": {},
   "source": [
    "### Test Case Checkpoint "
   ]
  },
  {
   "cell_type": "code",
   "execution_count": 221,
   "metadata": {},
   "outputs": [
    {
     "name": "stdout",
     "output_type": "stream",
     "text": [
      "🎉 All tests passed! 🎉\n"
     ]
    }
   ],
   "source": [
    "## == CHECKPOINT TEST CASES ==\n",
    "# - This read-only cell contains test cases for your previous cell.\n",
    "# - If this cell runs without any errors, you PASSED all test cases!\n",
    "# - If this cell results in any errors, check your previous cell, make changes, and RE-RUN your code and then this cell.\n",
    "# import urllib\n",
    "# _j = \"https://evantsiamalos.github.io/material/assignment_3/assignment3_tester.py\"\n",
    "# _ = urllib.request.urlopen(_j).read()\n",
    "# exec(_)\n",
    "Tester.testCase7()\n"
   ]
  },
  {
   "cell_type": "markdown",
   "metadata": {},
   "source": [
    "## Section 2.4: Simulation, Again\n",
    "Using a similar format to your solution for Section 1.3, simulate the **number of Pokémon with a secondary type** caught if were to repeat five catches **1000 times**.\n",
    "\n",
    "Store your results in a DataFrame `df_secondary` with a column named `secondary`."
   ]
  },
  {
   "cell_type": "code",
   "execution_count": 216,
   "metadata": {},
   "outputs": [],
   "source": [
    "data = []\n",
    "\n",
    "for i in range(1000):\n",
    "    secondary = catch5()\n",
    "    d = {\"secondary\": secondary}\n",
    "    data.append(d)\n",
    "df_secondary = pd.DataFrame(data)"
   ]
  },
  {
   "cell_type": "code",
   "execution_count": 217,
   "metadata": {},
   "outputs": [
    {
     "data": {
      "text/html": [
       "<div>\n",
       "<style scoped>\n",
       "    .dataframe tbody tr th:only-of-type {\n",
       "        vertical-align: middle;\n",
       "    }\n",
       "\n",
       "    .dataframe tbody tr th {\n",
       "        vertical-align: top;\n",
       "    }\n",
       "\n",
       "    .dataframe thead th {\n",
       "        text-align: right;\n",
       "    }\n",
       "</style>\n",
       "<table border=\"1\" class=\"dataframe\">\n",
       "  <thead>\n",
       "    <tr style=\"text-align: right;\">\n",
       "      <th></th>\n",
       "      <th>secondary</th>\n",
       "    </tr>\n",
       "  </thead>\n",
       "  <tbody>\n",
       "    <tr>\n",
       "      <th>0</th>\n",
       "      <td>2</td>\n",
       "    </tr>\n",
       "    <tr>\n",
       "      <th>1</th>\n",
       "      <td>3</td>\n",
       "    </tr>\n",
       "    <tr>\n",
       "      <th>2</th>\n",
       "      <td>4</td>\n",
       "    </tr>\n",
       "    <tr>\n",
       "      <th>3</th>\n",
       "      <td>2</td>\n",
       "    </tr>\n",
       "    <tr>\n",
       "      <th>4</th>\n",
       "      <td>3</td>\n",
       "    </tr>\n",
       "    <tr>\n",
       "      <th>...</th>\n",
       "      <td>...</td>\n",
       "    </tr>\n",
       "    <tr>\n",
       "      <th>995</th>\n",
       "      <td>4</td>\n",
       "    </tr>\n",
       "    <tr>\n",
       "      <th>996</th>\n",
       "      <td>0</td>\n",
       "    </tr>\n",
       "    <tr>\n",
       "      <th>997</th>\n",
       "      <td>3</td>\n",
       "    </tr>\n",
       "    <tr>\n",
       "      <th>998</th>\n",
       "      <td>0</td>\n",
       "    </tr>\n",
       "    <tr>\n",
       "      <th>999</th>\n",
       "      <td>3</td>\n",
       "    </tr>\n",
       "  </tbody>\n",
       "</table>\n",
       "<p>1000 rows × 1 columns</p>\n",
       "</div>"
      ],
      "text/plain": [
       "     secondary\n",
       "0            2\n",
       "1            3\n",
       "2            4\n",
       "3            2\n",
       "4            3\n",
       "..         ...\n",
       "995          4\n",
       "996          0\n",
       "997          3\n",
       "998          0\n",
       "999          3\n",
       "\n",
       "[1000 rows x 1 columns]"
      ]
     },
     "execution_count": 217,
     "metadata": {},
     "output_type": "execute_result"
    }
   ],
   "source": [
    "df_secondary"
   ]
  },
  {
   "cell_type": "markdown",
   "metadata": {},
   "source": [
    "### Test Case Checkpoint "
   ]
  },
  {
   "cell_type": "code",
   "execution_count": 220,
   "metadata": {},
   "outputs": [
    {
     "name": "stdout",
     "output_type": "stream",
     "text": [
      "🎉 All tests passed! 🎉\n"
     ]
    }
   ],
   "source": [
    "## == CHECKPOINT TEST CASES ==\n",
    "# - This read-only cell contains test cases for your previous cell.\n",
    "# - If this cell runs without any errors, you PASSED all test cases!\n",
    "# - If this cell results in any errors, check your previous cell, make changes, and RE-RUN your code and then this cell.\n",
    "# import urllib\n",
    "# _j = \"https://evantsiamalos.github.io/material/assignment_3/assignment3_tester.py\"\n",
    "# _ = urllib.request.urlopen(_j).read()\n",
    "# exec(_)\n",
    "Tester.testCase8()\n"
   ]
  },
  {
   "cell_type": "markdown",
   "metadata": {},
   "source": [
    "## Section 2.5: Histogram, Again\n",
    "Let's visualize our simulation results again!\n",
    "\n",
    "Use `df.hist()` to create a **probability histogram** showing the number of Pokémon caught with secondary types after five catches. \n",
    "\n",
    "To make it look better, change the number of bins by modifying the `bins` parameter in `df.hist(bins=...)`."
   ]
  },
  {
   "cell_type": "code",
   "execution_count": 223,
   "metadata": {},
   "outputs": [
    {
     "data": {
      "text/plain": [
       "<AxesSubplot:>"
      ]
     },
     "execution_count": 223,
     "metadata": {},
     "output_type": "execute_result"
    },
    {
     "data": {
      "image/png": "[encoded data removed]",
      "text/plain": [
       "<Figure size 640x480 with 1 Axes>"
      ]
     },
     "metadata": {},
     "output_type": "display_data"
    }
   ],
   "source": [
    "df_secondary[\"secondary\"].hist(bins = 5)"
   ]
  },
  {
   "cell_type": "markdown",
   "metadata": {},
   "source": [
    "### Calculation vs. Simulation\n",
    "\n",
    "**Observe your histogram above. Does the simulated expected value of Pokemon with secondary types match with your calculation from Section 2.2?**"
   ]
  },
  {
   "cell_type": "markdown",
   "metadata": {},
   "source": [
    "*(✏️ Edit this cell to replace this text with your answer. ✏️)*"
   ]
  },
  {
   "cell_type": "markdown",
   "metadata": {},
   "source": [
    "<hr style=\"color: #DD3403;\">"
   ]
  },
  {
   "cell_type": "markdown",
   "metadata": {},
   "source": [
    "# Section 3: Central Limit Theorem\n",
    "\n",
    "\n",
    "In this section, we will observe the **Central Limit Theorem** in action through repeatedly catching Pokémon and observing their statistics. \n",
    "\n",
    "For context, our Pokémon dataset includes some vital statistics about Pokémon, such as their Health, in column `HP`."
   ]
  },
  {
   "cell_type": "markdown",
   "metadata": {},
   "source": [
    "## Section 3.1: Catch_Average Function\n",
    "First, define a function `catch_average` that will simulate catching `n` Pokémon at random, with replacement. \n",
    "\n",
    "This function will `return` the **average value** of the `column` statistic for these `n` Pokémon. \n",
    "\n",
    "For example, the `column` may be `HP`. In this case, your function should return the average `HP` for the `n` Pokémon caught.\n",
    "\n",
    "A few pointers:\n",
    "- This function takes **two parameters**, `column` and `n`. These values are **passed** to the function.\n",
    "- The `.mean()` function may prove useful \n",
    "- **DO NOT** overthink the solution. Your function shouldn't be more than a few lines long at most. "
   ]
  },
  {
   "cell_type": "code",
   "execution_count": 276,
   "metadata": {},
   "outputs": [],
   "source": [
    "# Write your catch_average function: \n",
    "def catch_average(column, n):\n",
    "    caught = df.sample(n, replace = True)\n",
    "    return caught[\"HP\"].mean()"
   ]
  },
  {
   "cell_type": "code",
   "execution_count": 277,
   "metadata": {},
   "outputs": [
    {
     "data": {
      "text/plain": [
       "80.0"
      ]
     },
     "execution_count": 277,
     "metadata": {},
     "output_type": "execute_result"
    }
   ],
   "source": [
    "catch_average(\"HP\", 5)"
   ]
  },
  {
   "cell_type": "markdown",
   "metadata": {},
   "source": [
    "### Test Case Checkpoint"
   ]
  },
  {
   "cell_type": "code",
   "execution_count": 273,
   "metadata": {},
   "outputs": [
    {
     "name": "stdout",
     "output_type": "stream",
     "text": [
      "🎉 All tests passed! 🎉\n"
     ]
    }
   ],
   "source": [
    "## == CHECKPOINT TEST CASES ==\n",
    "# - This read-only cell contains test cases for your previous cell.\n",
    "# - If this cell runs without any errors, you PASSED all test cases!\n",
    "# - If this cell results in any errors, check your previous cell, make changes, and RE-RUN your code and then this cell.\n",
    "# import urllib\n",
    "# _j = \"https://evantsiamalos.github.io/material/assignment_3/assignment3_tester.py\"\n",
    "# _ = urllib.request.urlopen(_j).read()\n",
    "# exec(_)\n",
    "Tester.testCase9()\n"
   ]
  },
  {
   "cell_type": "markdown",
   "metadata": {},
   "source": [
    "### The Distribution of HP\n",
    "Observe the **distribution** of the `HP` column our  DataFrame by running `df.hist()` on the `HP` column."
   ]
  },
  {
   "cell_type": "code",
   "execution_count": null,
   "metadata": {},
   "outputs": [],
   "source": [
    "df['HP'].hist()"
   ]
  },
  {
   "cell_type": "markdown",
   "metadata": {},
   "source": [
    "As we can see, this distribution is **far from normal**. This makes sense: Pokémon have varying HP. Keep this in mind as we move forward."
   ]
  },
  {
   "cell_type": "markdown",
   "metadata": {},
   "source": [
    "## Section  3.2: Catch 5\n",
    "#### This section and the next few consist of **multiple steps**. *Read carefully*.\n",
    "\n",
    "Use your `catch_average` function, simulate **1000 instances** of **catching 5 Pokémon** and calculating the average of the `HP` column.\n",
    "\n",
    "In other words, pass the values of **\"HP\"** and **5** to `catch_average`, in that order. \n",
    "\n",
    "Store the results in a DataFrame `df_5` with the column name `avg_hp`. \n",
    "\n",
    "Finally, generate a **histogram** of your `df_5` with **20 bins**. "
   ]
  },
  {
   "cell_type": "code",
   "execution_count": 279,
   "metadata": {},
   "outputs": [
    {
     "data": {
      "text/plain": [
       "<AxesSubplot:>"
      ]
     },
     "execution_count": 279,
     "metadata": {},
     "output_type": "execute_result"
    },
    {
     "data": {
      "image/png": "[encoded data removed]",
      "text/plain": [
       "<Figure size 640x480 with 1 Axes>"
      ]
     },
     "metadata": {},
     "output_type": "display_data"
    }
   ],
   "source": [
    "data= []\n",
    "\n",
    "for i in range(1000):\n",
    "    avg_hp = catch_average(\"HP\", 5)\n",
    "    d = {\"avg_hp\":avg_hp}\n",
    "    data.append(d)\n",
    "df_5 = pd.DataFrame(data)\n",
    "df_5[\"avg_hp\"].hist(bins = 20)"
   ]
  },
  {
   "cell_type": "markdown",
   "metadata": {},
   "source": [
    "## Section 3.3: Catch 10\n",
    "\n",
    "Use your `catch_average` function, simulate **1000 instances** of **catching 10 Pokémon** calculating the average of the `HP` column.\n",
    "\n",
    "Store the results in a DataFrame `df_10` with the column name `avg_hp`. \n",
    "\n",
    "Finally, generate a **histogram** of your `df_10` with **20 bins**. "
   ]
  },
  {
   "cell_type": "code",
   "execution_count": 281,
   "metadata": {},
   "outputs": [
    {
     "data": {
      "text/plain": [
       "<AxesSubplot:>"
      ]
     },
     "execution_count": 281,
     "metadata": {},
     "output_type": "execute_result"
    },
    {
     "data": {
      "image/png": "[encoded data removed]",
      "text/plain": [
       "<Figure size 640x480 with 1 Axes>"
      ]
     },
     "metadata": {},
     "output_type": "display_data"
    }
   ],
   "source": [
    "data= []\n",
    "\n",
    "for i in range(1000):\n",
    "    avg_hp = catch_average(\"HP\", 10)\n",
    "    d = {\"avg_hp\":avg_hp}\n",
    "    data.append(d)\n",
    "df_10 = pd.DataFrame(data)\n",
    "df_10[\"avg_hp\"].hist(bins = 20)"
   ]
  },
  {
   "cell_type": "markdown",
   "metadata": {},
   "source": [
    "## Section 3.4: Catch 50\n",
    "Use your `catch_average` function, simulate **1000 instances** of **catching 50 Pokémon** calculating the average of the `HP` column.\n",
    "\n",
    "Store the results in a DataFrame `df_50` with the column name `avg_hp`. \n",
    "\n",
    "Finally, generate a **histogram** of your `df_50` with **20 bins**. "
   ]
  },
  {
   "cell_type": "code",
   "execution_count": 284,
   "metadata": {},
   "outputs": [
    {
     "data": {
      "text/plain": [
       "<AxesSubplot:>"
      ]
     },
     "execution_count": 284,
     "metadata": {},
     "output_type": "execute_result"
    },
    {
     "data": {
      "image/png": "[encoded data removed]",
      "text/plain": [
       "<Figure size 640x480 with 1 Axes>"
      ]
     },
     "metadata": {},
     "output_type": "display_data"
    }
   ],
   "source": [
    "data= []\n",
    "\n",
    "for i in range(1000):\n",
    "    avg_hp = catch_average(\"HP\", 50)\n",
    "    d = {\"avg_hp\":avg_hp}\n",
    "    data.append(d)\n",
    "df_50 = pd.DataFrame(data)\n",
    "df_50[\"avg_hp\"].hist(bins = 20)"
   ]
  },
  {
   "cell_type": "markdown",
   "metadata": {},
   "source": [
    "### Analysis: Histograms\n",
    "\n",
    "**What do you notice about the histograms? Why do you see that kind of behaviour as the size of the sample $n$ increases?**"
   ]
  },
  {
   "cell_type": "markdown",
   "metadata": {},
   "source": [
    "*(✏️ Edit this cell to replace this text with your answer. ✏️)*"
   ]
  },
  {
   "cell_type": "markdown",
   "metadata": {},
   "source": [
    "<hr style=\"color: #DD3403;\">"
   ]
  },
  {
   "cell_type": "markdown",
   "metadata": {},
   "source": [
    "## **Submission**\n",
    "Download your notebook and submit it on Canvas in \"**Assignment 9**\"."
   ]
  }
 ],
 "metadata": {
  "kernelspec": {
   "display_name": "Python 3 (ipykernel)",
   "language": "python",
   "name": "python3"
  },
  "language_info": {
   "codemirror_mode": {
    "name": "ipython",
    "version": 3
   },
   "file_extension": ".py",
   "mimetype": "text/x-python",
   "name": "python",
   "nbconvert_exporter": "python",
   "pygments_lexer": "ipython3",
   "version": "3.9.13"
  },
  "vscode": {
   "interpreter": {
    "hash": "369f2c481f4da34e4445cda3fffd2e751bd1c4d706f27375911949ba6bb62e1c"
   }
  }
 },
 "nbformat": 4,
 "nbformat_minor": 2
}
