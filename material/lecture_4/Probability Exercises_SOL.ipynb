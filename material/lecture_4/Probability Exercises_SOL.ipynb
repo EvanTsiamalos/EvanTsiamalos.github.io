{
 "cells": [
  {
   "cell_type": "code",
   "execution_count": 39,
   "id": "eee32614",
   "metadata": {},
   "outputs": [],
   "source": [
    "import math as m\n",
    "tol = 1e-3\n",
    "\n",
    "class bcolors:\n",
    "    HEADER = '\\033[95m'\n",
    "    OKBLUE = '\\033[94m'\n",
    "    OKCYAN = '\\033[96m'\n",
    "    OKGREEN = '\\033[92m'\n",
    "    WARNING = '\\033[93m'\n",
    "    FAIL = '\\033[91m'\n",
    "    ENDC = '\\033[0m'\n",
    "    BOLD = '\\033[1m'\n",
    "    UNDERLINE = '\\033[4m'\n",
    "    \n",
    "class Tester:\n",
    "    def testExercise1():\n",
    "        try:\n",
    "            assert('answer_1' in globals()), \"You do not have a variable called `answer_1`.\"\n",
    "            assert answer_1 == 13/52 or m.isclose(answer_1 , 13/52,rel_tol= tol), \"Your calculation is not correct\"\n",
    "            \n",
    "            print(f\"\\N{PARTY POPPER} Correct Answer! \\N{PARTY POPPER}\")\n",
    "        except AssertionError as msg:\n",
    "            print(f'{bcolors.FAIL} ---------- ERROR ---------- {bcolors.ENDC}')\n",
    "            print(msg)\n",
    "                   \n",
    "    def solution1():\n",
    "        sol = '''\n",
    "        Answer: 13/52\n",
    "        There are 13 chances of drawing a club out of 52 possible cards. The probability of drawing a club is then 13/52.\n",
    "        '''\n",
    "        print(sol)\n",
    "        \n",
    "    def testExercise2():\n",
    "        correct_ans = 3/8\n",
    "        try:\n",
    "            assert('answer_2' in globals()\n",
    "                  ), \"You do not have a variable called `answer_2`.\"\n",
    "            assert answer_2 == correct_ans or m.isclose(answer_2 , correct_ans,rel_tol= tol), \"Your calculation is not correct\"\n",
    "            \n",
    "            print(f\"\\N{PARTY POPPER} Correct Answer! \\N{PARTY POPPER}\")\n",
    "        except AssertionError as msg:\n",
    "            print(f'{bcolors.FAIL} ---------- ERROR ---------- {bcolors.ENDC}')\n",
    "            print(msg)\n",
    "\n",
    "    def solution2():\n",
    "        sol = '''\n",
    "        Answer: 3/8\n",
    "        On one 8-sided die, there are 3 chances of the die rolling a value greater or equal to 6 out of 8 possibilities. Then, the possibility of the die rolling a value greater or equal to 6 is 6/8.       '''\n",
    "        print(sol)\n",
    "        \n",
    "    def testExercise3():\n",
    "        correct_ans = 2/4\n",
    "        try:\n",
    "            assert('answer_3' in globals()\n",
    "                  ), \"You do not have a variable called `answer_3`.\"\n",
    "            assert answer_3 == correct_ans or m.isclose(answer_3 , correct_ans,rel_tol= tol), \"Your calculation is not correct\"\n",
    "            \n",
    "            print(f\"\\N{PARTY POPPER} Correct Answer! \\N{PARTY POPPER}\")\n",
    "        except AssertionError as msg:\n",
    "            print(f'{bcolors.FAIL} ---------- ERROR ---------- {bcolors.ENDC}')\n",
    "            print(msg)\n",
    "\n",
    "    def solution3():\n",
    "        sol = '''\n",
    "        Answer: 2/4\n",
    "        On one 4-numbered wheel, there are 2 chances of the wheel lands on an even value out of 4 possibilities. Then, the possibility of the wheel lands on an even value is 2/4.'''\n",
    "        print(sol)\n",
    "        \n",
    "    def testExercise4():\n",
    "        correct_ans = 52/64\n",
    "        try:\n",
    "            assert('answer_4' in globals()\n",
    "                  ), \"You do not have a variable called `answer_4`.\"\n",
    "            assert answer_4 == correct_ans or m.isclose(answer_4 , correct_ans,rel_tol= tol), \"Your calculation is not correct\"\n",
    "            \n",
    "            print(f\"\\N{PARTY POPPER} Correct Answer! \\N{PARTY POPPER}\")\n",
    "        except AssertionError as msg:\n",
    "            print(f'{bcolors.FAIL} ---------- ERROR ---------- {bcolors.ENDC}')\n",
    "            print(msg)\n",
    "\n",
    "    def solution4():\n",
    "        sol = f'''\n",
    "        Answer: 52/64\n",
    "        Spinning two 8-numbered wheels has 64 possible outcomes. \n",
    "        There are 28 chances of at least one wheel lands on a multiple of 3 out of 64 possible spins and 40 chances of the second value is greater than or equal to 4 out of 64 possible spins. \n",
    "        The two conditions are both true for 16 possible spins. \n",
    "        Since we are finding the probability of at least one wheel lands on a multiple of 3 OR the second value is greater than or equal to 4, \n",
    "        we can use the Addition Rule and add the individual probabilities together, \n",
    "        while subtracting the probability of both being true to avoid double counting. \n",
    "        Then the probability is (28 + 40 - 16)/64 = 52/64.'''\n",
    "        print(sol)\n",
    "        \n",
    "        \n",
    "        \n",
    "        \n",
    "    def testExercise5():\n",
    "        correct_ans = 63/144\n",
    "        try:\n",
    "            assert('answer_5' in globals()\n",
    "                  ), \"You do not have a variable called `answer_5`.\"\n",
    "            assert answer_5 == correct_ans or m.isclose(answer_5 , correct_ans,rel_tol= tol), \"Your calculation is not correct\"\n",
    "            \n",
    "            print(f\"\\N{PARTY POPPER} Correct Answer! \\N{PARTY POPPER}\")\n",
    "        except AssertionError as msg:\n",
    "            print(f'{bcolors.FAIL} ---------- ERROR ---------- {bcolors.ENDC}')\n",
    "            print(msg)\n",
    "\n",
    "    def solution5():\n",
    "        sol = f'''\n",
    "        Answer: 63/144\n",
    "        Spinning two 12-numbered wheels has 144 possible outcomes. There are {2*3*12 - 9} chances of at least one wheel lands on a multiple of 4 out of 144 possible spins. Then the probability is 63/144.'''\n",
    "        print(sol)\n",
    "                                \n",
    "    def testExercise6():\n",
    "        correct_ans = 5/25\n",
    "        try:\n",
    "            assert('answer_6' in globals()\n",
    "                  ), \"You do not have a variable called `answer_6`.\"\n",
    "            assert answer_6 == correct_ans or m.isclose(answer_6 , correct_ans,rel_tol= tol), \"Your calculation is not correct\"\n",
    "            \n",
    "            print(f\"\\N{PARTY POPPER} Correct Answer! \\N{PARTY POPPER}\")\n",
    "        except AssertionError as msg:\n",
    "            print(f'{bcolors.FAIL} ---------- ERROR ---------- {bcolors.ENDC}')\n",
    "            print(msg)\n",
    "\n",
    "    def solution6():\n",
    "        sol = f'''\n",
    "        Answer: 5/25\n",
    "        Rolling two 5-sided dice has 25 possible outcomes. There are {5} chances of both dice having the same outcome. Then the probability is 5/25.'''\n",
    "        print(sol)\n",
    "\n",
    "        \n",
    "    def testExercise7():\n",
    "        correct_ans = (9+1)/36\n",
    "        try:\n",
    "            assert('answer_7' in globals()\n",
    "                  ), \"You do not have a variable called `answer_7`.\"\n",
    "            assert answer_7 == correct_ans or m.isclose(answer_7 , correct_ans,rel_tol= tol), \"Your calculation is not correct\"\n",
    "            \n",
    "            print(f\"\\N{PARTY POPPER} Correct Answer! \\N{PARTY POPPER}\")\n",
    "        except AssertionError as msg:\n",
    "            print(f'{bcolors.FAIL} ---------- ERROR ---------- {bcolors.ENDC}')\n",
    "            print(msg)\n",
    "\n",
    "    def solution7():\n",
    "        sol = f'''\n",
    "        Answer: 10/36\n",
    "        Rolling two 6-sided dice has 36 possible outcomes. \n",
    "        There are {9} chances of both dice having even numbers and 1 chance of both dice having the outcome 1. Those events are disjoint. \n",
    "        Then the probability is (9+1)/36 = 10/36.'''\n",
    "        print(sol)\n",
    "        \n",
    "        \n",
    "    def testExercise8():\n",
    "        correct_ans = (13+13)/52\n",
    "        try:\n",
    "            assert('answer_8' in globals()\n",
    "                  ), \"You do not have a variable called `answer_8`.\"\n",
    "            assert answer_8 == correct_ans or m.isclose(answer_8 , correct_ans,rel_tol= tol), \"Your calculation is not correct\"\n",
    "            \n",
    "            print(f\"\\N{PARTY POPPER} Correct Answer! \\N{PARTY POPPER}\")\n",
    "        except AssertionError as msg:\n",
    "            print(f'{bcolors.FAIL} ---------- ERROR ---------- {bcolors.ENDC}')\n",
    "            print(msg)\n",
    "\n",
    "    def solution8():\n",
    "        sol = f'''\n",
    "        Answer: {13+13}/{52} \n",
    "        There are {13} chances of drawing a spade and 13 chances of drawing a diamond. Those events are disjoint. \n",
    "        Then the probability is (13+13)/52 = 26/52.'''\n",
    "        print(sol)\n",
    "\n",
    "        \n",
    "    def testExercise9():\n",
    "        correct_ans = 1-(32*31*30)/(94*93*92)\n",
    "        try:\n",
    "            assert('answer_9' in globals()\n",
    "                  ), \"You do not have a variable called `answer_9`.\"\n",
    "            assert answer_9 == correct_ans or m.isclose(answer_9 , correct_ans,rel_tol= tol), \"Your calculation is not correct\"\n",
    "            \n",
    "            print(f\"\\N{PARTY POPPER} Correct Answer! \\N{PARTY POPPER}\")\n",
    "        except AssertionError as msg:\n",
    "            print(f'{bcolors.FAIL} ---------- ERROR ---------- {bcolors.ENDC}')\n",
    "            print(msg)\n",
    "\n",
    "    def solution9():\n",
    "        sol = f'''\n",
    "        Answer: 1 -  (32*31*30) / (94 * 93 * 92)\n",
    "        \n",
    "        \n",
    "        We use the complement rule: P(AT LEAST ONE student is a coffee drinker) = 1 - P(NONE of those 3 is a coffee drinker)\n",
    "        \n",
    "        In order to calculate P(NONE of those 3 is a coffee drinker) when choosing students without replacement we have:\n",
    "        - First student: 32 chances for NOT COFFEE DRINKER out of 34 students\n",
    "        - Second student: 31 chances for NOT COFFEE DRINKER out of 33 students (because we have already selected one)\n",
    "        - Third student: 30 chances for NOT COFFEE DRINKER out of 32 students (because we have already selected two)\n",
    "        \n",
    "        So P(AT LEAST ONE student is a coffee drinker) = (32* 31*30)/(94*93*92)\n",
    "        and the P(AT LEAST ONE student is a coffee drinker) = 1 - (32* 31*30)/(94*93*92)\n",
    "        '''\n",
    "        print(sol)\n",
    "\n",
    "        \n",
    "    def testExercise9():\n",
    "        correct_ans = 1-(32*31*30)/(94*93*92)\n",
    "        try:\n",
    "            assert('answer_9' in globals()\n",
    "                  ), \"You do not have a variable called `answer_9`.\"\n",
    "            assert answer_9 == correct_ans or m.isclose(answer_9 , correct_ans,rel_tol= tol), \"Your calculation is not correct\"\n",
    "            \n",
    "            print(f\"\\N{PARTY POPPER} Correct Answer! \\N{PARTY POPPER}\")\n",
    "        except AssertionError as msg:\n",
    "            print(f'{bcolors.FAIL} ---------- ERROR ---------- {bcolors.ENDC}')\n",
    "            print(msg)\n",
    "\n",
    "    def solution9():\n",
    "        sol = f'''\n",
    "        Answer: 1 -  (32*31*30) / (94 * 93 * 92)\n",
    "        \n",
    "        \n",
    "        We use the complement rule: P(AT LEAST ONE student is a coffee drinker) = 1 - P(NONE of those 3 is a coffee drinker)\n",
    "        \n",
    "        In order to calculate P(NONE of those 3 is a coffee drinker) when choosing students without replacement we have:\n",
    "        - First student: 32 chances for NOT COFFEE DRINKER out of 34 students\n",
    "        - Second student: 31 chances for NOT COFFEE DRINKER out of 33 students (because we have already selected one)\n",
    "        - Third student: 30 chances for NOT COFFEE DRINKER out of 32 students (because we have already selected two)\n",
    "        \n",
    "        So P(AT LEAST ONE student is a coffee drinker) = (32* 31*30)/(94*93*92)\n",
    "        and the P(AT LEAST ONE student is a coffee drinker) = 1 - (32* 31*30)/(94*93*92)\n",
    "        '''\n",
    "        print(sol)\n",
    "\n",
    "    def testExercise10():\n",
    "        correct_ans = 1-(1/2)**3\n",
    "        try:\n",
    "            assert('answer_10' in globals()\n",
    "                  ), \"You do not have a variable called `answer_10`.\"\n",
    "            assert answer_10 == correct_ans or m.isclose(answer_10 , correct_ans,rel_tol= tol), \"Your calculation is not correct\"\n",
    "            \n",
    "            print(f\"\\N{PARTY POPPER} Correct Answer! \\N{PARTY POPPER}\")\n",
    "        except AssertionError as msg:\n",
    "            print(f'{bcolors.FAIL} ---------- ERROR ---------- {bcolors.ENDC}')\n",
    "            print(msg)\n",
    "\n",
    "    def solution10():\n",
    "        sol = f'''\n",
    "        Answer: 1 -  (1/2)**3\n",
    "        \n",
    "        \n",
    "        We use the complement rule: P(AT LEAST ONE question correct) = 1 - P(ALL questions incorrect).\n",
    "        \n",
    "    \n",
    "\n",
    "        In order to calculate P(ALL questions incorrect) we do the following:\n",
    "        \n",
    "        - we write P(ALL questions incorrect) = \n",
    "            P(1st question incorrect AND 2nd question incorrect AND 3rd question incorrect)\n",
    "        \n",
    "        - Due to independence of the questions, we write\n",
    "          P(1st Q incorrect AND 2nd Q incorrect AND 3rd Q incorrect) = \n",
    "          P(1st Q incorrect) * P(2nd Q incorrect) * P(3rd Q incorrect)\n",
    "          \n",
    "        - For each question, the probability of getting the wrong answer is 1/2\n",
    "        \n",
    "        - So P(1st Q incorrect AND 2nd Q incorrect AND 3rd Q incorrect) =\n",
    "          (1/2) * (1/2) * (1/2) = (1/2)**3\n",
    "        \n",
    "        - and the probability P(AT LEAST ONE question correct) = 1 - (1/2)**3 \n",
    "        \n",
    "        '''\n",
    "        print(sol)\n",
    "     \n",
    "    def testExercise11():\n",
    "        correct_ans = 1-(2*13/52 - (13/52)*(12/51))\n",
    "        try:\n",
    "            assert('answer_11' in globals()\n",
    "                  ), \"You do not have a variable called `answer_11`.\"\n",
    "            assert answer_11 == correct_ans or m.isclose(answer_11 , correct_ans,rel_tol= tol), \"Your calculation is not correct\"\n",
    "            \n",
    "            print(f\"\\N{PARTY POPPER} Correct Answer! \\N{PARTY POPPER}\")\n",
    "        except AssertionError as msg:\n",
    "            print(f'{bcolors.FAIL} ---------- ERROR ---------- {bcolors.ENDC}')\n",
    "            print(msg)\n",
    "\n",
    "    def solution11():\n",
    "        sol = f'''\n",
    "        Answer: 1-(13/52 + 13/52 - (13/52)*(12/51))\n",
    "        \n",
    "        \n",
    "        We use the complement rule: P(BOTH cards are NOT diamonds) = 1 - P(AT LEAST ONE card is a diamond).\n",
    "        \n",
    "    \n",
    "\n",
    "        In order to calculate P(AT LEAST ONE card is a diamond) we do the following:\n",
    "        \n",
    "        - we write P(AT LEAST ONE card is a diamond) = \n",
    "            P(1st card diamond OR 2nd card diamond)\n",
    "        \n",
    "        - We use the addition rule:\n",
    "            P(1st card diamond OR 2nd card diamond) = \n",
    "            P(1st card diamond) + P(2nd card diamond) - P(Both cards diamonds)\n",
    "            \n",
    "            - P(1st card diamond) = 13/52\n",
    "            - P(2nd card diamond) = 13/52\n",
    "            \n",
    "            - for P(Both cards diamonds), we have that for the first draw, we have\n",
    "                13 choices out of 52 and for the second draw we have 12 choices out \n",
    "                of 51 (beacuse we have already taken a diamond out from the first draw).\n",
    "                \n",
    "                So  P(Both cards diamonds) = (13/52)(12/51)\n",
    "      \n",
    "        - Finally we put it together:\n",
    "            P(BOTH cards are NOT diamonds) = 1 - (13/52 + 13/52 - (13/52)(12/51))\n",
    "            \n",
    "        '''\n",
    "        print(sol)\n",
    "\n",
    "        \n",
    "     \n",
    "    def testExercise12():\n",
    "        correct_ans = 0.7*0.3*0.7*0.3\n",
    "        try:\n",
    "            assert('answer_12' in globals()\n",
    "                  ), \"You do not have a variable called `answer_12`.\"\n",
    "            assert answer_12 == correct_ans or m.isclose(answer_12 , correct_ans,rel_tol= tol), \"Your calculation is not correct\"\n",
    "            \n",
    "            print(f\"\\N{PARTY POPPER} Correct Answer! \\N{PARTY POPPER}\")\n",
    "        except AssertionError as msg:\n",
    "            print(f'{bcolors.FAIL} ---------- ERROR ---------- {bcolors.ENDC}')\n",
    "            print(msg)\n",
    "\n",
    "    def solution12():\n",
    "        sol = f'''\n",
    "        Answer:  0.3 * 0.7 * 0.3 * 0.7\n",
    "        \n",
    "        These are four independent tosses, so we use the multiplication rule.\n",
    "        For each coin flip, P(H) = 0.7 and P(T) = 0.3.\n",
    "        \n",
    "        '''\n",
    "        print(sol)\n",
    "        \n",
    "        \n",
    "    def testExercise13():\n",
    "        correct_ans = (1/5)**3\n",
    "        try:\n",
    "            assert('answer_13' in globals()\n",
    "                  ), \"You do not have a variable called `answer_13`.\"\n",
    "            assert answer_13 == correct_ans or m.isclose(answer_13 , correct_ans,rel_tol= tol), \"Your calculation is not correct\"\n",
    "            \n",
    "            print(f\"\\N{PARTY POPPER} Correct Answer! \\N{PARTY POPPER}\")\n",
    "        except AssertionError as msg:\n",
    "            print(f'{bcolors.FAIL} ---------- ERROR ---------- {bcolors.ENDC}')\n",
    "            print(msg)\n",
    "\n",
    "    def solution13():\n",
    "        sol = f'''\n",
    "        Answer:  (1/5)**3\n",
    "        \n",
    "        These are 3 independent questions, so we use the multiplication rule.\n",
    "        For each question, P(right answer) = 1/5.\n",
    "        \n",
    "        '''\n",
    "        print(sol)\n",
    "        \n",
    "    def testExercise14():\n",
    "        correct_ans = 1 - (14/20)**3\n",
    "        try:\n",
    "            assert('answer_14' in globals()\n",
    "                  ), \"You do not have a variable called `answer_14`.\"\n",
    "            assert answer_14 == correct_ans or m.isclose(answer_14 , correct_ans,rel_tol= tol), \"Your calculation is not correct\"\n",
    "            \n",
    "            print(f\"\\N{PARTY POPPER} Correct Answer! \\N{PARTY POPPER}\")\n",
    "        except AssertionError as msg:\n",
    "            print(f'{bcolors.FAIL} ---------- ERROR ---------- {bcolors.ENDC}')\n",
    "            print(msg)\n",
    "\n",
    "    def solution14():\n",
    "        sol = f'''\n",
    "        Answer:  1 - (14/20)**3\n",
    "        \n",
    "        We use the complement rule: P(at least one red) = 1 - P(all three tickets are NOT red)\n",
    "        \n",
    "        For P(all three tickets are NOT red) = P(1st not red AND 2nd not red AND 3rd not red)\n",
    "        we use the multiplication rule: \n",
    "        \n",
    "        \n",
    "        P(1st not red AND 2nd not red AND 3rd not red) = \n",
    "        P(1st not red) * P(2nd not red) * P(3rd not red) =\n",
    "        (14/20) * (14/20)* (14/20) = (14/20)**3 \n",
    "        '''\n",
    "        print(sol)\n",
    "        \n",
    "    def testExercise15():\n",
    "        correct_ans = 1 - (14/20)**3\n",
    "        try:\n",
    "            assert('answer_14' in globals()\n",
    "                  ), \"You do not have a variable called `answer_14`.\"\n",
    "            assert answer_14 == correct_ans or m.isclose(answer_14 , correct_ans,rel_tol= tol), \"Your calculation is not correct\"\n",
    "            \n",
    "            print(f\"\\N{PARTY POPPER} Correct Answer! \\N{PARTY POPPER}\")\n",
    "        except AssertionError as msg:\n",
    "            print(f'{bcolors.FAIL} ---------- ERROR ---------- {bcolors.ENDC}')\n",
    "            print(msg)\n",
    "\n",
    "    def solution15():\n",
    "        sol = f'''\n",
    "        Answer:  1 - (14/20)**3\n",
    "        \n",
    "        We use the complement rule: P(at least one red) = 1 - P(all three tickets are NOT red)\n",
    "        \n",
    "        For P(all three tickets are NOT red) = P(1st not red AND 2nd not red AND 3rd not red)\n",
    "        we use the multiplication rule: \n",
    "        \n",
    "        \n",
    "        P(1st not red AND 2nd not red AND 3rd not red) = \n",
    "        P(1st not red) * P(2nd not red) * P(3rd not red) =\n",
    "        (14/20) * (14/20)* (14/20) = (14/20)**3 \n",
    "        '''\n",
    "        print(sol)"
   ]
  },
  {
   "cell_type": "markdown",
   "id": "a9af3fb2",
   "metadata": {},
   "source": [
    "# Exercises in Probability\n"
   ]
  },
  {
   "cell_type": "markdown",
   "id": "3e2fe99a",
   "metadata": {},
   "source": [
    "\n",
    "# Exercise 1\n",
    "You draw a single card from a standard 52-card deck (52 total cards, 4 suits each with 13 possible values: ace, two, king, etc). What is the probability of drawing a club? You can express your answer as a fraction or a decimal. If you asnwer in decimal, include at least 3 NON-ZERO digits after the decimal point."
   ]
  },
  {
   "cell_type": "code",
   "execution_count": 6,
   "id": "0c100eee",
   "metadata": {},
   "outputs": [
    {
     "data": {
      "text/plain": [
       "0.25"
      ]
     },
     "execution_count": 6,
     "metadata": {},
     "output_type": "execute_result"
    }
   ],
   "source": [
    "answer_1 = 13/52\n",
    "answer_1"
   ]
  },
  {
   "cell_type": "code",
   "execution_count": 8,
   "id": "7c0f5ac1",
   "metadata": {},
   "outputs": [
    {
     "name": "stdout",
     "output_type": "stream",
     "text": [
      "🎉 Correct Answer! 🎉\n",
      "\n",
      "        Answer: 13/52\n",
      "        There are 13 chances of drawing a club out of 52 possible cards. The probability of drawing a club is then 13/52.\n",
      "        \n"
     ]
    }
   ],
   "source": [
    "####### TEST EXERCISE ########\n",
    "Tester.testExercise1()\n",
    "\n",
    "Tester.solution1()"
   ]
  },
  {
   "cell_type": "markdown",
   "id": "2227b932",
   "metadata": {},
   "source": [
    "\n",
    "# Exercise 2\n",
    "You roll a 8-sided die. What is the probability of the die rolling a value greater than or equal to 6? You can express your answer as a fraction or a decimal. If you asnwer in decimal, include at least 3 NON-ZERO digits after the decimal point.\n"
   ]
  },
  {
   "cell_type": "code",
   "execution_count": 11,
   "id": "7e3d5b07",
   "metadata": {},
   "outputs": [
    {
     "data": {
      "text/plain": [
       "0.375"
      ]
     },
     "execution_count": 11,
     "metadata": {},
     "output_type": "execute_result"
    }
   ],
   "source": [
    "answer_2 = 3/8\n",
    "answer_2"
   ]
  },
  {
   "cell_type": "code",
   "execution_count": 13,
   "id": "f9474c9d",
   "metadata": {},
   "outputs": [
    {
     "name": "stdout",
     "output_type": "stream",
     "text": [
      "🎉 Correct Answer! 🎉\n",
      "\n",
      "        Answer: 3/8\n",
      "        On one 8-sided die, there are 3 chances of the die rolling a value greater or equal to 6 out of 8 possibilities. Then, the possibility of the die rolling a value greater or equal to 6 is 6/8.       \n"
     ]
    }
   ],
   "source": [
    "####### TEST EXERCISE ########\n",
    "Tester.testExercise2()\n",
    "\n",
    "Tester.solution2()"
   ]
  },
  {
   "cell_type": "markdown",
   "id": "4b7c4b30",
   "metadata": {},
   "source": [
    "\n",
    "# Exercise 3\n",
    "You spin a wheel with equal size wedges labeled with numbers 1 through 4. What is the probability that the wheel lands on an even value?"
   ]
  },
  {
   "cell_type": "code",
   "execution_count": 16,
   "id": "32b285a1",
   "metadata": {},
   "outputs": [
    {
     "data": {
      "text/plain": [
       "0.5"
      ]
     },
     "execution_count": 16,
     "metadata": {},
     "output_type": "execute_result"
    }
   ],
   "source": [
    "answer_3 = 2/4\n",
    "answer_3"
   ]
  },
  {
   "cell_type": "code",
   "execution_count": 18,
   "id": "88c6009f",
   "metadata": {},
   "outputs": [
    {
     "name": "stdout",
     "output_type": "stream",
     "text": [
      "🎉 Correct Answer! 🎉\n",
      "\n",
      "        Answer: 2/4\n",
      "        On one 4-numbered wheel, there are 2 chances of the wheel lands on an even value out of 4 possibilities. Then, the possibility of the wheel lands on an even value is 2/4.\n"
     ]
    }
   ],
   "source": [
    "\n",
    "####### TEST EXERCISE ########\n",
    "Tester.testExercise3()\n",
    "\n",
    "Tester.solution3()"
   ]
  },
  {
   "cell_type": "markdown",
   "id": "19cc9a8d",
   "metadata": {},
   "source": [
    "\n",
    "\n",
    "\n",
    "# Exercise 4\n",
    "You spin two wheels with equal size wedges labeled with numbers 1 through 8. What is the probability that at least one wheel lands on a multiple of 3 OR the first value is greater than or equal to 4?\n"
   ]
  },
  {
   "cell_type": "code",
   "execution_count": 21,
   "id": "1660e057",
   "metadata": {},
   "outputs": [
    {
     "data": {
      "text/plain": [
       "0.8125"
      ]
     },
     "execution_count": 21,
     "metadata": {},
     "output_type": "execute_result"
    }
   ],
   "source": [
    "answer_4 = (28 + 40 - 16)/64\n",
    "answer_4"
   ]
  },
  {
   "cell_type": "code",
   "execution_count": 28,
   "id": "44b2e361",
   "metadata": {},
   "outputs": [
    {
     "name": "stdout",
     "output_type": "stream",
     "text": [
      "🎉 Correct Answer! 🎉\n",
      "\n",
      "        Answer: 52/64\n",
      "        Spinning two 8-numbered wheels has 64 possible outcomes. \n",
      "        There are 28 chances of at least one wheel lands on a multiple of 3 out of 64 possible spins and 40 chances of the second value is greater than or equal to 4 out of 64 possible spins. \n",
      "        The two conditions are both true for 16 possible spins. \n",
      "        Since we are finding the probability of at least one wheel lands on a multiple of 3 OR the second value is greater than or equal to 4, \n",
      "        we can use the Addition Rule and add the individual probabilities together, \n",
      "        while subtracting the probability of both being true to avoid double counting. \n",
      "        Then the probability is (28 + 40 - 16)/64 = 52/64.\n"
     ]
    }
   ],
   "source": [
    "\n",
    "####### TEST EXERCISE ########\n",
    "Tester.testExercise4()\n",
    "\n",
    "Tester.solution4()"
   ]
  },
  {
   "cell_type": "markdown",
   "id": "09b835af",
   "metadata": {},
   "source": [
    "\n",
    "# Exercise 5\n",
    "You spin two wheels with equal size wedges labeled with numbers 1 through 12. What is the probability that at least one wheel lands on a multiple of 4 ?"
   ]
  },
  {
   "cell_type": "code",
   "execution_count": 31,
   "id": "518d22d6",
   "metadata": {},
   "outputs": [
    {
     "data": {
      "text/plain": [
       "0.4375"
      ]
     },
     "execution_count": 31,
     "metadata": {},
     "output_type": "execute_result"
    }
   ],
   "source": [
    "answer_5 = (3*12 + 3*12 - 9)/12**2\n",
    "answer_5"
   ]
  },
  {
   "cell_type": "code",
   "execution_count": 40,
   "id": "c608cde8",
   "metadata": {},
   "outputs": [
    {
     "name": "stdout",
     "output_type": "stream",
     "text": [
      "🎉 Correct Answer! 🎉\n",
      "\n",
      "        Answer: 63/144\n",
      "        Spinning two 12-numbered wheels has 144 possible outcomes. There are 63 chances of at least one wheel lands on a multiple of 4 out of 144 possible spins. Then the probability is 63/144.\n"
     ]
    }
   ],
   "source": [
    "\n",
    "####### TEST EXERCISE ########\n",
    "Tester.testExercise5()\n",
    "\n",
    "Tester.solution5()"
   ]
  },
  {
   "cell_type": "markdown",
   "id": "26ad0fc9",
   "metadata": {},
   "source": [
    "\n",
    "# Exercise 6\n",
    "You roll two 5-sided dice. What is the probability of both dice rolling the same value?"
   ]
  },
  {
   "cell_type": "code",
   "execution_count": 41,
   "id": "1e6f94e7",
   "metadata": {},
   "outputs": [
    {
     "data": {
      "text/plain": [
       "0.2"
      ]
     },
     "execution_count": 41,
     "metadata": {},
     "output_type": "execute_result"
    }
   ],
   "source": [
    "answer_6 = 5/25\n",
    "answer_6"
   ]
  },
  {
   "cell_type": "code",
   "execution_count": 43,
   "id": "c31ce281",
   "metadata": {},
   "outputs": [
    {
     "name": "stdout",
     "output_type": "stream",
     "text": [
      "🎉 Correct Answer! 🎉\n",
      "\n",
      "        Answer: 5/25\n",
      "        Rolling two 5-sided dice has 25 possible outcomes. There are 5 chances of both dice having the same outcome. Then the probability is 5/25.\n"
     ]
    }
   ],
   "source": [
    "\n",
    "####### TEST EXERCISE ########\n",
    "Tester.testExercise6()\n",
    "\n",
    "Tester.solution6()"
   ]
  },
  {
   "cell_type": "markdown",
   "id": "d7fc356b",
   "metadata": {},
   "source": [
    "\n",
    "\n",
    "# Exercise 7\n",
    "You roll two 6-sided dice. What is the probability of both dice rolling even values OR both die rolling the value 1?"
   ]
  },
  {
   "cell_type": "code",
   "execution_count": 44,
   "id": "9a8bedb3",
   "metadata": {},
   "outputs": [
    {
     "data": {
      "text/plain": [
       "0.2777777777777778"
      ]
     },
     "execution_count": 44,
     "metadata": {},
     "output_type": "execute_result"
    }
   ],
   "source": [
    "answer_7 = (3*3  + 1)/36\n",
    "answer_7"
   ]
  },
  {
   "cell_type": "code",
   "execution_count": 46,
   "id": "e0108f76",
   "metadata": {},
   "outputs": [
    {
     "name": "stdout",
     "output_type": "stream",
     "text": [
      "🎉 Correct Answer! 🎉\n",
      "\n",
      "        Answer: 10/36\n",
      "        Rolling two 6-sided dice has 36 possible outcomes. \n",
      "        There are 9 chances of both dice having even numbers and 1 chance of both dice having the outcome 1. Those events are disjoint. \n",
      "        Then the probability is (9+1)/36 = 10/36.\n"
     ]
    }
   ],
   "source": [
    "\n",
    "####### TEST EXERCISE ########\n",
    "Tester.testExercise7()\n",
    "\n",
    "Tester.solution7()"
   ]
  },
  {
   "cell_type": "markdown",
   "id": "1ce5e4f2",
   "metadata": {},
   "source": [
    "\n",
    "# Exericse 8\n",
    "You draw a single card from a standard 52-card deck (52 total cards, 4 suits each with 13 possible values: ace, two, king, etc). What is the probability of drawing a spade OR drawing a diamond?\n",
    "\n"
   ]
  },
  {
   "cell_type": "code",
   "execution_count": 47,
   "id": "a7d1923b",
   "metadata": {},
   "outputs": [
    {
     "data": {
      "text/plain": [
       "0.5"
      ]
     },
     "execution_count": 47,
     "metadata": {},
     "output_type": "execute_result"
    }
   ],
   "source": [
    "answer_8 = (13+13)/52\n",
    "answer_8"
   ]
  },
  {
   "cell_type": "code",
   "execution_count": 50,
   "id": "b5830116",
   "metadata": {},
   "outputs": [
    {
     "name": "stdout",
     "output_type": "stream",
     "text": [
      "🎉 Correct Answer! 🎉\n",
      "\n",
      "        Answer: 26/52 \n",
      "        There are 13 chances of drawing a spade and 13 chances of drawing a diamond. Those events are disjoint. \n",
      "        Then the probability is (13+13)/52 = 26/52.\n"
     ]
    }
   ],
   "source": [
    "\n",
    "####### TEST EXERCISE ########\n",
    "Tester.testExercise8()\n",
    "\n",
    "Tester.solution8()"
   ]
  },
  {
   "cell_type": "markdown",
   "id": "9013152d",
   "metadata": {},
   "source": [
    "# Exercise 9\n",
    "A study is conducted on a group of 94 freshmen at a university from the Statistics and Computer Science departments. Each student is asked whether they drink coffee or not. The results are recorded in the following table:\n",
    "\n",
    "| |**Coffee Drinkers**|**Not coffee drinkers**| **Total**|\n",
    "|-|-|-|-|\n",
    "|**Computer Science**|29|10|39|\n",
    "|**Statistics**|33|22|55|\n",
    "|**Total**|62|32|94|\n",
    "\n",
    "Draw 3 students WITHOUT replacement. What is the probability that AT LEAST ONE student is a coffee drinker?"
   ]
  },
  {
   "cell_type": "code",
   "execution_count": 52,
   "id": "61e7860f",
   "metadata": {},
   "outputs": [
    {
     "data": {
      "text/plain": [
       "0.9629972247918593"
      ]
     },
     "execution_count": 52,
     "metadata": {},
     "output_type": "execute_result"
    }
   ],
   "source": [
    "answer_9 = 1-(32/94)*(31/93)*(30/92)\n",
    "answer_9"
   ]
  },
  {
   "cell_type": "code",
   "execution_count": 55,
   "id": "e78b93e2",
   "metadata": {},
   "outputs": [
    {
     "name": "stdout",
     "output_type": "stream",
     "text": [
      "🎉 Correct Answer! 🎉\n",
      "\n",
      "        Answer: 1 -  (32*31*30) / (94 * 93 * 92)\n",
      "        \n",
      "        \n",
      "        We use the complement rule: P(AT LEAST ONE student is a coffee drinker) = 1 - P(NONE of those 3 is a coffee drinker)\n",
      "        \n",
      "        In order to calculate P(NONE of those 3 is a coffee drinker) when choosing students without replacement we have:\n",
      "        - First student: 32 chances for NOT COFFEE DRINKER out of 34 students\n",
      "        - Second student: 31 chances for NOT COFFEE DRINKER out of 33 students (because we have already selected one)\n",
      "        - Third student: 30 chances for NOT COFFEE DRINKER out of 32 students (because we have already selected two)\n",
      "        \n",
      "        So P(AT LEAST ONE student is a coffee drinker) = (32* 31*30)/(94*93*92)\n",
      "        and the P(AT LEAST ONE student is a coffee drinker) = 1 - (32* 31*30)/(94*93*92)\n",
      "        \n"
     ]
    }
   ],
   "source": [
    "\n",
    "####### TEST EXERCISE ########\n",
    "Tester.testExercise9()\n",
    "\n",
    "Tester.solution9()"
   ]
  },
  {
   "cell_type": "markdown",
   "id": "00c62cea",
   "metadata": {},
   "source": [
    "\n",
    "# Exercise 10\n",
    "In another one of your classes, you are taking an exam with 3 **independent** true/false questions. If you guess randomly on each question, what is the probability that you answer correctly to at least one of the questions?\n"
   ]
  },
  {
   "cell_type": "code",
   "execution_count": 56,
   "id": "612c258f",
   "metadata": {},
   "outputs": [
    {
     "data": {
      "text/plain": [
       "0.875"
      ]
     },
     "execution_count": 56,
     "metadata": {},
     "output_type": "execute_result"
    }
   ],
   "source": [
    "answer_10 = 1-(1/2)**3\n",
    "answer_10"
   ]
  },
  {
   "cell_type": "code",
   "execution_count": 58,
   "id": "cd289180",
   "metadata": {},
   "outputs": [
    {
     "name": "stdout",
     "output_type": "stream",
     "text": [
      "🎉 Correct Answer! 🎉\n",
      "\n",
      "        Answer: 1 -  (1/2)**3\n",
      "        \n",
      "        \n",
      "        We use the complement rule: P(AT LEAST ONE question correct) = 1 - P(ALL questions incorrect).\n",
      "        \n",
      "    \n",
      "\n",
      "        In order to calculate P(ALL questions incorrect) we do the following:\n",
      "        \n",
      "        - we write P(ALL questions incorrect) = \n",
      "            P(1st question incorrect AND 2nd question incorrect AND 3rd question incorrect)\n",
      "        \n",
      "        - Due to independence of the questions, we write\n",
      "          P(1st Q incorrect AND 2nd Q incorrect AND 3rd Q incorrect) = \n",
      "          P(1st Q incorrect) * P(2nd Q incorrect) * P(3rd Q incorrect)\n",
      "          \n",
      "        - For each question, the probability of getting the wrong answer is 1/2\n",
      "        \n",
      "        - So P(1st Q incorrect AND 2nd Q incorrect AND 3rd Q incorrect) =\n",
      "          (1/2) * (1/2) * (1/2) = (1/2)**3\n",
      "        \n",
      "        - and the probability P(AT LEAST ONE question correct) = 1 - (1/2)**3 \n",
      "        \n",
      "        \n"
     ]
    }
   ],
   "source": [
    "\n",
    "####### TEST EXERCISE ########\n",
    "Tester.testExercise10()\n",
    "\n",
    "Tester.solution10()"
   ]
  },
  {
   "cell_type": "markdown",
   "id": "9dfec0d3",
   "metadata": {},
   "source": [
    "\n",
    "# Exercise 11\n",
    "This question pertains to a standard 52-card deck (52 total cards, 4 suits each with 13 possible values: ace, two, king, etc). You draw two cards at random WITHOUT replacement. What is the probability that both cards are not diamonds?"
   ]
  },
  {
   "cell_type": "code",
   "execution_count": 73,
   "id": "4945fb01",
   "metadata": {},
   "outputs": [
    {
     "data": {
      "text/plain": [
       "0.5588235294117647"
      ]
     },
     "execution_count": 73,
     "metadata": {},
     "output_type": "execute_result"
    }
   ],
   "source": [
    "answer_11 = 39/52 * 38/51\n",
    "answer_11"
   ]
  },
  {
   "cell_type": "code",
   "execution_count": 74,
   "id": "f03f6f24",
   "metadata": {},
   "outputs": [
    {
     "name": "stdout",
     "output_type": "stream",
     "text": [
      "🎉 Correct Answer! 🎉\n",
      "\n",
      "        Answer: 1-(13/52 + 13/52 - (13/52)*(12/51))\n",
      "        \n",
      "        \n",
      "        We use the complement rule: P(BOTH cards are NOT diamonds) = 1 - P(AT LEAST ONE card is a diamond).\n",
      "        \n",
      "    \n",
      "\n",
      "        In order to calculate P(AT LEAST ONE card is a diamond) we do the following:\n",
      "        \n",
      "        - we write P(AT LEAST ONE card is a diamond) = \n",
      "            P(1st card diamond OR 2nd card diamond)\n",
      "        \n",
      "        - We use the addition rule:\n",
      "            P(1st card diamond OR 2nd card diamond) = \n",
      "            P(1st card diamond) + P(2nd card diamond) - P(Both cards diamonds)\n",
      "            \n",
      "            - P(1st card diamond) = 13/52\n",
      "            - P(2nd card diamond) = 13/52\n",
      "            \n",
      "            - for P(Both cards diamonds), we have that for the first draw, we have\n",
      "                13 choices out of 52 and for the second draw we have 12 choices out \n",
      "                of 51 (beacuse we have already taken a diamond out from the first draw).\n",
      "                \n",
      "                So  P(Both cards diamonds) = (13/52)(12/51)\n",
      "      \n",
      "        - Finally we put it together:\n",
      "            P(BOTH cards are NOT diamonds) = 1 - (13/52 + 13/52 - (13/52)(12/51))\n",
      "            \n",
      "        \n"
     ]
    }
   ],
   "source": [
    "\n",
    "####### TEST EXERCISE ########\n",
    "Tester.testExercise11()\n",
    "\n",
    "Tester.solution11()"
   ]
  },
  {
   "cell_type": "markdown",
   "id": "0b2bf754",
   "metadata": {},
   "source": [
    "\n",
    "\n",
    "\n",
    "# Exercise 12\n",
    "This question pertains to tossing a coin with $P(H) = 0.7$ and $P(T) = 0.3$.\n",
    "\n",
    "What is the probability of getting this particular sequence: THTH."
   ]
  },
  {
   "cell_type": "code",
   "execution_count": 75,
   "id": "4c72efd7",
   "metadata": {},
   "outputs": [
    {
     "data": {
      "text/plain": [
       "0.0441"
      ]
     },
     "execution_count": 75,
     "metadata": {},
     "output_type": "execute_result"
    }
   ],
   "source": [
    "answer_12 = 0.3*0.7*0.3*0.7\n",
    "answer_12"
   ]
  },
  {
   "cell_type": "code",
   "execution_count": 77,
   "id": "6d6e96a4",
   "metadata": {},
   "outputs": [
    {
     "name": "stdout",
     "output_type": "stream",
     "text": [
      "🎉 Correct Answer! 🎉\n",
      "\n",
      "        Answer:  0.3 * 0.7 * 0.3 * 0.7\n",
      "        \n",
      "        These are four independent tosses, so we use the multiplication rule.\n",
      "        For each coin flip, P(H) = 0.7 and P(T) = 0.3.\n",
      "        \n",
      "        \n"
     ]
    }
   ],
   "source": [
    "\n",
    "####### TEST EXERCISE ########\n",
    "Tester.testExercise12()\n",
    "\n",
    "Tester.solution12()"
   ]
  },
  {
   "cell_type": "markdown",
   "id": "50f5d518",
   "metadata": {},
   "source": [
    "\n",
    "# Exercise 13\n",
    "In another one of your classes, you are taking an exam with 3 independent multiple choice questions. Each question has five possible answers, (A), (B), (C), (D), and (E) and only one of the five answers is correct. If you guess randomly on each question, what is the probability that you answer all of the questions correctly?"
   ]
  },
  {
   "cell_type": "code",
   "execution_count": 78,
   "id": "1cd71ec9",
   "metadata": {},
   "outputs": [
    {
     "data": {
      "text/plain": [
       "0.008000000000000002"
      ]
     },
     "execution_count": 78,
     "metadata": {},
     "output_type": "execute_result"
    }
   ],
   "source": [
    "answer_13 = (1/5)**3\n",
    "answer_13"
   ]
  },
  {
   "cell_type": "code",
   "execution_count": 81,
   "id": "54fc5e65",
   "metadata": {},
   "outputs": [
    {
     "name": "stdout",
     "output_type": "stream",
     "text": [
      "🎉 Correct Answer! 🎉\n",
      "\n",
      "        Answer:  (1/5)**3\n",
      "        \n",
      "        These are 3 independent questions, so we use the multiplication rule.\n",
      "        For each question, P(right answer) = 1/5.\n",
      "        \n",
      "        \n"
     ]
    }
   ],
   "source": [
    "\n",
    "####### TEST EXERCISE ########\n",
    "Tester.testExercise13()\n",
    "\n",
    "Tester.solution13()"
   ]
  },
  {
   "cell_type": "markdown",
   "id": "77ea62a1",
   "metadata": {},
   "source": [
    "\n",
    "# Exercise 14\n",
    "A box has 20 tickets; 10 blue, 6 red, and 4 yellow. What is the chance of drawing 3 tickets with replacement and getting at least one red?"
   ]
  },
  {
   "cell_type": "code",
   "execution_count": 82,
   "id": "4131d255",
   "metadata": {},
   "outputs": [
    {
     "data": {
      "text/plain": [
       "0.657"
      ]
     },
     "execution_count": 82,
     "metadata": {},
     "output_type": "execute_result"
    }
   ],
   "source": [
    "answer_14 = 1-(14/20)**3\n",
    "answer_14"
   ]
  },
  {
   "cell_type": "code",
   "execution_count": 84,
   "id": "ade97234",
   "metadata": {},
   "outputs": [
    {
     "name": "stdout",
     "output_type": "stream",
     "text": [
      "🎉 Correct Answer! 🎉\n",
      "\n",
      "        Answer:  1 - (14/20)**3\n",
      "        \n",
      "        We use the complement rule: P(at least one red) = 1 - P(all three tickets are NOT red)\n",
      "        \n",
      "        For P(all three tickets are NOT red) = P(1st not red AND 2nd not red AND 3rd not red)\n",
      "        we use the multiplication rule: \n",
      "        \n",
      "        \n",
      "        P(1st not red AND 2nd not red AND 3rd not red) = \n",
      "        P(1st not red) * P(2nd not red) * P(3rd not red) =\n",
      "        (14/20) * (14/20)* (14/20) = (14/20)**3 \n",
      "        \n"
     ]
    }
   ],
   "source": [
    "\n",
    "####### TEST EXERCISE ########\n",
    "Tester.testExercise14()\n",
    "\n",
    "Tester.solution14()"
   ]
  },
  {
   "cell_type": "code",
   "execution_count": null,
   "id": "c518a22f",
   "metadata": {},
   "outputs": [],
   "source": []
  }
 ],
 "metadata": {
  "kernelspec": {
   "display_name": "Python 3 (ipykernel)",
   "language": "python",
   "name": "python3"
  },
  "language_info": {
   "codemirror_mode": {
    "name": "ipython",
    "version": 3
   },
   "file_extension": ".py",
   "mimetype": "text/x-python",
   "name": "python",
   "nbconvert_exporter": "python",
   "pygments_lexer": "ipython3",
   "version": "3.9.13"
  }
 },
 "nbformat": 4,
 "nbformat_minor": 5
}
