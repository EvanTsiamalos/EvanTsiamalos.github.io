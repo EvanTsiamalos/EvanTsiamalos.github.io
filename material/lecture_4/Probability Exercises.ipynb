{
 "cells": [
  {
   "cell_type": "markdown",
   "id": "a9af3fb2",
   "metadata": {},
   "source": [
    "# Exercises in Probability\n"
   ]
  },
  {
   "cell_type": "markdown",
   "id": "3e2fe99a",
   "metadata": {},
   "source": [
    "\n",
    "# Exercise 1\n",
    "You draw a single card from a standard 52-card deck (52 total cards, 4 suits each with 13 possible values: ace, two, king, etc). What is the probability of drawing a club? You can express your answer as a fraction or a decimal. If you asnwer in decimal, include at least 3 NON-ZERO digits after the decimal point."
   ]
  },
  {
   "cell_type": "code",
   "execution_count": null,
   "id": "0c100eee",
   "metadata": {},
   "outputs": [],
   "source": [
    "answer_1 = ...\n",
    "answer_1"
   ]
  },
  {
   "cell_type": "code",
   "execution_count": null,
   "id": "7c0f5ac1",
   "metadata": {},
   "outputs": [],
   "source": [
    "####### TEST EXERCISE ########\n",
    "import urllib\n",
    "_j = \"https://evantsiamalos.github.io/material/lecture_4/probability_exercises_tester.py\"\n",
    "_ = urllib.request.urlopen(_j).read()\n",
    "exec(_)\n",
    "\n",
    "Tester.testExercise1()\n",
    "\n",
    "# Tester.solution1()"
   ]
  },
  {
   "cell_type": "markdown",
   "id": "2227b932",
   "metadata": {},
   "source": [
    "\n",
    "# Exercise 2\n",
    "You roll a 8-sided die. What is the probability of the die rolling a value greater than or equal to 6? You can express your answer as a fraction or a decimal. If you asnwer in decimal, include at least 3 NON-ZERO digits after the decimal point.\n"
   ]
  },
  {
   "cell_type": "code",
   "execution_count": null,
   "id": "7e3d5b07",
   "metadata": {},
   "outputs": [],
   "source": [
    "answer_2 = ...\n",
    "answer_2"
   ]
  },
  {
   "cell_type": "code",
   "execution_count": null,
   "id": "f9474c9d",
   "metadata": {},
   "outputs": [],
   "source": [
    "####### TEST EXERCISE ########\n",
    "Tester.testExercise2()\n",
    "\n",
    "# Tester.solution2()"
   ]
  },
  {
   "cell_type": "markdown",
   "id": "4b7c4b30",
   "metadata": {},
   "source": [
    "\n",
    "# Exercise 3\n",
    "You spin a wheel with equal size wedges labeled with numbers 1 through 4. What is the probability that the wheel lands on an even value?"
   ]
  },
  {
   "cell_type": "code",
   "execution_count": null,
   "id": "32b285a1",
   "metadata": {},
   "outputs": [],
   "source": [
    "answer_3 = ...\n",
    "answer_3"
   ]
  },
  {
   "cell_type": "code",
   "execution_count": null,
   "id": "88c6009f",
   "metadata": {},
   "outputs": [],
   "source": [
    "\n",
    "####### TEST EXERCISE ########\n",
    "Tester.testExercise3()\n",
    "\n",
    "# Tester.solution3()"
   ]
  },
  {
   "cell_type": "markdown",
   "id": "19cc9a8d",
   "metadata": {},
   "source": [
    "\n",
    "\n",
    "\n",
    "# Exercise 4\n",
    "You spin two wheels with equal size wedges labeled with numbers 1 through 8. What is the probability that at least one wheel lands on a multiple of 3 OR the first value is greater than or equal to 4?\n"
   ]
  },
  {
   "cell_type": "code",
   "execution_count": null,
   "id": "1660e057",
   "metadata": {},
   "outputs": [],
   "source": [
    "answer_4 = ...\n",
    "answer_4"
   ]
  },
  {
   "cell_type": "code",
   "execution_count": null,
   "id": "44b2e361",
   "metadata": {},
   "outputs": [],
   "source": [
    "\n",
    "####### TEST EXERCISE ########\n",
    "Tester.testExercise4()\n",
    "\n",
    "# Tester.solution4()"
   ]
  },
  {
   "cell_type": "markdown",
   "id": "09b835af",
   "metadata": {},
   "source": [
    "\n",
    "# Exercise 5\n",
    "You spin two wheels with equal size wedges labeled with numbers 1 through 12. What is the probability that at least one wheel lands on a multiple of 4 ?"
   ]
  },
  {
   "cell_type": "code",
   "execution_count": null,
   "id": "518d22d6",
   "metadata": {},
   "outputs": [],
   "source": [
    "answer_5 = ...\n",
    "answer_5"
   ]
  },
  {
   "cell_type": "code",
   "execution_count": null,
   "id": "c608cde8",
   "metadata": {},
   "outputs": [],
   "source": [
    "\n",
    "####### TEST EXERCISE ########\n",
    "Tester.testExercise5()\n",
    "\n",
    "# Tester.solution5()"
   ]
  },
  {
   "cell_type": "markdown",
   "id": "26ad0fc9",
   "metadata": {},
   "source": [
    "\n",
    "# Exercise 6\n",
    "You roll two 5-sided dice. What is the probability of both dice rolling the same value?"
   ]
  },
  {
   "cell_type": "code",
   "execution_count": null,
   "id": "1e6f94e7",
   "metadata": {},
   "outputs": [],
   "source": [
    "answer_6 = ...\n",
    "answer_6"
   ]
  },
  {
   "cell_type": "code",
   "execution_count": null,
   "id": "c31ce281",
   "metadata": {},
   "outputs": [],
   "source": [
    "\n",
    "####### TEST EXERCISE ########\n",
    "Tester.testExercise6()\n",
    "\n",
    "# Tester.solution6()"
   ]
  },
  {
   "cell_type": "markdown",
   "id": "d7fc356b",
   "metadata": {},
   "source": [
    "\n",
    "\n",
    "# Exercise 7\n",
    "You roll two 6-sided dice. What is the probability of both dice rolling even values OR both die rolling the value 1?"
   ]
  },
  {
   "cell_type": "code",
   "execution_count": null,
   "id": "9a8bedb3",
   "metadata": {},
   "outputs": [],
   "source": [
    "answer_7 = ...\n",
    "answer_7"
   ]
  },
  {
   "cell_type": "code",
   "execution_count": null,
   "id": "e0108f76",
   "metadata": {},
   "outputs": [],
   "source": [
    "\n",
    "####### TEST EXERCISE ########\n",
    "Tester.testExercise7()\n",
    "\n",
    "# Tester.solution7()"
   ]
  },
  {
   "cell_type": "markdown",
   "id": "1ce5e4f2",
   "metadata": {},
   "source": [
    "\n",
    "# Exericse 8\n",
    "You draw a single card from a standard 52-card deck (52 total cards, 4 suits each with 13 possible values: ace, two, king, etc). What is the probability of drawing a spade OR drawing a diamond?\n",
    "\n"
   ]
  },
  {
   "cell_type": "code",
   "execution_count": null,
   "id": "a7d1923b",
   "metadata": {},
   "outputs": [],
   "source": [
    "answer_8 = ...\n",
    "answer_8"
   ]
  },
  {
   "cell_type": "code",
   "execution_count": null,
   "id": "b5830116",
   "metadata": {},
   "outputs": [],
   "source": [
    "\n",
    "####### TEST EXERCISE ########\n",
    "Tester.testExercise8()\n",
    "\n",
    "# Tester.solution8()"
   ]
  },
  {
   "cell_type": "markdown",
   "id": "9013152d",
   "metadata": {},
   "source": [
    "# Exercise 9\n",
    "A study is conducted on a group of 94 freshmen at a university from the Statistics and Computer Science departments. Each student is asked whether they drink coffee or not. The results are recorded in the following table:\n",
    "\n",
    "| |**Coffee Drinkers**|**Not coffee drinkers**| **Total**|\n",
    "|-|-|-|-|\n",
    "|**Computer Science**|29|10|39|\n",
    "|**Statistics**|33|22|55|\n",
    "|**Total**|62|32|94|\n",
    "\n",
    "Draw 3 students WITHOUT replacement. What is the probability that AT LEAST ONE student is a coffee drinker?"
   ]
  },
  {
   "cell_type": "code",
   "execution_count": null,
   "id": "61e7860f",
   "metadata": {},
   "outputs": [],
   "source": [
    "answer_9 = ...\n",
    "answer_9"
   ]
  },
  {
   "cell_type": "code",
   "execution_count": null,
   "id": "e78b93e2",
   "metadata": {},
   "outputs": [],
   "source": [
    "\n",
    "####### TEST EXERCISE ########\n",
    "Tester.testExercise9()\n",
    "\n",
    "# Tester.solution9()"
   ]
  },
  {
   "cell_type": "markdown",
   "id": "00c62cea",
   "metadata": {},
   "source": [
    "\n",
    "# Exercise 10\n",
    "In another one of your classes, you are taking an exam with 3 **independent** true/false questions. If you guess randomly on each question, what is the probability that you answer correctly to at least one of the questions?\n"
   ]
  },
  {
   "cell_type": "code",
   "execution_count": null,
   "id": "612c258f",
   "metadata": {},
   "outputs": [],
   "source": [
    "answer_10 = ...\n",
    "answer_10"
   ]
  },
  {
   "cell_type": "code",
   "execution_count": null,
   "id": "cd289180",
   "metadata": {},
   "outputs": [],
   "source": [
    "\n",
    "####### TEST EXERCISE ########\n",
    "Tester.testExercise10()\n",
    "\n",
    "# Tester.solution10()"
   ]
  },
  {
   "cell_type": "markdown",
   "id": "9dfec0d3",
   "metadata": {},
   "source": [
    "\n",
    "# Exercise 11\n",
    "This question pertains to a standard 52-card deck (52 total cards, 4 suits each with 13 possible values: ace, two, king, etc). You draw two cards at random WITHOUT replacement. What is the probability that both cards are not diamonds?"
   ]
  },
  {
   "cell_type": "code",
   "execution_count": null,
   "id": "4945fb01",
   "metadata": {},
   "outputs": [],
   "source": [
    "answer_11 = ...\n",
    "answer_11"
   ]
  },
  {
   "cell_type": "code",
   "execution_count": null,
   "id": "f03f6f24",
   "metadata": {},
   "outputs": [],
   "source": [
    "\n",
    "####### TEST EXERCISE ########\n",
    "Tester.testExercise11()\n",
    "\n",
    "# Tester.solution11()"
   ]
  },
  {
   "cell_type": "markdown",
   "id": "0b2bf754",
   "metadata": {},
   "source": [
    "\n",
    "\n",
    "\n",
    "# Exercise 12\n",
    "This question pertains to tossing a coin with $P(H) = 0.7$ and $P(T) = 0.3$.\n",
    "\n",
    "What is the probability of getting this particular sequence: THTH."
   ]
  },
  {
   "cell_type": "code",
   "execution_count": null,
   "id": "4c72efd7",
   "metadata": {},
   "outputs": [],
   "source": [
    "answer_12 = ...\n",
    "answer_12"
   ]
  },
  {
   "cell_type": "code",
   "execution_count": null,
   "id": "6d6e96a4",
   "metadata": {},
   "outputs": [],
   "source": [
    "\n",
    "####### TEST EXERCISE ########\n",
    "Tester.testExercise12()\n",
    "\n",
    "# Tester.solution12()"
   ]
  },
  {
   "cell_type": "markdown",
   "id": "50f5d518",
   "metadata": {},
   "source": [
    "\n",
    "# Exercise 13\n",
    "In another one of your classes, you are taking an exam with 3 independent multiple choice questions. Each question has five possible answers, (A), (B), (C), (D), and (E) and only one of the five answers is correct. If you guess randomly on each question, what is the probability that you answer all of the questions correctly?"
   ]
  },
  {
   "cell_type": "code",
   "execution_count": null,
   "id": "1cd71ec9",
   "metadata": {},
   "outputs": [],
   "source": [
    "answer_13 = ...\n",
    "answer_13"
   ]
  },
  {
   "cell_type": "code",
   "execution_count": null,
   "id": "54fc5e65",
   "metadata": {},
   "outputs": [],
   "source": [
    "\n",
    "####### TEST EXERCISE ########\n",
    "Tester.testExercise13()\n",
    "\n",
    "# Tester.solution13()"
   ]
  },
  {
   "cell_type": "markdown",
   "id": "77ea62a1",
   "metadata": {},
   "source": [
    "\n",
    "# Exercise 14\n",
    "A box has 20 tickets; 10 blue, 6 red, and 4 yellow. What is the chance of drawing 3 tickets with replacement and getting at least one red?"
   ]
  },
  {
   "cell_type": "code",
   "execution_count": null,
   "id": "4131d255",
   "metadata": {},
   "outputs": [],
   "source": [
    "answer_14 = ...\n",
    "answer_14"
   ]
  },
  {
   "cell_type": "code",
   "execution_count": null,
   "id": "ade97234",
   "metadata": {},
   "outputs": [],
   "source": [
    "\n",
    "####### TEST EXERCISE ########\n",
    "Tester.testExercise14()\n",
    "\n",
    "# Tester.solution14()"
   ]
  }
 ],
 "metadata": {
  "kernelspec": {
   "display_name": "Python 3 (ipykernel)",
   "language": "python",
   "name": "python3"
  },
  "language_info": {
   "codemirror_mode": {
    "name": "ipython",
    "version": 3
   },
   "file_extension": ".py",
   "mimetype": "text/x-python",
   "name": "python",
   "nbconvert_exporter": "python",
   "pygments_lexer": "ipython3",
   "version": "3.9.13"
  }
 },
 "nbformat": 4,
 "nbformat_minor": 5
}
