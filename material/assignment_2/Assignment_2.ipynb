{
 "cells": [
  {
   "cell_type": "markdown",
   "metadata": {},
   "source": [
    "# Lab 2\n",
    "\n"
   ]
  },
  {
   "cell_type": "markdown",
   "metadata": {},
   "source": [
    "<hr style=\"color: #DD3403;\">"
   ]
  },
  {
   "cell_type": "markdown",
   "metadata": {},
   "source": [
    "## Load the GPA Dataset\n",
    "\n",
    "We are going to use the GPA Dataset. It is a list of courses and the grades that were given for each course. The GPA dataset can be found in the following URL:\n",
    "\n",
    "```\n",
    "https://evantsiamalos.github.io/material/assignment_1/gpa.csv\n",
    "```\n",
    "\n",
    "Use Python to load this dataset into a DataFrame called `df` and print it:"
   ]
  },
  {
   "cell_type": "code",
   "execution_count": null,
   "metadata": {},
   "outputs": [],
   "source": [
    "..."
   ]
  },
  {
   "cell_type": "markdown",
   "metadata": {},
   "source": [
    "### Test Case Checkpoint "
   ]
  },
  {
   "cell_type": "code",
   "execution_count": null,
   "metadata": {},
   "outputs": [],
   "source": [
    "## == CHECKPOINT TEST CASES ==\n",
    "# - This read-only cell contains test cases for your previous cell.\n",
    "# - If this cell runs without any errors, you PASSED all test cases!\n",
    "# - If this cell results in any errors, check your previous cell, make changes, and RE-RUN your code and then this cell.\n",
    "import urllib\n",
    "_j = \"https://evantsiamalos.github.io/material/assignment_1/assignment1_tester.py\"\n",
    "_ = urllib.request.urlopen(_j).read()\n",
    "exec(_)\n",
    "Tester.testCase1()"
   ]
  },
  {
   "cell_type": "markdown",
   "metadata": {},
   "source": [
    "## The goal of this assignment\n",
    "\n",
    "\n",
    "We want to investigate a question with this dataset:\n",
    "\n",
    "- *Is it easier to get an A in STAT or CS courses at UIUC?*\n",
    "\n",
    "We are going to work with the column called \"Percentage of As\". This column contains the proportion of: the number of As that the students got in each course divided by the total number of students in each course. \n",
    "\n",
    "In order to do so, we are going to find:\n",
    "- The average percentage of As for STAT.\n",
    "- The average percentage of As for CS.\n",
    "- Compare them. \n",
    "\n"
   ]
  },
  {
   "cell_type": "markdown",
   "metadata": {},
   "source": [
    "## Question\n",
    "Why do we use the percentage of As and not the total number of As for each course in the scope of this analysis? \n",
    "Write a brief answer in the cell below. "
   ]
  },
  {
   "cell_type": "markdown",
   "metadata": {},
   "source": [
    "*(✏️ Edit this cell to replace this text with your answer. ✏️)*"
   ]
  },
  {
   "cell_type": "markdown",
   "metadata": {},
   "source": [
    "# Spliting into STAT and CS\n",
    "First we are going to split the original dataframe (`df`) into tow smaller dataframes:\n",
    "- `df_STAT`: The dataframe that contains only the STAT courses.\n",
    "- `df_CS`: The datafraame that contains only the comouter science courses."
   ]
  },
  {
   "cell_type": "markdown",
   "metadata": {},
   "source": [
    "### Subject DataFrames\n",
    "\n",
    "Select only the rows of the GPA dataset `df` with a `Subject` of `STAT`. Assign these rows to a new DataFrame, `df_STAT`. "
   ]
  },
  {
   "cell_type": "code",
   "execution_count": null,
   "metadata": {},
   "outputs": [],
   "source": [
    "df_STAT = ...\n",
    "df_STAT"
   ]
  },
  {
   "cell_type": "markdown",
   "metadata": {},
   "source": [
    "Select only the rows of the GPA dataset `df` with a `Subject` of `CS`. Assign these rows to a new dataframe, `df_CS`. \n",
    "- Make sure your result only contains CS courses!"
   ]
  },
  {
   "cell_type": "code",
   "execution_count": null,
   "metadata": {},
   "outputs": [],
   "source": [
    "df_CS = ...\n",
    "df_CS"
   ]
  },
  {
   "cell_type": "markdown",
   "metadata": {},
   "source": [
    "### Test Case Checkpoint "
   ]
  },
  {
   "cell_type": "code",
   "execution_count": null,
   "metadata": {},
   "outputs": [],
   "source": [
    "## == CHECKPOINT TEST CASES ==\n",
    "# - This read-only cell contains test cases for your previous cell.\n",
    "# - If this cell runs without any error our output, you PASSED all test cases!\n",
    "# - If this cell results in any errors, check you previous cell, make changes, and RE-RUN your code and then this cell.\n",
    "Tester.testCase2()"
   ]
  },
  {
   "cell_type": "markdown",
   "metadata": {},
   "source": [
    "### Comparing the average percentages\n",
    "\n",
    "Now that we have created `df_STAT` and `df_CS`, we are going to find the **average percentage of As** for each one of them (Hint: You can use the `mean()` function). "
   ]
  },
  {
   "cell_type": "code",
   "execution_count": null,
   "metadata": {},
   "outputs": [],
   "source": [
    "average_percentage_STAT = ...\n",
    "average_percentage_STAT"
   ]
  },
  {
   "cell_type": "code",
   "execution_count": null,
   "metadata": {},
   "outputs": [],
   "source": [
    "average_percentage_CS = ...\n",
    "average_percentage_CS"
   ]
  },
  {
   "cell_type": "markdown",
   "metadata": {},
   "source": [
    "### Test Case Checkpoint "
   ]
  },
  {
   "cell_type": "code",
   "execution_count": null,
   "metadata": {},
   "outputs": [],
   "source": [
    "## == CHECKPOINT TEST CASES ==\n",
    "# - This read-only cell contains test cases for your previous cell.\n",
    "# - If this cell runs without any errors, you PASSED all test cases!\n",
    "# - If this cell results in any errors, check your previous cell, make changes, and RE-RUN your code and then this cell.\n",
    "Tester.testCase3()"
   ]
  },
  {
   "cell_type": "markdown",
   "metadata": {},
   "source": [
    "## Comparison\n",
    "Which one of the averages is higher? What does it mean with respect to the question: \n",
    "\n",
    "- *Is it easier to get an A in STAT or CS courses at UIUC?*"
   ]
  },
  {
   "cell_type": "markdown",
   "metadata": {},
   "source": [
    "*(✏️ Edit this cell to replace this text with your answer. ✏️)*"
   ]
  },
  {
   "cell_type": "markdown",
   "metadata": {},
   "source": [
    "## An Extra Consideration\n",
    "\n",
    "If you look at the `Year` column of our GPA dataset, you might notice that we have some old data in our set - all the way back to **2010**. . \n",
    "\n",
    "If we want to know if it is easier to **currently** get an A in a STAT or CS course, we should control for the **date** of the data by separating into older years and more recent years.\n",
    "\n",
    "Then we are going to compare the averages for the \"old\" years, and the averages for the \"recent\" years. "
   ]
  },
  {
   "cell_type": "markdown",
   "metadata": {},
   "source": [
    "## Spliting into Old and Recent\n",
    "\n",
    "Using the code cells below, define four new DataFrames by selecting from rows of our previously created `df_CS` and `df_STAT`. \n",
    "\n",
    "- `df_cs_recent`: all `CS` course data in *recent years* ($\\space \\geq 2021 \\space$)\n",
    "- `df_stat_recent`: all `STAT` course data in *recent years* ($\\space \\geq 2021 \\space$)\n",
    "- `df_cs_old`: all other, older `CS` course data ($\\space < 2021 \\space$)\n",
    "- `df_stat_old`: all other, older `STAT` course data ($\\space < 2021 \\space$)\n",
    "\n",
    "Define *recent years* as **any year after and including 2021**, and older years as any year before 2021. \n"
   ]
  },
  {
   "cell_type": "code",
   "execution_count": null,
   "metadata": {},
   "outputs": [],
   "source": [
    "df_stat_recent = ...\n",
    "df_stat_recent"
   ]
  },
  {
   "cell_type": "code",
   "execution_count": null,
   "metadata": {},
   "outputs": [],
   "source": [
    "df_cs_recent = ...\n",
    "df_cs_recent"
   ]
  },
  {
   "cell_type": "code",
   "execution_count": null,
   "metadata": {},
   "outputs": [],
   "source": [
    "df_stat_old = ...\n",
    "df_stat_old"
   ]
  },
  {
   "cell_type": "code",
   "execution_count": null,
   "metadata": {},
   "outputs": [],
   "source": [
    "df_cs_old = ...\n",
    "df_cs_old"
   ]
  },
  {
   "cell_type": "markdown",
   "metadata": {},
   "source": [
    "### Test Case Checkpoint"
   ]
  },
  {
   "cell_type": "code",
   "execution_count": null,
   "metadata": {},
   "outputs": [],
   "source": [
    "## == CHECKPOINT TEST CASES ==\n",
    "# - This read-only cell contains test cases for your previous cell.\n",
    "# - If this cell runs without any error our output, you PASSED all test cases!\n",
    "# - If this cell results in any errors, check you previous cell, make changes, and RE-RUN your code and then this cell.\n",
    "Tester.testCase4()"
   ]
  },
  {
   "cell_type": "markdown",
   "metadata": {},
   "source": [
    "### Puzzle 1.5: New Analysis\n",
    "Now that we've got all the DataFrames setup with GPA data of the `CS` and `STAT` courses separated by recency (2021 or newer being 'recent'), we can do more in-depth analysis to investigate our question. \n",
    "\n",
    "In the following code cells, **calculate the percentages** described by the comment in the cell."
   ]
  },
  {
   "cell_type": "code",
   "execution_count": null,
   "metadata": {},
   "outputs": [],
   "source": [
    "# Percentage of As received in CS in recent years\n",
    "cs_recent_average = df_cs_recent[\"Percentage of As\"].mean()\n",
    "print(f'The average Percentage of As received in CS in recent years: {cs_recent_average}')"
   ]
  },
  {
   "cell_type": "code",
   "execution_count": null,
   "metadata": {},
   "outputs": [],
   "source": [
    "# Percentage of As received in STAT in recent years\n",
    "stat_recent_average = df_stat_recent[\"Percentage of As\"].mean()\n",
    "print(f'The average Percentage of As received in STAT in recent years: {stat_recent_average}')"
   ]
  },
  {
   "cell_type": "code",
   "execution_count": null,
   "metadata": {},
   "outputs": [],
   "source": [
    "# percentage of As received in CS in older years\n",
    "cs_old_average= df_cs_old[\"Percentage of As\"].mean()\n",
    "print(f'Percentage of As received in CS in older years: {cs_old_average}') "
   ]
  },
  {
   "cell_type": "code",
   "execution_count": null,
   "metadata": {},
   "outputs": [],
   "source": [
    "# percentage of As received in STAT in older years\n",
    "stat_old_average = df_stat_old[\"Percentage of As\"].mean()\n",
    "print(f'Percentage of As received in STAT in older years: {stat_old_average}')"
   ]
  },
  {
   "cell_type": "markdown",
   "metadata": {},
   "source": [
    "### Test Case Checkpoint "
   ]
  },
  {
   "cell_type": "code",
   "execution_count": null,
   "metadata": {},
   "outputs": [],
   "source": [
    "## == CHECKPOINT TEST CASES ==\n",
    "# - This read-only cell contains test cases for your previous cell.\n",
    "# - If this cell runs without any errors, you PASSED all test cases!\n",
    "# - If this cell results in any errors, check your previous cell, make changes, and RE-RUN your code and then this cell.\n",
    "Tester.testCase5()"
   ]
  },
  {
   "cell_type": "markdown",
   "metadata": {},
   "source": [
    "### Observe the Results\n",
    "**Run the following cell** to format all of your answers as a DataFrame.\n",
    "\n",
    "Keep in mind that \"Older\" means data from courses **before 2021**, and \"Recent\" means courses held **during or after 2021**. "
   ]
  },
  {
   "cell_type": "code",
   "execution_count": null,
   "metadata": {},
   "outputs": [],
   "source": [
    "pd.DataFrame({\n",
    "  'Older Average of % of As': [cs_old_average, stat_old_average],\n",
    "  'Recent Average % of As': [cs_recent_average,stat_recent_average ]\n",
    "    }, index=['CS', 'STAT'])"
   ]
  },
  {
   "cell_type": "markdown",
   "metadata": {},
   "source": [
    "Observe that, even though the overall average that we calculated before was greater in STAT, now the recent CS average is higher than the recent STAT average. \n",
    "\n",
    "\n",
    "## Question\n",
    "\n",
    "Why do you think this happened?"
   ]
  },
  {
   "cell_type": "markdown",
   "metadata": {},
   "source": [
    "*(✏️ Edit this cell to replace this text with your answer. ✏️)*"
   ]
  },
  {
   "cell_type": "markdown",
   "metadata": {},
   "source": [
    "# Simpson's Paradox\n",
    "\n",
    "This is **Simpson's Paradox**: a pattern within a population can appear, disappear, or reverse when you look at subpopulations.\n",
    "\n",
    "In more formal terms, Simpson's Paradox can cause you to observe a pattern reverse when you look at the overall group statistics versus statistics of groups post-stratification. In this case we are stratifying by time.\n"
   ]
  },
  {
   "cell_type": "markdown",
   "metadata": {},
   "source": [
    "## Question\n"
   ]
  },
  {
   "cell_type": "markdown",
   "metadata": {},
   "source": [
    "\n",
    "Now think about how you respond to the question:\n",
    "- *Is it easier to get an A in STAT or CS courses at UIUC?*\n",
    "\n",
    "**Q: Which comparison of percentages do you trust more and why? Are there any other potential confounding variables when answering this question that could be investigated further?.**"
   ]
  },
  {
   "cell_type": "markdown",
   "metadata": {},
   "source": [
    "*(✏️ Edit this cell to replace this text with your answer. ✏️)*"
   ]
  },
  {
   "cell_type": "markdown",
   "metadata": {},
   "source": [
    "<hr style=\"color: #DD3403;\">"
   ]
  },
  {
   "cell_type": "markdown",
   "metadata": {},
   "source": [
    "# Submission\n",
    "Download your notebook and submit it on Canvas in \"**Assignment 2**\". "
   ]
  }
 ],
 "metadata": {
  "kernelspec": {
   "display_name": "Python 3 (ipykernel)",
   "language": "python",
   "name": "python3"
  },
  "language_info": {
   "codemirror_mode": {
    "name": "ipython",
    "version": 3
   },
   "file_extension": ".py",
   "mimetype": "text/x-python",
   "name": "python",
   "nbconvert_exporter": "python",
   "pygments_lexer": "ipython3",
   "version": "3.9.13"
  },
  "vscode": {
   "interpreter": {
    "hash": "f48b0ea9e8281b29b1f9b6045fc5406bb9891af892053a27454c097f6ae51d2c"
   }
  }
 },
 "nbformat": 4,
 "nbformat_minor": 2
}
