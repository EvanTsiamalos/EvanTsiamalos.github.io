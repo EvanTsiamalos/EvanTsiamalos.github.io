{
 "cells": [
  {
   "cell_type": "markdown",
   "id": "e1adc71a",
   "metadata": {},
   "source": [
    "# Lab 5"
   ]
  },
  {
   "cell_type": "markdown",
   "id": "49a0c26d",
   "metadata": {},
   "source": [
    "# Exercise 1\n",
    "Write a simulation where you simulate the following random experiment for 100 repetitions:\n",
    "\n",
    "    - Tossing three fair coins.\n",
    "    \n",
    "    \n",
    "At the end of your simulation , you should have a dataframe called `df_1` that contains three columns: `coin_1`,`coin_2`,`coin_3`.\n",
    "\n",
    "Each of these columns can take the values \"H\" or \"T\"\n",
    "    "
   ]
  },
  {
   "cell_type": "code",
   "execution_count": 1,
   "id": "d0f0af9b",
   "metadata": {},
   "outputs": [],
   "source": [
    "import pandas as pd\n",
    "import random"
   ]
  },
  {
   "cell_type": "code",
   "execution_count": 2,
   "id": "54f3a5d7",
   "metadata": {},
   "outputs": [
    {
     "data": {
      "text/html": [
       "<div>\n",
       "<style scoped>\n",
       "    .dataframe tbody tr th:only-of-type {\n",
       "        vertical-align: middle;\n",
       "    }\n",
       "\n",
       "    .dataframe tbody tr th {\n",
       "        vertical-align: top;\n",
       "    }\n",
       "\n",
       "    .dataframe thead th {\n",
       "        text-align: right;\n",
       "    }\n",
       "</style>\n",
       "<table border=\"1\" class=\"dataframe\">\n",
       "  <thead>\n",
       "    <tr style=\"text-align: right;\">\n",
       "      <th></th>\n",
       "    </tr>\n",
       "  </thead>\n",
       "  <tbody>\n",
       "  </tbody>\n",
       "</table>\n",
       "</div>"
      ],
      "text/plain": [
       "Empty DataFrame\n",
       "Columns: []\n",
       "Index: []"
      ]
     },
     "execution_count": 2,
     "metadata": {},
     "output_type": "execute_result"
    }
   ],
   "source": [
    "data = []\n",
    "\n",
    "# Write your simulation in this cell\n",
    "\n",
    "df_1 = pd.DataFrame(data)\n",
    "\n",
    "df_1"
   ]
  },
  {
   "cell_type": "markdown",
   "id": "11ce59c1",
   "metadata": {},
   "source": [
    "Now we want to estimate the probability getting the outcome 'HTH'.\n",
    "$$P(\\text{ 'HTH' }) $$\n",
    "\n",
    "- Find the **number** of successful cases (i.e. the ammount of times that you got 'HTH' in your simulation). Store it in a variable called `successful_cases_1`."
   ]
  },
  {
   "cell_type": "code",
   "execution_count": 3,
   "id": "7253bacb",
   "metadata": {},
   "outputs": [
    {
     "data": {
      "text/plain": [
       "Ellipsis"
      ]
     },
     "execution_count": 3,
     "metadata": {},
     "output_type": "execute_result"
    }
   ],
   "source": [
    "successful_cases_1 = ...\n",
    "successful_cases_1"
   ]
  },
  {
   "cell_type": "markdown",
   "id": "6b79c350",
   "metadata": {},
   "source": [
    "- Now estimate the probability $P(\\text{ 'HTH' }) $. Store your answer in the variable `probability_1`."
   ]
  },
  {
   "cell_type": "code",
   "execution_count": 4,
   "id": "e2b6f6f5",
   "metadata": {},
   "outputs": [
    {
     "data": {
      "text/plain": [
       "Ellipsis"
      ]
     },
     "execution_count": 4,
     "metadata": {},
     "output_type": "execute_result"
    }
   ],
   "source": [
    "probability_1 = ...\n",
    "probability_1"
   ]
  },
  {
   "cell_type": "markdown",
   "id": "74621787",
   "metadata": {},
   "source": [
    "# Exercise 2\n",
    "\n",
    "\n",
    "\n",
    "We have 4 wheels with 12 possible values (1 - 12) each. We want to calculate the following probability:\n",
    "\n",
    "$$P \\Bigg(  (\\text{ 1st wheel } <\\text{ 2nd wheel }) \\text { OR } (\\text{ 3d wheel } > \\text{ 4th wheel } )\\Bigg)$$\n",
    "\n",
    "Write a simulation where you simulate the following random experiment for 1000 repetitions:\n",
    "\n",
    "    - Spinning 4 wheels with 12 possible values each.\n",
    "    \n",
    "At the end of your simulation , you should have a dataframe called `df_2` that contains three columns: `wheel_1`,`wheel_2`,`wheel_3`, `wheel_4`. \n",
    "\n",
    "Each of these columns can take the integer values from 1-12."
   ]
  },
  {
   "cell_type": "code",
   "execution_count": null,
   "id": "b3788f46",
   "metadata": {},
   "outputs": [],
   "source": [
    "data = []\n",
    "\n",
    "# Write your simulation in this cell\n",
    "\n",
    "df_2 = pd.DataFrame(data)\n",
    "\n",
    "df_2"
   ]
  },
  {
   "cell_type": "markdown",
   "id": "4d6bf426",
   "metadata": {},
   "source": [
    "Now we want to estimate the probability:\n",
    "\n",
    "$$P \\Bigg(  (\\text{ 1st wheel } <\\text{ 2nd wheel }) \\text { OR } (\\text{ 3d wheel } > \\text{ 4th wheel } )\\Bigg)$$\n",
    "\n",
    "- Find the **number** of successful cases. Store it into a the variable `successful_cases_2`."
   ]
  },
  {
   "cell_type": "code",
   "execution_count": 5,
   "id": "4172045d",
   "metadata": {},
   "outputs": [
    {
     "data": {
      "text/plain": [
       "Ellipsis"
      ]
     },
     "execution_count": 5,
     "metadata": {},
     "output_type": "execute_result"
    }
   ],
   "source": [
    "successful_cases_2 = ...\n",
    "successful_cases_2"
   ]
  },
  {
   "cell_type": "markdown",
   "id": "ecfea036",
   "metadata": {},
   "source": [
    "- Now estimate the probability $P \\Bigg(  (\\text{ 1st wheel } <\\text{ 2nd wheel }) \\text { OR } (\\text{ 3d wheel } > \\text{ 4th wheel } )\\Bigg) $. Store your answer in the variable `probability_2`. "
   ]
  },
  {
   "cell_type": "code",
   "execution_count": 7,
   "id": "ccf743a0",
   "metadata": {},
   "outputs": [
    {
     "data": {
      "text/plain": [
       "Ellipsis"
      ]
     },
     "execution_count": 7,
     "metadata": {},
     "output_type": "execute_result"
    }
   ],
   "source": [
    "probability_2 = ...\n",
    "probability_2"
   ]
  },
  {
   "cell_type": "markdown",
   "id": "9d9b43a6",
   "metadata": {},
   "source": [
    "# Exercise 3 (Application of Simulation)\n",
    "\n",
    "In a big city, the Mayor gave a speech with regards to the upcomming elections. In his speech, he claimed that, according to his calculations, he expects that $65\\%$ of the citizens are going to vote for him in the elections.  \n",
    "\n",
    "\n",
    "You decide that you want to test that claim. In order to do so, you created a poll where you asked **100** random citizens whether they are going to vote for the Mayor again or not. You found that:\n",
    "\n",
    "- $56$ of them answered \"YES\"\n",
    "- $44$ of them answered \"NO\"\n",
    "\n",
    "We are going to use a simulation to determine whether the Mayor was lying or not. Complete the next sections in order to create your simulation. \n",
    "\n",
    "\n",
    "\n",
    "\n",
    "## Section 3.1\n",
    "\n",
    "First, we want to simulate the process of having a poll of **100** people answering \"YES\" or \"NO\" to the question: \"Would you vote for the Mayor again?\".\n",
    "\n",
    "Use `random.choices` to create a sample of 100 answers (\"YES\" or \"NO\") from a population where \n",
    "- $P(\\text{\"YES\"}) = 65\\%$\n",
    "- $P(\\text{\"NO\"}) = 35\\%$\n",
    "\n",
    "store it in the variable `poll` in the cell below."
   ]
  },
  {
   "cell_type": "code",
   "execution_count": null,
   "id": "24839729",
   "metadata": {},
   "outputs": [],
   "source": [
    "poll = ...\n",
    "poll"
   ]
  },
  {
   "cell_type": "markdown",
   "id": "429097a9",
   "metadata": {},
   "source": [
    "## Section 3.2\n",
    "\n",
    "Now that we have the list with our answers, we want to find the percentage of the people who answered \"YES\" in the poll. \n",
    "\n",
    "**Run the following cell** to find the total number of people who answered \"YES\" in the given poll. "
   ]
  },
  {
   "cell_type": "code",
   "execution_count": null,
   "id": "863f63f3",
   "metadata": {},
   "outputs": [],
   "source": [
    "positive_answers = 0 ## We start the sum from 0\n",
    "\n",
    "for i in range(100):  \n",
    "    answer = poll[i]  ## We take each answer in the list\n",
    "    if answer == \"YES\":\n",
    "        positive_answers = positive_answers + 1  ## When the answer is 'YES', we increase the sum by 1\n",
    "\n",
    "\n"
   ]
  },
  {
   "cell_type": "code",
   "execution_count": null,
   "id": "fe37dc63",
   "metadata": {},
   "outputs": [],
   "source": [
    "positive_answers"
   ]
  },
  {
   "cell_type": "markdown",
   "id": "b6dc4ec3",
   "metadata": {},
   "source": [
    "## Section 3.3\n",
    "\n",
    "Write a simulation with 10000 repetitions. In the simulation, you are to do the following\n",
    "\n",
    "For each repetition:\n",
    "- Get the results of a poll of **100** people answering \"YES\" or \"NO\" to the question: \"Would you vote for the Mayor again?\". (Hint: Use section 3.1)\n",
    "- Find the total number of people who answered \"YES\" (Hint: Use section 3.2)\n",
    "\n",
    "At the end of your simulation , you should have a dataframe called `df_3` that contains one column called `\"positive_answers\"`. For each row of the column, we should have an integer (from 0 to 100) representing the number of positive answers to each simulated poll.  "
   ]
  },
  {
   "cell_type": "code",
   "execution_count": 8,
   "id": "1f04bb69",
   "metadata": {},
   "outputs": [],
   "source": [
    "data = []\n",
    "\n",
    "\n",
    "## Write your simulation here\n",
    "\n",
    "df_3 = pd.DataFrame(data)"
   ]
  },
  {
   "cell_type": "code",
   "execution_count": null,
   "id": "6e43ac25",
   "metadata": {},
   "outputs": [],
   "source": [
    "df_3"
   ]
  },
  {
   "cell_type": "markdown",
   "id": "c20e3637",
   "metadata": {},
   "source": [
    "## Section 3.4\n",
    "\n",
    "Now, given df_3, find the **number** of rows in `df_3` where the column `positive_answers` takes a value $\\leq 56$. Store the result in the variable called `successful_cases_3`\n"
   ]
  },
  {
   "cell_type": "code",
   "execution_count": null,
   "id": "ba8a053e",
   "metadata": {},
   "outputs": [],
   "source": [
    "successful_cases_3 = ...\n",
    "successful_cases_3"
   ]
  },
  {
   "cell_type": "markdown",
   "id": "a3c59771",
   "metadata": {},
   "source": [
    "And now estimate the probability that $P(\\text{\"positive answers\"} \\leq 56)$, i.e. the probability that in a poll of a 100 people, the number of \"positive answers\" was less than or equal to 56. Store the result in the variable `probability_3`\n"
   ]
  },
  {
   "cell_type": "code",
   "execution_count": null,
   "id": "77022b1e",
   "metadata": {},
   "outputs": [],
   "source": [
    "probability_3 = ...\n",
    "probability_3"
   ]
  },
  {
   "cell_type": "markdown",
   "id": "ab35b46a",
   "metadata": {},
   "source": [
    "## Analysis\n",
    "\n",
    "The probability that you just calculated can be used to test the Mayor's claim:\n",
    "\n",
    "> **Assume** that we are to believe the Mayor and indeed, $65\\%$ of the citizens are going to vote for him in the elections. Then `probability_3` estimated the probability of having a poll of 100 random people, and $56$ or less of them answering \"YES\" in that poll.  \n",
    "\n",
    "- If `probability_3` is **high**, then that means that the outcome of the poll is fairly likely to have happened by chance and so we cannot challenge the Mayor.\n",
    "\n",
    "- If `probability_3` is **low**, then that means that the outcome of the poll is quite unlikely to have happened if we are to believe the Mayor. In this case, we can challenge his claim from a statistical point of view.\n",
    "\n",
    "### Question\n",
    "\n",
    "- What was your result for `probability_3`? Would you challenge the Mayor's statement or not?"
   ]
  },
  {
   "cell_type": "markdown",
   "id": "456f990d",
   "metadata": {},
   "source": [
    "# Submission\n",
    "\n",
    "Download your notebook and submit it on Canvas in \"**Assignment 5**\"."
   ]
  },
  {
   "cell_type": "code",
   "execution_count": null,
   "id": "6ecba047",
   "metadata": {},
   "outputs": [],
   "source": []
  }
 ],
 "metadata": {
  "kernelspec": {
   "display_name": "Python 3 (ipykernel)",
   "language": "python",
   "name": "python3"
  },
  "language_info": {
   "codemirror_mode": {
    "name": "ipython",
    "version": 3
   },
   "file_extension": ".py",
   "mimetype": "text/x-python",
   "name": "python",
   "nbconvert_exporter": "python",
   "pygments_lexer": "ipython3",
   "version": "3.9.13"
  }
 },
 "nbformat": 4,
 "nbformat_minor": 5
}
