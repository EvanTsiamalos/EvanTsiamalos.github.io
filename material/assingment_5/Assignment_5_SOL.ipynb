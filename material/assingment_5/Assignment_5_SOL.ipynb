{
 "cells": [
  {
   "cell_type": "markdown",
   "id": "e1adc71a",
   "metadata": {},
   "source": [
    "# Lab 5"
   ]
  },
  {
   "cell_type": "code",
   "execution_count": 2,
   "id": "d0f0af9b",
   "metadata": {},
   "outputs": [],
   "source": [
    "import pandas as pd\n",
    "import random\n"
   ]
  },
  {
   "cell_type": "markdown",
   "id": "49a0c26d",
   "metadata": {},
   "source": [
    "# Exercise 1\n",
    "Write a simulation where you simulate the following random experiment for 100 repetitions:\n",
    "\n",
    "    - Tossing three fair coins.\n",
    "    \n",
    "    \n",
    "At the end of your simulation , you should have a dataframe called `df_1` that contains three columns: `coin_1`,`coin_2`,`coin_3`.\n",
    "\n",
    "Each of these columns can take the values \"H\" or \"T\"\n",
    "    "
   ]
  },
  {
   "cell_type": "code",
   "execution_count": 3,
   "id": "54f3a5d7",
   "metadata": {},
   "outputs": [
    {
     "data": {
      "text/html": [
       "<div>\n",
       "<style scoped>\n",
       "    .dataframe tbody tr th:only-of-type {\n",
       "        vertical-align: middle;\n",
       "    }\n",
       "\n",
       "    .dataframe tbody tr th {\n",
       "        vertical-align: top;\n",
       "    }\n",
       "\n",
       "    .dataframe thead th {\n",
       "        text-align: right;\n",
       "    }\n",
       "</style>\n",
       "<table border=\"1\" class=\"dataframe\">\n",
       "  <thead>\n",
       "    <tr style=\"text-align: right;\">\n",
       "      <th></th>\n",
       "      <th>coin_1</th>\n",
       "      <th>coin_2</th>\n",
       "      <th>coin_3</th>\n",
       "    </tr>\n",
       "  </thead>\n",
       "  <tbody>\n",
       "    <tr>\n",
       "      <th>0</th>\n",
       "      <td>T</td>\n",
       "      <td>T</td>\n",
       "      <td>H</td>\n",
       "    </tr>\n",
       "    <tr>\n",
       "      <th>1</th>\n",
       "      <td>H</td>\n",
       "      <td>H</td>\n",
       "      <td>H</td>\n",
       "    </tr>\n",
       "    <tr>\n",
       "      <th>2</th>\n",
       "      <td>T</td>\n",
       "      <td>H</td>\n",
       "      <td>T</td>\n",
       "    </tr>\n",
       "    <tr>\n",
       "      <th>3</th>\n",
       "      <td>T</td>\n",
       "      <td>T</td>\n",
       "      <td>H</td>\n",
       "    </tr>\n",
       "    <tr>\n",
       "      <th>4</th>\n",
       "      <td>T</td>\n",
       "      <td>T</td>\n",
       "      <td>H</td>\n",
       "    </tr>\n",
       "    <tr>\n",
       "      <th>...</th>\n",
       "      <td>...</td>\n",
       "      <td>...</td>\n",
       "      <td>...</td>\n",
       "    </tr>\n",
       "    <tr>\n",
       "      <th>95</th>\n",
       "      <td>T</td>\n",
       "      <td>T</td>\n",
       "      <td>H</td>\n",
       "    </tr>\n",
       "    <tr>\n",
       "      <th>96</th>\n",
       "      <td>H</td>\n",
       "      <td>H</td>\n",
       "      <td>T</td>\n",
       "    </tr>\n",
       "    <tr>\n",
       "      <th>97</th>\n",
       "      <td>H</td>\n",
       "      <td>H</td>\n",
       "      <td>T</td>\n",
       "    </tr>\n",
       "    <tr>\n",
       "      <th>98</th>\n",
       "      <td>H</td>\n",
       "      <td>H</td>\n",
       "      <td>T</td>\n",
       "    </tr>\n",
       "    <tr>\n",
       "      <th>99</th>\n",
       "      <td>T</td>\n",
       "      <td>H</td>\n",
       "      <td>H</td>\n",
       "    </tr>\n",
       "  </tbody>\n",
       "</table>\n",
       "<p>100 rows × 3 columns</p>\n",
       "</div>"
      ],
      "text/plain": [
       "   coin_1 coin_2 coin_3\n",
       "0       T      T      H\n",
       "1       H      H      H\n",
       "2       T      H      T\n",
       "3       T      T      H\n",
       "4       T      T      H\n",
       "..    ...    ...    ...\n",
       "95      T      T      H\n",
       "96      H      H      T\n",
       "97      H      H      T\n",
       "98      H      H      T\n",
       "99      T      H      H\n",
       "\n",
       "[100 rows x 3 columns]"
      ]
     },
     "execution_count": 3,
     "metadata": {},
     "output_type": "execute_result"
    }
   ],
   "source": [
    "data = []\n",
    "\n",
    "\n",
    "for i in range(100):\n",
    "    coin_1, coin_2, coin_3 = random.choices([\"H\", \"T\"] , k = 3)\n",
    "    d = {\n",
    "        \"coin_1\": coin_1,\n",
    "        \"coin_2\": coin_2,\n",
    "        \"coin_3\": coin_3,\n",
    "    }\n",
    "    data.append(d)\n",
    "    \n",
    "    \n",
    "df_1 = pd.DataFrame(data)\n",
    "\n",
    "df_1"
   ]
  },
  {
   "cell_type": "markdown",
   "id": "11ce59c1",
   "metadata": {},
   "source": [
    "Now we want to estimate the probability getting the outcome 'HTH'.\n",
    "$$P(\\text{ 'HTH' }) $$\n",
    "\n",
    "- Find the **number** of successful cases (i.e. the ammount of times that you got 'HTH' in your simulation). Store it in a variable called `successful_cases_1`."
   ]
  },
  {
   "cell_type": "code",
   "execution_count": 4,
   "id": "7253bacb",
   "metadata": {},
   "outputs": [
    {
     "data": {
      "text/plain": [
       "10"
      ]
     },
     "execution_count": 4,
     "metadata": {},
     "output_type": "execute_result"
    }
   ],
   "source": [
    "successful_cases_1 = len(df_1[(df_1[\"coin_1\"] == \"H\") & (df_1[\"coin_2\"] == \"T\") & (df_1[\"coin_3\"] == \"H\")])\n",
    "successful_cases_1"
   ]
  },
  {
   "cell_type": "markdown",
   "id": "6b79c350",
   "metadata": {},
   "source": [
    "- Now estimate the probability $P(\\text{ 'HTH' }) $. Store your answer in the variable `probability_1`."
   ]
  },
  {
   "cell_type": "code",
   "execution_count": 5,
   "id": "e2b6f6f5",
   "metadata": {},
   "outputs": [
    {
     "data": {
      "text/plain": [
       "0.1"
      ]
     },
     "execution_count": 5,
     "metadata": {},
     "output_type": "execute_result"
    }
   ],
   "source": [
    "probability_1 = successful_cases_1/100\n",
    "probability_1"
   ]
  },
  {
   "cell_type": "markdown",
   "id": "74621787",
   "metadata": {},
   "source": [
    "# Exercise 2\n",
    "\n",
    "\n",
    "\n",
    "We have 4 wheels with 12 possible values (1 - 12) each. We want to calculate the following probability:\n",
    "\n",
    "$$P \\Bigg(  (\\text{ 1st wheel } <\\text{ 2nd wheel }) \\text { OR } (\\text{ 3d wheel } > \\text{ 4th wheel } )\\Bigg)$$\n",
    "\n",
    "Write a simulation where you simulate the following random experiment for 1000 repetitions:\n",
    "\n",
    "    - Spinning 4 wheels with 12 possible values each.\n",
    "    \n",
    "At the end of your simulation , you should have a dataframe called `df_2` that contains three columns: `wheel_1`,`wheel_2`,`wheel_3`, `wheel_4`. \n",
    "\n",
    "Each of these columns can take the integer values from 1-12."
   ]
  },
  {
   "cell_type": "code",
   "execution_count": 6,
   "id": "b3788f46",
   "metadata": {},
   "outputs": [
    {
     "data": {
      "text/html": [
       "<div>\n",
       "<style scoped>\n",
       "    .dataframe tbody tr th:only-of-type {\n",
       "        vertical-align: middle;\n",
       "    }\n",
       "\n",
       "    .dataframe tbody tr th {\n",
       "        vertical-align: top;\n",
       "    }\n",
       "\n",
       "    .dataframe thead th {\n",
       "        text-align: right;\n",
       "    }\n",
       "</style>\n",
       "<table border=\"1\" class=\"dataframe\">\n",
       "  <thead>\n",
       "    <tr style=\"text-align: right;\">\n",
       "      <th></th>\n",
       "      <th>wheel_1</th>\n",
       "      <th>wheel_2</th>\n",
       "      <th>wheel_3</th>\n",
       "      <th>wheel_4</th>\n",
       "    </tr>\n",
       "  </thead>\n",
       "  <tbody>\n",
       "    <tr>\n",
       "      <th>0</th>\n",
       "      <td>4</td>\n",
       "      <td>8</td>\n",
       "      <td>1</td>\n",
       "      <td>10</td>\n",
       "    </tr>\n",
       "    <tr>\n",
       "      <th>1</th>\n",
       "      <td>8</td>\n",
       "      <td>12</td>\n",
       "      <td>10</td>\n",
       "      <td>3</td>\n",
       "    </tr>\n",
       "    <tr>\n",
       "      <th>2</th>\n",
       "      <td>2</td>\n",
       "      <td>8</td>\n",
       "      <td>2</td>\n",
       "      <td>10</td>\n",
       "    </tr>\n",
       "    <tr>\n",
       "      <th>3</th>\n",
       "      <td>11</td>\n",
       "      <td>3</td>\n",
       "      <td>2</td>\n",
       "      <td>4</td>\n",
       "    </tr>\n",
       "    <tr>\n",
       "      <th>4</th>\n",
       "      <td>4</td>\n",
       "      <td>3</td>\n",
       "      <td>3</td>\n",
       "      <td>10</td>\n",
       "    </tr>\n",
       "    <tr>\n",
       "      <th>...</th>\n",
       "      <td>...</td>\n",
       "      <td>...</td>\n",
       "      <td>...</td>\n",
       "      <td>...</td>\n",
       "    </tr>\n",
       "    <tr>\n",
       "      <th>995</th>\n",
       "      <td>11</td>\n",
       "      <td>4</td>\n",
       "      <td>7</td>\n",
       "      <td>8</td>\n",
       "    </tr>\n",
       "    <tr>\n",
       "      <th>996</th>\n",
       "      <td>7</td>\n",
       "      <td>9</td>\n",
       "      <td>1</td>\n",
       "      <td>8</td>\n",
       "    </tr>\n",
       "    <tr>\n",
       "      <th>997</th>\n",
       "      <td>8</td>\n",
       "      <td>5</td>\n",
       "      <td>7</td>\n",
       "      <td>3</td>\n",
       "    </tr>\n",
       "    <tr>\n",
       "      <th>998</th>\n",
       "      <td>1</td>\n",
       "      <td>12</td>\n",
       "      <td>9</td>\n",
       "      <td>12</td>\n",
       "    </tr>\n",
       "    <tr>\n",
       "      <th>999</th>\n",
       "      <td>5</td>\n",
       "      <td>9</td>\n",
       "      <td>6</td>\n",
       "      <td>1</td>\n",
       "    </tr>\n",
       "  </tbody>\n",
       "</table>\n",
       "<p>1000 rows × 4 columns</p>\n",
       "</div>"
      ],
      "text/plain": [
       "     wheel_1  wheel_2  wheel_3  wheel_4\n",
       "0          4        8        1       10\n",
       "1          8       12       10        3\n",
       "2          2        8        2       10\n",
       "3         11        3        2        4\n",
       "4          4        3        3       10\n",
       "..       ...      ...      ...      ...\n",
       "995       11        4        7        8\n",
       "996        7        9        1        8\n",
       "997        8        5        7        3\n",
       "998        1       12        9       12\n",
       "999        5        9        6        1\n",
       "\n",
       "[1000 rows x 4 columns]"
      ]
     },
     "execution_count": 6,
     "metadata": {},
     "output_type": "execute_result"
    }
   ],
   "source": [
    "data = []\n",
    "\n",
    "# Write your simulation in this cell\n",
    "for i in range(1000):\n",
    "    wheel_1,wheel_2,wheel_3, wheel_4 = random.choices([1,2,3,4,5,6,7,8,9,10,11,12], k = 4)\n",
    "    d = {\n",
    "        \"wheel_1\": wheel_1,\n",
    "        \"wheel_2\": wheel_2,\n",
    "        \"wheel_3\": wheel_3,\n",
    "        \"wheel_4\": wheel_4,\n",
    "    }\n",
    "    data.append(d)\n",
    "df_2 = pd.DataFrame(data)\n",
    "\n",
    "df_2"
   ]
  },
  {
   "cell_type": "markdown",
   "id": "4d6bf426",
   "metadata": {},
   "source": [
    "Now we want to estimate the probability:\n",
    "\n",
    "$$P \\Bigg(  (\\text{ 1st wheel } <\\text{ 2nd wheel }) \\text { OR } (\\text{ 3d wheel } > \\text{ 4th wheel } )\\Bigg)$$\n",
    "\n",
    "- Find the **number** of successful cases. Store it into a the variable `successful_cases_2`."
   ]
  },
  {
   "cell_type": "code",
   "execution_count": 7,
   "id": "4172045d",
   "metadata": {},
   "outputs": [
    {
     "data": {
      "text/plain": [
       "704"
      ]
     },
     "execution_count": 7,
     "metadata": {},
     "output_type": "execute_result"
    }
   ],
   "source": [
    "successful_cases_2 = len(df_2[\n",
    "    (df_2[\"wheel_1\"] < df_2[\"wheel_2\"])  |  (df_2[\"wheel_3\"] > df_2[\"wheel_4\"])\n",
    "])\n",
    "successful_cases_2"
   ]
  },
  {
   "cell_type": "markdown",
   "id": "ecfea036",
   "metadata": {},
   "source": [
    "- Now estimate the probability $P \\Bigg(  (\\text{ 1st wheel } <\\text{ 2nd wheel }) \\text { OR } (\\text{ 3d wheel } > \\text{ 4th wheel } )\\Bigg) $. Store your answer in the variable `probability_2`. "
   ]
  },
  {
   "cell_type": "code",
   "execution_count": 8,
   "id": "ccf743a0",
   "metadata": {},
   "outputs": [
    {
     "data": {
      "text/plain": [
       "0.704"
      ]
     },
     "execution_count": 8,
     "metadata": {},
     "output_type": "execute_result"
    }
   ],
   "source": [
    "probability_2 = successful_cases_2/1000\n",
    "probability_2"
   ]
  },
  {
   "cell_type": "markdown",
   "id": "9d9b43a6",
   "metadata": {},
   "source": [
    "# Exercise 3 (Application of Simulation)\n",
    "\n",
    "In a big city, the Mayor gave a speech with regards to the upcomming elections. In his speech, he claimed that, according to his calculations, he expects that $65\\%$ of the citizens are going to vote for him in the elections.  \n",
    "\n",
    "\n",
    "You decide that you want to test that claim. In order to do so, you created a poll where you asked **100** random citizens whether they are going to vote for the Mayor again or not. You found that:\n",
    "\n",
    "- $56$ of them answered \"YES\"\n",
    "- $44$ of them answered \"NO\"\n",
    "\n",
    "We are going to use a simulation to determine whether the Mayor was lying or not. Complete the next sections in order to create your simulation. \n",
    "\n",
    "\n",
    "\n",
    "\n",
    "## Section 3.1\n",
    "\n",
    "First, we want to simulate the process of having a poll of **100** people answering \"YES\" or \"NO\" to the question: \"Would you vote for the Mayor again?\".\n",
    "\n",
    "Use `random.choices` to create a sample of 100 answers (\"YES\" or \"NO\") from a population where \n",
    "- $P(\\text{\"YES\"}) = 65\\%$\n",
    "- $P(\\text{\"NO\"}) = 35\\%$\n",
    "\n",
    "store it in the variable `poll` in the cell below."
   ]
  },
  {
   "cell_type": "code",
   "execution_count": 9,
   "id": "24839729",
   "metadata": {},
   "outputs": [
    {
     "data": {
      "text/plain": [
       "['NO',\n",
       " 'YES',\n",
       " 'YES',\n",
       " 'YES',\n",
       " 'YES',\n",
       " 'NO',\n",
       " 'YES',\n",
       " 'YES',\n",
       " 'NO',\n",
       " 'NO',\n",
       " 'YES',\n",
       " 'NO',\n",
       " 'YES',\n",
       " 'YES',\n",
       " 'NO',\n",
       " 'NO',\n",
       " 'NO',\n",
       " 'YES',\n",
       " 'NO',\n",
       " 'YES',\n",
       " 'YES',\n",
       " 'NO',\n",
       " 'YES',\n",
       " 'YES',\n",
       " 'YES',\n",
       " 'YES',\n",
       " 'YES',\n",
       " 'YES',\n",
       " 'NO',\n",
       " 'YES',\n",
       " 'YES',\n",
       " 'NO',\n",
       " 'YES',\n",
       " 'NO',\n",
       " 'YES',\n",
       " 'NO',\n",
       " 'YES',\n",
       " 'NO',\n",
       " 'NO',\n",
       " 'NO',\n",
       " 'YES',\n",
       " 'NO',\n",
       " 'YES',\n",
       " 'YES',\n",
       " 'YES',\n",
       " 'YES',\n",
       " 'YES',\n",
       " 'YES',\n",
       " 'YES',\n",
       " 'YES',\n",
       " 'NO',\n",
       " 'YES',\n",
       " 'NO',\n",
       " 'NO',\n",
       " 'YES',\n",
       " 'YES',\n",
       " 'YES',\n",
       " 'YES',\n",
       " 'YES',\n",
       " 'YES',\n",
       " 'NO',\n",
       " 'YES',\n",
       " 'NO',\n",
       " 'NO',\n",
       " 'NO',\n",
       " 'YES',\n",
       " 'YES',\n",
       " 'YES',\n",
       " 'NO',\n",
       " 'YES',\n",
       " 'YES',\n",
       " 'YES',\n",
       " 'NO',\n",
       " 'YES',\n",
       " 'NO',\n",
       " 'YES',\n",
       " 'YES',\n",
       " 'NO',\n",
       " 'YES',\n",
       " 'YES',\n",
       " 'YES',\n",
       " 'YES',\n",
       " 'YES',\n",
       " 'NO',\n",
       " 'NO',\n",
       " 'NO',\n",
       " 'NO',\n",
       " 'YES',\n",
       " 'YES',\n",
       " 'NO',\n",
       " 'NO',\n",
       " 'NO',\n",
       " 'NO',\n",
       " 'NO',\n",
       " 'NO',\n",
       " 'YES',\n",
       " 'NO',\n",
       " 'YES',\n",
       " 'NO',\n",
       " 'NO']"
      ]
     },
     "execution_count": 9,
     "metadata": {},
     "output_type": "execute_result"
    }
   ],
   "source": [
    "poll = random.choices([\"YES\"] *65 + [\"NO\"] * 35, k = 100)\n",
    "poll"
   ]
  },
  {
   "cell_type": "markdown",
   "id": "429097a9",
   "metadata": {},
   "source": [
    "## Section 3.2\n",
    "\n",
    "Now that we have the list with our answers, we want to find the percentage of the people who answered \"YES\" in the poll. \n",
    "\n",
    "**Run the following cell** to find the total number of people who answered \"YES\" in the given poll. "
   ]
  },
  {
   "cell_type": "code",
   "execution_count": 10,
   "id": "863f63f3",
   "metadata": {},
   "outputs": [],
   "source": [
    "positive_answers = 0 ## We start the sum from 0\n",
    "\n",
    "for i in range(100):  \n",
    "    answer = poll[i]  ## We take each answer in the list\n",
    "    if answer == \"YES\":\n",
    "        positive_answers = positive_answers + 1  ## When the answer is 'YES', we increase the sum by 1\n",
    "\n",
    "\n"
   ]
  },
  {
   "cell_type": "code",
   "execution_count": 11,
   "id": "fe37dc63",
   "metadata": {},
   "outputs": [
    {
     "data": {
      "text/plain": [
       "58"
      ]
     },
     "execution_count": 11,
     "metadata": {},
     "output_type": "execute_result"
    }
   ],
   "source": [
    "positive_answers"
   ]
  },
  {
   "cell_type": "markdown",
   "id": "b6dc4ec3",
   "metadata": {},
   "source": [
    "## Section 3.3\n",
    "\n",
    "Write a simulation with 10000 repetitions. In the simulation, you are to do the following\n",
    "\n",
    "For each repetition:\n",
    "- Get the results of a poll of **100** people answering \"YES\" or \"NO\" to the question: \"Would you vote for the Mayor again?\". (Hint: Use section 3.1)\n",
    "- Find the total number of people who answered \"YES\" (Hint: Use section 3.2)\n",
    "\n",
    "At the end of your simulation , you should have a dataframe called `df_3` that contains one column called `\"positive_answers\"`. For each row of the column, we should have an integer (from 0 to 100) representing the number of positive answers to each simulated poll.  "
   ]
  },
  {
   "cell_type": "code",
   "execution_count": 16,
   "id": "1f04bb69",
   "metadata": {},
   "outputs": [],
   "source": [
    "data = []\n",
    "\n",
    "\n",
    "## Write your simulation here\n",
    "for i in range(10000):\n",
    "    poll = random.choices([\"YES\"] *65 + [\"NO\"] * 35, k = 100)\n",
    "    \n",
    "    positive_answers = 0 ## We start the sum from 0\n",
    "\n",
    "    for i in range(100):  \n",
    "        answer = poll[i]  ## We take each answer in the list\n",
    "        if answer == \"YES\":\n",
    "            positive_answers = positive_answers + 1  ## When the answer is 'YES', we increase the sum by 1\n",
    "        \n",
    "    d = {\"positive_answers\":positive_answers}\n",
    "    data.append(d)\n",
    "    \n",
    "df_3 = pd.DataFrame(data)"
   ]
  },
  {
   "cell_type": "code",
   "execution_count": 17,
   "id": "6e43ac25",
   "metadata": {},
   "outputs": [
    {
     "data": {
      "text/html": [
       "<div>\n",
       "<style scoped>\n",
       "    .dataframe tbody tr th:only-of-type {\n",
       "        vertical-align: middle;\n",
       "    }\n",
       "\n",
       "    .dataframe tbody tr th {\n",
       "        vertical-align: top;\n",
       "    }\n",
       "\n",
       "    .dataframe thead th {\n",
       "        text-align: right;\n",
       "    }\n",
       "</style>\n",
       "<table border=\"1\" class=\"dataframe\">\n",
       "  <thead>\n",
       "    <tr style=\"text-align: right;\">\n",
       "      <th></th>\n",
       "      <th>positive_answers</th>\n",
       "    </tr>\n",
       "  </thead>\n",
       "  <tbody>\n",
       "    <tr>\n",
       "      <th>0</th>\n",
       "      <td>56</td>\n",
       "    </tr>\n",
       "    <tr>\n",
       "      <th>1</th>\n",
       "      <td>65</td>\n",
       "    </tr>\n",
       "    <tr>\n",
       "      <th>2</th>\n",
       "      <td>64</td>\n",
       "    </tr>\n",
       "    <tr>\n",
       "      <th>3</th>\n",
       "      <td>63</td>\n",
       "    </tr>\n",
       "    <tr>\n",
       "      <th>4</th>\n",
       "      <td>63</td>\n",
       "    </tr>\n",
       "    <tr>\n",
       "      <th>...</th>\n",
       "      <td>...</td>\n",
       "    </tr>\n",
       "    <tr>\n",
       "      <th>9995</th>\n",
       "      <td>67</td>\n",
       "    </tr>\n",
       "    <tr>\n",
       "      <th>9996</th>\n",
       "      <td>63</td>\n",
       "    </tr>\n",
       "    <tr>\n",
       "      <th>9997</th>\n",
       "      <td>62</td>\n",
       "    </tr>\n",
       "    <tr>\n",
       "      <th>9998</th>\n",
       "      <td>65</td>\n",
       "    </tr>\n",
       "    <tr>\n",
       "      <th>9999</th>\n",
       "      <td>64</td>\n",
       "    </tr>\n",
       "  </tbody>\n",
       "</table>\n",
       "<p>10000 rows × 1 columns</p>\n",
       "</div>"
      ],
      "text/plain": [
       "      positive_answers\n",
       "0                   56\n",
       "1                   65\n",
       "2                   64\n",
       "3                   63\n",
       "4                   63\n",
       "...                ...\n",
       "9995                67\n",
       "9996                63\n",
       "9997                62\n",
       "9998                65\n",
       "9999                64\n",
       "\n",
       "[10000 rows x 1 columns]"
      ]
     },
     "execution_count": 17,
     "metadata": {},
     "output_type": "execute_result"
    }
   ],
   "source": [
    "df_3"
   ]
  },
  {
   "cell_type": "markdown",
   "id": "c20e3637",
   "metadata": {},
   "source": [
    "## Section 3.4\n",
    "\n",
    "Now, given df_3, find the **number** of rows in `df_3` where the column `positive_answers` takes a value $\\leq 56$. Store the result in the variable called `successful_cases_3`\n",
    "\n",
    "\n",
    "\n"
   ]
  },
  {
   "cell_type": "code",
   "execution_count": 18,
   "id": "ba8a053e",
   "metadata": {},
   "outputs": [
    {
     "data": {
      "text/plain": [
       "249"
      ]
     },
     "execution_count": 18,
     "metadata": {},
     "output_type": "execute_result"
    }
   ],
   "source": [
    "successful_cases_3 = len(df_3[ df_3['positive_answers'] <= 56])\n",
    "successful_cases_3"
   ]
  },
  {
   "cell_type": "markdown",
   "id": "a3c59771",
   "metadata": {},
   "source": [
    "And now estimate the probability that $P(\\text{\"positive answers\"} \\leq 56)$, i.e. the probability that in a poll of a 100 people, the number of \"positive answers\" was less than or equal to 56. Store the result in the variable `probability_3`\n"
   ]
  },
  {
   "cell_type": "code",
   "execution_count": 19,
   "id": "77022b1e",
   "metadata": {},
   "outputs": [
    {
     "data": {
      "text/plain": [
       "0.0249"
      ]
     },
     "execution_count": 19,
     "metadata": {},
     "output_type": "execute_result"
    }
   ],
   "source": [
    "probability_3 = successful_cases_3/10000\n",
    "probability_3"
   ]
  },
  {
   "cell_type": "markdown",
   "id": "ab35b46a",
   "metadata": {},
   "source": [
    "## Analysis\n",
    "\n",
    "The probability that you just calculated can be used to test the Mayor's claim:\n",
    "\n",
    "> **Assume** that we are to believe the Mayor and indeed, $65\\%$ of the citizens are going to vote for him in the elections. Then `probability_3` estimated the probability of having a poll of 100 random people, and 56 or less of them answering \"YES\" in that poll.  \n",
    "\n",
    "- If `probability_3` is **high**, then that means that the outcome of the poll is fairly likely to have happened by chance and so we cannot challenge the Mayor.\n",
    "\n",
    "- If `probability_3` is **low**, then that means that the outcome of the poll is quite unlikely to have happened if we are to believe the Mayor. In this case, we can challenge his claim from a statistical point of view.\n",
    "\n",
    "### Question\n",
    "\n",
    "- What was your result for `probability_3`? Would you challenge the Mayor's statement or not?"
   ]
  },
  {
   "cell_type": "markdown",
   "id": "456f990d",
   "metadata": {},
   "source": [
    "# Submission\n",
    "\n",
    "Download your notebook and submit it on Canvas in \"**Assignment 5**\"."
   ]
  }
 ],
 "metadata": {
  "kernelspec": {
   "display_name": "Python 3 (ipykernel)",
   "language": "python",
   "name": "python3"
  },
  "language_info": {
   "codemirror_mode": {
    "name": "ipython",
    "version": 3
   },
   "file_extension": ".py",
   "mimetype": "text/x-python",
   "name": "python",
   "nbconvert_exporter": "python",
   "pygments_lexer": "ipython3",
   "version": "3.9.13"
  }
 },
 "nbformat": 4,
 "nbformat_minor": 5
}
