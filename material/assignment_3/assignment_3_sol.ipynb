{
 "cells": [
  {
   "cell_type": "markdown",
   "metadata": {
    "id": "NYorg0xgO_6E"
   },
   "source": [
    "# Lab 3\n",
    "The goal of this lab is to work with **real UIUC salary data** to explore its properties, answer important questions, and to think about the implications of collecting and analyzing this data.  \n",
    "\n",
    "In this lab, you will:\n",
    "- Work with real UIUC salary data to explore some of the statistics that we talked about in lecture: mean, median, standard deviation, etc.\n",
    "- Practice creating plots to **visualize quantitative data**: boxplots, histograms and bar-plots."
   ]
  },
  {
   "cell_type": "markdown",
   "metadata": {
    "id": "DpnCCNKkO_6M"
   },
   "source": [
    "<hr style=\"color: #DD3403;\">"
   ]
  },
  {
   "cell_type": "markdown",
   "metadata": {
    "id": "jmGeXWZ3O_6O"
   },
   "source": [
    "## Setup: Import the Graybook Dataset\n",
    "\n",
    "The \"Gray Book\" is historical term for the book of \"Academic and Administrative Appointments\".  As a public University, all academic positions (including academic title, tenure status, and salary) are publicly approved by the Board of Trustees.  After approval, they are published publicly at [https://www.bot.uillinois.edu/resources/gray_book](https://www.bot.uillinois.edu/resources/gray_book).\n",
    "\n",
    "The \"Graybook Dataset\" provided here includes all faculty (except for the Division of Collegiate Athletics, for salary outlier reasons) at The University of Illinois, based on the **2022-2023 Graybook report**.  A CSV version of this dataset is available at the following URL:\n",
    "\n",
    "```\n",
    "https://evantsiamalos.github.io/material/datasets/salary.csv\n",
    "```\n",
    "\n",
    "Import `pandas` and load this dataset into a DataFrame, `df`:"
   ]
  },
  {
   "cell_type": "code",
   "execution_count": 1,
   "metadata": {
    "deletable": false,
    "id": "vXttEtWLO_6P",
    "nbgrader": {
     "cell_type": "code",
     "checksum": "40a9b55a4721908243d995f8d7f2fbb7",
     "grade": false,
     "grade_id": "cell-27971beecac131cc",
     "locked": false,
     "schema_version": 3,
     "solution": true,
     "task": false
    }
   },
   "outputs": [
    {
     "data": {
      "text/html": [
       "<div>\n",
       "<style scoped>\n",
       "    .dataframe tbody tr th:only-of-type {\n",
       "        vertical-align: middle;\n",
       "    }\n",
       "\n",
       "    .dataframe tbody tr th {\n",
       "        vertical-align: top;\n",
       "    }\n",
       "\n",
       "    .dataframe thead th {\n",
       "        text-align: right;\n",
       "    }\n",
       "</style>\n",
       "<table border=\"1\" class=\"dataframe\">\n",
       "  <thead>\n",
       "    <tr style=\"text-align: right;\">\n",
       "      <th></th>\n",
       "      <th>Employee Name</th>\n",
       "      <th>Job Title</th>\n",
       "      <th>Tenure</th>\n",
       "      <th>Empl Class</th>\n",
       "      <th>Present FTE</th>\n",
       "      <th>Proposed FTE</th>\n",
       "      <th>Present Salary</th>\n",
       "      <th>Proposed Salary</th>\n",
       "      <th>College Code</th>\n",
       "      <th>College Name</th>\n",
       "      <th>Department Code</th>\n",
       "      <th>Department Name</th>\n",
       "      <th>Job Titles</th>\n",
       "      <th>Employee Classes</th>\n",
       "    </tr>\n",
       "  </thead>\n",
       "  <tbody>\n",
       "    <tr>\n",
       "      <th>0</th>\n",
       "      <td>Gerstenecker, David G</td>\n",
       "      <td>DIR OF INFO TECHNOL</td>\n",
       "      <td>NaN</td>\n",
       "      <td>BA</td>\n",
       "      <td>1.0</td>\n",
       "      <td>1.0</td>\n",
       "      <td>106476.00</td>\n",
       "      <td>109670.28</td>\n",
       "      <td>KL</td>\n",
       "      <td>Agr, Consumer &amp; Env Sciences</td>\n",
       "      <td>348</td>\n",
       "      <td>ACES Technology Services</td>\n",
       "      <td>['DIR OF INFO TECHNOL']</td>\n",
       "      <td>['BA']</td>\n",
       "    </tr>\n",
       "    <tr>\n",
       "      <th>1</th>\n",
       "      <td>Henry, Joshua Keith</td>\n",
       "      <td>ASSOC DIR INFO TECHNOL</td>\n",
       "      <td>NaN</td>\n",
       "      <td>BA</td>\n",
       "      <td>1.0</td>\n",
       "      <td>1.0</td>\n",
       "      <td>80871.33</td>\n",
       "      <td>83701.83</td>\n",
       "      <td>KL</td>\n",
       "      <td>Agr, Consumer &amp; Env Sciences</td>\n",
       "      <td>348</td>\n",
       "      <td>ACES Technology Services</td>\n",
       "      <td>['ASSOC DIR INFO TECHNOL']</td>\n",
       "      <td>['BA']</td>\n",
       "    </tr>\n",
       "    <tr>\n",
       "      <th>2</th>\n",
       "      <td>Meyer, Donald L</td>\n",
       "      <td>SR NETWORK ANLYS</td>\n",
       "      <td>NaN</td>\n",
       "      <td>BA</td>\n",
       "      <td>1.0</td>\n",
       "      <td>1.0</td>\n",
       "      <td>89558.22</td>\n",
       "      <td>92692.76</td>\n",
       "      <td>KL</td>\n",
       "      <td>Agr, Consumer &amp; Env Sciences</td>\n",
       "      <td>348</td>\n",
       "      <td>ACES Technology Services</td>\n",
       "      <td>['SR NETWORK ANLYS']</td>\n",
       "      <td>['BA']</td>\n",
       "    </tr>\n",
       "    <tr>\n",
       "      <th>3</th>\n",
       "      <td>Schwartz, Sarah</td>\n",
       "      <td>COMM COORD</td>\n",
       "      <td>NaN</td>\n",
       "      <td>BA</td>\n",
       "      <td>1.0</td>\n",
       "      <td>1.0</td>\n",
       "      <td>50000.00</td>\n",
       "      <td>51750.00</td>\n",
       "      <td>KL</td>\n",
       "      <td>Agr, Consumer &amp; Env Sciences</td>\n",
       "      <td>521</td>\n",
       "      <td>ADM Institute for PHL</td>\n",
       "      <td>['COMM COORD']</td>\n",
       "      <td>['BA']</td>\n",
       "    </tr>\n",
       "    <tr>\n",
       "      <th>4</th>\n",
       "      <td>Winter-Nelson, Alex E</td>\n",
       "      <td>DIR, ADMI</td>\n",
       "      <td>NaN</td>\n",
       "      <td>NaN</td>\n",
       "      <td>1.0</td>\n",
       "      <td>1.0</td>\n",
       "      <td>186666.00</td>\n",
       "      <td>193532.64</td>\n",
       "      <td>KL</td>\n",
       "      <td>Agr, Consumer &amp; Env Sciences</td>\n",
       "      <td>521</td>\n",
       "      <td>ADM Institute for PHL</td>\n",
       "      <td>['DIR, ADMI', 'ASSOC DEAN FOR INATL PRGMS', 'P...</td>\n",
       "      <td>['AA', 'BA']</td>\n",
       "    </tr>\n",
       "    <tr>\n",
       "      <th>...</th>\n",
       "      <td>...</td>\n",
       "      <td>...</td>\n",
       "      <td>...</td>\n",
       "      <td>...</td>\n",
       "      <td>...</td>\n",
       "      <td>...</td>\n",
       "      <td>...</td>\n",
       "      <td>...</td>\n",
       "      <td>...</td>\n",
       "      <td>...</td>\n",
       "      <td>...</td>\n",
       "      <td>...</td>\n",
       "      <td>...</td>\n",
       "      <td>...</td>\n",
       "    </tr>\n",
       "    <tr>\n",
       "      <th>6014</th>\n",
       "      <td>Chambers, Sonya L</td>\n",
       "      <td>EXEC DIR STRATG INITIATIVES</td>\n",
       "      <td>NaN</td>\n",
       "      <td>BA</td>\n",
       "      <td>1.0</td>\n",
       "      <td>1.0</td>\n",
       "      <td>163200.00</td>\n",
       "      <td>169500.00</td>\n",
       "      <td>NV</td>\n",
       "      <td>Vice Chancellor for Diversity</td>\n",
       "      <td>594</td>\n",
       "      <td>Vice Chancellor for Diversity</td>\n",
       "      <td>['EXEC DIR STRATG INITIATIVES']</td>\n",
       "      <td>['BA']</td>\n",
       "    </tr>\n",
       "    <tr>\n",
       "      <th>6015</th>\n",
       "      <td>Garrick, Sean C</td>\n",
       "      <td>VC FOR DVSTY, EQUITY &amp; INCL</td>\n",
       "      <td>NaN</td>\n",
       "      <td>NaN</td>\n",
       "      <td>1.0</td>\n",
       "      <td>1.0</td>\n",
       "      <td>338248.98</td>\n",
       "      <td>351778.94</td>\n",
       "      <td>NV</td>\n",
       "      <td>Vice Chancellor for Diversity</td>\n",
       "      <td>594</td>\n",
       "      <td>Vice Chancellor for Diversity</td>\n",
       "      <td>['VC FOR DVSTY, EQUITY &amp; INCL']</td>\n",
       "      <td>['BA']</td>\n",
       "    </tr>\n",
       "    <tr>\n",
       "      <th>6016</th>\n",
       "      <td>Guerra Perez, Gioconda</td>\n",
       "      <td>EXEC ASSOC VC FOR DVSTY</td>\n",
       "      <td>NaN</td>\n",
       "      <td>BA</td>\n",
       "      <td>1.0</td>\n",
       "      <td>1.0</td>\n",
       "      <td>178500.00</td>\n",
       "      <td>187250.00</td>\n",
       "      <td>NV</td>\n",
       "      <td>Vice Chancellor for Diversity</td>\n",
       "      <td>594</td>\n",
       "      <td>Vice Chancellor for Diversity</td>\n",
       "      <td>['EXEC ASSOC VC FOR DVSTY']</td>\n",
       "      <td>['BA']</td>\n",
       "    </tr>\n",
       "    <tr>\n",
       "      <th>6017</th>\n",
       "      <td>VanDuyne, Adam Jareb</td>\n",
       "      <td>EXEC DIR FIN &amp; ADMN</td>\n",
       "      <td>NaN</td>\n",
       "      <td>BA</td>\n",
       "      <td>1.0</td>\n",
       "      <td>1.0</td>\n",
       "      <td>141000.00</td>\n",
       "      <td>147200.00</td>\n",
       "      <td>NV</td>\n",
       "      <td>Vice Chancellor for Diversity</td>\n",
       "      <td>594</td>\n",
       "      <td>Vice Chancellor for Diversity</td>\n",
       "      <td>['EXEC DIR FIN &amp; ADMN']</td>\n",
       "      <td>['BA']</td>\n",
       "    </tr>\n",
       "    <tr>\n",
       "      <th>6018</th>\n",
       "      <td>Wantland, Ross A</td>\n",
       "      <td>DIR OF CURR DEVL &amp; EDUC</td>\n",
       "      <td>NaN</td>\n",
       "      <td>BA</td>\n",
       "      <td>1.0</td>\n",
       "      <td>1.0</td>\n",
       "      <td>94860.00</td>\n",
       "      <td>98860.00</td>\n",
       "      <td>NV</td>\n",
       "      <td>Vice Chancellor for Diversity</td>\n",
       "      <td>594</td>\n",
       "      <td>Vice Chancellor for Diversity</td>\n",
       "      <td>['DIR OF CURR DEVL &amp; EDUC']</td>\n",
       "      <td>['BA']</td>\n",
       "    </tr>\n",
       "  </tbody>\n",
       "</table>\n",
       "<p>6019 rows × 14 columns</p>\n",
       "</div>"
      ],
      "text/plain": [
       "               Employee Name                    Job Title Tenure Empl Class  \\\n",
       "0      Gerstenecker, David G          DIR OF INFO TECHNOL    NaN         BA   \n",
       "1        Henry, Joshua Keith       ASSOC DIR INFO TECHNOL    NaN         BA   \n",
       "2            Meyer, Donald L             SR NETWORK ANLYS    NaN         BA   \n",
       "3            Schwartz, Sarah                   COMM COORD    NaN         BA   \n",
       "4      Winter-Nelson, Alex E                    DIR, ADMI    NaN        NaN   \n",
       "...                      ...                          ...    ...        ...   \n",
       "6014       Chambers, Sonya L  EXEC DIR STRATG INITIATIVES    NaN         BA   \n",
       "6015         Garrick, Sean C  VC FOR DVSTY, EQUITY & INCL    NaN        NaN   \n",
       "6016  Guerra Perez, Gioconda      EXEC ASSOC VC FOR DVSTY    NaN         BA   \n",
       "6017    VanDuyne, Adam Jareb          EXEC DIR FIN & ADMN    NaN         BA   \n",
       "6018        Wantland, Ross A      DIR OF CURR DEVL & EDUC    NaN         BA   \n",
       "\n",
       "      Present FTE  Proposed FTE  Present Salary  Proposed Salary College Code  \\\n",
       "0             1.0           1.0       106476.00        109670.28           KL   \n",
       "1             1.0           1.0        80871.33         83701.83           KL   \n",
       "2             1.0           1.0        89558.22         92692.76           KL   \n",
       "3             1.0           1.0        50000.00         51750.00           KL   \n",
       "4             1.0           1.0       186666.00        193532.64           KL   \n",
       "...           ...           ...             ...              ...          ...   \n",
       "6014          1.0           1.0       163200.00        169500.00           NV   \n",
       "6015          1.0           1.0       338248.98        351778.94           NV   \n",
       "6016          1.0           1.0       178500.00        187250.00           NV   \n",
       "6017          1.0           1.0       141000.00        147200.00           NV   \n",
       "6018          1.0           1.0        94860.00         98860.00           NV   \n",
       "\n",
       "                       College Name  Department Code  \\\n",
       "0      Agr, Consumer & Env Sciences              348   \n",
       "1      Agr, Consumer & Env Sciences              348   \n",
       "2      Agr, Consumer & Env Sciences              348   \n",
       "3      Agr, Consumer & Env Sciences              521   \n",
       "4      Agr, Consumer & Env Sciences              521   \n",
       "...                             ...              ...   \n",
       "6014  Vice Chancellor for Diversity              594   \n",
       "6015  Vice Chancellor for Diversity              594   \n",
       "6016  Vice Chancellor for Diversity              594   \n",
       "6017  Vice Chancellor for Diversity              594   \n",
       "6018  Vice Chancellor for Diversity              594   \n",
       "\n",
       "                    Department Name  \\\n",
       "0          ACES Technology Services   \n",
       "1          ACES Technology Services   \n",
       "2          ACES Technology Services   \n",
       "3             ADM Institute for PHL   \n",
       "4             ADM Institute for PHL   \n",
       "...                             ...   \n",
       "6014  Vice Chancellor for Diversity   \n",
       "6015  Vice Chancellor for Diversity   \n",
       "6016  Vice Chancellor for Diversity   \n",
       "6017  Vice Chancellor for Diversity   \n",
       "6018  Vice Chancellor for Diversity   \n",
       "\n",
       "                                             Job Titles Employee Classes  \n",
       "0                               ['DIR OF INFO TECHNOL']           ['BA']  \n",
       "1                            ['ASSOC DIR INFO TECHNOL']           ['BA']  \n",
       "2                                  ['SR NETWORK ANLYS']           ['BA']  \n",
       "3                                        ['COMM COORD']           ['BA']  \n",
       "4     ['DIR, ADMI', 'ASSOC DEAN FOR INATL PRGMS', 'P...     ['AA', 'BA']  \n",
       "...                                                 ...              ...  \n",
       "6014                    ['EXEC DIR STRATG INITIATIVES']           ['BA']  \n",
       "6015                    ['VC FOR DVSTY, EQUITY & INCL']           ['BA']  \n",
       "6016                        ['EXEC ASSOC VC FOR DVSTY']           ['BA']  \n",
       "6017                            ['EXEC DIR FIN & ADMN']           ['BA']  \n",
       "6018                        ['DIR OF CURR DEVL & EDUC']           ['BA']  \n",
       "\n",
       "[6019 rows x 14 columns]"
      ]
     },
     "execution_count": 1,
     "metadata": {},
     "output_type": "execute_result"
    }
   ],
   "source": [
    "import pandas as pd\n",
    "df = pd.read_csv(\"https://evantsiamalos.github.io/material/datasets/salary.csv\")\n",
    "df"
   ]
  },
  {
   "cell_type": "markdown",
   "metadata": {
    "id": "Cj3uHGTIO_6S"
   },
   "source": [
    "### Test Case Checkpoint"
   ]
  },
  {
   "cell_type": "code",
   "execution_count": null,
   "metadata": {
    "id": "BOv7GmsdO_6S"
   },
   "outputs": [],
   "source": [
    "## == CHECKPOINT TEST CASES ==\n",
    "# - This read-only cell contains test cases for your previous cell.\n",
    "# - If this cell runs without any errors, you PASSED all test cases!\n",
    "# - If this cell results in any errors, check your previous cell, make changes, and RE-RUN your code and then this cell.\n",
    "Tester.testCase1()\n"
   ]
  },
  {
   "cell_type": "markdown",
   "metadata": {
    "id": "HoRqPPYZO_6T"
   },
   "source": [
    "<hr style=\"color: #DD3403;\">"
   ]
  },
  {
   "cell_type": "markdown",
   "metadata": {
    "id": "8qZO04HFO_6T"
   },
   "source": [
    "## Exploratory Data Analysis\n",
    "\n",
    "The first step of any data analysis is to **get familiar** with your dataset.  Think about what this data can tell you and what variables are included.  Data scientists always start with this step.\n",
    "\n",
    "Let’s do some general **exploratory data analysis** to get a first idea about our dataset."
   ]
  },
  {
   "cell_type": "markdown",
   "metadata": {
    "id": "hMExRkELO_6W"
   },
   "source": [
    "### Descriptive Statistics\n",
    "\n",
    "Our Graybook Dataset contains both the `Present Salary` and `Proposed Salary` of employees at U of I. For now, we're only interested in the present.\n",
    "\n",
    "Using `df`, find the following information:\n",
    "\n",
    "1. The number of faculty at UIUC, stored in the variable `num_employee` (Hint: each row is an employee!)\n",
    "2. The **mean** present salary, storing in the variable `mean_sal`\n",
    "3. The **median** present salary, storing in the variable `median_sal`\n",
    "4. The **standard deviation** of present salary, storing in the variable `std_sal`\n",
    "5. Find the **minimum** of present salary, storing in the variable `min_sal`\n",
    "6. Find the **maximum** of present salary, storing in the variable `max_sal`\n",
    "\n",
    "Remember, present salary is found in the `\"Present Salary\"` column!"
   ]
  },
  {
   "cell_type": "code",
   "execution_count": 2,
   "metadata": {
    "deletable": false,
    "id": "QfQDtXHZO_6Y",
    "nbgrader": {
     "cell_type": "code",
     "checksum": "b1bea43f79c33b854e1f15dfe00b180b",
     "grade": false,
     "grade_id": "cell-419796a0b415e588",
     "locked": false,
     "schema_version": 3,
     "solution": true,
     "task": false
    }
   },
   "outputs": [
    {
     "data": {
      "text/plain": [
       "6019"
      ]
     },
     "execution_count": 2,
     "metadata": {},
     "output_type": "execute_result"
    }
   ],
   "source": [
    "num_employee = len(df)\n",
    "num_employee\n"
   ]
  },
  {
   "cell_type": "code",
   "execution_count": 3,
   "metadata": {
    "deletable": false,
    "id": "YoK4arzBO_6Z",
    "nbgrader": {
     "cell_type": "code",
     "checksum": "f86aac497feb3ecd4289626231b44964",
     "grade": false,
     "grade_id": "cell-4dbbeef1022a20e4",
     "locked": false,
     "schema_version": 3,
     "solution": true,
     "task": false
    }
   },
   "outputs": [
    {
     "data": {
      "text/plain": [
       "96323.9464379465"
      ]
     },
     "execution_count": 3,
     "metadata": {},
     "output_type": "execute_result"
    }
   ],
   "source": [
    "mean_sal = df[\"Present Salary\"].mean()\n",
    "mean_sal"
   ]
  },
  {
   "cell_type": "code",
   "execution_count": 4,
   "metadata": {
    "deletable": false,
    "id": "wQvTJIiBO_6a",
    "nbgrader": {
     "cell_type": "code",
     "checksum": "e8f355f508ffadd1f9b645c9686c73ea",
     "grade": false,
     "grade_id": "cell-727195c3fef2cf78",
     "locked": false,
     "schema_version": 3,
     "solution": true,
     "task": false
    }
   },
   "outputs": [
    {
     "data": {
      "text/plain": [
       "84000.0"
      ]
     },
     "execution_count": 4,
     "metadata": {},
     "output_type": "execute_result"
    }
   ],
   "source": [
    "median_sal = df[\"Present Salary\"].median()\n",
    "median_sal"
   ]
  },
  {
   "cell_type": "code",
   "execution_count": null,
   "metadata": {
    "deletable": false,
    "id": "9a40MIbpO_6a",
    "nbgrader": {
     "cell_type": "code",
     "checksum": "3da9719c35e35c72a09a1068d100b0f1",
     "grade": false,
     "grade_id": "cell-35e651d14a628e50",
     "locked": false,
     "schema_version": 3,
     "solution": true,
     "task": false
    }
   },
   "outputs": [],
   "source": [
    "std_sal = df[\"Present Salary\"].std()\n",
    "std_sal"
   ]
  },
  {
   "cell_type": "code",
   "execution_count": 5,
   "metadata": {
    "id": "0mrxriLFO_6b"
   },
   "outputs": [
    {
     "data": {
      "text/plain": [
       "0.0"
      ]
     },
     "execution_count": 5,
     "metadata": {},
     "output_type": "execute_result"
    }
   ],
   "source": [
    "min_sal = df[\"Present Salary\"].min()\n",
    "min_sal"
   ]
  },
  {
   "cell_type": "code",
   "execution_count": 6,
   "metadata": {
    "id": "992tp9-NO_6c"
   },
   "outputs": [
    {
     "data": {
      "text/plain": [
       "851700.0"
      ]
     },
     "execution_count": 6,
     "metadata": {},
     "output_type": "execute_result"
    }
   ],
   "source": [
    "max_sal = df[\"Present Salary\"].max()\n",
    "max_sal"
   ]
  },
  {
   "cell_type": "markdown",
   "metadata": {
    "id": "15avL5c0O_6d"
   },
   "source": [
    "### Test Case Checkpoint"
   ]
  },
  {
   "cell_type": "code",
   "execution_count": null,
   "metadata": {
    "deletable": false,
    "editable": false,
    "id": "JnUHk4jiO_6g",
    "nbgrader": {
     "cell_type": "code",
     "checksum": "56f09ea04974ac5c89f390a8825daa39",
     "grade": true,
     "grade_id": "cell-04e624817d681f8e",
     "locked": true,
     "points": 1,
     "schema_version": 3,
     "solution": false,
     "task": false
    }
   },
   "outputs": [],
   "source": [
    "## == CHECKPOINT TEST CASES ==\n",
    "# - This read-only cell contains test cases for your previous cell.\n",
    "# - If this cell runs without any errors, you PASSED all test cases!\n",
    "# - If this cell results in any errors, check your previous cell, make changes, and RE-RUN your code and then this cell.\n",
    "Tester.testCase2()\n"
   ]
  },
  {
   "cell_type": "markdown",
   "metadata": {
    "id": "4qbOwzBqO_6h"
   },
   "source": [
    "## Some interesting questions\n",
    "We are going to answer the following quesions:\n",
    "\n",
    "Who are the emplyees with the 10 highest salaries?\n",
    "- Find the employess with the 10 highest **Present Salary** values. Store the result in a variable called `top_10`\n",
    "\n",
    "\n"
   ]
  },
  {
   "cell_type": "code",
   "execution_count": 7,
   "metadata": {
    "id": "zpVGUuJqO_6h"
   },
   "outputs": [
    {
     "data": {
      "text/html": [
       "<div>\n",
       "<style scoped>\n",
       "    .dataframe tbody tr th:only-of-type {\n",
       "        vertical-align: middle;\n",
       "    }\n",
       "\n",
       "    .dataframe tbody tr th {\n",
       "        vertical-align: top;\n",
       "    }\n",
       "\n",
       "    .dataframe thead th {\n",
       "        text-align: right;\n",
       "    }\n",
       "</style>\n",
       "<table border=\"1\" class=\"dataframe\">\n",
       "  <thead>\n",
       "    <tr style=\"text-align: right;\">\n",
       "      <th></th>\n",
       "      <th>Employee Name</th>\n",
       "      <th>Job Title</th>\n",
       "      <th>Tenure</th>\n",
       "      <th>Empl Class</th>\n",
       "      <th>Present FTE</th>\n",
       "      <th>Proposed FTE</th>\n",
       "      <th>Present Salary</th>\n",
       "      <th>Proposed Salary</th>\n",
       "      <th>College Code</th>\n",
       "      <th>College Name</th>\n",
       "      <th>Department Code</th>\n",
       "      <th>Department Name</th>\n",
       "      <th>Job Titles</th>\n",
       "      <th>Employee Classes</th>\n",
       "    </tr>\n",
       "  </thead>\n",
       "  <tbody>\n",
       "    <tr>\n",
       "      <th>2823</th>\n",
       "      <td>Killeen, Timothy L</td>\n",
       "      <td>PROF</td>\n",
       "      <td>NaN</td>\n",
       "      <td>NaN</td>\n",
       "      <td>1.0</td>\n",
       "      <td>1.0</td>\n",
       "      <td>851700.00</td>\n",
       "      <td>881509.50</td>\n",
       "      <td>KP</td>\n",
       "      <td>Grainger Engineering</td>\n",
       "      <td>933</td>\n",
       "      <td>Electrical &amp; Computer Eng</td>\n",
       "      <td>['PROF']</td>\n",
       "      <td>['AA']</td>\n",
       "    </tr>\n",
       "    <tr>\n",
       "      <th>1070</th>\n",
       "      <td>Cohen, Mark Steven</td>\n",
       "      <td>DEAN</td>\n",
       "      <td>NaN</td>\n",
       "      <td>NaN</td>\n",
       "      <td>1.0</td>\n",
       "      <td>1.0</td>\n",
       "      <td>725000.00</td>\n",
       "      <td>725000.00</td>\n",
       "      <td>LT</td>\n",
       "      <td>Carle Illinois Medicine</td>\n",
       "      <td>944</td>\n",
       "      <td>Carle IL COM Administration</td>\n",
       "      <td>['SVP &amp; CHIEF ACADEMIC OFFICER', 'DEAN', 'PROF']</td>\n",
       "      <td>['AA', 'BA']</td>\n",
       "    </tr>\n",
       "    <tr>\n",
       "      <th>452</th>\n",
       "      <td>Jones, Robert J</td>\n",
       "      <td>PROF</td>\n",
       "      <td>NaN</td>\n",
       "      <td>NaN</td>\n",
       "      <td>1.0</td>\n",
       "      <td>1.0</td>\n",
       "      <td>695476.19</td>\n",
       "      <td>799000.00</td>\n",
       "      <td>KL</td>\n",
       "      <td>Agr, Consumer &amp; Env Sciences</td>\n",
       "      <td>802</td>\n",
       "      <td>Crop Sciences</td>\n",
       "      <td>['PROF', 'CHANC UC &amp; V PRES UI']</td>\n",
       "      <td>['AA', 'BA']</td>\n",
       "    </tr>\n",
       "    <tr>\n",
       "      <th>2254</th>\n",
       "      <td>Brown, Jeffrey R</td>\n",
       "      <td>PROF</td>\n",
       "      <td>NaN</td>\n",
       "      <td>NaN</td>\n",
       "      <td>1.0</td>\n",
       "      <td>1.0</td>\n",
       "      <td>627110.00</td>\n",
       "      <td>659500.00</td>\n",
       "      <td>KM</td>\n",
       "      <td>Gies College of Business</td>\n",
       "      <td>260</td>\n",
       "      <td>Finance</td>\n",
       "      <td>['DEAN', 'PROF', 'LAKONISHOK PROF &amp; DEAN']</td>\n",
       "      <td>['AA', 'BA']</td>\n",
       "    </tr>\n",
       "    <tr>\n",
       "      <th>2155</th>\n",
       "      <td>Ghosh, Avijit</td>\n",
       "      <td>PROF</td>\n",
       "      <td>NaN</td>\n",
       "      <td>NaN</td>\n",
       "      <td>1.0</td>\n",
       "      <td>1.0</td>\n",
       "      <td>482000.00</td>\n",
       "      <td>498870.00</td>\n",
       "      <td>KM</td>\n",
       "      <td>Gies College of Business</td>\n",
       "      <td>902</td>\n",
       "      <td>Business Administration</td>\n",
       "      <td>['PROF']</td>\n",
       "      <td>['AA']</td>\n",
       "    </tr>\n",
       "    <tr>\n",
       "      <th>594</th>\n",
       "      <td>Robinson, Gene E</td>\n",
       "      <td>PROF</td>\n",
       "      <td>NaN</td>\n",
       "      <td>NaN</td>\n",
       "      <td>1.0</td>\n",
       "      <td>1.0</td>\n",
       "      <td>479233.13</td>\n",
       "      <td>493906.29</td>\n",
       "      <td>KL</td>\n",
       "      <td>Agr, Consumer &amp; Env Sciences</td>\n",
       "      <td>875</td>\n",
       "      <td>Natural Res &amp; Env Sci</td>\n",
       "      <td>['PROF', 'SWANLUND CHAIR', 'PROF, IGB', 'PROF,...</td>\n",
       "      <td>['AA', 'BC', 'BA', 'AL']</td>\n",
       "    </tr>\n",
       "    <tr>\n",
       "      <th>2486</th>\n",
       "      <td>Walsh, Joseph Tonry</td>\n",
       "      <td>PROF</td>\n",
       "      <td>NaN</td>\n",
       "      <td>NaN</td>\n",
       "      <td>1.0</td>\n",
       "      <td>1.0</td>\n",
       "      <td>470000.00</td>\n",
       "      <td>486450.00</td>\n",
       "      <td>KP</td>\n",
       "      <td>Grainger Engineering</td>\n",
       "      <td>343</td>\n",
       "      <td>Bioengineering</td>\n",
       "      <td>['PROF']</td>\n",
       "      <td>['AL']</td>\n",
       "    </tr>\n",
       "    <tr>\n",
       "      <th>936</th>\n",
       "      <td>Bashir, Rashid</td>\n",
       "      <td>PROF, CI MED</td>\n",
       "      <td>NaN</td>\n",
       "      <td>NaN</td>\n",
       "      <td>1.0</td>\n",
       "      <td>1.0</td>\n",
       "      <td>437000.00</td>\n",
       "      <td>465010.00</td>\n",
       "      <td>LT</td>\n",
       "      <td>Carle Illinois Medicine</td>\n",
       "      <td>861</td>\n",
       "      <td>Biomed &amp; Translational Sci</td>\n",
       "      <td>['PROF, MRL', 'DEPT AFFL', 'DEAN', 'PROF', 'PR...</td>\n",
       "      <td>['AA', 'BA']</td>\n",
       "    </tr>\n",
       "    <tr>\n",
       "      <th>3141</th>\n",
       "      <td>Jackson, William C</td>\n",
       "      <td>CLIN PROF, ILEE</td>\n",
       "      <td>NaN</td>\n",
       "      <td>NaN</td>\n",
       "      <td>1.0</td>\n",
       "      <td>1.0</td>\n",
       "      <td>428490.00</td>\n",
       "      <td>443487.15</td>\n",
       "      <td>KP</td>\n",
       "      <td>Grainger Engineering</td>\n",
       "      <td>855</td>\n",
       "      <td>Technology Entrepreneur Ctr</td>\n",
       "      <td>['CLIN PROF, ILEE']</td>\n",
       "      <td>['AL']</td>\n",
       "    </tr>\n",
       "    <tr>\n",
       "      <th>2221</th>\n",
       "      <td>Almeida, Heitor</td>\n",
       "      <td>ACAD DIR IDEGREES</td>\n",
       "      <td>NaN</td>\n",
       "      <td>NaN</td>\n",
       "      <td>1.0</td>\n",
       "      <td>1.0</td>\n",
       "      <td>424721.60</td>\n",
       "      <td>439726.00</td>\n",
       "      <td>KM</td>\n",
       "      <td>Gies College of Business</td>\n",
       "      <td>559</td>\n",
       "      <td>Business Online Programs</td>\n",
       "      <td>['ACAD DIR IDEGREES', 'STANLEY C &amp; JOAN J GOLD...</td>\n",
       "      <td>['AA', 'BA']</td>\n",
       "    </tr>\n",
       "  </tbody>\n",
       "</table>\n",
       "</div>"
      ],
      "text/plain": [
       "            Employee Name          Job Title Tenure Empl Class  Present FTE  \\\n",
       "2823   Killeen, Timothy L               PROF    NaN        NaN          1.0   \n",
       "1070   Cohen, Mark Steven               DEAN    NaN        NaN          1.0   \n",
       "452       Jones, Robert J               PROF    NaN        NaN          1.0   \n",
       "2254     Brown, Jeffrey R               PROF    NaN        NaN          1.0   \n",
       "2155        Ghosh, Avijit               PROF    NaN        NaN          1.0   \n",
       "594      Robinson, Gene E               PROF    NaN        NaN          1.0   \n",
       "2486  Walsh, Joseph Tonry               PROF    NaN        NaN          1.0   \n",
       "936        Bashir, Rashid       PROF, CI MED    NaN        NaN          1.0   \n",
       "3141   Jackson, William C    CLIN PROF, ILEE    NaN        NaN          1.0   \n",
       "2221      Almeida, Heitor  ACAD DIR IDEGREES    NaN        NaN          1.0   \n",
       "\n",
       "      Proposed FTE  Present Salary  Proposed Salary College Code  \\\n",
       "2823           1.0       851700.00        881509.50           KP   \n",
       "1070           1.0       725000.00        725000.00           LT   \n",
       "452            1.0       695476.19        799000.00           KL   \n",
       "2254           1.0       627110.00        659500.00           KM   \n",
       "2155           1.0       482000.00        498870.00           KM   \n",
       "594            1.0       479233.13        493906.29           KL   \n",
       "2486           1.0       470000.00        486450.00           KP   \n",
       "936            1.0       437000.00        465010.00           LT   \n",
       "3141           1.0       428490.00        443487.15           KP   \n",
       "2221           1.0       424721.60        439726.00           KM   \n",
       "\n",
       "                      College Name  Department Code  \\\n",
       "2823          Grainger Engineering              933   \n",
       "1070       Carle Illinois Medicine              944   \n",
       "452   Agr, Consumer & Env Sciences              802   \n",
       "2254      Gies College of Business              260   \n",
       "2155      Gies College of Business              902   \n",
       "594   Agr, Consumer & Env Sciences              875   \n",
       "2486          Grainger Engineering              343   \n",
       "936        Carle Illinois Medicine              861   \n",
       "3141          Grainger Engineering              855   \n",
       "2221      Gies College of Business              559   \n",
       "\n",
       "                  Department Name  \\\n",
       "2823    Electrical & Computer Eng   \n",
       "1070  Carle IL COM Administration   \n",
       "452                 Crop Sciences   \n",
       "2254                      Finance   \n",
       "2155      Business Administration   \n",
       "594         Natural Res & Env Sci   \n",
       "2486               Bioengineering   \n",
       "936    Biomed & Translational Sci   \n",
       "3141  Technology Entrepreneur Ctr   \n",
       "2221     Business Online Programs   \n",
       "\n",
       "                                             Job Titles  \\\n",
       "2823                                           ['PROF']   \n",
       "1070   ['SVP & CHIEF ACADEMIC OFFICER', 'DEAN', 'PROF']   \n",
       "452                    ['PROF', 'CHANC UC & V PRES UI']   \n",
       "2254         ['DEAN', 'PROF', 'LAKONISHOK PROF & DEAN']   \n",
       "2155                                           ['PROF']   \n",
       "594   ['PROF', 'SWANLUND CHAIR', 'PROF, IGB', 'PROF,...   \n",
       "2486                                           ['PROF']   \n",
       "936   ['PROF, MRL', 'DEPT AFFL', 'DEAN', 'PROF', 'PR...   \n",
       "3141                                ['CLIN PROF, ILEE']   \n",
       "2221  ['ACAD DIR IDEGREES', 'STANLEY C & JOAN J GOLD...   \n",
       "\n",
       "              Employee Classes  \n",
       "2823                    ['AA']  \n",
       "1070              ['AA', 'BA']  \n",
       "452               ['AA', 'BA']  \n",
       "2254              ['AA', 'BA']  \n",
       "2155                    ['AA']  \n",
       "594   ['AA', 'BC', 'BA', 'AL']  \n",
       "2486                    ['AL']  \n",
       "936               ['AA', 'BA']  \n",
       "3141                    ['AL']  \n",
       "2221              ['AA', 'BA']  "
      ]
     },
     "execution_count": 7,
     "metadata": {},
     "output_type": "execute_result"
    }
   ],
   "source": [
    "top_10 = df.nlargest(10, \"Present Salary\")\n",
    "top_10"
   ]
  },
  {
   "cell_type": "markdown",
   "metadata": {
    "id": "4fDa_GCLO_6i"
   },
   "source": [
    "\n",
    "Who are the emplyees with the 5 lowest salaries?\n",
    "\n",
    "- Find the 5 employees with the lowest **Present Salary** values. Store the result in a variable called `lowest_5`\n",
    "\n"
   ]
  },
  {
   "cell_type": "code",
   "execution_count": 9,
   "metadata": {
    "id": "BzpwhLFJO_6i"
   },
   "outputs": [
    {
     "data": {
      "text/html": [
       "<div>\n",
       "<style scoped>\n",
       "    .dataframe tbody tr th:only-of-type {\n",
       "        vertical-align: middle;\n",
       "    }\n",
       "\n",
       "    .dataframe tbody tr th {\n",
       "        vertical-align: top;\n",
       "    }\n",
       "\n",
       "    .dataframe thead th {\n",
       "        text-align: right;\n",
       "    }\n",
       "</style>\n",
       "<table border=\"1\" class=\"dataframe\">\n",
       "  <thead>\n",
       "    <tr style=\"text-align: right;\">\n",
       "      <th></th>\n",
       "      <th>Employee Name</th>\n",
       "      <th>Job Title</th>\n",
       "      <th>Tenure</th>\n",
       "      <th>Empl Class</th>\n",
       "      <th>Present FTE</th>\n",
       "      <th>Proposed FTE</th>\n",
       "      <th>Present Salary</th>\n",
       "      <th>Proposed Salary</th>\n",
       "      <th>College Code</th>\n",
       "      <th>College Name</th>\n",
       "      <th>Department Code</th>\n",
       "      <th>Department Name</th>\n",
       "      <th>Job Titles</th>\n",
       "      <th>Employee Classes</th>\n",
       "    </tr>\n",
       "  </thead>\n",
       "  <tbody>\n",
       "    <tr>\n",
       "      <th>34</th>\n",
       "      <td>Grossman, Margaret R</td>\n",
       "      <td>PROF EMERITA</td>\n",
       "      <td>NaN</td>\n",
       "      <td>AM</td>\n",
       "      <td>0.0</td>\n",
       "      <td>0.0</td>\n",
       "      <td>0.0</td>\n",
       "      <td>0.0</td>\n",
       "      <td>KL</td>\n",
       "      <td>Agr, Consumer &amp; Env Sciences</td>\n",
       "      <td>470</td>\n",
       "      <td>Agr &amp; Consumer Economics</td>\n",
       "      <td>['PROF EMERITA']</td>\n",
       "      <td>['AM']</td>\n",
       "    </tr>\n",
       "    <tr>\n",
       "      <th>166</th>\n",
       "      <td>Fleming, Stephen Andrew</td>\n",
       "      <td>ADJ ASST PROF</td>\n",
       "      <td>NaN</td>\n",
       "      <td>AB</td>\n",
       "      <td>0.0</td>\n",
       "      <td>0.0</td>\n",
       "      <td>0.0</td>\n",
       "      <td>0.0</td>\n",
       "      <td>KL</td>\n",
       "      <td>Agr, Consumer &amp; Env Sciences</td>\n",
       "      <td>538</td>\n",
       "      <td>Animal Sciences</td>\n",
       "      <td>['ADJ ASST PROF']</td>\n",
       "      <td>['AB']</td>\n",
       "    </tr>\n",
       "    <tr>\n",
       "      <th>578</th>\n",
       "      <td>Lavey, Warren</td>\n",
       "      <td>ADJ PROF</td>\n",
       "      <td>NaN</td>\n",
       "      <td>AM</td>\n",
       "      <td>0.0</td>\n",
       "      <td>0.0</td>\n",
       "      <td>0.0</td>\n",
       "      <td>0.0</td>\n",
       "      <td>KL</td>\n",
       "      <td>Agr, Consumer &amp; Env Sciences</td>\n",
       "      <td>875</td>\n",
       "      <td>Natural Res &amp; Env Sci</td>\n",
       "      <td>['ADJ PROF']</td>\n",
       "      <td>['AM']</td>\n",
       "    </tr>\n",
       "    <tr>\n",
       "      <th>618</th>\n",
       "      <td>Hsu-Lumetta, Jennie Chung-Yi</td>\n",
       "      <td>CLIN ASSOC PROF</td>\n",
       "      <td>NaN</td>\n",
       "      <td>AM</td>\n",
       "      <td>0.0</td>\n",
       "      <td>0.0</td>\n",
       "      <td>0.0</td>\n",
       "      <td>0.0</td>\n",
       "      <td>KL</td>\n",
       "      <td>Agr, Consumer &amp; Env Sciences</td>\n",
       "      <td>971</td>\n",
       "      <td>Nutritional Sciences</td>\n",
       "      <td>['CLIN ASSOC PROF']</td>\n",
       "      <td>['AM']</td>\n",
       "    </tr>\n",
       "    <tr>\n",
       "      <th>628</th>\n",
       "      <td>Rowitz, Blair Martin</td>\n",
       "      <td>CLIN ASST PROF</td>\n",
       "      <td>NaN</td>\n",
       "      <td>NaN</td>\n",
       "      <td>0.0</td>\n",
       "      <td>0.0</td>\n",
       "      <td>0.0</td>\n",
       "      <td>0.0</td>\n",
       "      <td>KL</td>\n",
       "      <td>Agr, Consumer &amp; Env Sciences</td>\n",
       "      <td>971</td>\n",
       "      <td>Nutritional Sciences</td>\n",
       "      <td>['ASSOC DEAN, CLIN AFF', 'CLIN PROF, CI MED', ...</td>\n",
       "      <td>['AM', 'BB', 'AB']</td>\n",
       "    </tr>\n",
       "  </tbody>\n",
       "</table>\n",
       "</div>"
      ],
      "text/plain": [
       "                    Employee Name        Job Title Tenure Empl Class  \\\n",
       "34           Grossman, Margaret R     PROF EMERITA    NaN         AM   \n",
       "166       Fleming, Stephen Andrew    ADJ ASST PROF    NaN         AB   \n",
       "578                 Lavey, Warren         ADJ PROF    NaN         AM   \n",
       "618  Hsu-Lumetta, Jennie Chung-Yi  CLIN ASSOC PROF    NaN         AM   \n",
       "628          Rowitz, Blair Martin   CLIN ASST PROF    NaN        NaN   \n",
       "\n",
       "     Present FTE  Proposed FTE  Present Salary  Proposed Salary College Code  \\\n",
       "34           0.0           0.0             0.0              0.0           KL   \n",
       "166          0.0           0.0             0.0              0.0           KL   \n",
       "578          0.0           0.0             0.0              0.0           KL   \n",
       "618          0.0           0.0             0.0              0.0           KL   \n",
       "628          0.0           0.0             0.0              0.0           KL   \n",
       "\n",
       "                     College Name  Department Code           Department Name  \\\n",
       "34   Agr, Consumer & Env Sciences              470  Agr & Consumer Economics   \n",
       "166  Agr, Consumer & Env Sciences              538           Animal Sciences   \n",
       "578  Agr, Consumer & Env Sciences              875     Natural Res & Env Sci   \n",
       "618  Agr, Consumer & Env Sciences              971      Nutritional Sciences   \n",
       "628  Agr, Consumer & Env Sciences              971      Nutritional Sciences   \n",
       "\n",
       "                                            Job Titles    Employee Classes  \n",
       "34                                    ['PROF EMERITA']              ['AM']  \n",
       "166                                  ['ADJ ASST PROF']              ['AB']  \n",
       "578                                       ['ADJ PROF']              ['AM']  \n",
       "618                                ['CLIN ASSOC PROF']              ['AM']  \n",
       "628  ['ASSOC DEAN, CLIN AFF', 'CLIN PROF, CI MED', ...  ['AM', 'BB', 'AB']  "
      ]
     },
     "execution_count": 9,
     "metadata": {},
     "output_type": "execute_result"
    }
   ],
   "source": [
    "lowest_5 = df.nsmallest(5, \"Present Salary\")\n",
    "lowest_5"
   ]
  },
  {
   "cell_type": "code",
   "execution_count": null,
   "metadata": {
    "id": "nyq9jrB3O_6j"
   },
   "outputs": [],
   "source": []
  },
  {
   "cell_type": "markdown",
   "metadata": {
    "id": "1Cy3yMsoO_6j"
   },
   "source": [
    "Who are the emplyees with the top 1% highest salaries?\n",
    "- Find the top 1% employees with the highest **Present Salary** values. Store the result in a variable called `top_1_percent` (hint: use the quantiles)."
   ]
  },
  {
   "cell_type": "code",
   "execution_count": 12,
   "metadata": {
    "id": "YSKWp5mIO_6k"
   },
   "outputs": [
    {
     "data": {
      "text/html": [
       "<div>\n",
       "<style scoped>\n",
       "    .dataframe tbody tr th:only-of-type {\n",
       "        vertical-align: middle;\n",
       "    }\n",
       "\n",
       "    .dataframe tbody tr th {\n",
       "        vertical-align: top;\n",
       "    }\n",
       "\n",
       "    .dataframe thead th {\n",
       "        text-align: right;\n",
       "    }\n",
       "</style>\n",
       "<table border=\"1\" class=\"dataframe\">\n",
       "  <thead>\n",
       "    <tr style=\"text-align: right;\">\n",
       "      <th></th>\n",
       "      <th>Employee Name</th>\n",
       "      <th>Job Title</th>\n",
       "      <th>Tenure</th>\n",
       "      <th>Empl Class</th>\n",
       "      <th>Present FTE</th>\n",
       "      <th>Proposed FTE</th>\n",
       "      <th>Present Salary</th>\n",
       "      <th>Proposed Salary</th>\n",
       "      <th>College Code</th>\n",
       "      <th>College Name</th>\n",
       "      <th>Department Code</th>\n",
       "      <th>Department Name</th>\n",
       "      <th>Job Titles</th>\n",
       "      <th>Employee Classes</th>\n",
       "    </tr>\n",
       "  </thead>\n",
       "  <tbody>\n",
       "    <tr>\n",
       "      <th>27</th>\n",
       "      <td>Ellinger, Paul N</td>\n",
       "      <td>PROF</td>\n",
       "      <td>NaN</td>\n",
       "      <td>NaN</td>\n",
       "      <td>1.0</td>\n",
       "      <td>1.0</td>\n",
       "      <td>400000.00</td>\n",
       "      <td>414000.00</td>\n",
       "      <td>KL</td>\n",
       "      <td>Agr, Consumer &amp; Env Sciences</td>\n",
       "      <td>470</td>\n",
       "      <td>Agr &amp; Consumer Economics</td>\n",
       "      <td>['V PROV BDGT &amp; RSRSC PLNG', 'ASSOC CHANCELLOR...</td>\n",
       "      <td>['AA', 'BA']</td>\n",
       "    </tr>\n",
       "    <tr>\n",
       "      <th>30</th>\n",
       "      <td>Fullerton, Don</td>\n",
       "      <td>PROF</td>\n",
       "      <td>NaN</td>\n",
       "      <td>NaN</td>\n",
       "      <td>1.0</td>\n",
       "      <td>1.0</td>\n",
       "      <td>323487.84</td>\n",
       "      <td>331825.00</td>\n",
       "      <td>KL</td>\n",
       "      <td>Agr, Consumer &amp; Env Sciences</td>\n",
       "      <td>470</td>\n",
       "      <td>Agr &amp; Consumer Economics</td>\n",
       "      <td>['GUTSGELL PROF OF FINANCE', 'PROF', 'ASSOC AC...</td>\n",
       "      <td>['AA', 'BA', 'AL']</td>\n",
       "    </tr>\n",
       "    <tr>\n",
       "      <th>452</th>\n",
       "      <td>Jones, Robert J</td>\n",
       "      <td>PROF</td>\n",
       "      <td>NaN</td>\n",
       "      <td>NaN</td>\n",
       "      <td>1.0</td>\n",
       "      <td>1.0</td>\n",
       "      <td>695476.19</td>\n",
       "      <td>799000.00</td>\n",
       "      <td>KL</td>\n",
       "      <td>Agr, Consumer &amp; Env Sciences</td>\n",
       "      <td>802</td>\n",
       "      <td>Crop Sciences</td>\n",
       "      <td>['PROF', 'CHANC UC &amp; V PRES UI']</td>\n",
       "      <td>['AA', 'BA']</td>\n",
       "    </tr>\n",
       "    <tr>\n",
       "      <th>454</th>\n",
       "      <td>Kidwell, Kimberlee K</td>\n",
       "      <td>PROF</td>\n",
       "      <td>NaN</td>\n",
       "      <td>NaN</td>\n",
       "      <td>1.0</td>\n",
       "      <td>1.0</td>\n",
       "      <td>310000.00</td>\n",
       "      <td>321700.00</td>\n",
       "      <td>KL</td>\n",
       "      <td>Agr, Consumer &amp; Env Sciences</td>\n",
       "      <td>802</td>\n",
       "      <td>Crop Sciences</td>\n",
       "      <td>['ASSOC CHANC FOR STRATG PARTNR', 'PROF']</td>\n",
       "      <td>['AA', 'BA']</td>\n",
       "    </tr>\n",
       "    <tr>\n",
       "      <th>459</th>\n",
       "      <td>Long, Stephen P</td>\n",
       "      <td>PROF</td>\n",
       "      <td>NaN</td>\n",
       "      <td>NaN</td>\n",
       "      <td>1.0</td>\n",
       "      <td>1.0</td>\n",
       "      <td>326082.27</td>\n",
       "      <td>335815.15</td>\n",
       "      <td>KL</td>\n",
       "      <td>Agr, Consumer &amp; Env Sciences</td>\n",
       "      <td>802</td>\n",
       "      <td>Crop Sciences</td>\n",
       "      <td>['GUTGSELL PROF', 'CAS PROF OF PLANT BIOLOGY',...</td>\n",
       "      <td>['AA', 'BA']</td>\n",
       "    </tr>\n",
       "    <tr>\n",
       "      <th>...</th>\n",
       "      <td>...</td>\n",
       "      <td>...</td>\n",
       "      <td>...</td>\n",
       "      <td>...</td>\n",
       "      <td>...</td>\n",
       "      <td>...</td>\n",
       "      <td>...</td>\n",
       "      <td>...</td>\n",
       "      <td>...</td>\n",
       "      <td>...</td>\n",
       "      <td>...</td>\n",
       "      <td>...</td>\n",
       "      <td>...</td>\n",
       "      <td>...</td>\n",
       "    </tr>\n",
       "    <tr>\n",
       "      <th>5432</th>\n",
       "      <td>Martin, Mairead</td>\n",
       "      <td>CHIEF INFO OFCR</td>\n",
       "      <td>NaN</td>\n",
       "      <td>BA</td>\n",
       "      <td>1.0</td>\n",
       "      <td>1.0</td>\n",
       "      <td>350000.00</td>\n",
       "      <td>350000.00</td>\n",
       "      <td>NT</td>\n",
       "      <td>Technology Services</td>\n",
       "      <td>618</td>\n",
       "      <td>Ofc of the Chief Info Officer</td>\n",
       "      <td>['CHIEF INFO OFCR']</td>\n",
       "      <td>['BA']</td>\n",
       "    </tr>\n",
       "    <tr>\n",
       "      <th>5652</th>\n",
       "      <td>DeLorenzo, Michael T</td>\n",
       "      <td>VC FOR ADMN &amp; OPER</td>\n",
       "      <td>NaN</td>\n",
       "      <td>BA</td>\n",
       "      <td>1.0</td>\n",
       "      <td>1.0</td>\n",
       "      <td>324184.00</td>\n",
       "      <td>338772.28</td>\n",
       "      <td>NL</td>\n",
       "      <td>VC Admin and Operations</td>\n",
       "      <td>839</td>\n",
       "      <td>VC Admin and Operations</td>\n",
       "      <td>['VC FOR ADMN &amp; OPER']</td>\n",
       "      <td>['BA']</td>\n",
       "    </tr>\n",
       "    <tr>\n",
       "      <th>5735</th>\n",
       "      <td>Brown Young, Danita M</td>\n",
       "      <td>V CHANC FOR STDNT AFF</td>\n",
       "      <td>NaN</td>\n",
       "      <td>BA</td>\n",
       "      <td>1.0</td>\n",
       "      <td>1.0</td>\n",
       "      <td>303920.50</td>\n",
       "      <td>317596.92</td>\n",
       "      <td>NJ</td>\n",
       "      <td>VC Student Affairs</td>\n",
       "      <td>825</td>\n",
       "      <td>VC Student Affairs</td>\n",
       "      <td>['V CHANC FOR STDNT AFF']</td>\n",
       "      <td>['BA']</td>\n",
       "    </tr>\n",
       "    <tr>\n",
       "      <th>5893</th>\n",
       "      <td>Constable, Peter D</td>\n",
       "      <td>PROF</td>\n",
       "      <td>NaN</td>\n",
       "      <td>NaN</td>\n",
       "      <td>1.0</td>\n",
       "      <td>1.0</td>\n",
       "      <td>332010.00</td>\n",
       "      <td>349000.00</td>\n",
       "      <td>LC</td>\n",
       "      <td>Veterinary Medicine</td>\n",
       "      <td>598</td>\n",
       "      <td>Vet Clinical Medicine</td>\n",
       "      <td>['DEAN', 'PROF']</td>\n",
       "      <td>['AA', 'BA']</td>\n",
       "    </tr>\n",
       "    <tr>\n",
       "      <th>6015</th>\n",
       "      <td>Garrick, Sean C</td>\n",
       "      <td>VC FOR DVSTY, EQUITY &amp; INCL</td>\n",
       "      <td>NaN</td>\n",
       "      <td>NaN</td>\n",
       "      <td>1.0</td>\n",
       "      <td>1.0</td>\n",
       "      <td>338248.98</td>\n",
       "      <td>351778.94</td>\n",
       "      <td>NV</td>\n",
       "      <td>Vice Chancellor for Diversity</td>\n",
       "      <td>594</td>\n",
       "      <td>Vice Chancellor for Diversity</td>\n",
       "      <td>['VC FOR DVSTY, EQUITY &amp; INCL']</td>\n",
       "      <td>['BA']</td>\n",
       "    </tr>\n",
       "  </tbody>\n",
       "</table>\n",
       "<p>61 rows × 14 columns</p>\n",
       "</div>"
      ],
      "text/plain": [
       "              Employee Name                    Job Title Tenure Empl Class  \\\n",
       "27         Ellinger, Paul N                         PROF    NaN        NaN   \n",
       "30           Fullerton, Don                         PROF    NaN        NaN   \n",
       "452         Jones, Robert J                         PROF    NaN        NaN   \n",
       "454    Kidwell, Kimberlee K                         PROF    NaN        NaN   \n",
       "459         Long, Stephen P                         PROF    NaN        NaN   \n",
       "...                     ...                          ...    ...        ...   \n",
       "5432        Martin, Mairead              CHIEF INFO OFCR    NaN         BA   \n",
       "5652   DeLorenzo, Michael T           VC FOR ADMN & OPER    NaN         BA   \n",
       "5735  Brown Young, Danita M        V CHANC FOR STDNT AFF    NaN         BA   \n",
       "5893     Constable, Peter D                         PROF    NaN        NaN   \n",
       "6015        Garrick, Sean C  VC FOR DVSTY, EQUITY & INCL    NaN        NaN   \n",
       "\n",
       "      Present FTE  Proposed FTE  Present Salary  Proposed Salary College Code  \\\n",
       "27            1.0           1.0       400000.00        414000.00           KL   \n",
       "30            1.0           1.0       323487.84        331825.00           KL   \n",
       "452           1.0           1.0       695476.19        799000.00           KL   \n",
       "454           1.0           1.0       310000.00        321700.00           KL   \n",
       "459           1.0           1.0       326082.27        335815.15           KL   \n",
       "...           ...           ...             ...              ...          ...   \n",
       "5432          1.0           1.0       350000.00        350000.00           NT   \n",
       "5652          1.0           1.0       324184.00        338772.28           NL   \n",
       "5735          1.0           1.0       303920.50        317596.92           NJ   \n",
       "5893          1.0           1.0       332010.00        349000.00           LC   \n",
       "6015          1.0           1.0       338248.98        351778.94           NV   \n",
       "\n",
       "                       College Name  Department Code  \\\n",
       "27     Agr, Consumer & Env Sciences              470   \n",
       "30     Agr, Consumer & Env Sciences              470   \n",
       "452    Agr, Consumer & Env Sciences              802   \n",
       "454    Agr, Consumer & Env Sciences              802   \n",
       "459    Agr, Consumer & Env Sciences              802   \n",
       "...                             ...              ...   \n",
       "5432            Technology Services              618   \n",
       "5652        VC Admin and Operations              839   \n",
       "5735             VC Student Affairs              825   \n",
       "5893            Veterinary Medicine              598   \n",
       "6015  Vice Chancellor for Diversity              594   \n",
       "\n",
       "                    Department Name  \\\n",
       "27         Agr & Consumer Economics   \n",
       "30         Agr & Consumer Economics   \n",
       "452                   Crop Sciences   \n",
       "454                   Crop Sciences   \n",
       "459                   Crop Sciences   \n",
       "...                             ...   \n",
       "5432  Ofc of the Chief Info Officer   \n",
       "5652        VC Admin and Operations   \n",
       "5735             VC Student Affairs   \n",
       "5893          Vet Clinical Medicine   \n",
       "6015  Vice Chancellor for Diversity   \n",
       "\n",
       "                                             Job Titles    Employee Classes  \n",
       "27    ['V PROV BDGT & RSRSC PLNG', 'ASSOC CHANCELLOR...        ['AA', 'BA']  \n",
       "30    ['GUTSGELL PROF OF FINANCE', 'PROF', 'ASSOC AC...  ['AA', 'BA', 'AL']  \n",
       "452                    ['PROF', 'CHANC UC & V PRES UI']        ['AA', 'BA']  \n",
       "454           ['ASSOC CHANC FOR STRATG PARTNR', 'PROF']        ['AA', 'BA']  \n",
       "459   ['GUTGSELL PROF', 'CAS PROF OF PLANT BIOLOGY',...        ['AA', 'BA']  \n",
       "...                                                 ...                 ...  \n",
       "5432                                ['CHIEF INFO OFCR']              ['BA']  \n",
       "5652                             ['VC FOR ADMN & OPER']              ['BA']  \n",
       "5735                          ['V CHANC FOR STDNT AFF']              ['BA']  \n",
       "5893                                   ['DEAN', 'PROF']        ['AA', 'BA']  \n",
       "6015                    ['VC FOR DVSTY, EQUITY & INCL']              ['BA']  \n",
       "\n",
       "[61 rows x 14 columns]"
      ]
     },
     "execution_count": 12,
     "metadata": {},
     "output_type": "execute_result"
    }
   ],
   "source": [
    "quantile_99 = df[\"Present Salary\"].quantile(0.99)\n",
    "\n",
    "top_1_percent =  df[ df[\"Present Salary\"] >= quantile_99]\n",
    "top_1_percent"
   ]
  },
  {
   "cell_type": "markdown",
   "metadata": {
    "id": "OOug-NqDO_6k"
   },
   "source": [
    "### Test Case Checkpoint"
   ]
  },
  {
   "cell_type": "code",
   "execution_count": null,
   "metadata": {
    "id": "x2z1vL2zO_6m"
   },
   "outputs": [],
   "source": [
    "## == CHECKPOINT TEST CASES ==\n",
    "# - This read-only cell contains test cases for your previous cell.\n",
    "# - If this cell runs without any errors, you PASSED all test cases!\n",
    "# - If this cell results in any errors, check your previous cell, make changes, and RE-RUN your code and then this cell.\n",
    "Tester.testCase3()\n"
   ]
  },
  {
   "cell_type": "markdown",
   "metadata": {
    "id": "vaVueyM5O_6n"
   },
   "source": [
    "### Visual Displays of Data\n",
    "\n",
    "Now, we are going to use plots in order to visualise the data.\n",
    "\n",
    "### Histograms\n",
    "\n",
    "Let’s start by looking at **histograms**.  Histograms are used to show the **overall shape** of the data and they allow us to see frequencies and distributions.  \n",
    "\n",
    "### Histogram 1\n",
    "Using the `hist()` function, generate a **frequency histogram** of the `Present Salary` column in the cell below. Since we have a lot of data, let's use **20 bins** for the histogram (you can change the number of bins to see how the plot changes).\n"
   ]
  },
  {
   "cell_type": "code",
   "execution_count": 13,
   "metadata": {
    "id": "TqiIQ-yoO_6n"
   },
   "outputs": [
    {
     "data": {
      "text/plain": [
       "<AxesSubplot:>"
      ]
     },
     "execution_count": 13,
     "metadata": {},
     "output_type": "execute_result"
    },
    {
     "data": {
      "image/png": "[encoded data removed]",
      "text/plain": [
       "<Figure size 640x480 with 1 Axes>"
      ]
     },
     "metadata": {},
     "output_type": "display_data"
    }
   ],
   "source": [
    "df[\"Present Salary\"].hist(bins = 20)"
   ]
  },
  {
   "cell_type": "markdown",
   "metadata": {
    "id": "XBMsRTRGO_6o"
   },
   "source": [
    "### Histogram 2\n",
    "Using the `hist()` function, generate a **frequency histogram** of the `Present Salary` column for tthe emplyees of the Mathematics Department with (hint: Use conditionals to select only the employees where the \"Department Name\" column has the value \"Mathematics\" )\n"
   ]
  },
  {
   "cell_type": "code",
   "execution_count": 15,
   "metadata": {
    "id": "4TcFJQGZO_6q"
   },
   "outputs": [
    {
     "data": {
      "text/plain": [
       "<AxesSubplot:>"
      ]
     },
     "execution_count": 15,
     "metadata": {},
     "output_type": "execute_result"
    },
    {
     "data": {
      "image/png": "[encoded data removed]",
      "text/plain": [
       "<Figure size 640x480 with 1 Axes>"
      ]
     },
     "metadata": {},
     "output_type": "display_data"
    }
   ],
   "source": [
    "df[df[\"Department Name\"] == \"Mathematics\"][\"Present Salary\"].hist(bins = 20)"
   ]
  },
  {
   "cell_type": "markdown",
   "metadata": {
    "id": "0NCuTBViO_6r"
   },
   "source": [
    "### Histogram 3\n",
    "\n",
    "Here is a list of all the department names."
   ]
  },
  {
   "cell_type": "code",
   "execution_count": null,
   "metadata": {
    "id": "TyksDDEgO_6s",
    "outputId": "14300f24-e117-4400-9f54-50c675f619f1"
   },
   "outputs": [
    {
     "data": {
      "text/plain": [
       "['ACES Technology Services',\n",
       " 'ADM Institute for PHL',\n",
       " 'Ag Ldrshp Educ Comm Program',\n",
       " 'Agr & Consumer Economics',\n",
       " 'Agr, Consumer & Env Sci Admn',\n",
       " 'Agricultural & Biological Engr',\n",
       " 'Animal Sciences',\n",
       " 'Cooperative Extension',\n",
       " 'Crop Sciences',\n",
       " 'Food Science & Human Nutrition',\n",
       " 'Human Dvlpmt & Family Studies',\n",
       " 'Natural Res & Env Sci',\n",
       " 'Nutritional Sciences',\n",
       " 'Applied Health Sciences Admin',\n",
       " 'Ctr Health, Aging, Disability',\n",
       " 'Ctr Wounded Veterans Higher Ed',\n",
       " 'Disability Res & Educ Svcs',\n",
       " 'Kinesiology & Community Health',\n",
       " 'Recreation, Sport and Tourism',\n",
       " 'Speech & Hearing Science',\n",
       " 'Armed Forces Coordinator',\n",
       " 'Aux. Health/WB Marketing',\n",
       " 'Division of Campus Recreation',\n",
       " 'Housing Division',\n",
       " 'Illini Union',\n",
       " 'McKinley Health Center',\n",
       " 'Office of the Dean of Students',\n",
       " 'Parking Department',\n",
       " 'Student Affairs Technology',\n",
       " 'Biomed & Translational Sci',\n",
       " 'Carle IL COM Administration',\n",
       " 'Clinical Sciences',\n",
       " 'Center Innov in Teach Learn',\n",
       " 'I-STEM Education Initiative',\n",
       " 'Faculty/Staff Assistance Svcs',\n",
       " 'Illinois Human Resources',\n",
       " 'News Bureau',\n",
       " 'Office of Public Engagement',\n",
       " 'Office of the Chancellor',\n",
       " 'Public Affairs',\n",
       " 'Special Events',\n",
       " 'Strategic Marketing Branding',\n",
       " 'Web Services',\n",
       " 'Advertising',\n",
       " 'College of Media Admin',\n",
       " 'IPM Administration',\n",
       " 'IPM Content Information',\n",
       " 'IPM Content Production',\n",
       " 'IPM Content Programming',\n",
       " 'IPM Delivery',\n",
       " 'IPM Development',\n",
       " 'Inst of Communications Rsch',\n",
       " 'Journalism',\n",
       " 'Media and Cinema Studies',\n",
       " 'State Farm Center',\n",
       " 'Center Advising & Acad Svcs',\n",
       " 'Bureau Educational Research',\n",
       " 'Council Teacher Ed Admin',\n",
       " 'Curriculum and Instruction',\n",
       " 'Educ Policy, Orgzn & Leadrshp',\n",
       " 'Education Administration',\n",
       " 'Educational Psychology',\n",
       " 'Special Education',\n",
       " 'Energy Services Administration',\n",
       " 'Facilities and Services',\n",
       " 'Safety and Compliance',\n",
       " 'Architecture',\n",
       " 'Art & Design',\n",
       " 'Dance',\n",
       " 'Fine & Applied Arts Admin',\n",
       " 'Krannert Art Museum',\n",
       " 'Krannert Center',\n",
       " 'Landscape Architecture',\n",
       " 'Music',\n",
       " 'Theatre',\n",
       " 'Urban & Regional Planning',\n",
       " 'Academy Entrepreneurial Ldrshp',\n",
       " 'Accountancy',\n",
       " 'Action Learning',\n",
       " 'Business Administration',\n",
       " 'Business Online Programs',\n",
       " 'Ctr Business & Public Policy',\n",
       " 'Disruption and Innovation',\n",
       " 'Finance',\n",
       " 'Gies Advancement',\n",
       " 'Gies Business Grad Programs',\n",
       " 'Gies College of Business',\n",
       " 'Gies Mktg & Communications',\n",
       " 'Gies Undergraduate Affairs',\n",
       " 'IT Partners Gies Business',\n",
       " 'Illinois Business Consulting',\n",
       " 'Student & Corporate Connection',\n",
       " 'eLearning',\n",
       " 'Graduate Admin',\n",
       " 'Aerospace Engineering',\n",
       " 'Applied Research Institute',\n",
       " 'Bioengineering',\n",
       " 'Civil & Environmental Eng',\n",
       " 'Computational Science & Engr',\n",
       " 'Computer Science',\n",
       " 'Coordinated Science Lab',\n",
       " 'Electrical & Computer Eng',\n",
       " 'Engineering Administration',\n",
       " 'Engineering General Expen',\n",
       " 'Engineering IT Shared Services',\n",
       " 'Engr Shared Admin Services',\n",
       " 'Industrial&Enterprise Sys Eng',\n",
       " 'Information Trust Institute',\n",
       " 'Materials Research Lab',\n",
       " 'Materials Science & Engineerng',\n",
       " 'Mechanical Sci & Engineering',\n",
       " 'Micro and Nanotechnology Lab',\n",
       " 'Nuclear, Plasma, & Rad Engr',\n",
       " 'Physics',\n",
       " 'Siebel Center for Design',\n",
       " 'Technology Entrepreneur Ctr',\n",
       " 'Global Education & Training',\n",
       " 'Illinois Abroad',\n",
       " 'Illinois International',\n",
       " 'Intensive English Institute',\n",
       " 'Intl Student and Scholar Svcs',\n",
       " 'Law',\n",
       " 'Law Library',\n",
       " 'African American Studies',\n",
       " 'American Indian Studies Prgrm',\n",
       " 'Anthropology',\n",
       " 'Appl Tech Learning Arts & Sciences',\n",
       " 'Asian American Studies',\n",
       " 'Astronomy',\n",
       " 'Atmospheric Sciences',\n",
       " 'Biochemistry',\n",
       " 'Biophysics & Quant Biology',\n",
       " 'Cell & Developmental Biology',\n",
       " 'Center for African Studies',\n",
       " 'Center for Global Studies',\n",
       " 'Center for Writing Studies',\n",
       " 'Chemical & Biomolecular Engr',\n",
       " 'Chemistry',\n",
       " 'Classics',\n",
       " 'Cline Ctr for Adv Social Rsrch',\n",
       " 'Communication',\n",
       " 'Comparative & World Literature',\n",
       " 'E Asian & Pacific Studies Cntr',\n",
       " 'E. Asian Languages & Cultures',\n",
       " 'Economics',\n",
       " 'English',\n",
       " 'Entomology',\n",
       " 'European Union Center',\n",
       " 'Evolution Ecology Behavior',\n",
       " 'French and Italian',\n",
       " \"Gender and Women's Studies\",\n",
       " 'Geography & GIS',\n",
       " 'Geology',\n",
       " 'Germanic Languages & Lit',\n",
       " 'Global Studies Prog & Courses',\n",
       " 'History',\n",
       " 'LAS Administration',\n",
       " 'LAS General Expen',\n",
       " 'Latin American & Carib Studies',\n",
       " 'Latina/Latino Studies',\n",
       " 'Lemann Center',\n",
       " 'Linguistics',\n",
       " 'Mathematics',\n",
       " 'Microbiology',\n",
       " 'Molecular & Integrative Physl',\n",
       " 'Neuroscience Program',\n",
       " 'Philosophy',\n",
       " 'Plant Biology',\n",
       " 'Political Science',\n",
       " 'Prg in Jewish Culture &Society',\n",
       " 'Program in Medieval Studies',\n",
       " 'Psychology',\n",
       " 'Religion',\n",
       " 'Russian,E European,Eurasn Ctr',\n",
       " 'Sch Earth, Soc, Environ Admin',\n",
       " 'Sch Lit, Cultures, Ling Adm',\n",
       " 'School of Chemical Sciences',\n",
       " 'School of Integrative Biology',\n",
       " 'School of Molecular & Cell Bio',\n",
       " 'Sociology',\n",
       " 'Spanish and Portuguese',\n",
       " 'Spurlock Museum',\n",
       " 'Statistics',\n",
       " 'Translation & Interpreting St',\n",
       " 'Unit For Criticism',\n",
       " 'Internal Medicine',\n",
       " 'Medicine at UC Admin',\n",
       " 'Beckman Institute',\n",
       " 'Cancer Center at Illinois',\n",
       " 'Humanities Research Institute',\n",
       " 'IL Natural History Survey',\n",
       " 'IL State Archaeological Survey',\n",
       " 'IL State Geological Survey',\n",
       " 'IL State Water Survey',\n",
       " 'IL Sustainable Technology Ctr',\n",
       " 'Inst for Sustain, Enrgy, & Env',\n",
       " 'Institute for Genomic Biology',\n",
       " 'Interdis Health Sci Institute',\n",
       " 'Prairie Research Institute',\n",
       " 'Supercomputing Applications',\n",
       " 'Ofc VC Inst Advancement',\n",
       " 'Big Ten Academic Alliance',\n",
       " 'Campus Honors Program',\n",
       " 'Center for Advanced Study',\n",
       " 'Div of Management Information',\n",
       " 'Enrollment Mgmt Shared Svcs',\n",
       " 'Office of Undergrad Research',\n",
       " 'Office of the Registrar',\n",
       " 'Osher Lifelong Learning Inst',\n",
       " \"Principal's Scholars Pgm\",\n",
       " 'Provost/VCAA Admin',\n",
       " 'SmartHealthyCommunity(Rokwire)',\n",
       " 'Student Financial Aid-Admin',\n",
       " 'Undergraduate Admissions',\n",
       " 'University Laboratory HS',\n",
       " 'Fire Service Institute',\n",
       " 'Police Training Institute',\n",
       " 'Informatics',\n",
       " 'Information Sciences',\n",
       " 'School of Labor & Empl. Rel.',\n",
       " 'School of Social Work',\n",
       " 'Ofc of the Chief Info Officer',\n",
       " 'TS IT Service Delivery',\n",
       " 'Technology Services',\n",
       " 'Library',\n",
       " 'Library Admin',\n",
       " 'Library Collections/Support',\n",
       " 'Library Research & Publication',\n",
       " 'Allerton Park & Retreat Center',\n",
       " 'Division of Public Safety',\n",
       " 'Illini Center',\n",
       " 'UIUC Purchasing CMO',\n",
       " 'VC Admin and Operations',\n",
       " 'Willard Airport Commercial Op',\n",
       " 'Counseling Center',\n",
       " 'Illinois Leadership Center',\n",
       " 'Inclusion & Intercultural Rels',\n",
       " 'Minority Student Affairs',\n",
       " 'Student Conflict Resolution',\n",
       " 'Student Success and Engagement',\n",
       " 'The Career Center',\n",
       " 'VC Student Affairs',\n",
       " 'Agr Animal Care & Use Program',\n",
       " 'Biotechnology Center',\n",
       " 'Division of Animal Resources',\n",
       " 'Division of Research Safety',\n",
       " 'EnterpriseWorks',\n",
       " 'Inst Animal Care & Use Cmte',\n",
       " 'OVCRI Admin',\n",
       " 'Office of Corporate Relations',\n",
       " 'Office of Proposal Development',\n",
       " 'Protection of Research Subject',\n",
       " 'Sponsored Programs Admin',\n",
       " 'Comparative Biosciences',\n",
       " 'Medical District Vet Clinic',\n",
       " 'Pathobiology',\n",
       " 'Vet Clinical Medicine',\n",
       " 'Vet Med College-Wide Programs',\n",
       " 'Vet Medicine Administration',\n",
       " 'Veterinary Diagnostic Lab',\n",
       " 'Veterinary Teaching Hospital',\n",
       " 'Office for Access and Equity',\n",
       " 'Title IX Office',\n",
       " 'Vice Chancellor for Diversity']"
      ]
     },
     "execution_count": 25,
     "metadata": {},
     "output_type": "execute_result"
    }
   ],
   "source": [
    "list(df[\"Department Name\"].unique())"
   ]
  },
  {
   "cell_type": "markdown",
   "metadata": {
    "id": "qY0An1mgO_6t"
   },
   "source": [
    "Choose any one of them that you are interested in and using the `hist()` function, generate a frequency histogram of the Present Salary column for the emplyees of that department. Compare it with Histogram 1."
   ]
  },
  {
   "cell_type": "code",
   "execution_count": 17,
   "metadata": {
    "id": "0wBU6HRdO_6w"
   },
   "outputs": [
    {
     "data": {
      "text/plain": [
       "<AxesSubplot:>"
      ]
     },
     "execution_count": 17,
     "metadata": {},
     "output_type": "execute_result"
    },
    {
     "data": {
      "image/png": "[encoded data removed]",
      "text/plain": [
       "<Figure size 640x480 with 1 Axes>"
      ]
     },
     "metadata": {},
     "output_type": "display_data"
    }
   ],
   "source": [
    "df[df[\"Department Name\"] == \"Statistics\"][\"Present Salary\"].hist(bins = 20)"
   ]
  },
  {
   "cell_type": "markdown",
   "metadata": {
    "id": "Gn3cuAomO_6w"
   },
   "source": [
    "## Boxplots\n",
    "\n",
    "Next, let’s look use a **boxplot**.\n",
    "\n",
    "### Boxplot 1\n",
    "Using `plot.box()`, generate a **boxplot** of the `Present Salary` column. Does it have any outliers?\n",
    "\n"
   ]
  },
  {
   "cell_type": "code",
   "execution_count": 18,
   "metadata": {
    "id": "U7VPjwWQO_6x"
   },
   "outputs": [
    {
     "data": {
      "text/plain": [
       "<AxesSubplot:>"
      ]
     },
     "execution_count": 18,
     "metadata": {},
     "output_type": "execute_result"
    },
    {
     "data": {
      "image/png": "[encoded data removed]",
      "text/plain": [
       "<Figure size 640x480 with 1 Axes>"
      ]
     },
     "metadata": {},
     "output_type": "display_data"
    }
   ],
   "source": [
    "df[\"Present Salary\"].plot.box()"
   ]
  },
  {
   "cell_type": "markdown",
   "metadata": {
    "id": "9kgJcrh3O_6y"
   },
   "source": [
    "### Boxplot 2\n",
    "Using `plot.box()`, generate a **boxplot** of the `Present Salary` column for the employees of \"Computer Science\" department. Does it have any outliers?"
   ]
  },
  {
   "cell_type": "code",
   "execution_count": 19,
   "metadata": {
    "id": "B6ihCVSWO_6y"
   },
   "outputs": [
    {
     "data": {
      "text/plain": [
       "<AxesSubplot:>"
      ]
     },
     "execution_count": 19,
     "metadata": {},
     "output_type": "execute_result"
    },
    {
     "data": {
      "image/png": "[encoded data removed]",
      "text/plain": [
       "<Figure size 640x480 with 1 Axes>"
      ]
     },
     "metadata": {},
     "output_type": "display_data"
    }
   ],
   "source": [
    "df[df[\"Department Name\"] == \"Computer Science\"][\"Present Salary\"].plot.box()"
   ]
  },
  {
   "cell_type": "markdown",
   "metadata": {
    "id": "QJyL7nVpO_6z"
   },
   "source": [
    "### Boxplot 3\n",
    "Choose any of the department names that you are interested in and using the `plot.box()` function, generate a box plot of the `Present Salary` column for the emplyees of that department. Does it have any outliers? Compare it with Boxplot 1"
   ]
  },
  {
   "cell_type": "code",
   "execution_count": 20,
   "metadata": {
    "id": "sJQUaeIaO_7E"
   },
   "outputs": [
    {
     "data": {
      "text/plain": [
       "<AxesSubplot:>"
      ]
     },
     "execution_count": 20,
     "metadata": {},
     "output_type": "execute_result"
    },
    {
     "data": {
      "image/png": "[encoded data removed]",
      "text/plain": [
       "<Figure size 640x480 with 1 Axes>"
      ]
     },
     "metadata": {},
     "output_type": "display_data"
    }
   ],
   "source": [
    "df[df[\"Department Name\"] == \"Statistics\"][\"Present Salary\"].plot.box()"
   ]
  },
  {
   "cell_type": "markdown",
   "metadata": {
    "id": "h8XmNUJoO_7F"
   },
   "source": [
    "### Question"
   ]
  },
  {
   "cell_type": "markdown",
   "metadata": {
    "id": "LSAuGJHAO_7F"
   },
   "source": [
    "**What are the advantages and disadvantages of each plot? When is it more convenient to use a histogram and when is it more convenient to use a boxplot?**"
   ]
  },
  {
   "cell_type": "markdown",
   "metadata": {
    "id": "omc5mZz9O_7G"
   },
   "source": [
    "*(✏️ Edit this cell to replace this text with your group's answer. ✏️)*"
   ]
  },
  {
   "cell_type": "markdown",
   "metadata": {
    "id": "4VLsr2-xO_7I"
   },
   "source": [
    "**Why is it valuable to look at visual displays of salary data in general (as opposed to just looking at descriptive statistics like the mean and standard deviation)?**"
   ]
  },
  {
   "cell_type": "markdown",
   "metadata": {
    "id": "AovH_qsDO_7I"
   },
   "source": [
    "*(✏️ Edit this cell to replace this text with your answer. ✏️)*"
   ]
  },
  {
   "cell_type": "markdown",
   "metadata": {
    "id": "pP_Qt7gsO_7J"
   },
   "source": [
    "<hr style=\"color: #DD3403;\">"
   ]
  },
  {
   "cell_type": "markdown",
   "metadata": {
    "id": "QPlYW2plO_7J"
   },
   "source": [
    "## Department-Level Statistics and Plots\n",
    "\n",
    "\n",
    "We can calculate **descriptive statistics** and look at visual displays of data on a **department level**.  Let’s explore whether or not there are salary **discrepancies** among departments.\n",
    "\n",
    "### Isolating the two columns of interest\n",
    "\n",
    "\n",
    "To make things easier to read, we will first modify your DataFrame to include only the `Department Name` and `Present Salary`.\n",
    "\n",
    "First, using the cell below, create a second DataFrame named `df2` **containing only** the `Department Name` and `Present Salary` columns. Remember to use **double square-brackets** to specify these columns. Here's an example of the syntax: `df[['col1', 'col1']]`"
   ]
  },
  {
   "cell_type": "code",
   "execution_count": 21,
   "metadata": {
    "id": "kLh6yO7nO_7K"
   },
   "outputs": [
    {
     "data": {
      "text/html": [
       "<div>\n",
       "<style scoped>\n",
       "    .dataframe tbody tr th:only-of-type {\n",
       "        vertical-align: middle;\n",
       "    }\n",
       "\n",
       "    .dataframe tbody tr th {\n",
       "        vertical-align: top;\n",
       "    }\n",
       "\n",
       "    .dataframe thead th {\n",
       "        text-align: right;\n",
       "    }\n",
       "</style>\n",
       "<table border=\"1\" class=\"dataframe\">\n",
       "  <thead>\n",
       "    <tr style=\"text-align: right;\">\n",
       "      <th></th>\n",
       "      <th>Department Name</th>\n",
       "      <th>Present Salary</th>\n",
       "    </tr>\n",
       "  </thead>\n",
       "  <tbody>\n",
       "    <tr>\n",
       "      <th>0</th>\n",
       "      <td>ACES Technology Services</td>\n",
       "      <td>106476.00</td>\n",
       "    </tr>\n",
       "    <tr>\n",
       "      <th>1</th>\n",
       "      <td>ACES Technology Services</td>\n",
       "      <td>80871.33</td>\n",
       "    </tr>\n",
       "    <tr>\n",
       "      <th>2</th>\n",
       "      <td>ACES Technology Services</td>\n",
       "      <td>89558.22</td>\n",
       "    </tr>\n",
       "    <tr>\n",
       "      <th>3</th>\n",
       "      <td>ADM Institute for PHL</td>\n",
       "      <td>50000.00</td>\n",
       "    </tr>\n",
       "    <tr>\n",
       "      <th>4</th>\n",
       "      <td>ADM Institute for PHL</td>\n",
       "      <td>186666.00</td>\n",
       "    </tr>\n",
       "    <tr>\n",
       "      <th>...</th>\n",
       "      <td>...</td>\n",
       "      <td>...</td>\n",
       "    </tr>\n",
       "    <tr>\n",
       "      <th>6014</th>\n",
       "      <td>Vice Chancellor for Diversity</td>\n",
       "      <td>163200.00</td>\n",
       "    </tr>\n",
       "    <tr>\n",
       "      <th>6015</th>\n",
       "      <td>Vice Chancellor for Diversity</td>\n",
       "      <td>338248.98</td>\n",
       "    </tr>\n",
       "    <tr>\n",
       "      <th>6016</th>\n",
       "      <td>Vice Chancellor for Diversity</td>\n",
       "      <td>178500.00</td>\n",
       "    </tr>\n",
       "    <tr>\n",
       "      <th>6017</th>\n",
       "      <td>Vice Chancellor for Diversity</td>\n",
       "      <td>141000.00</td>\n",
       "    </tr>\n",
       "    <tr>\n",
       "      <th>6018</th>\n",
       "      <td>Vice Chancellor for Diversity</td>\n",
       "      <td>94860.00</td>\n",
       "    </tr>\n",
       "  </tbody>\n",
       "</table>\n",
       "<p>6019 rows × 2 columns</p>\n",
       "</div>"
      ],
      "text/plain": [
       "                    Department Name  Present Salary\n",
       "0          ACES Technology Services       106476.00\n",
       "1          ACES Technology Services        80871.33\n",
       "2          ACES Technology Services        89558.22\n",
       "3             ADM Institute for PHL        50000.00\n",
       "4             ADM Institute for PHL       186666.00\n",
       "...                             ...             ...\n",
       "6014  Vice Chancellor for Diversity       163200.00\n",
       "6015  Vice Chancellor for Diversity       338248.98\n",
       "6016  Vice Chancellor for Diversity       178500.00\n",
       "6017  Vice Chancellor for Diversity       141000.00\n",
       "6018  Vice Chancellor for Diversity        94860.00\n",
       "\n",
       "[6019 rows x 2 columns]"
      ]
     },
     "execution_count": 21,
     "metadata": {},
     "output_type": "execute_result"
    }
   ],
   "source": [
    "df2 = df[[\"Department Name\", \"Present Salary\"]]\n",
    "df2"
   ]
  },
  {
   "cell_type": "markdown",
   "metadata": {
    "id": "8tMbQlHUO_7K"
   },
   "source": [
    "### Grouping by department\n",
    "We are going to **group** all of the people in each department so you can find departmental aggregates.  In other words, we want to group by `'Department Name'`.\n",
    "\n",
    "\n",
    "Find the mean `Present Salary` for each Department:\n",
    "- use `df2` and `groupby` Department Name and **aggregate** by the `mean` to create `agg_mean_df`:"
   ]
  },
  {
   "cell_type": "code",
   "execution_count": 34,
   "metadata": {
    "deletable": false,
    "id": "wF3pjUBsO_7L",
    "nbgrader": {
     "cell_type": "code",
     "checksum": "912abaecdf749394d0921e160cd15746",
     "grade": false,
     "grade_id": "cell-72189b308296916b",
     "locked": false,
     "schema_version": 3,
     "solution": true,
     "task": false
    }
   },
   "outputs": [
    {
     "data": {
      "text/html": [
       "<div>\n",
       "<style scoped>\n",
       "    .dataframe tbody tr th:only-of-type {\n",
       "        vertical-align: middle;\n",
       "    }\n",
       "\n",
       "    .dataframe tbody tr th {\n",
       "        vertical-align: top;\n",
       "    }\n",
       "\n",
       "    .dataframe thead th {\n",
       "        text-align: right;\n",
       "    }\n",
       "</style>\n",
       "<table border=\"1\" class=\"dataframe\">\n",
       "  <thead>\n",
       "    <tr style=\"text-align: right;\">\n",
       "      <th></th>\n",
       "      <th>Department Name</th>\n",
       "      <th>Present Salary</th>\n",
       "    </tr>\n",
       "  </thead>\n",
       "  <tbody>\n",
       "    <tr>\n",
       "      <th>0</th>\n",
       "      <td>ACES Technology Services</td>\n",
       "      <td>92301.850000</td>\n",
       "    </tr>\n",
       "    <tr>\n",
       "      <th>1</th>\n",
       "      <td>ADM Institute for PHL</td>\n",
       "      <td>118333.000000</td>\n",
       "    </tr>\n",
       "    <tr>\n",
       "      <th>2</th>\n",
       "      <td>Academy Entrepreneurial Ldrshp</td>\n",
       "      <td>75894.000000</td>\n",
       "    </tr>\n",
       "    <tr>\n",
       "      <th>3</th>\n",
       "      <td>Accountancy</td>\n",
       "      <td>201469.968971</td>\n",
       "    </tr>\n",
       "    <tr>\n",
       "      <th>4</th>\n",
       "      <td>Action Learning</td>\n",
       "      <td>106029.166667</td>\n",
       "    </tr>\n",
       "    <tr>\n",
       "      <th>...</th>\n",
       "      <td>...</td>\n",
       "      <td>...</td>\n",
       "    </tr>\n",
       "    <tr>\n",
       "      <th>259</th>\n",
       "      <td>Veterinary Teaching Hospital</td>\n",
       "      <td>85530.463333</td>\n",
       "    </tr>\n",
       "    <tr>\n",
       "      <th>260</th>\n",
       "      <td>Vice Chancellor for Diversity</td>\n",
       "      <td>168745.246667</td>\n",
       "    </tr>\n",
       "    <tr>\n",
       "      <th>261</th>\n",
       "      <td>Web Services</td>\n",
       "      <td>133686.405000</td>\n",
       "    </tr>\n",
       "    <tr>\n",
       "      <th>262</th>\n",
       "      <td>Willard Airport Commercial Op</td>\n",
       "      <td>147900.000000</td>\n",
       "    </tr>\n",
       "    <tr>\n",
       "      <th>263</th>\n",
       "      <td>eLearning</td>\n",
       "      <td>65313.740000</td>\n",
       "    </tr>\n",
       "  </tbody>\n",
       "</table>\n",
       "<p>264 rows × 2 columns</p>\n",
       "</div>"
      ],
      "text/plain": [
       "                    Department Name  Present Salary\n",
       "0          ACES Technology Services    92301.850000\n",
       "1             ADM Institute for PHL   118333.000000\n",
       "2    Academy Entrepreneurial Ldrshp    75894.000000\n",
       "3                       Accountancy   201469.968971\n",
       "4                   Action Learning   106029.166667\n",
       "..                              ...             ...\n",
       "259    Veterinary Teaching Hospital    85530.463333\n",
       "260   Vice Chancellor for Diversity   168745.246667\n",
       "261                    Web Services   133686.405000\n",
       "262   Willard Airport Commercial Op   147900.000000\n",
       "263                       eLearning    65313.740000\n",
       "\n",
       "[264 rows x 2 columns]"
      ]
     },
     "execution_count": 34,
     "metadata": {},
     "output_type": "execute_result"
    }
   ],
   "source": [
    "agg_mean_df = df2.groupby(\"Department Name\").agg(\"mean\").reset_index()\n",
    "agg_mean_df"
   ]
  },
  {
   "cell_type": "markdown",
   "metadata": {
    "id": "edk4JoPhO_7L"
   },
   "source": [
    "### 🔬 Test Case Checkpoint 🔬"
   ]
  },
  {
   "cell_type": "code",
   "execution_count": null,
   "metadata": {
    "deletable": false,
    "editable": false,
    "id": "htAJNWvGO_7M",
    "nbgrader": {
     "cell_type": "code",
     "checksum": "0bbf4ebd7bc25281632fc296ffd2b063",
     "grade": true,
     "grade_id": "cell-d4a69c902629304a",
     "locked": true,
     "points": 1,
     "schema_version": 3,
     "solution": false,
     "task": false
    }
   },
   "outputs": [],
   "source": [
    "## == CHECKPOINT TEST CASES ==\n",
    "# - This read-only cell contains test cases for your previous cell.\n",
    "# - If this cell runs without any errors, you PASSED all test cases!\n",
    "# - If this cell results in any errors, check your previous cell, make changes, and RE-RUN your code and then this cell.\n",
    "Tester.testCase4()\n"
   ]
  },
  {
   "cell_type": "markdown",
   "metadata": {
    "id": "S0SmFQRyO_7N"
   },
   "source": [
    "### Department Comparisons\n",
    ".\n",
    "Using your `agg_mean_df`, in the following three cells, find the **mean** present salary for each of these departments:\n",
    "- The department of `English`, stored in the variable `mean_eng`\n",
    "- The department of `Psychology`, stored in the variable `mean_psych`\n",
    "- The department of `Electrical & Computer Eng`, stored in the variable `mean_ece`\n",
    "\n",
    "Hint: you can filter your `agg_mean_df` to these **departments** by using the `names` provided above (**\"English\"**, **\"Psychology\"**, and **\"Electrical & Computer Eng\"**). Then, just find the mean `Present Salary` for each department.\n"
   ]
  },
  {
   "cell_type": "code",
   "execution_count": 26,
   "metadata": {
    "id": "IS_9IhIhO_7O"
   },
   "outputs": [
    {
     "data": {
      "text/plain": [
       "87    74962.802125\n",
       "Name: Present Salary, dtype: float64"
      ]
     },
     "execution_count": 26,
     "metadata": {},
     "output_type": "execute_result"
    }
   ],
   "source": [
    "mean_eng = agg_mean_df[agg_mean_df[\"Department Name\"] == \"English\"][\"Present Salary\"]\n",
    "mean_eng"
   ]
  },
  {
   "cell_type": "code",
   "execution_count": 27,
   "metadata": {
    "id": "0PNFRFk9O_7V"
   },
   "outputs": [
    {
     "data": {
      "text/plain": [
       "210    98798.361833\n",
       "Name: Present Salary, dtype: float64"
      ]
     },
     "execution_count": 27,
     "metadata": {},
     "output_type": "execute_result"
    }
   ],
   "source": [
    "mean_psych = agg_mean_df[agg_mean_df[\"Department Name\"] == \"Psychology\"][\"Present Salary\"]\n",
    "mean_psych"
   ]
  },
  {
   "cell_type": "code",
   "execution_count": 28,
   "metadata": {
    "id": "oCkktMtFO_7Y"
   },
   "outputs": [
    {
     "data": {
      "text/plain": [
       "82    124733.494107\n",
       "Name: Present Salary, dtype: float64"
      ]
     },
     "execution_count": 28,
     "metadata": {},
     "output_type": "execute_result"
    }
   ],
   "source": [
    "mean_ece = agg_mean_df[agg_mean_df[\"Department Name\"] == \"Electrical & Computer Eng\"][\"Present Salary\"]\n",
    "mean_ece"
   ]
  },
  {
   "cell_type": "markdown",
   "metadata": {
    "id": "K9wL-eVsO_7Y"
   },
   "source": [
    "### Test Case Checkpoint"
   ]
  },
  {
   "cell_type": "code",
   "execution_count": null,
   "metadata": {
    "id": "52uSSQlRO_7Z"
   },
   "outputs": [],
   "source": [
    "## == CHECKPOINT TEST CASES ==\n",
    "# - This read-only cell contains test cases for your previous cell.\n",
    "# - If this cell runs without any errors, you PASSED all test cases!\n",
    "# - If this cell results in any errors, check your previous cell, make changes, and RE-RUN your code and then this cell.\n",
    "Tester.testCase5()\n"
   ]
  },
  {
   "cell_type": "markdown",
   "metadata": {
    "id": "pScbVjU6O_7a"
   },
   "source": [
    "## Highest and Lowest Paying Departments\n",
    "Using the dataframe `agg_mean_df`, find the departments with the 10 highest average Present Salaries. Store it in a variable called `top_10_paying_departments`."
   ]
  },
  {
   "cell_type": "code",
   "execution_count": 35,
   "metadata": {
    "id": "DlxRTXSFO_7c",
    "outputId": "09174834-47a8-4346-b176-d1dd2ddaee2c"
   },
   "outputs": [
    {
     "data": {
      "text/html": [
       "<div>\n",
       "<style scoped>\n",
       "    .dataframe tbody tr th:only-of-type {\n",
       "        vertical-align: middle;\n",
       "    }\n",
       "\n",
       "    .dataframe tbody tr th {\n",
       "        vertical-align: top;\n",
       "    }\n",
       "\n",
       "    .dataframe thead th {\n",
       "        text-align: right;\n",
       "    }\n",
       "</style>\n",
       "<table border=\"1\" class=\"dataframe\">\n",
       "  <thead>\n",
       "    <tr style=\"text-align: right;\">\n",
       "      <th></th>\n",
       "      <th>Department Name</th>\n",
       "      <th>Present Salary</th>\n",
       "    </tr>\n",
       "  </thead>\n",
       "  <tbody>\n",
       "    <tr>\n",
       "      <th>64</th>\n",
       "      <td>Ctr Business &amp; Public Policy</td>\n",
       "      <td>333168.480000</td>\n",
       "    </tr>\n",
       "    <tr>\n",
       "      <th>191</th>\n",
       "      <td>Office of Public Engagement</td>\n",
       "      <td>250413.676667</td>\n",
       "    </tr>\n",
       "    <tr>\n",
       "      <th>253</th>\n",
       "      <td>VC Admin and Operations</td>\n",
       "      <td>224592.000000</td>\n",
       "    </tr>\n",
       "    <tr>\n",
       "      <th>96</th>\n",
       "      <td>Finance</td>\n",
       "      <td>211394.692727</td>\n",
       "    </tr>\n",
       "    <tr>\n",
       "      <th>3</th>\n",
       "      <td>Accountancy</td>\n",
       "      <td>201469.968971</td>\n",
       "    </tr>\n",
       "    <tr>\n",
       "      <th>57</th>\n",
       "      <td>Computational Science &amp; Engr</td>\n",
       "      <td>189519.000000</td>\n",
       "    </tr>\n",
       "    <tr>\n",
       "      <th>193</th>\n",
       "      <td>Office of the Chancellor</td>\n",
       "      <td>175157.416000</td>\n",
       "    </tr>\n",
       "    <tr>\n",
       "      <th>35</th>\n",
       "      <td>Business Administration</td>\n",
       "      <td>174452.365750</td>\n",
       "    </tr>\n",
       "    <tr>\n",
       "      <th>260</th>\n",
       "      <td>Vice Chancellor for Diversity</td>\n",
       "      <td>168745.246667</td>\n",
       "    </tr>\n",
       "    <tr>\n",
       "      <th>248</th>\n",
       "      <td>UIUC Purchasing CMO</td>\n",
       "      <td>159120.000000</td>\n",
       "    </tr>\n",
       "  </tbody>\n",
       "</table>\n",
       "</div>"
      ],
      "text/plain": [
       "                   Department Name  Present Salary\n",
       "64    Ctr Business & Public Policy   333168.480000\n",
       "191    Office of Public Engagement   250413.676667\n",
       "253        VC Admin and Operations   224592.000000\n",
       "96                         Finance   211394.692727\n",
       "3                      Accountancy   201469.968971\n",
       "57    Computational Science & Engr   189519.000000\n",
       "193       Office of the Chancellor   175157.416000\n",
       "35         Business Administration   174452.365750\n",
       "260  Vice Chancellor for Diversity   168745.246667\n",
       "248            UIUC Purchasing CMO   159120.000000"
      ]
     },
     "execution_count": 35,
     "metadata": {},
     "output_type": "execute_result"
    }
   ],
   "source": [
    "top_10_paying_departments = agg_mean_df.nlargest(10, \"Present Salary\")\n",
    "top_10_paying_departments"
   ]
  },
  {
   "cell_type": "markdown",
   "metadata": {
    "id": "PrzFG0IdO_7c"
   },
   "source": [
    "Using the dataframe `agg_mean_df`, find the departments with the 10 lowest average Present Salaries. Store it in a variable called `lowest_10_paying_departments`."
   ]
  },
  {
   "cell_type": "code",
   "execution_count": 36,
   "metadata": {
    "id": "PyGzltKtO_7d"
   },
   "outputs": [
    {
     "data": {
      "text/html": [
       "<div>\n",
       "<style scoped>\n",
       "    .dataframe tbody tr th:only-of-type {\n",
       "        vertical-align: middle;\n",
       "    }\n",
       "\n",
       "    .dataframe tbody tr th {\n",
       "        vertical-align: top;\n",
       "    }\n",
       "\n",
       "    .dataframe thead th {\n",
       "        text-align: right;\n",
       "    }\n",
       "</style>\n",
       "<table border=\"1\" class=\"dataframe\">\n",
       "  <thead>\n",
       "    <tr style=\"text-align: right;\">\n",
       "      <th></th>\n",
       "      <th>Department Name</th>\n",
       "      <th>Present Salary</th>\n",
       "    </tr>\n",
       "  </thead>\n",
       "  <tbody>\n",
       "    <tr>\n",
       "      <th>52</th>\n",
       "      <td>Clinical Sciences</td>\n",
       "      <td>1153.014286</td>\n",
       "    </tr>\n",
       "    <tr>\n",
       "      <th>126</th>\n",
       "      <td>IPM Content Programming</td>\n",
       "      <td>45334.200000</td>\n",
       "    </tr>\n",
       "    <tr>\n",
       "      <th>247</th>\n",
       "      <td>Translation &amp; Interpreting St</td>\n",
       "      <td>46081.015000</td>\n",
       "    </tr>\n",
       "    <tr>\n",
       "      <th>161</th>\n",
       "      <td>Lemann Center</td>\n",
       "      <td>46818.000000</td>\n",
       "    </tr>\n",
       "    <tr>\n",
       "      <th>157</th>\n",
       "      <td>Latin American &amp; Carib Studies</td>\n",
       "      <td>49950.580000</td>\n",
       "    </tr>\n",
       "    <tr>\n",
       "      <th>111</th>\n",
       "      <td>Global Studies Prog &amp; Courses</td>\n",
       "      <td>53581.880000</td>\n",
       "    </tr>\n",
       "    <tr>\n",
       "      <th>51</th>\n",
       "      <td>Cline Ctr for Adv Social Rsrch</td>\n",
       "      <td>54148.936667</td>\n",
       "    </tr>\n",
       "    <tr>\n",
       "      <th>143</th>\n",
       "      <td>Inst for Sustain, Enrgy, &amp; Env</td>\n",
       "      <td>54308.381646</td>\n",
       "    </tr>\n",
       "    <tr>\n",
       "      <th>125</th>\n",
       "      <td>IPM Content Production</td>\n",
       "      <td>54350.275000</td>\n",
       "    </tr>\n",
       "    <tr>\n",
       "      <th>258</th>\n",
       "      <td>Veterinary Diagnostic Lab</td>\n",
       "      <td>56797.382069</td>\n",
       "    </tr>\n",
       "  </tbody>\n",
       "</table>\n",
       "</div>"
      ],
      "text/plain": [
       "                    Department Name  Present Salary\n",
       "52                Clinical Sciences     1153.014286\n",
       "126         IPM Content Programming    45334.200000\n",
       "247   Translation & Interpreting St    46081.015000\n",
       "161                   Lemann Center    46818.000000\n",
       "157  Latin American & Carib Studies    49950.580000\n",
       "111   Global Studies Prog & Courses    53581.880000\n",
       "51   Cline Ctr for Adv Social Rsrch    54148.936667\n",
       "143  Inst for Sustain, Enrgy, & Env    54308.381646\n",
       "125          IPM Content Production    54350.275000\n",
       "258       Veterinary Diagnostic Lab    56797.382069"
      ]
     },
     "execution_count": 36,
     "metadata": {},
     "output_type": "execute_result"
    }
   ],
   "source": [
    "lowest_10_paying_departments = agg_mean_df.nsmallest(10, \"Present Salary\")\n",
    "lowest_10_paying_departments"
   ]
  },
  {
   "cell_type": "markdown",
   "metadata": {
    "id": "zmsU24beO_7d"
   },
   "source": [
    "### Test Case Checkpoint\n"
   ]
  },
  {
   "cell_type": "code",
   "execution_count": null,
   "metadata": {
    "id": "3AMM7H37O_7e"
   },
   "outputs": [],
   "source": [
    "## == CHECKPOINT TEST CASES ==\n",
    "# - This read-only cell contains test cases for your previous cell.\n",
    "# - If this cell runs without any errors, you PASSED all test cases!\n",
    "# - If this cell results in any errors, check your previous cell, make changes, and RE-RUN your code and then this cell.\n",
    "Tester.testCase6()\n"
   ]
  },
  {
   "cell_type": "markdown",
   "metadata": {
    "id": "4l-Jm_tJO_7f"
   },
   "source": [
    "## Bar Plot\n",
    "\n",
    "Let's create a **Bar Plot** so that we can visualise the mean salary for every department.\n",
    "**Run the cell below** to see a bar plot of the mean salary for every department.\n",
    "\n",
    "**Note:** Since we have a lot of departments, we hide the department names because it would look really bad if we included them in the plot. In order to do so, we included the argument `xticks=[]`."
   ]
  },
  {
   "cell_type": "code",
   "execution_count": 38,
   "metadata": {
    "id": "oiGQadJVO_7f"
   },
   "outputs": [
    {
     "data": {
      "text/plain": [
       "<AxesSubplot:xlabel='Department Name'>"
      ]
     },
     "execution_count": 38,
     "metadata": {},
     "output_type": "execute_result"
    },
    {
     "data": {
      "image/png": "[encoded data removed]",
      "text/plain": [
       "<Figure size 640x480 with 1 Axes>"
      ]
     },
     "metadata": {},
     "output_type": "display_data"
    }
   ],
   "source": [
    "agg_mean_df.plot.bar(x = \"Department Name\", y = \"Present Salary\", xticks=[])"
   ]
  },
  {
   "cell_type": "markdown",
   "metadata": {},
   "source": [
    "### (Optional, for anyone who is interested) Further analysis \n",
    "\n",
    "In the lecture, we mentioned that sometimes the sample average is sensitive to outliers. Observe the box plots that you created earlier. The existence of a large ammount of outliers in each department would suggest that the sample average is not a very suitable measure of center. Instead of the sample average, we might consider using the sample meadian in order to group by every department. \n",
    "\n",
    "Find the median `Present Salary` for each Department:\n",
    "- use `df2` and `groupby` Department Name and **aggregate** by the `median` to create `agg_median_df`.\n",
    "- repeat the same calculations and construct the same plots as we did with `agg_mean_df`.\n",
    "- compare the results that you found with `agg_median_df` to those that you found with `agg_mean_df`\n",
    "\n",
    "Are there any differences?"
   ]
  },
  {
   "cell_type": "markdown",
   "metadata": {
    "id": "OGWtmkCqO_7i"
   },
   "source": [
    "## Grouping the Data, Again\n",
    "\n",
    "We have an aggregated DataFrame of the salaries by department, but what if we want to find the number of employees in each department?\n",
    "\n",
    "In the cell below, using your `df2` from earlier, `groupby` Department Name and **aggregate** by `count` to create `agg_count_df`:"
   ]
  },
  {
   "cell_type": "code",
   "execution_count": 40,
   "metadata": {
    "id": "9-MsR_xFO_7i"
   },
   "outputs": [
    {
     "data": {
      "text/html": [
       "<div>\n",
       "<style scoped>\n",
       "    .dataframe tbody tr th:only-of-type {\n",
       "        vertical-align: middle;\n",
       "    }\n",
       "\n",
       "    .dataframe tbody tr th {\n",
       "        vertical-align: top;\n",
       "    }\n",
       "\n",
       "    .dataframe thead th {\n",
       "        text-align: right;\n",
       "    }\n",
       "</style>\n",
       "<table border=\"1\" class=\"dataframe\">\n",
       "  <thead>\n",
       "    <tr style=\"text-align: right;\">\n",
       "      <th></th>\n",
       "      <th>Department Name</th>\n",
       "      <th>Present Salary</th>\n",
       "    </tr>\n",
       "  </thead>\n",
       "  <tbody>\n",
       "    <tr>\n",
       "      <th>0</th>\n",
       "      <td>ACES Technology Services</td>\n",
       "      <td>3</td>\n",
       "    </tr>\n",
       "    <tr>\n",
       "      <th>1</th>\n",
       "      <td>ADM Institute for PHL</td>\n",
       "      <td>2</td>\n",
       "    </tr>\n",
       "    <tr>\n",
       "      <th>2</th>\n",
       "      <td>Academy Entrepreneurial Ldrshp</td>\n",
       "      <td>2</td>\n",
       "    </tr>\n",
       "    <tr>\n",
       "      <th>3</th>\n",
       "      <td>Accountancy</td>\n",
       "      <td>68</td>\n",
       "    </tr>\n",
       "    <tr>\n",
       "      <th>4</th>\n",
       "      <td>Action Learning</td>\n",
       "      <td>3</td>\n",
       "    </tr>\n",
       "    <tr>\n",
       "      <th>...</th>\n",
       "      <td>...</td>\n",
       "      <td>...</td>\n",
       "    </tr>\n",
       "    <tr>\n",
       "      <th>259</th>\n",
       "      <td>Veterinary Teaching Hospital</td>\n",
       "      <td>3</td>\n",
       "    </tr>\n",
       "    <tr>\n",
       "      <th>260</th>\n",
       "      <td>Vice Chancellor for Diversity</td>\n",
       "      <td>6</td>\n",
       "    </tr>\n",
       "    <tr>\n",
       "      <th>261</th>\n",
       "      <td>Web Services</td>\n",
       "      <td>2</td>\n",
       "    </tr>\n",
       "    <tr>\n",
       "      <th>262</th>\n",
       "      <td>Willard Airport Commercial Op</td>\n",
       "      <td>1</td>\n",
       "    </tr>\n",
       "    <tr>\n",
       "      <th>263</th>\n",
       "      <td>eLearning</td>\n",
       "      <td>24</td>\n",
       "    </tr>\n",
       "  </tbody>\n",
       "</table>\n",
       "<p>264 rows × 2 columns</p>\n",
       "</div>"
      ],
      "text/plain": [
       "                    Department Name  Present Salary\n",
       "0          ACES Technology Services               3\n",
       "1             ADM Institute for PHL               2\n",
       "2    Academy Entrepreneurial Ldrshp               2\n",
       "3                       Accountancy              68\n",
       "4                   Action Learning               3\n",
       "..                              ...             ...\n",
       "259    Veterinary Teaching Hospital               3\n",
       "260   Vice Chancellor for Diversity               6\n",
       "261                    Web Services               2\n",
       "262   Willard Airport Commercial Op               1\n",
       "263                       eLearning              24\n",
       "\n",
       "[264 rows x 2 columns]"
      ]
     },
     "execution_count": 40,
     "metadata": {},
     "output_type": "execute_result"
    }
   ],
   "source": [
    "agg_count_df = df2.groupby(\"Department Name\").agg(\"count\").reset_index()\n",
    "agg_count_df"
   ]
  },
  {
   "cell_type": "markdown",
   "metadata": {
    "id": "nT_69I2-O_7l"
   },
   "source": [
    "If done correctly, your `agg_count_df` should now contain the number of employees in each department under the `Present Salary` column because grouping by `count` **counts the rows in each department**. But this column name is **misleading**.\n",
    "\n",
    "**Run the provided cell below** to rename the `Present Salary` column to `Num Employees`(**Note:** This is how we rename a column in a dataframe):"
   ]
  },
  {
   "cell_type": "code",
   "execution_count": 41,
   "metadata": {
    "id": "WHaIRbhJO_7n"
   },
   "outputs": [
    {
     "data": {
      "text/html": [
       "<div>\n",
       "<style scoped>\n",
       "    .dataframe tbody tr th:only-of-type {\n",
       "        vertical-align: middle;\n",
       "    }\n",
       "\n",
       "    .dataframe tbody tr th {\n",
       "        vertical-align: top;\n",
       "    }\n",
       "\n",
       "    .dataframe thead th {\n",
       "        text-align: right;\n",
       "    }\n",
       "</style>\n",
       "<table border=\"1\" class=\"dataframe\">\n",
       "  <thead>\n",
       "    <tr style=\"text-align: right;\">\n",
       "      <th></th>\n",
       "      <th>Department Name</th>\n",
       "      <th>Num Employees</th>\n",
       "    </tr>\n",
       "  </thead>\n",
       "  <tbody>\n",
       "    <tr>\n",
       "      <th>0</th>\n",
       "      <td>ACES Technology Services</td>\n",
       "      <td>3</td>\n",
       "    </tr>\n",
       "    <tr>\n",
       "      <th>1</th>\n",
       "      <td>ADM Institute for PHL</td>\n",
       "      <td>2</td>\n",
       "    </tr>\n",
       "    <tr>\n",
       "      <th>2</th>\n",
       "      <td>Academy Entrepreneurial Ldrshp</td>\n",
       "      <td>2</td>\n",
       "    </tr>\n",
       "    <tr>\n",
       "      <th>3</th>\n",
       "      <td>Accountancy</td>\n",
       "      <td>68</td>\n",
       "    </tr>\n",
       "    <tr>\n",
       "      <th>4</th>\n",
       "      <td>Action Learning</td>\n",
       "      <td>3</td>\n",
       "    </tr>\n",
       "    <tr>\n",
       "      <th>...</th>\n",
       "      <td>...</td>\n",
       "      <td>...</td>\n",
       "    </tr>\n",
       "    <tr>\n",
       "      <th>259</th>\n",
       "      <td>Veterinary Teaching Hospital</td>\n",
       "      <td>3</td>\n",
       "    </tr>\n",
       "    <tr>\n",
       "      <th>260</th>\n",
       "      <td>Vice Chancellor for Diversity</td>\n",
       "      <td>6</td>\n",
       "    </tr>\n",
       "    <tr>\n",
       "      <th>261</th>\n",
       "      <td>Web Services</td>\n",
       "      <td>2</td>\n",
       "    </tr>\n",
       "    <tr>\n",
       "      <th>262</th>\n",
       "      <td>Willard Airport Commercial Op</td>\n",
       "      <td>1</td>\n",
       "    </tr>\n",
       "    <tr>\n",
       "      <th>263</th>\n",
       "      <td>eLearning</td>\n",
       "      <td>24</td>\n",
       "    </tr>\n",
       "  </tbody>\n",
       "</table>\n",
       "<p>264 rows × 2 columns</p>\n",
       "</div>"
      ],
      "text/plain": [
       "                    Department Name  Num Employees\n",
       "0          ACES Technology Services              3\n",
       "1             ADM Institute for PHL              2\n",
       "2    Academy Entrepreneurial Ldrshp              2\n",
       "3                       Accountancy             68\n",
       "4                   Action Learning              3\n",
       "..                              ...            ...\n",
       "259    Veterinary Teaching Hospital              3\n",
       "260   Vice Chancellor for Diversity              6\n",
       "261                    Web Services              2\n",
       "262   Willard Airport Commercial Op              1\n",
       "263                       eLearning             24\n",
       "\n",
       "[264 rows x 2 columns]"
      ]
     },
     "execution_count": 41,
     "metadata": {},
     "output_type": "execute_result"
    }
   ],
   "source": [
    "agg_count_df.rename(columns={\"Present Salary\": \"Num Employees\"}, inplace=True)\n",
    "agg_count_df"
   ]
  },
  {
   "cell_type": "markdown",
   "metadata": {
    "id": "Hq5n0ASmO_7n"
   },
   "source": [
    "### Test Case Checkpoint"
   ]
  },
  {
   "cell_type": "code",
   "execution_count": null,
   "metadata": {
    "id": "jEWhdJA2O_7o"
   },
   "outputs": [],
   "source": [
    "## == CHECKPOINT TEST CASES ==\n",
    "# - This read-only cell contains test cases for your previous cell.\n",
    "# - If this cell runs without any errors, you PASSED all test cases!\n",
    "# - If this cell results in any errors, check your previous cell, make changes, and RE-RUN your code and then this cell.\n",
    "Tester.testCase7()\n"
   ]
  },
  {
   "cell_type": "markdown",
   "metadata": {
    "id": "FKY7NVjBO_7p"
   },
   "source": [
    "### Employee Counts\n",
    "\n",
    "Now, using your `agg_count_df`, in the following three cells, find the **number of employees** for each of these departments:\n",
    "- The department of `English`, stored in the variable `eng_employees`\n",
    "- The department of `Psychology`, stored in the variable `psych_employees`\n",
    "- The department of `Electrical & Computer Eng`, stored in the variable `ece_employees`\n"
   ]
  },
  {
   "cell_type": "code",
   "execution_count": 42,
   "metadata": {
    "id": "CybnQBefO_7p"
   },
   "outputs": [
    {
     "data": {
      "text/plain": [
       "87    80\n",
       "Name: Num Employees, dtype: int64"
      ]
     },
     "execution_count": 42,
     "metadata": {},
     "output_type": "execute_result"
    }
   ],
   "source": [
    "eng_employees = agg_count_df[agg_count_df[\"Department Name\"] == \"English\"][\"Num Employees\"]\n",
    "eng_employees"
   ]
  },
  {
   "cell_type": "code",
   "execution_count": 43,
   "metadata": {
    "id": "4xFHdBEUO_7q"
   },
   "outputs": [
    {
     "data": {
      "text/plain": [
       "210    60\n",
       "Name: Num Employees, dtype: int64"
      ]
     },
     "execution_count": 43,
     "metadata": {},
     "output_type": "execute_result"
    }
   ],
   "source": [
    "psych_employees = agg_count_df[agg_count_df[\"Department Name\"] == \"Psychology\"][\"Num Employees\"]\n",
    "psych_employees"
   ]
  },
  {
   "cell_type": "code",
   "execution_count": 44,
   "metadata": {
    "id": "PukQlCfoO_7r"
   },
   "outputs": [
    {
     "data": {
      "text/plain": [
       "82    56\n",
       "Name: Num Employees, dtype: int64"
      ]
     },
     "execution_count": 44,
     "metadata": {},
     "output_type": "execute_result"
    }
   ],
   "source": [
    "ece_employees = agg_count_df[agg_count_df[\"Department Name\"] == \"Electrical & Computer Eng\"][\"Num Employees\"]\n",
    "ece_employees"
   ]
  },
  {
   "cell_type": "markdown",
   "metadata": {
    "id": "DJsDs7VqO_7r"
   },
   "source": [
    "### Test Case Checkpoint"
   ]
  },
  {
   "cell_type": "code",
   "execution_count": null,
   "metadata": {
    "id": "wnS8aQSzO_7s"
   },
   "outputs": [],
   "source": [
    "## == CHECKPOINT TEST CASES ==\n",
    "# - This read-only cell contains test cases for your previous cell.\n",
    "# - If this cell runs without any errors, you PASSED all test cases!\n",
    "# - If this cell results in any errors, check your previous cell, make changes, and RE-RUN your code and then this cell.\n",
    "Tester.testCase8()\n"
   ]
  },
  {
   "cell_type": "markdown",
   "metadata": {
    "id": "0bDUfMYPO_7s"
   },
   "source": [
    "## Deparments with highest and lowest number of employees\n",
    "Using the dataframe `agg_count_df`, find the departments with the 10 highest numbers of employees. Store it in a variable called `top_10_employees_departments`."
   ]
  },
  {
   "cell_type": "code",
   "execution_count": 45,
   "metadata": {
    "id": "IUJuin2BO_7t"
   },
   "outputs": [
    {
     "data": {
      "text/html": [
       "<div>\n",
       "<style scoped>\n",
       "    .dataframe tbody tr th:only-of-type {\n",
       "        vertical-align: middle;\n",
       "    }\n",
       "\n",
       "    .dataframe tbody tr th {\n",
       "        vertical-align: top;\n",
       "    }\n",
       "\n",
       "    .dataframe thead th {\n",
       "        text-align: right;\n",
       "    }\n",
       "</style>\n",
       "<table border=\"1\" class=\"dataframe\">\n",
       "  <thead>\n",
       "    <tr style=\"text-align: right;\">\n",
       "      <th></th>\n",
       "      <th>Department Name</th>\n",
       "      <th>Num Employees</th>\n",
       "    </tr>\n",
       "  </thead>\n",
       "  <tbody>\n",
       "    <tr>\n",
       "      <th>59</th>\n",
       "      <td>Cooperative Extension</td>\n",
       "      <td>230</td>\n",
       "    </tr>\n",
       "    <tr>\n",
       "      <th>52</th>\n",
       "      <td>Clinical Sciences</td>\n",
       "      <td>210</td>\n",
       "    </tr>\n",
       "    <tr>\n",
       "      <th>240</th>\n",
       "      <td>Supercomputing Applications</td>\n",
       "      <td>171</td>\n",
       "    </tr>\n",
       "    <tr>\n",
       "      <th>222</th>\n",
       "      <td>School of Social Work</td>\n",
       "      <td>167</td>\n",
       "    </tr>\n",
       "    <tr>\n",
       "      <th>58</th>\n",
       "      <td>Computer Science</td>\n",
       "      <td>157</td>\n",
       "    </tr>\n",
       "    <tr>\n",
       "      <th>118</th>\n",
       "      <td>IL Natural History Survey</td>\n",
       "      <td>154</td>\n",
       "    </tr>\n",
       "    <tr>\n",
       "      <th>31</th>\n",
       "      <td>Biomed &amp; Translational Sci</td>\n",
       "      <td>137</td>\n",
       "    </tr>\n",
       "    <tr>\n",
       "      <th>120</th>\n",
       "      <td>IL State Geological Survey</td>\n",
       "      <td>98</td>\n",
       "    </tr>\n",
       "    <tr>\n",
       "      <th>169</th>\n",
       "      <td>Mathematics</td>\n",
       "      <td>85</td>\n",
       "    </tr>\n",
       "    <tr>\n",
       "      <th>49</th>\n",
       "      <td>Civil &amp; Environmental Eng</td>\n",
       "      <td>82</td>\n",
       "    </tr>\n",
       "  </tbody>\n",
       "</table>\n",
       "</div>"
      ],
      "text/plain": [
       "                 Department Name  Num Employees\n",
       "59         Cooperative Extension            230\n",
       "52             Clinical Sciences            210\n",
       "240  Supercomputing Applications            171\n",
       "222        School of Social Work            167\n",
       "58              Computer Science            157\n",
       "118    IL Natural History Survey            154\n",
       "31    Biomed & Translational Sci            137\n",
       "120   IL State Geological Survey             98\n",
       "169                  Mathematics             85\n",
       "49     Civil & Environmental Eng             82"
      ]
     },
     "execution_count": 45,
     "metadata": {},
     "output_type": "execute_result"
    }
   ],
   "source": [
    "top_10_employees_departments = agg_count_df.nlargest(10, \"Num Employees\")\n",
    "top_10_employees_departments"
   ]
  },
  {
   "cell_type": "markdown",
   "metadata": {
    "id": "Eln-LnFKO_7t"
   },
   "source": [
    "Using the dataframe `agg_count_df`, find the departments with the 10 highest numbers of employees. Store it in a variable called `lowest_10_employees_departments`."
   ]
  },
  {
   "cell_type": "code",
   "execution_count": 46,
   "metadata": {
    "id": "jhRDoDx9O_7u"
   },
   "outputs": [
    {
     "data": {
      "text/html": [
       "<div>\n",
       "<style scoped>\n",
       "    .dataframe tbody tr th:only-of-type {\n",
       "        vertical-align: middle;\n",
       "    }\n",
       "\n",
       "    .dataframe tbody tr th {\n",
       "        vertical-align: top;\n",
       "    }\n",
       "\n",
       "    .dataframe thead th {\n",
       "        text-align: right;\n",
       "    }\n",
       "</style>\n",
       "<table border=\"1\" class=\"dataframe\">\n",
       "  <thead>\n",
       "    <tr style=\"text-align: right;\">\n",
       "      <th></th>\n",
       "      <th>Department Name</th>\n",
       "      <th>Num Employees</th>\n",
       "    </tr>\n",
       "  </thead>\n",
       "  <tbody>\n",
       "    <tr>\n",
       "      <th>10</th>\n",
       "      <td>Agr Animal Care &amp; Use Program</td>\n",
       "      <td>1</td>\n",
       "    </tr>\n",
       "    <tr>\n",
       "      <th>21</th>\n",
       "      <td>Armed Forces Coordinator</td>\n",
       "      <td>1</td>\n",
       "    </tr>\n",
       "    <tr>\n",
       "      <th>32</th>\n",
       "      <td>Biophysics &amp; Quant Biology</td>\n",
       "      <td>1</td>\n",
       "    </tr>\n",
       "    <tr>\n",
       "      <th>43</th>\n",
       "      <td>Center for Advanced Study</td>\n",
       "      <td>1</td>\n",
       "    </tr>\n",
       "    <tr>\n",
       "      <th>57</th>\n",
       "      <td>Computational Science &amp; Engr</td>\n",
       "      <td>1</td>\n",
       "    </tr>\n",
       "    <tr>\n",
       "      <th>64</th>\n",
       "      <td>Ctr Business &amp; Public Policy</td>\n",
       "      <td>1</td>\n",
       "    </tr>\n",
       "    <tr>\n",
       "      <th>65</th>\n",
       "      <td>Ctr Health, Aging, Disability</td>\n",
       "      <td>1</td>\n",
       "    </tr>\n",
       "    <tr>\n",
       "      <th>76</th>\n",
       "      <td>E Asian &amp; Pacific Studies Cntr</td>\n",
       "      <td>1</td>\n",
       "    </tr>\n",
       "    <tr>\n",
       "      <th>85</th>\n",
       "      <td>Engineering General Expen</td>\n",
       "      <td>1</td>\n",
       "    </tr>\n",
       "    <tr>\n",
       "      <th>110</th>\n",
       "      <td>Global Education &amp; Training</td>\n",
       "      <td>1</td>\n",
       "    </tr>\n",
       "  </tbody>\n",
       "</table>\n",
       "</div>"
      ],
      "text/plain": [
       "                    Department Name  Num Employees\n",
       "10    Agr Animal Care & Use Program              1\n",
       "21         Armed Forces Coordinator              1\n",
       "32       Biophysics & Quant Biology              1\n",
       "43        Center for Advanced Study              1\n",
       "57     Computational Science & Engr              1\n",
       "64     Ctr Business & Public Policy              1\n",
       "65    Ctr Health, Aging, Disability              1\n",
       "76   E Asian & Pacific Studies Cntr              1\n",
       "85        Engineering General Expen              1\n",
       "110     Global Education & Training              1"
      ]
     },
     "execution_count": 46,
     "metadata": {},
     "output_type": "execute_result"
    }
   ],
   "source": [
    "lowest_10_employees_departments = agg_count_df.nsmallest(10, \"Num Employees\")\n",
    "lowest_10_employees_departments"
   ]
  },
  {
   "cell_type": "markdown",
   "metadata": {
    "id": "pfLIL2e3O_7v"
   },
   "source": [
    "### Employees and Salaries"
   ]
  },
  {
   "cell_type": "markdown",
   "metadata": {
    "id": "hKD3wUIXO_7w"
   },
   "source": [
    "**Q: Do you think department employee counts have any influence on the average salaries you observed earlier? Why or why not?**"
   ]
  },
  {
   "cell_type": "markdown",
   "metadata": {
    "id": "QUc7fv65O_7w"
   },
   "source": [
    "*(✏️ Edit this cell to replace this text with your group's answer. ✏️)*"
   ]
  },
  {
   "cell_type": "markdown",
   "metadata": {
    "id": "ejnwCpuhO_7y"
   },
   "source": [
    "### Visualisation (again)\n",
    "\n",
    "Earlier, we observed the importance of data visualization with histograms and boxplots. Let's apply these plotting techniques to the aggregated DataFrames you've recently created.\n",
    "\n",
    "First, using your `agg_mean_df`, generate a histogram the average **\"Present Salary\"** of each department using `.hist()`:"
   ]
  },
  {
   "cell_type": "code",
   "execution_count": 47,
   "metadata": {
    "id": "gLZwayU9O_7z"
   },
   "outputs": [
    {
     "data": {
      "text/plain": [
       "array([[<AxesSubplot:title={'center':'Present Salary'}>]], dtype=object)"
      ]
     },
     "execution_count": 47,
     "metadata": {},
     "output_type": "execute_result"
    },
    {
     "data": {
      "image/png": "[encoded data removed]",
      "text/plain": [
       "<Figure size 640x480 with 1 Axes>"
      ]
     },
     "metadata": {},
     "output_type": "display_data"
    }
   ],
   "source": [
    "agg_mean_df.hist()"
   ]
  },
  {
   "cell_type": "markdown",
   "metadata": {
    "id": "0at-KW9MO_71"
   },
   "source": [
    "Now, using your `agg_count_df`, generate a histogram of the **\"Num Employees\"** in each department using `.hist()`:"
   ]
  },
  {
   "cell_type": "code",
   "execution_count": 48,
   "metadata": {
    "id": "LBeUUwXsO_71"
   },
   "outputs": [
    {
     "data": {
      "text/plain": [
       "<AxesSubplot:>"
      ]
     },
     "execution_count": 48,
     "metadata": {},
     "output_type": "execute_result"
    },
    {
     "data": {
      "image/png": "[encoded data removed]",
      "text/plain": [
       "<Figure size 640x480 with 1 Axes>"
      ]
     },
     "metadata": {},
     "output_type": "display_data"
    }
   ],
   "source": [
    "agg_count_df.plot.box()"
   ]
  },
  {
   "cell_type": "markdown",
   "metadata": {
    "id": "q5HQYU0mO_72"
   },
   "source": [
    "### Takeaways"
   ]
  },
  {
   "cell_type": "markdown",
   "metadata": {
    "id": "RzPry8O1O_73"
   },
   "source": [
    "**Q: Write down at least three observations you can make from the plots and statistics that you calculated on Departmental level. You can use extra cells to explore more questions if you like.**"
   ]
  },
  {
   "cell_type": "markdown",
   "metadata": {
    "id": "QBmVfo-JO_73"
   },
   "source": [
    "*(✏️ Edit this cell to replace this text with your answer. ✏️)*"
   ]
  },
  {
   "cell_type": "markdown",
   "metadata": {
    "id": "xzD3050VO_74"
   },
   "source": [
    "<hr style=\"color: #DD3403;\">"
   ]
  },
  {
   "cell_type": "markdown",
   "metadata": {
    "id": "EIYe3TolO_74"
   },
   "source": [
    "## **Submission**\n",
    "Download your notebook and submit it on Canvas in \"**Assignment 3**\".\n"
   ]
  }
 ],
 "metadata": {
  "colab": {
   "provenance": []
  },
  "kernelspec": {
   "display_name": "Python 3 (ipykernel)",
   "language": "python",
   "name": "python3"
  },
  "language_info": {
   "codemirror_mode": {
    "name": "ipython",
    "version": 3
   },
   "file_extension": ".py",
   "mimetype": "text/x-python",
   "name": "python",
   "nbconvert_exporter": "python",
   "pygments_lexer": "ipython3",
   "version": "3.9.13"
  },
  "vscode": {
   "interpreter": {
    "hash": "f48b0ea9e8281b29b1f9b6045fc5406bb9891af892053a27454c097f6ae51d2c"
   }
  }
 },
 "nbformat": 4,
 "nbformat_minor": 1
}
