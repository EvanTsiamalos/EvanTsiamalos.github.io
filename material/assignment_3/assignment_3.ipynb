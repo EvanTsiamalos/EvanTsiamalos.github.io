{
 "cells": [
  {
   "cell_type": "markdown",
   "metadata": {
    "id": "NYorg0xgO_6E"
   },
   "source": [
    "# Lab 3\n",
    "The goal of this lab is to work with **real UIUC salary data** to explore its properties, answer important questions, and to think about the implications of collecting and analyzing this data.  \n",
    "\n",
    "In this lab, you will:\n",
    "- Work with real UIUC salary data to explore some of the statistics that we talked about in lecture: mean, median, standard deviation, etc.\n",
    "- Practice creating plots to **visualize quantitative data**: boxplots, histograms and bar-plots."
   ]
  },
  {
   "cell_type": "markdown",
   "metadata": {
    "id": "DpnCCNKkO_6M"
   },
   "source": [
    "<hr style=\"color: #DD3403;\">"
   ]
  },
  {
   "cell_type": "markdown",
   "metadata": {
    "id": "jmGeXWZ3O_6O"
   },
   "source": [
    "## Setup: Import the Graybook Dataset\n",
    "\n",
    "The \"Gray Book\" is historical term for the book of \"Academic and Administrative Appointments\".  As a public University, all academic positions (including academic title, tenure status, and salary) are publicly approved by the Board of Trustees.  After approval, they are published publicly at [https://www.bot.uillinois.edu/resources/gray_book](https://www.bot.uillinois.edu/resources/gray_book).\n",
    "\n",
    "The \"Graybook Dataset\" provided here includes all faculty (except for the Division of Collegiate Athletics, for salary outlier reasons) at The University of Illinois, based on the **2022-2023 Graybook report**.  A CSV version of this dataset is available at the following URL:\n",
    "\n",
    "```\n",
    "https://evantsiamalos.github.io/material/datasets/salary.csv\n",
    "```\n",
    "\n",
    "Import `pandas` and load this dataset into a DataFrame, `df`:"
   ]
  },
  {
   "cell_type": "code",
   "execution_count": null,
   "metadata": {
    "deletable": false,
    "id": "vXttEtWLO_6P",
    "nbgrader": {
     "cell_type": "code",
     "checksum": "40a9b55a4721908243d995f8d7f2fbb7",
     "grade": false,
     "grade_id": "cell-27971beecac131cc",
     "locked": false,
     "schema_version": 3,
     "solution": true,
     "task": false
    }
   },
   "outputs": [],
   "source": [
    "..."
   ]
  },
  {
   "cell_type": "markdown",
   "metadata": {
    "id": "Cj3uHGTIO_6S"
   },
   "source": [
    "### Test Case Checkpoint"
   ]
  },
  {
   "cell_type": "code",
   "execution_count": null,
   "metadata": {
    "id": "BOv7GmsdO_6S"
   },
   "outputs": [],
   "source": [
    "## == CHECKPOINT TEST CASES ==\n",
    "# - This read-only cell contains test cases for your previous cell.\n",
    "# - If this cell runs without any errors, you PASSED all test cases!\n",
    "# - If this cell results in any errors, check your previous cell, make changes, and RE-RUN your code and then this cell.\n",
    "import urllib\n",
    "_j = \"https://evantsiamalos.github.io/material/assignment_3/assignment3_tester.py\"\n",
    "_ = urllib.request.urlopen(_j).read()\n",
    "exec(_)\n",
    "Tester.testCase1()\n"
   ]
  },
  {
   "cell_type": "markdown",
   "metadata": {
    "id": "HoRqPPYZO_6T"
   },
   "source": [
    "<hr style=\"color: #DD3403;\">"
   ]
  },
  {
   "cell_type": "markdown",
   "metadata": {
    "id": "8qZO04HFO_6T"
   },
   "source": [
    "## Exploratory Data Analysis\n",
    "\n",
    "The first step of any data analysis is to **get familiar** with your dataset.  Think about what this data can tell you and what variables are included.  Data scientists always start with this step.\n",
    "\n",
    "Let’s do some general **exploratory data analysis** to get a first idea about our dataset."
   ]
  },
  {
   "cell_type": "markdown",
   "metadata": {
    "id": "hMExRkELO_6W"
   },
   "source": [
    "### Descriptive Statistics\n",
    "\n",
    "Our Graybook Dataset contains both the `Present Salary` and `Proposed Salary` of employees at U of I. For now, we're only interested in the present.\n",
    "\n",
    "Using `df`, find the following information:\n",
    "\n",
    "1. The number of faculty at UIUC, stored in the variable `num_employee` (Hint: each row is an employee!)\n",
    "2. The **mean** present salary, storing in the variable `mean_sal`\n",
    "3. The **median** present salary, storing in the variable `median_sal`\n",
    "4. The **standard deviation** of present salary, storing in the variable `std_sal`\n",
    "5. Find the **minimum** of present salary, storing in the variable `min_sal`\n",
    "6. Find the **maximum** of present salary, storing in the variable `max_sal`\n",
    "\n",
    "Remember, present salary is found in the `\"Present Salary\"` column!"
   ]
  },
  {
   "cell_type": "code",
   "execution_count": null,
   "metadata": {
    "deletable": false,
    "id": "QfQDtXHZO_6Y",
    "nbgrader": {
     "cell_type": "code",
     "checksum": "b1bea43f79c33b854e1f15dfe00b180b",
     "grade": false,
     "grade_id": "cell-419796a0b415e588",
     "locked": false,
     "schema_version": 3,
     "solution": true,
     "task": false
    }
   },
   "outputs": [],
   "source": [
    "num_employee = ...\n",
    "num_employee\n"
   ]
  },
  {
   "cell_type": "code",
   "execution_count": null,
   "metadata": {
    "deletable": false,
    "id": "YoK4arzBO_6Z",
    "nbgrader": {
     "cell_type": "code",
     "checksum": "f86aac497feb3ecd4289626231b44964",
     "grade": false,
     "grade_id": "cell-4dbbeef1022a20e4",
     "locked": false,
     "schema_version": 3,
     "solution": true,
     "task": false
    }
   },
   "outputs": [],
   "source": [
    "mean_sal = ...\n",
    "mean_sal"
   ]
  },
  {
   "cell_type": "code",
   "execution_count": null,
   "metadata": {
    "deletable": false,
    "id": "wQvTJIiBO_6a",
    "nbgrader": {
     "cell_type": "code",
     "checksum": "e8f355f508ffadd1f9b645c9686c73ea",
     "grade": false,
     "grade_id": "cell-727195c3fef2cf78",
     "locked": false,
     "schema_version": 3,
     "solution": true,
     "task": false
    }
   },
   "outputs": [],
   "source": [
    "median_sal = ...\n",
    "median_sal"
   ]
  },
  {
   "cell_type": "code",
   "execution_count": null,
   "metadata": {
    "deletable": false,
    "id": "9a40MIbpO_6a",
    "nbgrader": {
     "cell_type": "code",
     "checksum": "3da9719c35e35c72a09a1068d100b0f1",
     "grade": false,
     "grade_id": "cell-35e651d14a628e50",
     "locked": false,
     "schema_version": 3,
     "solution": true,
     "task": false
    }
   },
   "outputs": [],
   "source": [
    "std_sal = ...\n",
    "std_sal"
   ]
  },
  {
   "cell_type": "code",
   "execution_count": null,
   "metadata": {
    "id": "0mrxriLFO_6b"
   },
   "outputs": [],
   "source": [
    "min_sal = ...\n",
    "min_sal"
   ]
  },
  {
   "cell_type": "code",
   "execution_count": null,
   "metadata": {
    "id": "992tp9-NO_6c"
   },
   "outputs": [],
   "source": [
    "max_sal = ...\n",
    "max_sal"
   ]
  },
  {
   "cell_type": "markdown",
   "metadata": {
    "id": "15avL5c0O_6d"
   },
   "source": [
    "### Test Case Checkpoint"
   ]
  },
  {
   "cell_type": "code",
   "execution_count": null,
   "metadata": {
    "deletable": false,
    "editable": false,
    "id": "JnUHk4jiO_6g",
    "nbgrader": {
     "cell_type": "code",
     "checksum": "56f09ea04974ac5c89f390a8825daa39",
     "grade": true,
     "grade_id": "cell-04e624817d681f8e",
     "locked": true,
     "points": 1,
     "schema_version": 3,
     "solution": false,
     "task": false
    }
   },
   "outputs": [],
   "source": [
    "## == CHECKPOINT TEST CASES ==\n",
    "# - This read-only cell contains test cases for your previous cell.\n",
    "# - If this cell runs without any errors, you PASSED all test cases!\n",
    "# - If this cell results in any errors, check your previous cell, make changes, and RE-RUN your code and then this cell.\n",
    "Tester.testCase2()\n"
   ]
  },
  {
   "cell_type": "markdown",
   "metadata": {
    "id": "4qbOwzBqO_6h"
   },
   "source": [
    "## Some interesting questions\n",
    "We are going to answer the following quesions:\n",
    "\n",
    "Who are the emplyees with the 10 highest salaries?\n",
    "- Find the employess with the 10 highest **Present Salary** values. Store the result in a variable called `top_10`\n",
    "\n",
    "\n"
   ]
  },
  {
   "cell_type": "code",
   "execution_count": null,
   "metadata": {
    "id": "zpVGUuJqO_6h"
   },
   "outputs": [],
   "source": [
    "top_10 = ...\n",
    "top_10"
   ]
  },
  {
   "cell_type": "markdown",
   "metadata": {
    "id": "4fDa_GCLO_6i"
   },
   "source": [
    "\n",
    "Who are the emplyees with the 5 lowest salaries?\n",
    "\n",
    "- Find the 5 employees with the lowest **Present Salary** values. Store the result in a variable called `lowest_5`\n",
    "\n"
   ]
  },
  {
   "cell_type": "code",
   "execution_count": null,
   "metadata": {
    "id": "BzpwhLFJO_6i"
   },
   "outputs": [],
   "source": [
    "lowest_5 = ...\n",
    "lowest_5"
   ]
  },
  {
   "cell_type": "code",
   "execution_count": null,
   "metadata": {
    "id": "nyq9jrB3O_6j"
   },
   "outputs": [],
   "source": []
  },
  {
   "cell_type": "markdown",
   "metadata": {
    "id": "1Cy3yMsoO_6j"
   },
   "source": [
    "Who are the emplyees with the top 1% highest salaries?\n",
    "- Find the top 1% employees with the highest **Present Salary** values. Store the result in a variable called `top_1_percent` (hint: use the quantiles)."
   ]
  },
  {
   "cell_type": "code",
   "execution_count": null,
   "metadata": {
    "id": "YSKWp5mIO_6k"
   },
   "outputs": [],
   "source": [
    "top_1_percent =  ...\n",
    "top_1_percent"
   ]
  },
  {
   "cell_type": "markdown",
   "metadata": {
    "id": "OOug-NqDO_6k"
   },
   "source": [
    "### Test Case Checkpoint"
   ]
  },
  {
   "cell_type": "code",
   "execution_count": null,
   "metadata": {
    "id": "x2z1vL2zO_6m"
   },
   "outputs": [],
   "source": [
    "## == CHECKPOINT TEST CASES ==\n",
    "# - This read-only cell contains test cases for your previous cell.\n",
    "# - If this cell runs without any errors, you PASSED all test cases!\n",
    "# - If this cell results in any errors, check your previous cell, make changes, and RE-RUN your code and then this cell.\n",
    "Tester.testCase3()\n"
   ]
  },
  {
   "cell_type": "markdown",
   "metadata": {
    "id": "vaVueyM5O_6n"
   },
   "source": [
    "### Visual Displays of Data\n",
    "\n",
    "Now, we are going to use plots in order to visualise the data.\n",
    "\n",
    "### Histograms\n",
    "\n",
    "Let’s start by looking at **histograms**.  Histograms are used to show the **overall shape** of the data and they allow us to see frequencies and distributions.  \n",
    "\n",
    "### Histogram 1\n",
    "Using the `hist()` function, generate a **frequency histogram** of the `Present Salary` column in the cell below. Since we have a lot of data, let's use **20 bins** for the histogram (you can change the number of bins to see how the plot changes).\n"
   ]
  },
  {
   "cell_type": "code",
   "execution_count": null,
   "metadata": {
    "id": "TqiIQ-yoO_6n"
   },
   "outputs": [],
   "source": [
    "..."
   ]
  },
  {
   "cell_type": "markdown",
   "metadata": {
    "id": "XBMsRTRGO_6o"
   },
   "source": [
    "### Histogram 2\n",
    "Using the `hist()` function, generate a **frequency histogram** of the `Present Salary` column for tthe emplyees of the Mathematics Department (hint: Use conditionals to select only the employees where the \"Department Name\" column has the value \"Mathematics\" )\n"
   ]
  },
  {
   "cell_type": "code",
   "execution_count": null,
   "metadata": {
    "id": "4TcFJQGZO_6q"
   },
   "outputs": [],
   "source": [
    "..."
   ]
  },
  {
   "cell_type": "markdown",
   "metadata": {
    "id": "0NCuTBViO_6r"
   },
   "source": [
    "### Histogram 3\n",
    "\n",
    "Here is a list of all the department names."
   ]
  },
  {
   "cell_type": "code",
   "execution_count": null,
   "metadata": {
    "id": "TyksDDEgO_6s",
    "outputId": "14300f24-e117-4400-9f54-50c675f619f1"
   },
   "outputs": [
    {
     "data": {
      "text/plain": [
       "['ACES Technology Services',\n",
       " 'ADM Institute for PHL',\n",
       " 'Ag Ldrshp Educ Comm Program',\n",
       " 'Agr & Consumer Economics',\n",
       " 'Agr, Consumer & Env Sci Admn',\n",
       " 'Agricultural & Biological Engr',\n",
       " 'Animal Sciences',\n",
       " 'Cooperative Extension',\n",
       " 'Crop Sciences',\n",
       " 'Food Science & Human Nutrition',\n",
       " 'Human Dvlpmt & Family Studies',\n",
       " 'Natural Res & Env Sci',\n",
       " 'Nutritional Sciences',\n",
       " 'Applied Health Sciences Admin',\n",
       " 'Ctr Health, Aging, Disability',\n",
       " 'Ctr Wounded Veterans Higher Ed',\n",
       " 'Disability Res & Educ Svcs',\n",
       " 'Kinesiology & Community Health',\n",
       " 'Recreation, Sport and Tourism',\n",
       " 'Speech & Hearing Science',\n",
       " 'Armed Forces Coordinator',\n",
       " 'Aux. Health/WB Marketing',\n",
       " 'Division of Campus Recreation',\n",
       " 'Housing Division',\n",
       " 'Illini Union',\n",
       " 'McKinley Health Center',\n",
       " 'Office of the Dean of Students',\n",
       " 'Parking Department',\n",
       " 'Student Affairs Technology',\n",
       " 'Biomed & Translational Sci',\n",
       " 'Carle IL COM Administration',\n",
       " 'Clinical Sciences',\n",
       " 'Center Innov in Teach Learn',\n",
       " 'I-STEM Education Initiative',\n",
       " 'Faculty/Staff Assistance Svcs',\n",
       " 'Illinois Human Resources',\n",
       " 'News Bureau',\n",
       " 'Office of Public Engagement',\n",
       " 'Office of the Chancellor',\n",
       " 'Public Affairs',\n",
       " 'Special Events',\n",
       " 'Strategic Marketing Branding',\n",
       " 'Web Services',\n",
       " 'Advertising',\n",
       " 'College of Media Admin',\n",
       " 'IPM Administration',\n",
       " 'IPM Content Information',\n",
       " 'IPM Content Production',\n",
       " 'IPM Content Programming',\n",
       " 'IPM Delivery',\n",
       " 'IPM Development',\n",
       " 'Inst of Communications Rsch',\n",
       " 'Journalism',\n",
       " 'Media and Cinema Studies',\n",
       " 'State Farm Center',\n",
       " 'Center Advising & Acad Svcs',\n",
       " 'Bureau Educational Research',\n",
       " 'Council Teacher Ed Admin',\n",
       " 'Curriculum and Instruction',\n",
       " 'Educ Policy, Orgzn & Leadrshp',\n",
       " 'Education Administration',\n",
       " 'Educational Psychology',\n",
       " 'Special Education',\n",
       " 'Energy Services Administration',\n",
       " 'Facilities and Services',\n",
       " 'Safety and Compliance',\n",
       " 'Architecture',\n",
       " 'Art & Design',\n",
       " 'Dance',\n",
       " 'Fine & Applied Arts Admin',\n",
       " 'Krannert Art Museum',\n",
       " 'Krannert Center',\n",
       " 'Landscape Architecture',\n",
       " 'Music',\n",
       " 'Theatre',\n",
       " 'Urban & Regional Planning',\n",
       " 'Academy Entrepreneurial Ldrshp',\n",
       " 'Accountancy',\n",
       " 'Action Learning',\n",
       " 'Business Administration',\n",
       " 'Business Online Programs',\n",
       " 'Ctr Business & Public Policy',\n",
       " 'Disruption and Innovation',\n",
       " 'Finance',\n",
       " 'Gies Advancement',\n",
       " 'Gies Business Grad Programs',\n",
       " 'Gies College of Business',\n",
       " 'Gies Mktg & Communications',\n",
       " 'Gies Undergraduate Affairs',\n",
       " 'IT Partners Gies Business',\n",
       " 'Illinois Business Consulting',\n",
       " 'Student & Corporate Connection',\n",
       " 'eLearning',\n",
       " 'Graduate Admin',\n",
       " 'Aerospace Engineering',\n",
       " 'Applied Research Institute',\n",
       " 'Bioengineering',\n",
       " 'Civil & Environmental Eng',\n",
       " 'Computational Science & Engr',\n",
       " 'Computer Science',\n",
       " 'Coordinated Science Lab',\n",
       " 'Electrical & Computer Eng',\n",
       " 'Engineering Administration',\n",
       " 'Engineering General Expen',\n",
       " 'Engineering IT Shared Services',\n",
       " 'Engr Shared Admin Services',\n",
       " 'Industrial&Enterprise Sys Eng',\n",
       " 'Information Trust Institute',\n",
       " 'Materials Research Lab',\n",
       " 'Materials Science & Engineerng',\n",
       " 'Mechanical Sci & Engineering',\n",
       " 'Micro and Nanotechnology Lab',\n",
       " 'Nuclear, Plasma, & Rad Engr',\n",
       " 'Physics',\n",
       " 'Siebel Center for Design',\n",
       " 'Technology Entrepreneur Ctr',\n",
       " 'Global Education & Training',\n",
       " 'Illinois Abroad',\n",
       " 'Illinois International',\n",
       " 'Intensive English Institute',\n",
       " 'Intl Student and Scholar Svcs',\n",
       " 'Law',\n",
       " 'Law Library',\n",
       " 'African American Studies',\n",
       " 'American Indian Studies Prgrm',\n",
       " 'Anthropology',\n",
       " 'Appl Tech Learning Arts & Sciences',\n",
       " 'Asian American Studies',\n",
       " 'Astronomy',\n",
       " 'Atmospheric Sciences',\n",
       " 'Biochemistry',\n",
       " 'Biophysics & Quant Biology',\n",
       " 'Cell & Developmental Biology',\n",
       " 'Center for African Studies',\n",
       " 'Center for Global Studies',\n",
       " 'Center for Writing Studies',\n",
       " 'Chemical & Biomolecular Engr',\n",
       " 'Chemistry',\n",
       " 'Classics',\n",
       " 'Cline Ctr for Adv Social Rsrch',\n",
       " 'Communication',\n",
       " 'Comparative & World Literature',\n",
       " 'E Asian & Pacific Studies Cntr',\n",
       " 'E. Asian Languages & Cultures',\n",
       " 'Economics',\n",
       " 'English',\n",
       " 'Entomology',\n",
       " 'European Union Center',\n",
       " 'Evolution Ecology Behavior',\n",
       " 'French and Italian',\n",
       " \"Gender and Women's Studies\",\n",
       " 'Geography & GIS',\n",
       " 'Geology',\n",
       " 'Germanic Languages & Lit',\n",
       " 'Global Studies Prog & Courses',\n",
       " 'History',\n",
       " 'LAS Administration',\n",
       " 'LAS General Expen',\n",
       " 'Latin American & Carib Studies',\n",
       " 'Latina/Latino Studies',\n",
       " 'Lemann Center',\n",
       " 'Linguistics',\n",
       " 'Mathematics',\n",
       " 'Microbiology',\n",
       " 'Molecular & Integrative Physl',\n",
       " 'Neuroscience Program',\n",
       " 'Philosophy',\n",
       " 'Plant Biology',\n",
       " 'Political Science',\n",
       " 'Prg in Jewish Culture &Society',\n",
       " 'Program in Medieval Studies',\n",
       " 'Psychology',\n",
       " 'Religion',\n",
       " 'Russian,E European,Eurasn Ctr',\n",
       " 'Sch Earth, Soc, Environ Admin',\n",
       " 'Sch Lit, Cultures, Ling Adm',\n",
       " 'School of Chemical Sciences',\n",
       " 'School of Integrative Biology',\n",
       " 'School of Molecular & Cell Bio',\n",
       " 'Sociology',\n",
       " 'Spanish and Portuguese',\n",
       " 'Spurlock Museum',\n",
       " 'Statistics',\n",
       " 'Translation & Interpreting St',\n",
       " 'Unit For Criticism',\n",
       " 'Internal Medicine',\n",
       " 'Medicine at UC Admin',\n",
       " 'Beckman Institute',\n",
       " 'Cancer Center at Illinois',\n",
       " 'Humanities Research Institute',\n",
       " 'IL Natural History Survey',\n",
       " 'IL State Archaeological Survey',\n",
       " 'IL State Geological Survey',\n",
       " 'IL State Water Survey',\n",
       " 'IL Sustainable Technology Ctr',\n",
       " 'Inst for Sustain, Enrgy, & Env',\n",
       " 'Institute for Genomic Biology',\n",
       " 'Interdis Health Sci Institute',\n",
       " 'Prairie Research Institute',\n",
       " 'Supercomputing Applications',\n",
       " 'Ofc VC Inst Advancement',\n",
       " 'Big Ten Academic Alliance',\n",
       " 'Campus Honors Program',\n",
       " 'Center for Advanced Study',\n",
       " 'Div of Management Information',\n",
       " 'Enrollment Mgmt Shared Svcs',\n",
       " 'Office of Undergrad Research',\n",
       " 'Office of the Registrar',\n",
       " 'Osher Lifelong Learning Inst',\n",
       " \"Principal's Scholars Pgm\",\n",
       " 'Provost/VCAA Admin',\n",
       " 'SmartHealthyCommunity(Rokwire)',\n",
       " 'Student Financial Aid-Admin',\n",
       " 'Undergraduate Admissions',\n",
       " 'University Laboratory HS',\n",
       " 'Fire Service Institute',\n",
       " 'Police Training Institute',\n",
       " 'Informatics',\n",
       " 'Information Sciences',\n",
       " 'School of Labor & Empl. Rel.',\n",
       " 'School of Social Work',\n",
       " 'Ofc of the Chief Info Officer',\n",
       " 'TS IT Service Delivery',\n",
       " 'Technology Services',\n",
       " 'Library',\n",
       " 'Library Admin',\n",
       " 'Library Collections/Support',\n",
       " 'Library Research & Publication',\n",
       " 'Allerton Park & Retreat Center',\n",
       " 'Division of Public Safety',\n",
       " 'Illini Center',\n",
       " 'UIUC Purchasing CMO',\n",
       " 'VC Admin and Operations',\n",
       " 'Willard Airport Commercial Op',\n",
       " 'Counseling Center',\n",
       " 'Illinois Leadership Center',\n",
       " 'Inclusion & Intercultural Rels',\n",
       " 'Minority Student Affairs',\n",
       " 'Student Conflict Resolution',\n",
       " 'Student Success and Engagement',\n",
       " 'The Career Center',\n",
       " 'VC Student Affairs',\n",
       " 'Agr Animal Care & Use Program',\n",
       " 'Biotechnology Center',\n",
       " 'Division of Animal Resources',\n",
       " 'Division of Research Safety',\n",
       " 'EnterpriseWorks',\n",
       " 'Inst Animal Care & Use Cmte',\n",
       " 'OVCRI Admin',\n",
       " 'Office of Corporate Relations',\n",
       " 'Office of Proposal Development',\n",
       " 'Protection of Research Subject',\n",
       " 'Sponsored Programs Admin',\n",
       " 'Comparative Biosciences',\n",
       " 'Medical District Vet Clinic',\n",
       " 'Pathobiology',\n",
       " 'Vet Clinical Medicine',\n",
       " 'Vet Med College-Wide Programs',\n",
       " 'Vet Medicine Administration',\n",
       " 'Veterinary Diagnostic Lab',\n",
       " 'Veterinary Teaching Hospital',\n",
       " 'Office for Access and Equity',\n",
       " 'Title IX Office',\n",
       " 'Vice Chancellor for Diversity']"
      ]
     },
     "execution_count": 25,
     "metadata": {},
     "output_type": "execute_result"
    }
   ],
   "source": [
    "list(df[\"Department Name\"].unique())"
   ]
  },
  {
   "cell_type": "markdown",
   "metadata": {
    "id": "qY0An1mgO_6t"
   },
   "source": [
    "Choose any one of them that you are interested in and using the `hist()` function, generate a frequency histogram of the Present Salary column for the emplyees of that department. Compare it with Histogram 1."
   ]
  },
  {
   "cell_type": "code",
   "execution_count": null,
   "metadata": {
    "id": "0wBU6HRdO_6w"
   },
   "outputs": [],
   "source": [
    "..."
   ]
  },
  {
   "cell_type": "markdown",
   "metadata": {
    "id": "Gn3cuAomO_6w"
   },
   "source": [
    "## Boxplots\n",
    "\n",
    "Next, let’s look use a **boxplot**.\n",
    "\n",
    "### Boxplot 1\n",
    "Using `plot.box()`, generate a **boxplot** of the `Present Salary` column. Does it have any outliers?\n",
    "\n"
   ]
  },
  {
   "cell_type": "code",
   "execution_count": null,
   "metadata": {
    "id": "U7VPjwWQO_6x"
   },
   "outputs": [],
   "source": [
    "..."
   ]
  },
  {
   "cell_type": "markdown",
   "metadata": {
    "id": "9kgJcrh3O_6y"
   },
   "source": [
    "### Boxplot 2\n",
    "Using `plot.box()`, generate a **boxplot** of the `Present Salary` column for the employees of \"Computer Science\" department. Does it have any outliers?"
   ]
  },
  {
   "cell_type": "code",
   "execution_count": null,
   "metadata": {
    "id": "B6ihCVSWO_6y"
   },
   "outputs": [],
   "source": [
    "..."
   ]
  },
  {
   "cell_type": "markdown",
   "metadata": {
    "id": "QJyL7nVpO_6z"
   },
   "source": [
    "### Boxplot 3\n",
    "Choose any of the department names that you are interested in and using the `plot.box()` function, generate a box plot of the `Present Salary` column for the emplyees of that department. Does it have any outliers? Compare it with Boxplot 1"
   ]
  },
  {
   "cell_type": "code",
   "execution_count": null,
   "metadata": {
    "id": "sJQUaeIaO_7E"
   },
   "outputs": [],
   "source": [
    "..."
   ]
  },
  {
   "cell_type": "markdown",
   "metadata": {
    "id": "h8XmNUJoO_7F"
   },
   "source": [
    "### Question"
   ]
  },
  {
   "cell_type": "markdown",
   "metadata": {
    "id": "LSAuGJHAO_7F"
   },
   "source": [
    "**What are the advantages and disadvantages of each plot? When is it more convenient to use a histogram and when is it more convenient to use a boxplot?**"
   ]
  },
  {
   "cell_type": "markdown",
   "metadata": {
    "id": "omc5mZz9O_7G"
   },
   "source": [
    "*(✏️ Edit this cell to replace this text with your answer. ✏️)*"
   ]
  },
  {
   "cell_type": "markdown",
   "metadata": {
    "id": "4VLsr2-xO_7I"
   },
   "source": [
    "**Why is it valuable to look at visual displays of salary data in general (as opposed to just looking at descriptive statistics like the mean and standard deviation)?**"
   ]
  },
  {
   "cell_type": "markdown",
   "metadata": {
    "id": "AovH_qsDO_7I"
   },
   "source": [
    "*(✏️ Edit this cell to replace this text with your answer. ✏️)*"
   ]
  },
  {
   "cell_type": "markdown",
   "metadata": {
    "id": "pP_Qt7gsO_7J"
   },
   "source": [
    "<hr style=\"color: #DD3403;\">"
   ]
  },
  {
   "cell_type": "markdown",
   "metadata": {
    "id": "QPlYW2plO_7J"
   },
   "source": [
    "## Department-Level Statistics and Plots\n",
    "\n",
    "\n",
    "We can calculate **descriptive statistics** and look at visual displays of data on a **department level**.  Let’s explore whether or not there are salary **discrepancies** among departments.\n",
    "\n",
    "### Isolating the two columns of interest\n",
    "\n",
    "\n",
    "To make things easier to read, we will first modify your DataFrame to include only the `Department Name` and `Present Salary`.\n",
    "\n",
    "First, using the cell below, create a second DataFrame named `df2` **containing only** the `Department Name` and `Present Salary` columns. Remember to use **double square-brackets** to specify these columns. Here's an example of the syntax: `df[['col1', 'col1']]`"
   ]
  },
  {
   "cell_type": "code",
   "execution_count": null,
   "metadata": {
    "id": "kLh6yO7nO_7K"
   },
   "outputs": [],
   "source": [
    "df2 = ...\n",
    "df2"
   ]
  },
  {
   "cell_type": "markdown",
   "metadata": {
    "id": "8tMbQlHUO_7K"
   },
   "source": [
    "### Grouping by department\n",
    "We are going to **group** all of the people in each department so you can find departmental aggregates.  In other words, we want to group by `'Department Name'`.\n",
    "\n",
    "\n",
    "Find the mean `Present Salary` for each Department:\n",
    "- Use `df2` and `groupby` Department Name and **aggregate** by the `mean` to create `agg_mean_df`:"
   ]
  },
  {
   "cell_type": "code",
   "execution_count": null,
   "metadata": {
    "deletable": false,
    "id": "wF3pjUBsO_7L",
    "nbgrader": {
     "cell_type": "code",
     "checksum": "912abaecdf749394d0921e160cd15746",
     "grade": false,
     "grade_id": "cell-72189b308296916b",
     "locked": false,
     "schema_version": 3,
     "solution": true,
     "task": false
    }
   },
   "outputs": [],
   "source": [
    "agg_mean_df = ...\n",
    "agg_mean_df"
   ]
  },
  {
   "cell_type": "markdown",
   "metadata": {
    "id": "edk4JoPhO_7L"
   },
   "source": [
    "### 🔬 Test Case Checkpoint 🔬"
   ]
  },
  {
   "cell_type": "code",
   "execution_count": null,
   "metadata": {
    "deletable": false,
    "editable": false,
    "id": "htAJNWvGO_7M",
    "nbgrader": {
     "cell_type": "code",
     "checksum": "0bbf4ebd7bc25281632fc296ffd2b063",
     "grade": true,
     "grade_id": "cell-d4a69c902629304a",
     "locked": true,
     "points": 1,
     "schema_version": 3,
     "solution": false,
     "task": false
    }
   },
   "outputs": [],
   "source": [
    "## == CHECKPOINT TEST CASES ==\n",
    "# - This read-only cell contains test cases for your previous cell.\n",
    "# - If this cell runs without any errors, you PASSED all test cases!\n",
    "# - If this cell results in any errors, check your previous cell, make changes, and RE-RUN your code and then this cell.\n",
    "Tester.testCase4()\n"
   ]
  },
  {
   "cell_type": "markdown",
   "metadata": {
    "id": "S0SmFQRyO_7N"
   },
   "source": [
    "### Department Comparisons\n",
    ".\n",
    "Using your `agg_mean_df`, in the following three cells, find the **mean** present salary for each of these departments:\n",
    "- The department of `English`, stored in the variable `mean_eng`\n",
    "- The department of `Psychology`, stored in the variable `mean_psych`\n",
    "- The department of `Electrical & Computer Eng`, stored in the variable `mean_ece`\n",
    "\n",
    "Hint: you can filter your `agg_mean_df` to these **departments** by using the `names` provided above (**\"English\"**, **\"Psychology\"**, and **\"Electrical & Computer Eng\"**). Then, just find the mean `Present Salary` for each department.\n"
   ]
  },
  {
   "cell_type": "code",
   "execution_count": null,
   "metadata": {
    "id": "IS_9IhIhO_7O"
   },
   "outputs": [],
   "source": [
    "mean_eng = ...\n",
    "mean_eng"
   ]
  },
  {
   "cell_type": "code",
   "execution_count": null,
   "metadata": {
    "id": "0PNFRFk9O_7V"
   },
   "outputs": [],
   "source": [
    "mean_psych = ...\n",
    "mean_psych"
   ]
  },
  {
   "cell_type": "code",
   "execution_count": null,
   "metadata": {
    "id": "oCkktMtFO_7Y"
   },
   "outputs": [],
   "source": [
    "mean_ece = ...\n",
    "mean_ece"
   ]
  },
  {
   "cell_type": "markdown",
   "metadata": {
    "id": "K9wL-eVsO_7Y"
   },
   "source": [
    "### Test Case Checkpoint"
   ]
  },
  {
   "cell_type": "code",
   "execution_count": null,
   "metadata": {
    "id": "52uSSQlRO_7Z"
   },
   "outputs": [],
   "source": [
    "## == CHECKPOINT TEST CASES ==\n",
    "# - This read-only cell contains test cases for your previous cell.\n",
    "# - If this cell runs without any errors, you PASSED all test cases!\n",
    "# - If this cell results in any errors, check your previous cell, make changes, and RE-RUN your code and then this cell.\n",
    "Tester.testCase5()\n"
   ]
  },
  {
   "cell_type": "markdown",
   "metadata": {
    "id": "pScbVjU6O_7a"
   },
   "source": [
    "## Highest and Lowest Paying Departments\n",
    "Using the dataframe `agg_mean_df`, find the departments with the 10 highest average Present Salaries. Store it in a variable called `top_10_paying_departments`."
   ]
  },
  {
   "cell_type": "code",
   "execution_count": null,
   "metadata": {
    "id": "DlxRTXSFO_7c",
    "outputId": "09174834-47a8-4346-b176-d1dd2ddaee2c"
   },
   "outputs": [
    {
     "data": {
      "text/html": [
       "<div>\n",
       "<style scoped>\n",
       "    .dataframe tbody tr th:only-of-type {\n",
       "        vertical-align: middle;\n",
       "    }\n",
       "\n",
       "    .dataframe tbody tr th {\n",
       "        vertical-align: top;\n",
       "    }\n",
       "\n",
       "    .dataframe thead th {\n",
       "        text-align: right;\n",
       "    }\n",
       "</style>\n",
       "<table border=\"1\" class=\"dataframe\">\n",
       "  <thead>\n",
       "    <tr style=\"text-align: right;\">\n",
       "      <th></th>\n",
       "      <th>Department Name</th>\n",
       "      <th>Present Salary</th>\n",
       "    </tr>\n",
       "  </thead>\n",
       "  <tbody>\n",
       "    <tr>\n",
       "      <th>52</th>\n",
       "      <td>Clinical Sciences</td>\n",
       "      <td>1153.014286</td>\n",
       "    </tr>\n",
       "    <tr>\n",
       "      <th>126</th>\n",
       "      <td>IPM Content Programming</td>\n",
       "      <td>45334.200000</td>\n",
       "    </tr>\n",
       "    <tr>\n",
       "      <th>247</th>\n",
       "      <td>Translation &amp; Interpreting St</td>\n",
       "      <td>46081.015000</td>\n",
       "    </tr>\n",
       "    <tr>\n",
       "      <th>161</th>\n",
       "      <td>Lemann Center</td>\n",
       "      <td>46818.000000</td>\n",
       "    </tr>\n",
       "    <tr>\n",
       "      <th>157</th>\n",
       "      <td>Latin American &amp; Carib Studies</td>\n",
       "      <td>49950.580000</td>\n",
       "    </tr>\n",
       "  </tbody>\n",
       "</table>\n",
       "</div>"
      ],
      "text/plain": [
       "                    Department Name  Present Salary\n",
       "52                Clinical Sciences     1153.014286\n",
       "126         IPM Content Programming    45334.200000\n",
       "247   Translation & Interpreting St    46081.015000\n",
       "161                   Lemann Center    46818.000000\n",
       "157  Latin American & Carib Studies    49950.580000"
      ]
     },
     "execution_count": 32,
     "metadata": {},
     "output_type": "execute_result"
    }
   ],
   "source": [
    "top_10_paying_departments = ...\n",
    "top_10_paying_departments"
   ]
  },
  {
   "cell_type": "markdown",
   "metadata": {
    "id": "PrzFG0IdO_7c"
   },
   "source": [
    "Using the dataframe `agg_mean_df`, find the departments with the 10 lowest average Present Salaries. Store it in a variable called `lowest_10_paying_departments`."
   ]
  },
  {
   "cell_type": "code",
   "execution_count": null,
   "metadata": {
    "id": "PyGzltKtO_7d"
   },
   "outputs": [],
   "source": [
    "lowest_10_paying_departments = ...\n",
    "lowest_10_paying_departments"
   ]
  },
  {
   "cell_type": "markdown",
   "metadata": {
    "id": "zmsU24beO_7d"
   },
   "source": [
    "### Test Case Checkpoint\n"
   ]
  },
  {
   "cell_type": "code",
   "execution_count": null,
   "metadata": {
    "id": "3AMM7H37O_7e"
   },
   "outputs": [],
   "source": [
    "## == CHECKPOINT TEST CASES ==\n",
    "# - This read-only cell contains test cases for your previous cell.\n",
    "# - If this cell runs without any errors, you PASSED all test cases!\n",
    "# - If this cell results in any errors, check your previous cell, make changes, and RE-RUN your code and then this cell.\n",
    "Tester.testCase6()\n"
   ]
  },
  {
   "cell_type": "markdown",
   "metadata": {
    "id": "4l-Jm_tJO_7f"
   },
   "source": [
    "## Bar Plot\n",
    "\n",
    "Let's create a **Bar Plot** so that we can visualise the mean salary for every department.\n",
    "**Run the cell below** to see a bar plot of the mean salary for every department.\n",
    "\n",
    "**Note:** Since we have a lot of departments, we hide the department names because it would look really bad if we included them in the plot. In order to do so, we included the argument `xticks=[]`."
   ]
  },
  {
   "cell_type": "code",
   "execution_count": null,
   "metadata": {
    "id": "oiGQadJVO_7f"
   },
   "outputs": [],
   "source": [
    "grouped_df.plot.bar(x = \"Department Name\", y = \"Present Salary\", xticks=[])"
   ]
  },
  {
   "cell_type": "markdown",
   "metadata": {},
   "source": [
    "### (Optional, for anyone who is interested) Further analysis \n",
    "\n",
    "In the lecture, we mentioned that sometimes the sample average is sensitive to outliers. Observe the box plots that you created earlier. The existence of a large ammount of outliers in each department would suggest that the sample average is not a very suitable measure of center. Instead of the sample average, we might consider using the sample meadian in order to group by every department. \n",
    "\n",
    "Find the median `Present Salary` for each Department:\n",
    "- use `df2` and `groupby` Department Name and **aggregate** by the `median` to create `agg_median_df`.\n",
    "- repeat the same calculations and construct the same plots as we did with `agg_mean_df`.\n",
    "- compare the results that you found with `agg_median_df` to those that you found with `agg_mean_df`\n",
    "\n",
    "Are there any differences?"
   ]
  },
  {
   "cell_type": "markdown",
   "metadata": {
    "id": "OGWtmkCqO_7i"
   },
   "source": [
    "## Grouping the Data, Again\n",
    "\n",
    "We have an aggregated DataFrame of the salaries by department, but what if we want to find the number of employees in each department?\n",
    "\n",
    "In the cell below, using your `df2` from earlier, `groupby` Department Name and **aggregate** by `count` to create `agg_count_df`:"
   ]
  },
  {
   "cell_type": "code",
   "execution_count": null,
   "metadata": {
    "id": "9-MsR_xFO_7i"
   },
   "outputs": [],
   "source": [
    "agg_count_df = ...\n",
    "agg_count_df"
   ]
  },
  {
   "cell_type": "markdown",
   "metadata": {
    "id": "nT_69I2-O_7l"
   },
   "source": [
    "If done correctly, your `agg_count_df` should now contain the number of employees in each department under the `Present Salary` column because grouping by `count` **counts the rows in each department**. But this column name is **misleading**.\n",
    "\n",
    "**Run the provided cell below** to rename the `Present Salary` column to `Num Employees`(**Note:** This is how we rename a column in a dataframe):"
   ]
  },
  {
   "cell_type": "code",
   "execution_count": null,
   "metadata": {
    "id": "WHaIRbhJO_7n"
   },
   "outputs": [],
   "source": [
    "agg_count_df.rename(columns={\"Present Salary\": \"Num Employees\"}, inplace=True)\n",
    "agg_count_df"
   ]
  },
  {
   "cell_type": "markdown",
   "metadata": {
    "id": "Hq5n0ASmO_7n"
   },
   "source": [
    "### Test Case Checkpoint"
   ]
  },
  {
   "cell_type": "code",
   "execution_count": null,
   "metadata": {
    "id": "jEWhdJA2O_7o"
   },
   "outputs": [],
   "source": [
    "## == CHECKPOINT TEST CASES ==\n",
    "# - This read-only cell contains test cases for your previous cell.\n",
    "# - If this cell runs without any errors, you PASSED all test cases!\n",
    "# - If this cell results in any errors, check your previous cell, make changes, and RE-RUN your code and then this cell.\n",
    "Tester.testCase7()\n"
   ]
  },
  {
   "cell_type": "markdown",
   "metadata": {
    "id": "FKY7NVjBO_7p"
   },
   "source": [
    "### Employee Counts\n",
    "\n",
    "Now, using your `agg_count_df`, in the following three cells, find the **number of employees** for each of these departments:\n",
    "- The department of `English`, stored in the variable `eng_employees`\n",
    "- The department of `Psychology`, stored in the variable `psych_employees`\n",
    "- The department of `Electrical & Computer Eng`, stored in the variable `ece_employees`\n"
   ]
  },
  {
   "cell_type": "code",
   "execution_count": null,
   "metadata": {
    "id": "CybnQBefO_7p"
   },
   "outputs": [],
   "source": [
    "eng_employees = ...\n",
    "eng_employees"
   ]
  },
  {
   "cell_type": "code",
   "execution_count": null,
   "metadata": {
    "id": "4xFHdBEUO_7q"
   },
   "outputs": [],
   "source": [
    "psych_employees = ...\n",
    "psych_employees"
   ]
  },
  {
   "cell_type": "code",
   "execution_count": null,
   "metadata": {
    "id": "PukQlCfoO_7r"
   },
   "outputs": [],
   "source": [
    "ece_employees = ...\n",
    "ece_employees"
   ]
  },
  {
   "cell_type": "markdown",
   "metadata": {
    "id": "DJsDs7VqO_7r"
   },
   "source": [
    "### Test Case Checkpoint"
   ]
  },
  {
   "cell_type": "code",
   "execution_count": null,
   "metadata": {
    "id": "wnS8aQSzO_7s"
   },
   "outputs": [],
   "source": [
    "## == CHECKPOINT TEST CASES ==\n",
    "# - This read-only cell contains test cases for your previous cell.\n",
    "# - If this cell runs without any errors, you PASSED all test cases!\n",
    "# - If this cell results in any errors, check your previous cell, make changes, and RE-RUN your code and then this cell.\n",
    "Tester.testCase8()\n"
   ]
  },
  {
   "cell_type": "markdown",
   "metadata": {
    "id": "0bDUfMYPO_7s"
   },
   "source": [
    "## Deparments with highest and lowest number of employees\n",
    "Using the dataframe `agg_count_df`, find the departments with the 10 highest numbers of employees. Store it in a variable called `top_10_employees_departments`."
   ]
  },
  {
   "cell_type": "code",
   "execution_count": null,
   "metadata": {
    "id": "IUJuin2BO_7t"
   },
   "outputs": [],
   "source": [
    "top_10_employees_departments = ...\n",
    "top_10_employees_departments"
   ]
  },
  {
   "cell_type": "markdown",
   "metadata": {
    "id": "Eln-LnFKO_7t"
   },
   "source": [
    "Using the dataframe `agg_count_df`, find the departments with the 10 highest numbers of employees. Store it in a variable called `lowest_10_employees_departments`."
   ]
  },
  {
   "cell_type": "code",
   "execution_count": null,
   "metadata": {
    "id": "jhRDoDx9O_7u"
   },
   "outputs": [],
   "source": [
    "lowest_10_employees_departments = ...\n",
    "lowest_10_employees_departments"
   ]
  },
  {
   "cell_type": "markdown",
   "metadata": {
    "id": "pfLIL2e3O_7v"
   },
   "source": [
    "### Employees and Salaries"
   ]
  },
  {
   "cell_type": "markdown",
   "metadata": {
    "id": "hKD3wUIXO_7w"
   },
   "source": [
    "**Q: Do you think department employee counts have any influence on the average salaries you observed earlier? Why or why not?**"
   ]
  },
  {
   "cell_type": "markdown",
   "metadata": {
    "id": "QUc7fv65O_7w"
   },
   "source": [
    "*(✏️ Edit this cell to replace this text with your answer. ✏️)*"
   ]
  },
  {
   "cell_type": "markdown",
   "metadata": {
    "id": "ejnwCpuhO_7y"
   },
   "source": [
    "### Visualisation (again)\n",
    "\n",
    "Earlier, we observed the importance of data visualization with histograms and boxplots. Let's apply these plotting techniques to the aggregated DataFrames you've recently created.\n",
    "\n",
    "First, using your `agg_mean_df`, generate a histogram the average **\"Present Salary\"** of each department using `.hist()`:"
   ]
  },
  {
   "cell_type": "code",
   "execution_count": null,
   "metadata": {
    "id": "gLZwayU9O_7z"
   },
   "outputs": [],
   "source": [
    "..."
   ]
  },
  {
   "cell_type": "markdown",
   "metadata": {
    "id": "0at-KW9MO_71"
   },
   "source": [
    "Now, using your `agg_count_df`, generate a histogram of the **\"Num Employees\"** in each department using `.hist()`:"
   ]
  },
  {
   "cell_type": "code",
   "execution_count": null,
   "metadata": {
    "id": "LBeUUwXsO_71"
   },
   "outputs": [],
   "source": [
    "..."
   ]
  },
  {
   "cell_type": "markdown",
   "metadata": {
    "id": "q5HQYU0mO_72"
   },
   "source": [
    "### Takeaways"
   ]
  },
  {
   "cell_type": "markdown",
   "metadata": {
    "id": "RzPry8O1O_73"
   },
   "source": [
    "**Q: Write down at least three observations you can make from the plots and statistics that you calculated on Departmental level. You can use extra cells to explore more questions if you like.**"
   ]
  },
  {
   "cell_type": "markdown",
   "metadata": {
    "id": "QBmVfo-JO_73"
   },
   "source": [
    "*(✏️ Edit this cell to replace this text with your answer. ✏️)*"
   ]
  },
  {
   "cell_type": "markdown",
   "metadata": {
    "id": "xzD3050VO_74"
   },
   "source": [
    "<hr style=\"color: #DD3403;\">"
   ]
  },
  {
   "cell_type": "markdown",
   "metadata": {
    "id": "EIYe3TolO_74"
   },
   "source": [
    "## **Submission**\n",
    "Download your notebook and submit it on Canvas in \"**Assignment 3**\".\n"
   ]
  }
 ],
 "metadata": {
  "colab": {
   "provenance": []
  },
  "kernelspec": {
   "display_name": "Python 3 (ipykernel)",
   "language": "python",
   "name": "python3"
  },
  "language_info": {
   "codemirror_mode": {
    "name": "ipython",
    "version": 3
   },
   "file_extension": ".py",
   "mimetype": "text/x-python",
   "name": "python",
   "nbconvert_exporter": "python",
   "pygments_lexer": "ipython3",
   "version": "3.9.13"
  },
  "vscode": {
   "interpreter": {
    "hash": "f48b0ea9e8281b29b1f9b6045fc5406bb9891af892053a27454c097f6ae51d2c"
   }
  }
 },
 "nbformat": 4,
 "nbformat_minor": 1
}
